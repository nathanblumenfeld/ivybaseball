{
 "cells": [
  {
   "cell_type": "code",
   "execution_count": 1,
   "id": "4ae5486c-2fc3-4a16-b21c-ce4a23540b32",
   "metadata": {},
   "outputs": [],
   "source": [
    "import pandas as pd\n",
    "from cornellbaseball import ncaa_scrape\n"
   ]
  },
  {
   "cell_type": "code",
   "execution_count": 2,
   "id": "67c29b33-0c53-4de6-8667-045362046de0",
   "metadata": {},
   "outputs": [
    {
     "data": {
      "text/plain": [
       "array(['Southland', 'Lone Star', 'PacWest', 'RMAC', 'NE10',\n",
       "       'Michigan Intercol. Ath. Assn.', 'Mountain West', 'MAC', 'SEC',\n",
       "       'SWAC', 'Gulf South', 'America East', 'SIAC', 'Great Northeast',\n",
       "       'MAC Commonwealth', 'WVIAC', 'G-MAC', 'AMCC', 'NCAC', 'NESCAC',\n",
       "       'HCAC', 'SAC', 'SoCon', 'Sun Belt', 'Pac-12', 'Heartland', 'GAC',\n",
       "       'Peach Belt', 'Patriot', 'GLIAC', 'MIAC', 'CCIW', 'NSIC', 'NACC',\n",
       "       'SCAC', 'OVC', 'USA South', 'NEWMAC', 'OAC', 'Independent',\n",
       "       'Liberty League', 'Sunshine State', 'Conference Carolinas',\n",
       "       'CUNYAC', 'Big 12', 'NECC', 'ASC', 'GLVC', 'Midwest Conference',\n",
       "       'SAA', 'PAC', 'UMAC', 'MEAC', 'SLIAC', 'CACC', 'PSAC',\n",
       "       'DII Independent', 'ACC', 'MVC', 'UAA', 'ECC', 'ODAC', 'MASCAC',\n",
       "       'SUNYAC', 'Ivy League', 'NEC', 'American Rivers', 'Atlantic 10',\n",
       "       'Big East', 'WCC', 'CSAC', 'Atlantic East', 'SCIAC', 'Big West',\n",
       "       'CCAA', 'WAC', 'Big South', 'MAAC', 'NEAC', 'North Atlantic',\n",
       "       'Little East', 'Landmark', 'Mid-America Intercollegiate',\n",
       "       'Great Northwest', 'MEC', 'C-USA', 'DIII Independent', 'GWC',\n",
       "       'CIAA', 'CAC', 'AAC', 'Skyline', 'CAA', 'Great South', 'CCC',\n",
       "       'MAC Freedom', 'Centennial', 'Empire 8', 'ASUN',\n",
       "       'Division III Independents', 'WIAC', 'NWC', 'Big Ten', 'NJAC',\n",
       "       'Horizon', 'Summit League', 'C2C', 'MWC'], dtype=object)"
      ]
     },
     "execution_count": 2,
     "metadata": {},
     "output_type": "execute_result"
    }
   ],
   "source": [
    "data = pd.read_pickle('data/ncaa/players_clean.df')\n",
    "data.conference.unique()"
   ]
  }
 ],
 "metadata": {
  "kernelspec": {
   "display_name": "Python 3",
   "language": "python",
   "name": "python3"
  },
  "language_info": {
   "codemirror_mode": {
    "name": "ipython",
    "version": 3
   },
   "file_extension": ".py",
   "mimetype": "text/x-python",
   "name": "python",
   "nbconvert_exporter": "python",
   "pygments_lexer": "ipython3",
   "version": "3.8.8"
  }
 },
 "nbformat": 4,
 "nbformat_minor": 5
}
