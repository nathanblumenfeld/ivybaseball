{
 "cells": [
  {
   "cell_type": "code",
   "execution_count": 4,
   "id": "41d7fe03-921d-43da-89b4-6f81e2761f19",
   "metadata": {},
   "outputs": [
    {
     "ename": "ModuleNotFoundError",
     "evalue": "No module named 'cornellbaseball'",
     "output_type": "error",
     "traceback": [
      "\u001b[1;31m---------------------------------------------------------------------------\u001b[0m",
      "\u001b[1;31mModuleNotFoundError\u001b[0m                       Traceback (most recent call last)",
      "\u001b[1;32m<ipython-input-4-e43a690da9ac>\u001b[0m in \u001b[0;36m<module>\u001b[1;34m\u001b[0m\n\u001b[1;32m----> 1\u001b[1;33m \u001b[1;32mfrom\u001b[0m \u001b[0mcornellbaseball\u001b[0m \u001b[1;32mimport\u001b[0m \u001b[0mboydsworld_scraper\u001b[0m\u001b[1;33m,\u001b[0m \u001b[0mwin_pct\u001b[0m\u001b[1;33m,\u001b[0m \u001b[0mpitching_metrics\u001b[0m\u001b[1;33m,\u001b[0m \u001b[0mbatting_metrics\u001b[0m\u001b[1;33m\u001b[0m\u001b[1;33m\u001b[0m\u001b[0m\n\u001b[0m",
      "\u001b[1;31mModuleNotFoundError\u001b[0m: No module named 'cornellbaseball'"
     ]
    }
   ],
   "source": [
    "from cornellbaseball import boydsworld_scraper, win_pct, pitching_metrics, batting_metrics"
   ]
  },
  {
   "cell_type": "code",
   "execution_count": 5,
   "id": "b2c0af8a-f02e-45cb-951b-0d6aa65c45d4",
   "metadata": {},
   "outputs": [
    {
     "ename": "ModuleNotFoundError",
     "evalue": "No module named 'cornellbaseball'",
     "output_type": "error",
     "traceback": [
      "\u001b[1;31m---------------------------------------------------------------------------\u001b[0m",
      "\u001b[1;31mModuleNotFoundError\u001b[0m                       Traceback (most recent call last)",
      "\u001b[1;32m<ipython-input-5-a1a48649cd0a>\u001b[0m in \u001b[0;36m<module>\u001b[1;34m\u001b[0m\n\u001b[1;32m----> 1\u001b[1;33m \u001b[1;32mimport\u001b[0m \u001b[0mcornellbaseball\u001b[0m\u001b[1;33m\u001b[0m\u001b[1;33m\u001b[0m\u001b[0m\n\u001b[0m",
      "\u001b[1;31mModuleNotFoundError\u001b[0m: No module named 'cornellbaseball'"
     ]
    }
   ],
   "source": [
    "import cornellbaseball"
   ]
  },
  {
   "cell_type": "code",
   "execution_count": null,
   "id": "9a0f5cb7-51fb-4705-b428-c4e186844950",
   "metadata": {},
   "outputs": [],
   "source": []
  },
  {
   "cell_type": "code",
   "execution_count": null,
   "id": "964ac608-2768-455c-939e-89bdecea0b77",
   "metadata": {},
   "outputs": [],
   "source": []
  }
 ],
 "metadata": {
  "kernelspec": {
   "display_name": "Python 3",
   "language": "python",
   "name": "python3"
  },
  "language_info": {
   "codemirror_mode": {
    "name": "ipython",
    "version": 3
   },
   "file_extension": ".py",
   "mimetype": "text/x-python",
   "name": "python",
   "nbconvert_exporter": "python",
   "pygments_lexer": "ipython3",
   "version": "3.8.8"
  }
 },
 "nbformat": 4,
 "nbformat_minor": 5
}
