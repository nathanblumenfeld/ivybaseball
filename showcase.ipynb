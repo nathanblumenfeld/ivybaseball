{
 "cells": [
  {
   "cell_type": "code",
   "execution_count": 1,
   "id": "5c3a48e8-7850-47fa-9013-58c2144ca1d3",
   "metadata": {},
   "outputs": [],
   "source": [
    "import pandas as pd\n",
    "import numpy as np\n",
    "from datetime import datetime\n",
    "import requests\n",
    "import tempfile\n",
    "from io import StringIO\n",
    "import plotly.express as px\n",
    "import plotly.graph_objects as go\n",
    "from PIL import Image\n",
    "from datetime import datetime\n",
    "import warnings\n",
    "warnings.filterwarnings(\"ignore\")\n"
   ]
  },
  {
   "cell_type": "code",
   "execution_count": 48,
   "id": "1d0f24d1-ce01-4710-b5b8-c012928cc848",
   "metadata": {},
   "outputs": [],
   "source": [
    "pitching = pd.read_csv(\"data/pitchingsince2015.csv\")\n",
    "batting = pd.read_csv(\"data/battingsince2015.csv\")\n",
    "standings = pd.read_csv(\"data/ivy_league_standings_2015_to_2019.csv\")\n",
    "park_factors = pd.read_csv(\"data/park_factors.csv\")\n",
    "ivy_pitching = pd.read_excel(\"data/ivy_league_totals_2012_to_2020.xlsx\", sheet_name=\"pitching\")\n",
    "ivy_pitching = ivy_pitching.set_index(\"Season\")\n",
    "ivy_batting = pd.read_excel(\"data/ivy_league_totals_2012_to_2020.xlsx\", sheet_name=\"batting\")\n",
    "ivy_batting = ivy_batting.set_index(\"Season\")"
   ]
  },
  {
   "cell_type": "code",
   "execution_count": 49,
   "id": "43e2951e-24fd-4a71-bf86-98e35234a153",
   "metadata": {},
   "outputs": [],
   "source": [
    "def get_games(team_name, start,end):\n",
    "    \"\"\"\n",
    "    Returns: a dataframe of all games played for a given team inclusive of given start & end year\n",
    "    \n",
    "    Parameter team_name: team whose games to select \n",
    "    Precondition: team_name is a lowercase string\n",
    "    Parameter start: the start year of games. To select only games from one year, leave  \n",
    "    Precondition: start is an int\n",
    "    Parameter end: the end year of games\n",
    "    Precondition: end is an int\n",
    "    \"\"\"\n",
    "    assert type(team_name) == str, \"team_name invalid, must be string\"\n",
    "    assert type(start) == int, \"team_name invalid, must be int\"\n",
    "    assert type(end) == int, \"team_name invalid, must be int\"\n",
    "    payload = {\"team1\":team_name, \"firstyear\":str(start), \"team2\":\"all\",\"lastyear\":str(end), \"format\":\"Text\", \"submit\":\"Fetch\"}\n",
    "    url = \"http://www.boydsworld.com/cgi/scores.pl?\" \n",
    "    s = requests.Session()\n",
    "    r = requests.get(url, params = payload)\n",
    "    response = r.text \n",
    "    if (len(response) < 10):\n",
    "        return pd.DataFrame\n",
    "    else:\n",
    "        df = pd.read_fwf(StringIO(response), encoding = 'utf8',header=None)\n",
    "        col_names = [\"date\", \"team_1\", \"team_1_score\", \"team_2\", \"team_2_score\", \"field\"]\n",
    "        try: \n",
    "            df.shift(periods=1)\n",
    "            df.columns = col_names\n",
    "        except:          \n",
    "            df.columns = df.columns.astype(\"str\")\n",
    "            df.drop(\"2\", inplace=True, axis=1)\n",
    "            df.columns = col_names\n",
    "        return df"
   ]
  },
  {
   "cell_type": "code",
   "execution_count": 50,
   "id": "a51a4de5-2fa5-44c6-8727-a81d05a11a97",
   "metadata": {},
   "outputs": [],
   "source": [
    "def get_wins(team_name, start, end):\n",
    "    \"\"\"\n",
    "    Returns a dataframe of victories of a given team\n",
    "\n",
    "    Parameter team_name: team to return victories of \n",
    "    Preconditions: team_name is a string format ex. \"Cornell,\" \"Colgate\"\n",
    "    Parameter start: the start year of games. To select only games from one year, leave  \n",
    "    Precondition: start is an int\n",
    "    Parameter end: the end year of games\n",
    "    Precondition: end is an int\n",
    "    \"\"\"        \n",
    "    assert type(team_name) == str, \"team_name invalid, must be string\"\n",
    "    assert type(start) == int, \"team_name invalid, must be int\"\n",
    "    assert type(end) == int, \"team_name invalid, must be int\"\n",
    "    games = get_games(team_name,start,end)\n",
    "    wins = games[(games[\"team_1\"] == team_name) & (games[\"team_1_score\"] > games[\"team_2_score\"])]\n",
    "    return wins"
   ]
  },
  {
   "cell_type": "code",
   "execution_count": 51,
   "id": "3bb413c4-f4b6-4986-a811-be9648106a96",
   "metadata": {},
   "outputs": [],
   "source": [
    "def get_wins_from_df(team_name, games):\n",
    "    \"\"\"\n",
    "    Returns a dataframe of victories of a given team from given get_games dataframe\n",
    "\n",
    "    Parameter team_name: team to return victories of \n",
    "    Preconditions: team_name is a string format ex. \"Cornell,\" \"Colgate\"\n",
    "    Parameter games: Games to filter \n",
    "    Precondition: games is a DataFrame returned by getGames() function\n",
    "    \"\"\"        \n",
    "    assert type(team_name) == str, \"team_name invalid, must be string\"\n",
    "    wins = games[(games[\"team_1\"] == team_name) & (games[\"team_1_score\"] > games[\"team_2_score\"])]\n",
    "    return wins"
   ]
  },
  {
   "cell_type": "code",
   "execution_count": 52,
   "id": "bde29250-acb8-47f0-95aa-25fe3b3bc31f",
   "metadata": {},
   "outputs": [],
   "source": [
    "def get_losses(team_name, start, end):\n",
    "    \"\"\"\n",
    "    Returns a dataframe of losses of a given dataframe \n",
    "\n",
    "    Parameter team_name: team to return losses of \n",
    "    Preconditions: team_name is a string format ex. \"Cornell,\" \"Colgate\"\n",
    "    Parameter start: the start year of games. To select only games from one year, leave  \n",
    "    Precondition: start is an int\n",
    "    Parameter end: the end year of games\n",
    "    Precondition: end is an int\n",
    "    \"\"\"        \n",
    "    assert type(team_name) == str, \"team_name invalid, must be string\"\n",
    "    assert type(start) == int, \"start years invalid, must be int\"\n",
    "    assert type(end) == int, \"end year invalid, must be int\"\n",
    "    games = get_games(team_name,start,end)\n",
    "    losses = games[(games[\"team_2\"] == team_name) & (games[\"team_1_score\"] > games[\"team_2_score\"])]\n",
    "    return losses"
   ]
  },
  {
   "cell_type": "code",
   "execution_count": 53,
   "id": "10d7c59f-9b50-42fe-8418-d516d4fc5228",
   "metadata": {},
   "outputs": [],
   "source": [
    "def get_losses_from_df(team_name, games):\n",
    "    \"\"\"\n",
    "    Returns a dataframe of losses of a given dataframe from get_games dataframe\n",
    "\n",
    "    Parameter team_name: team to return losses of \n",
    "    Preconditions: team_name is a string format ex. \"Cornell,\" \"Colgate\"\n",
    "    Parameter games: Games to filter \n",
    "    Precondition: games is a DataFrame returned by getGames() function\n",
    "    \"\"\"        \n",
    "    assert type(team_name) == str, \"team_name invalid, must be string\"\n",
    "    losses = games[(games[\"team_2\"] == team_name) & (games[\"team_1_score\"] > games[\"team_2_score\"])]\n",
    "    return losses"
   ]
  },
  {
   "cell_type": "code",
   "execution_count": 54,
   "id": "c80326c6-33e3-4681-989a-6d2afa99fff1",
   "metadata": {},
   "outputs": [],
   "source": [
    "def get_intra_ivy(team_name, start, end):\n",
    "    \"\"\"\n",
    "    Returns: data frame of in-conference games of given team. Currently only functional for Ivy League Teams. \n",
    "    \n",
    "     Creates a temporary column \"intra_ivy\" equal to 1 if against an Ivy-League opponent, 0 if not, and then \n",
    "     selects the rows for which this intra_ivy is one. \n",
    "    \n",
    "    Plan to make this work for any team. Conference changes get tricky, will need helper to get conference team list for each season, \n",
    "    check each game against per-season list. \n",
    "    \n",
    "    Parameter team_name: team whose games to select \n",
    "    Precondition: team_name is a lowercase string\n",
    "    Parameter start: the start year of games. To select only games from one year, leave  \n",
    "    Precondition: start is an int\n",
    "    Parameter end: the end year of games\n",
    "    Precondition: end is an int\n",
    "    \"\"\"\n",
    "    assert type(team_name) == str, \"team_name invalid, must be string\"\n",
    "    assert type(start) == int, \"start years invalid, must be int\"\n",
    "    assert type(end) == int, \"end year invalid, must be int\"\n",
    "    conference = [\"Brown\",\"Cornell\",\"Columbia\",\"Dartmouth\",\"Harvard\",\"Pennsylvania\",\"Princeton\",\"Yale\"]\n",
    "    conference.remove(team_name)\n",
    "    games = get_games(team_name, start, end)\n",
    "    wins = get_wins_from_df(team_name, games)\n",
    "    losses = get_losses_from_df(team_name, games)\n",
    "    wins[\"intra_ivy\"] = [1 if x in conference else 0 for x in wins[\"team_2\"]]\n",
    "    losses[\"intra_ivy\"] = [1 if x in conference else 0 for x in losses[\"team_1\"]]\n",
    "    new_df = pd.concat([wins,losses])\n",
    "    in_conference = new_df[new_df[\"intra_ivy\"] == 1]\n",
    "    return in_conference"
   ]
  },
  {
   "cell_type": "code",
   "execution_count": 55,
   "id": "1b895310-243e-4d08-a6c2-be156b4c59c9",
   "metadata": {},
   "outputs": [],
   "source": [
    "def get_intra_ivy_from_df(team_name, games):  \n",
    "    \"\"\"\n",
    "    Returns: data frame of in-conference games of given team from get_games dataframe\n",
    "    \n",
    "     Creates a temporary column \"intra_ivy\" equal to 1 if against an Ivy-League opponent, 0 if not, and then \n",
    "     selects the rows for which this intra_ivy is one. \n",
    "    \n",
    "    Plan to make this work for any team. Conference changes get tricky, will need helper to get conference team list for each season, \n",
    "    check each game against per-season list. \n",
    "    \n",
    "    Parameter team_name: team whose games to select \n",
    "    Precondition: team_name is a lowercase string\n",
    "    Parameter games: Games to filter \n",
    "    Precondition: games is a DataFrame returned by getGames() function\n",
    "    \"\"\"\n",
    "    assert type(team_name) == str, \"team_name invalid, must be string\"\n",
    "    conference = [\"Brown\",\"Cornell\",\"Columbia\",\"Dartmouth\",\"Harvard\",\"Pennsylvania\",\"Princeton\",\"Yale\"]\n",
    "    conference.remove(team_name)\n",
    "    wins = get_wins_from_df(team_name, games)\n",
    "    losses = get_losses_from_df(team_name, games)\n",
    "    wins[\"intra_ivy\"] = [1 if x in conference else 0 for x in wins[\"team_2\"]]\n",
    "    losses[\"intra_ivy\"] = [1 if x in conference else 0 for x in losses[\"team_1\"]]\n",
    "    new_df = pd.concat([wins,losses])\n",
    "    in_conference = new_df[new_df[\"intra_ivy\"] == 1]\n",
    "    return in_conference"
   ]
  },
  {
   "cell_type": "code",
   "execution_count": 56,
   "id": "e4e803c8-2ab2-493c-8fc1-784522fbdbbc",
   "metadata": {},
   "outputs": [],
   "source": [
    "def get_runs_scored(team_name,start, end):\n",
    "    \"\"\"\n",
    "    Returns: int equal to total number of runs scored by team_name over given games\n",
    "    \n",
    "    Parameter team_name: team to calculate runs scored for \n",
    "    Preconditions: team_name is a string format ex. \"Cornell,\" \"Colgate\"\n",
    "    Parameter start: the start year of games. To select only games from one year, leave  \n",
    "    Precondition: start is an int\n",
    "    Parameter end: the end year of games\n",
    "    Precondition: end is an int\n",
    "    \"\"\"\n",
    "    assert type(team_name) == str, \"team_name invalid, must be string\"\n",
    "    assert type(start) == int, \"start years invalid, must be int\"\n",
    "    assert type(end) == int, \"end year invalid, must be int\"\n",
    "    games = get_games(team_name, start, end)\n",
    "    wins = get_wins_from_df(team_name, games)\n",
    "    wins[\"winner_runs_scored\"] = wins[\"team_1_score\"]\n",
    "    losses = get_losses_from_df(team_name, games)\n",
    "    losses[\"loser_runs_scored\"] = losses[\"team_2_score\"] \n",
    "    sum_runs_scored_in_wins = wins[\"winner_runs_scored\"].sum()\n",
    "    sum_runs_scored_in_losses = losses[\"loser_runs_scored\"].sum()\n",
    "    result = sum_runs_scored_in_wins+sum_runs_scored_in_losses\n",
    "    return result"
   ]
  },
  {
   "cell_type": "code",
   "execution_count": 57,
   "id": "b09c4c03-0386-4a97-8c9d-c513f47e006e",
   "metadata": {},
   "outputs": [],
   "source": [
    "def get_runs_scored_from_df (team_name, games):\n",
    "    \"\"\"\n",
    "    Returns: int equal to total number of runs scored by team_name over given games\n",
    "\n",
    "    Parameter team_name: team to calculate runs scored for \n",
    "    Preconditions: team_name is a string format ex. \"Cornell,\" \"Colgate\"\n",
    "    Parameter games: games to aggregate over \n",
    "    Precondition: games is a DataFrame returned by getGames() function\n",
    "    \"\"\"\n",
    "    assert type(team_name) == str, \"team_name invalid, must be string\"\n",
    "    wins = get_wins_from_df(team_name, games)\n",
    "    wins[\"winner_runs_scored\"] = wins[\"team_1_score\"]\n",
    "    losses = get_losses_from_df(team_name, games)\n",
    "    losses[\"loser_runs_scored\"] = losses[\"team_2_score\"] \n",
    "    sum_runs_scored_in_wins = wins[\"winner_runs_scored\"].sum()\n",
    "    sum_runs_scored_in_losses = losses[\"loser_runs_scored\"].sum()\n",
    "    result = sum_runs_scored_in_wins+sum_runs_scored_in_losses\n",
    "    return result"
   ]
  },
  {
   "cell_type": "code",
   "execution_count": 58,
   "id": "f8bf8414-5bcf-4019-86fc-988e239f6507",
   "metadata": {},
   "outputs": [],
   "source": [
    "def get_runs_allowed(team_name, start, end):\n",
    "    \"\"\"\n",
    "    Returns: int equal to total number of runs allowed by team_name over given games\n",
    "    \n",
    "    Parameter team_name: team to calculate runs allowed for \n",
    "    Preconditions: team_name is a string format ex. \"Cornell,\" \"Colgate\"\n",
    "    Parameter start: the start year of games. To select only games from one year, leave  \n",
    "    Precondition: start is an int\n",
    "    Parameter end: the end year of games\n",
    "    Precondition: end is an int\n",
    "    \"\"\"\n",
    "    assert type(team_name) == str, \"team_name invalid, must be string\"\n",
    "    assert type(start) == int, \"start years invalid, must be int\"\n",
    "    assert type(end) == int, \"end year invalid, must be int\"\n",
    "    games = get_games(team_name,start,end)\n",
    "    wins = get_wins_from_df(team_name, games)\n",
    "    wins[\"winner_runs_allowed\"] = wins[\"team_2_score\"]\n",
    "    losses = get_losses_from_df(team_name, games)\n",
    "    losses[\"loser_runs_allowed\"] = losses[\"team_1_score\"] \n",
    "    sum_runs_allowed_in_wins = wins[\"winner_runs_allowed\"].sum()\n",
    "    sum_runs_allowed_in_losses = losses[\"loser_runs_allowed\"].sum()\n",
    "    result = sum_runs_allowed_in_wins + sum_runs_allowed_in_losses\n",
    "    return result"
   ]
  },
  {
   "cell_type": "code",
   "execution_count": 59,
   "id": "2e3f57fa-11c8-4d0e-b02c-dc7fa1186482",
   "metadata": {},
   "outputs": [],
   "source": [
    "def get_runs_allowed_from_df(team_name, games):\n",
    "    \"\"\"\n",
    "    Returns: int equal to total number of runs allowed by team_name over given get_games dataframe\n",
    "    \n",
    "    Parameter team_name: team to calculate runs allowed for \n",
    "    Preconditions: team_name is a string format ex. \"Cornell,\" \"Colgate\"\n",
    "    Parameter games: games to aggregate over \n",
    "    Precondition: games is a DataFrame returned by getGames() function\n",
    "    \"\"\"\n",
    "    assert type(team_name) == str, \"team_name invalid, must be string\"\n",
    "    wins = get_wins_from_df(team_name, games)\n",
    "    wins[\"winner_runs_allowed\"] = wins[\"team_2_score\"]\n",
    "    losses = get_losses_from_df(team_name, games)\n",
    "    losses[\"loser_runs_allowed\"] = losses[\"team_1_score\"] \n",
    "    sum_runs_allowed_in_wins = wins[\"winner_runs_allowed\"].sum()\n",
    "    sum_runs_allowed_in_losses = losses[\"loser_runs_allowed\"].sum()\n",
    "    result = sum_runs_allowed_in_wins + sum_runs_allowed_in_losses\n",
    "    return result"
   ]
  },
  {
   "cell_type": "code",
   "execution_count": 60,
   "id": "35598f02-56dc-47e3-a398-7ec24f633546",
   "metadata": {},
   "outputs": [],
   "source": [
    "def get_run_difference(team_name, start, end):\n",
    "    \"\"\"\n",
    "    Returns: The total run difference across a given set of games \n",
    "    \n",
    "    Parameter team_name: team to return run difference of\n",
    "    Preconditions: team_name is a string format ex. \"Cornell,\" \"Colgate\"\n",
    "    Parameter start: the start year of games. To select only games from one year, leave  \n",
    "    Precondition: start is an int\n",
    "    Parameter end: the end year of games\n",
    "    Precondition: end is an int\n",
    "    \"\"\"\n",
    "    assert type(team_name) == str, \"team_name invalid, must be string\"\n",
    "    assert type(start) == int, \"start years invalid, must be int\"\n",
    "    assert type(end) == int, \"end year invalid, must be int\"\n",
    "    games  = get_games(team_name, start, end)\n",
    "    scored = get_runs_allowed_from_df(team_name, games)\n",
    "    allowed = get_runs_scored_from_df(team_name, games)\n",
    "    result = scored - allowed\n",
    "    return result"
   ]
  },
  {
   "cell_type": "code",
   "execution_count": 61,
   "id": "acb470d1-a2f4-408a-aa61-cb45bf65481b",
   "metadata": {},
   "outputs": [],
   "source": [
    "def get_run_difference_from_df(team_name, games):\n",
    "    \"\"\"\n",
    "    Returns: The total run difference across a given set of get_games dataframe\n",
    "    \n",
    "    Parameter team_name: team to return run difference of\n",
    "    Preconditions: team_name is a string format ex. \"Cornell,\" \"Colgate\"\n",
    "    Parameter games: Games to filter \n",
    "    Precondition: games is a DataFrame returned by getGames() function\n",
    "    \"\"\"\n",
    "    assert type(team_name) == str, \"team_name invalid, must be string\"\n",
    "    scored = get_runs_allowed_from_df(team_name, games)\n",
    "    allowed = get_runs_scored_from_df(team_name, games)\n",
    "    result = scored - allowed\n",
    "    return result"
   ]
  },
  {
   "cell_type": "code",
   "execution_count": 62,
   "id": "6e6dbf22-9e2f-4108-a38c-208eb1437fb7",
   "metadata": {},
   "outputs": [],
   "source": [
    "def add_run_difference_column(team_name, games):\n",
    "    \"\"\"\n",
    "    Returns copy with a given dataframe with new column containing the run difference for each game for a given team.\n",
    "\n",
    "    Parameter team_name: team to return run difference of\n",
    "    Preconditions: team_name is a string format ex. \"Cornell,\" \"Colgate\"Precondtion: \n",
    "    Parameter games: Games to filter \n",
    "    Precondition: games is a DataFrame returned by getGames() function\n",
    "    \"\"\"\n",
    "    assert type(team_name) == str, \"team_name invalid, must be string\"\n",
    "    df_copy = games.copy()\n",
    "    dif_in_wins = df_copy[\"team_1_score\"] - df_copy[\"team_2_score\"]\n",
    "    dif_in_losses = df_copy[\"team_2_score\"] - df_copy[\"team_1_score\" ]\n",
    "    df_copy[\"run_difference\"] = np.where(((df_copy[\"team_1\"] == team_name) & (df_copy[\"team_1_score\"] > df_copy[\"team_2_score\"])), dif_in_wins, dif_in_losses)\n",
    "    df_copy[\"opponent\"] = np.where(((df_copy[\"team_1\"] == team_name) & (df_copy[\"team_1_score\"] > df_copy[\"team_2_score\"])), df_copy[\"team_2\"], df_copy[\"team_1\"])\n",
    "    df_copy[\"cumulative_rd\"] = df_copy[\"run_difference\"].cumsum()\n",
    "    return df_copy"
   ]
  },
  {
   "cell_type": "code",
   "execution_count": 63,
   "id": "8e10faeb-c528-4ae9-8ed5-d79fc363a0fd",
   "metadata": {},
   "outputs": [],
   "source": [
    "def pythag_win_percentage_from_df(team_name, games):\n",
    "    \"\"\"\n",
    "    Returns: The PythagenPat winning percentage expectation of a given team over given games. \n",
    "\n",
    "    W% = R^x/(R^x + RA^x)\n",
    "    where x = (RPG)^.287\n",
    "    Developed by David Smyth and Patriot\n",
    "   \n",
    "    Parameter team_name: team to return expected winning % for \n",
    "    Preconditions: team_name is a string format ex. \"Cornell,\" \"Colgate\"\n",
    "    Parameter games: games over which to calculate\n",
    "    Precondition: games is a DataFrame returned by getGames() function\n",
    "    \"\"\"\n",
    "    assert type(team_name) == str, \"team_name invalid, must be string\"\n",
    "    run_diff =  get_run_difference_from_df(team_name, games)\n",
    "    runs_scored = get_runs_scored_from_df(team_name, games)\n",
    "    runs_allowed = get_runs_allowed_from_df(team_name, games)    \n",
    "    num_games = len(games.index)\n",
    "    if not num_games == 0:\n",
    "        runs_per_game = runs_scored / num_games\n",
    "    else:\n",
    "        runs_per_game = 0\n",
    "    x = runs_per_game ** 0.287\n",
    "    result  = (runs_scored ** x) / ((runs_scored ** x) + (runs_allowed ** x))\n",
    "    return result"
   ]
  },
  {
   "cell_type": "code",
   "execution_count": 64,
   "id": "2bfe47b9-4eef-4630-8078-ff32088738a8",
   "metadata": {},
   "outputs": [],
   "source": [
    "def actual_win_percentage_from_df(team_name, games):\n",
    "    \"\"\"\n",
    "    Returns: The actual (i.e. experimental) winning percentage of a given team over given games. \n",
    "\n",
    "    winning_percentage = games_won / games_plated\n",
    "   \n",
    "    Parameter team_name: team to return actual winning % for \n",
    "    Preconditions: team_name is a string format ex. \"Cornell,\" \"Colgate\"\n",
    "    Parameter games: games over which to calculate\n",
    "    Precondition: games is a DataFrame returned by getGames() function\n",
    "    \"\"\"\n",
    "    assert type(team_name) == str, \"team_name invalid, must be string\"\n",
    "    wins = get_wins_from_df(team_name, games)\n",
    "    losses = get_losses_from_df(team_name,games)\n",
    "    num_wins = len(wins.index)\n",
    "    num_losses = len(losses.index)\n",
    "    win_percentage = num_wins / (num_wins+num_losses)\n",
    "    return win_percentage"
   ]
  },
  {
   "cell_type": "code",
   "execution_count": 65,
   "id": "36f0e174-a90c-4402-8b3d-fc38cf63942e",
   "metadata": {},
   "outputs": [
    {
     "data": {
      "text/html": [
       "<div>\n",
       "<style scoped>\n",
       "    .dataframe tbody tr th:only-of-type {\n",
       "        vertical-align: middle;\n",
       "    }\n",
       "\n",
       "    .dataframe tbody tr th {\n",
       "        vertical-align: top;\n",
       "    }\n",
       "\n",
       "    .dataframe thead th {\n",
       "        text-align: right;\n",
       "    }\n",
       "</style>\n",
       "<table border=\"1\" class=\"dataframe\">\n",
       "  <thead>\n",
       "    <tr style=\"text-align: right;\">\n",
       "      <th></th>\n",
       "      <th>date</th>\n",
       "      <th>team_1</th>\n",
       "      <th>team_1_score</th>\n",
       "      <th>team_2</th>\n",
       "      <th>team_2_score</th>\n",
       "      <th>field</th>\n",
       "    </tr>\n",
       "  </thead>\n",
       "  <tbody>\n",
       "    <tr>\n",
       "      <th>0</th>\n",
       "      <td>2/21/2015</td>\n",
       "      <td>Gardner-Webb</td>\n",
       "      <td>2</td>\n",
       "      <td>Cornell</td>\n",
       "      <td>1</td>\n",
       "      <td>@Gardner-Webb</td>\n",
       "    </tr>\n",
       "    <tr>\n",
       "      <th>1</th>\n",
       "      <td>2/21/2015</td>\n",
       "      <td>Gardner-Webb</td>\n",
       "      <td>3</td>\n",
       "      <td>Cornell</td>\n",
       "      <td>2</td>\n",
       "      <td>@Gardner-Webb</td>\n",
       "    </tr>\n",
       "    <tr>\n",
       "      <th>2</th>\n",
       "      <td>2/22/2015</td>\n",
       "      <td>Gardner-Webb</td>\n",
       "      <td>2</td>\n",
       "      <td>Cornell</td>\n",
       "      <td>1</td>\n",
       "      <td>@Gardner-Webb</td>\n",
       "    </tr>\n",
       "    <tr>\n",
       "      <th>3</th>\n",
       "      <td>2/27/2015</td>\n",
       "      <td>Seton Hall</td>\n",
       "      <td>3</td>\n",
       "      <td>Cornell</td>\n",
       "      <td>0</td>\n",
       "      <td>@neutral</td>\n",
       "    </tr>\n",
       "    <tr>\n",
       "      <th>4</th>\n",
       "      <td>2/28/2015</td>\n",
       "      <td>Cornell</td>\n",
       "      <td>4</td>\n",
       "      <td>Hartford</td>\n",
       "      <td>3</td>\n",
       "      <td>@neutral</td>\n",
       "    </tr>\n",
       "    <tr>\n",
       "      <th>...</th>\n",
       "      <td>...</td>\n",
       "      <td>...</td>\n",
       "      <td>...</td>\n",
       "      <td>...</td>\n",
       "      <td>...</td>\n",
       "      <td>...</td>\n",
       "    </tr>\n",
       "    <tr>\n",
       "      <th>194</th>\n",
       "      <td>2/29/2020</td>\n",
       "      <td>Niagara</td>\n",
       "      <td>8</td>\n",
       "      <td>Cornell</td>\n",
       "      <td>6</td>\n",
       "      <td>@neutral</td>\n",
       "    </tr>\n",
       "    <tr>\n",
       "      <th>195</th>\n",
       "      <td>3/01/2020</td>\n",
       "      <td>Cornell</td>\n",
       "      <td>6</td>\n",
       "      <td>Niagara</td>\n",
       "      <td>5</td>\n",
       "      <td>@neutral</td>\n",
       "    </tr>\n",
       "    <tr>\n",
       "      <th>196</th>\n",
       "      <td>3/06/2020</td>\n",
       "      <td>South Carolina</td>\n",
       "      <td>10</td>\n",
       "      <td>Cornell</td>\n",
       "      <td>2</td>\n",
       "      <td>@South Carolina</td>\n",
       "    </tr>\n",
       "    <tr>\n",
       "      <th>197</th>\n",
       "      <td>3/07/2020</td>\n",
       "      <td>South Carolina</td>\n",
       "      <td>10</td>\n",
       "      <td>Cornell</td>\n",
       "      <td>3</td>\n",
       "      <td>@South Carolina</td>\n",
       "    </tr>\n",
       "    <tr>\n",
       "      <th>198</th>\n",
       "      <td>3/08/2020</td>\n",
       "      <td>South Carolina</td>\n",
       "      <td>6</td>\n",
       "      <td>Cornell</td>\n",
       "      <td>1</td>\n",
       "      <td>@South Carolina</td>\n",
       "    </tr>\n",
       "  </tbody>\n",
       "</table>\n",
       "<p>199 rows × 6 columns</p>\n",
       "</div>"
      ],
      "text/plain": [
       "          date          team_1  team_1_score    team_2  team_2_score  \\\n",
       "0    2/21/2015    Gardner-Webb             2   Cornell             1   \n",
       "1    2/21/2015    Gardner-Webb             3   Cornell             2   \n",
       "2    2/22/2015    Gardner-Webb             2   Cornell             1   \n",
       "3    2/27/2015      Seton Hall             3   Cornell             0   \n",
       "4    2/28/2015         Cornell             4  Hartford             3   \n",
       "..         ...             ...           ...       ...           ...   \n",
       "194  2/29/2020         Niagara             8   Cornell             6   \n",
       "195  3/01/2020         Cornell             6   Niagara             5   \n",
       "196  3/06/2020  South Carolina            10   Cornell             2   \n",
       "197  3/07/2020  South Carolina            10   Cornell             3   \n",
       "198  3/08/2020  South Carolina             6   Cornell             1   \n",
       "\n",
       "               field  \n",
       "0      @Gardner-Webb  \n",
       "1      @Gardner-Webb  \n",
       "2      @Gardner-Webb  \n",
       "3           @neutral  \n",
       "4           @neutral  \n",
       "..               ...  \n",
       "194         @neutral  \n",
       "195         @neutral  \n",
       "196  @South Carolina  \n",
       "197  @South Carolina  \n",
       "198  @South Carolina  \n",
       "\n",
       "[199 rows x 6 columns]"
      ]
     },
     "execution_count": 65,
     "metadata": {},
     "output_type": "execute_result"
    }
   ],
   "source": [
    "games = get_games(\"Cornell\", 2015, 2020)\n",
    "games"
   ]
  },
  {
   "cell_type": "code",
   "execution_count": 66,
   "id": "5fdd65eb-d5b3-4ce3-8862-51949940ec79",
   "metadata": {},
   "outputs": [
    {
     "data": {
      "text/html": [
       "<div>\n",
       "<style scoped>\n",
       "    .dataframe tbody tr th:only-of-type {\n",
       "        vertical-align: middle;\n",
       "    }\n",
       "\n",
       "    .dataframe tbody tr th {\n",
       "        vertical-align: top;\n",
       "    }\n",
       "\n",
       "    .dataframe thead th {\n",
       "        text-align: right;\n",
       "    }\n",
       "</style>\n",
       "<table border=\"1\" class=\"dataframe\">\n",
       "  <thead>\n",
       "    <tr style=\"text-align: right;\">\n",
       "      <th></th>\n",
       "      <th>date</th>\n",
       "      <th>run_difference</th>\n",
       "      <th>opponent</th>\n",
       "      <th>cumulative_rd</th>\n",
       "    </tr>\n",
       "  </thead>\n",
       "  <tbody>\n",
       "    <tr>\n",
       "      <th>0</th>\n",
       "      <td>2010-03-16</td>\n",
       "      <td>-2</td>\n",
       "      <td>Binghamton</td>\n",
       "      <td>-2</td>\n",
       "    </tr>\n",
       "    <tr>\n",
       "      <th>1</th>\n",
       "      <td>2010-03-16</td>\n",
       "      <td>5</td>\n",
       "      <td>Binghamton</td>\n",
       "      <td>3</td>\n",
       "    </tr>\n",
       "    <tr>\n",
       "      <th>2</th>\n",
       "      <td>2010-03-21</td>\n",
       "      <td>1</td>\n",
       "      <td>Northwestern</td>\n",
       "      <td>4</td>\n",
       "    </tr>\n",
       "    <tr>\n",
       "      <th>3</th>\n",
       "      <td>2010-03-22</td>\n",
       "      <td>1</td>\n",
       "      <td>Northwestern</td>\n",
       "      <td>5</td>\n",
       "    </tr>\n",
       "    <tr>\n",
       "      <th>4</th>\n",
       "      <td>2010-03-23</td>\n",
       "      <td>-5</td>\n",
       "      <td>Florida Atlantic</td>\n",
       "      <td>0</td>\n",
       "    </tr>\n",
       "    <tr>\n",
       "      <th>...</th>\n",
       "      <td>...</td>\n",
       "      <td>...</td>\n",
       "      <td>...</td>\n",
       "      <td>...</td>\n",
       "    </tr>\n",
       "    <tr>\n",
       "      <th>399</th>\n",
       "      <td>2020-02-29</td>\n",
       "      <td>-2</td>\n",
       "      <td>Niagara</td>\n",
       "      <td>-274</td>\n",
       "    </tr>\n",
       "    <tr>\n",
       "      <th>400</th>\n",
       "      <td>2020-03-01</td>\n",
       "      <td>1</td>\n",
       "      <td>Niagara</td>\n",
       "      <td>-273</td>\n",
       "    </tr>\n",
       "    <tr>\n",
       "      <th>401</th>\n",
       "      <td>2020-03-06</td>\n",
       "      <td>-8</td>\n",
       "      <td>South Carolina</td>\n",
       "      <td>-281</td>\n",
       "    </tr>\n",
       "    <tr>\n",
       "      <th>402</th>\n",
       "      <td>2020-03-07</td>\n",
       "      <td>-7</td>\n",
       "      <td>South Carolina</td>\n",
       "      <td>-288</td>\n",
       "    </tr>\n",
       "    <tr>\n",
       "      <th>403</th>\n",
       "      <td>2020-03-08</td>\n",
       "      <td>-5</td>\n",
       "      <td>South Carolina</td>\n",
       "      <td>-293</td>\n",
       "    </tr>\n",
       "  </tbody>\n",
       "</table>\n",
       "<p>404 rows × 4 columns</p>\n",
       "</div>"
      ],
      "text/plain": [
       "           date  run_difference          opponent  cumulative_rd\n",
       "0    2010-03-16              -2        Binghamton             -2\n",
       "1    2010-03-16               5        Binghamton              3\n",
       "2    2010-03-21               1      Northwestern              4\n",
       "3    2010-03-22               1      Northwestern              5\n",
       "4    2010-03-23              -5  Florida Atlantic              0\n",
       "..          ...             ...               ...            ...\n",
       "399  2020-02-29              -2           Niagara           -274\n",
       "400  2020-03-01               1           Niagara           -273\n",
       "401  2020-03-06              -8    South Carolina           -281\n",
       "402  2020-03-07              -7    South Carolina           -288\n",
       "403  2020-03-08              -5    South Carolina           -293\n",
       "\n",
       "[404 rows x 4 columns]"
      ]
     },
     "execution_count": 66,
     "metadata": {},
     "output_type": "execute_result"
    }
   ],
   "source": [
    "def get_rd_data(team_name, start, end):\n",
    "        \"\"\"\n",
    "        Returns: Dataframe with run_difference, opponent, and cumulative_rd for every game of given team\n",
    "        in given seasons. \n",
    "        \n",
    "        Parameter team_name: team to return games for\n",
    "        Precondtion: team_name is a string\n",
    "        Parameter start: start year, inclusive\n",
    "        Precondition: start is a int \n",
    "        Parameter end: end year, inclusive\n",
    "        Preconditon: end is an int\n",
    "        \"\"\"\n",
    "        games = get_games(team_name, start=start, end=end)\n",
    "        games[\"date\"] =  pd.to_datetime(games[\"date\"])\n",
    "        games = games.sort_values(by=\"date\")\n",
    "        games = games.reset_index(drop=\"True\")\n",
    "        games = add_run_difference_column(team_name, games)\n",
    "        games = games.drop(columns=[\"team_1\",\"team_1_score\",\"team_2\",\"team_2_score\",\"field\"])\n",
    "        games[\"date\"] = games[\"date\"].dt.strftime('%Y-%m-%d')\n",
    "        return games\n",
    "    \n",
    "get_rd_data(\"Cornell\",2010,2020)"
   ]
  },
  {
   "cell_type": "code",
   "execution_count": 67,
   "id": "c0f3116f-5755-4eb1-89ad-1777e843b60a",
   "metadata": {},
   "outputs": [
    {
     "data": {
      "text/html": [
       "<div>\n",
       "<style scoped>\n",
       "    .dataframe tbody tr th:only-of-type {\n",
       "        vertical-align: middle;\n",
       "    }\n",
       "\n",
       "    .dataframe tbody tr th {\n",
       "        vertical-align: top;\n",
       "    }\n",
       "\n",
       "    .dataframe thead th {\n",
       "        text-align: right;\n",
       "    }\n",
       "</style>\n",
       "<table border=\"1\" class=\"dataframe\">\n",
       "  <thead>\n",
       "    <tr style=\"text-align: right;\">\n",
       "      <th></th>\n",
       "      <th>team_name</th>\n",
       "      <th>pythagenpat_pct</th>\n",
       "      <th>actual_pct</th>\n",
       "      <th>deviation</th>\n",
       "    </tr>\n",
       "  </thead>\n",
       "  <tbody>\n",
       "    <tr>\n",
       "      <th>0</th>\n",
       "      <td>Brown</td>\n",
       "      <td>0.40</td>\n",
       "      <td>0.35</td>\n",
       "      <td>0.04</td>\n",
       "    </tr>\n",
       "    <tr>\n",
       "      <th>1</th>\n",
       "      <td>Columbia</td>\n",
       "      <td>0.60</td>\n",
       "      <td>0.62</td>\n",
       "      <td>0.02</td>\n",
       "    </tr>\n",
       "    <tr>\n",
       "      <th>2</th>\n",
       "      <td>Cornell</td>\n",
       "      <td>0.44</td>\n",
       "      <td>0.41</td>\n",
       "      <td>0.02</td>\n",
       "    </tr>\n",
       "    <tr>\n",
       "      <th>3</th>\n",
       "      <td>Dartmouth</td>\n",
       "      <td>0.54</td>\n",
       "      <td>0.56</td>\n",
       "      <td>0.02</td>\n",
       "    </tr>\n",
       "    <tr>\n",
       "      <th>4</th>\n",
       "      <td>Harvard</td>\n",
       "      <td>0.53</td>\n",
       "      <td>0.49</td>\n",
       "      <td>0.04</td>\n",
       "    </tr>\n",
       "    <tr>\n",
       "      <th>5</th>\n",
       "      <td>Pennsylvania</td>\n",
       "      <td>0.62</td>\n",
       "      <td>0.56</td>\n",
       "      <td>0.05</td>\n",
       "    </tr>\n",
       "    <tr>\n",
       "      <th>6</th>\n",
       "      <td>Princeton</td>\n",
       "      <td>0.37</td>\n",
       "      <td>0.39</td>\n",
       "      <td>0.02</td>\n",
       "    </tr>\n",
       "    <tr>\n",
       "      <th>7</th>\n",
       "      <td>Yale</td>\n",
       "      <td>0.52</td>\n",
       "      <td>0.59</td>\n",
       "      <td>0.06</td>\n",
       "    </tr>\n",
       "  </tbody>\n",
       "</table>\n",
       "</div>"
      ],
      "text/plain": [
       "      team_name  pythagenpat_pct  actual_pct  deviation\n",
       "0         Brown             0.40        0.35       0.04\n",
       "1      Columbia             0.60        0.62       0.02\n",
       "2       Cornell             0.44        0.41       0.02\n",
       "3     Dartmouth             0.54        0.56       0.02\n",
       "4       Harvard             0.53        0.49       0.04\n",
       "5  Pennsylvania             0.62        0.56       0.05\n",
       "6     Princeton             0.37        0.39       0.02\n",
       "7          Yale             0.52        0.59       0.06"
      ]
     },
     "execution_count": 67,
     "metadata": {},
     "output_type": "execute_result"
    }
   ],
   "source": [
    "# Pythagenpat intra-conference win %'s by team for the Ivy League\n",
    "def generate_ivy_pythags(start, end):\n",
    "    \"\"\"\n",
    "    Returns: Dataframe of actual and expected winning percentages of Ivy League for a given set of seasons. \n",
    "    Parameter start: start year, inclusive\n",
    "    Precondition: start is an int YYYY\n",
    "    Parameter end: end year, inclusive\n",
    "    Precondtion: end is an int YYYY\n",
    "    \"\"\"\n",
    "    assert type(start) == int, \"start must be an int\"\n",
    "    assert type(end) == int, \"end must be an int\"\n",
    "    ivy_pythagenpat = {\"team_name\":[], \"pythagenpat_pct\":[], \"actual_pct\":[], \"deviation\":[]};\n",
    "    for i in [\"Brown\", \"Columbia\", \"Cornell\", \"Dartmouth\", \"Harvard\", \"Pennsylvania\", \"Princeton\", \"Yale\"]:\n",
    "        games = get_intra_ivy(i,start,end)\n",
    "        pythagenpat_pct = pythag_win_percentage_from_df(i,games)  \n",
    "        actual_pct = actual_win_percentage_from_df(i,games)  \n",
    "        deviation = abs(round(pythagenpat_pct - actual_pct,2))\n",
    "        ivy_pythagenpat[\"team_name\"].append(i)\n",
    "        ivy_pythagenpat[\"pythagenpat_pct\"].append(round(pythagenpat_pct,2))\n",
    "        ivy_pythagenpat[\"actual_pct\"].append(round(actual_pct,2))\n",
    "        ivy_pythagenpat[\"deviation\"].append(deviation)\n",
    "        results = pd.DataFrame(ivy_pythagenpat)\n",
    "    return results\n",
    "\n",
    "generate_ivy_pythags(2015,2020)"
   ]
  },
  {
   "cell_type": "code",
   "execution_count": 68,
   "id": "a6f82215-cc1d-49bc-b451-ae479943f489",
   "metadata": {},
   "outputs": [
    {
     "data": {
      "text/plain": [
       "0.44225271739130434"
      ]
     },
     "execution_count": 68,
     "metadata": {},
     "output_type": "execute_result"
    }
   ],
   "source": [
    "def get_woba(player_id, year):\n",
    "    \"\"\"\n",
    "    Returns: The Weighted On-Base Average  for a given player in a given season\n",
    "    \n",
    "    wOBA = (wBB×uBB + wHBP×HBP + w1B×1B + w2B×2B + w3B×3B +\n",
    "    wHR×HR) / (AB + BB – IBB + SF + HBP)\n",
    "    PA = AB + BB - IBB + SF + HBP \n",
    "    \n",
    "    Parameter player_id: The ID of player to return for\n",
    "    Precondition: player_id is \n",
    "    Parameter year: The season to return for \n",
    "    Precondition: year is an INT \n",
    "    \"\"\"\n",
    "    season_batting = pd.read_csv(\"data/cornellbatting\"+str(year)+\".csv\")\n",
    "    player_batting =  season_batting[season_batting.player_id==player_id]\n",
    "    player_batting = player_batting.fillna(0)\n",
    "    linear_weights = pd.read_csv(\"data/ncaa_d1_woba_linear_weights.csv\")\n",
    "    season_weights = linear_weights[linear_weights.Season==year]\n",
    "    wbb = season_weights[\"wBB\"].values[0]\n",
    "    whbp = season_weights[\"wHBP\"].values[0]\n",
    "    w1b = season_weights[\"w1B\"].values[0]\n",
    "    w2b = season_weights[\"w2B\"].values[0]\n",
    "    w3b = season_weights[\"w3B\"].values[0]\n",
    "    whr = season_weights[\"wHR\"].values[0]\n",
    "    walks = player_batting[\"BB\"].values[0]\n",
    "    hits_by_pitch = player_batting[\"HBP\"].values[0]\n",
    "    doubles = player_batting[\"2B\"].values[0]\n",
    "    triples = player_batting[\"3B\"].values[0]\n",
    "    home_runs = player_batting[\"HR\"].values[0]\n",
    "    hits =  player_batting[\"H\"].values[0]\n",
    "    singles = hits-(doubles+triples+home_runs)\n",
    "    at_bats = player_batting[\"AB\"].values[0]\n",
    "    sac_flies = player_batting[\"SF\"].values[0]\n",
    "    sac_bunts = player_batting[\"SH\"].values[0]\n",
    "    plate_appearances = at_bats+walks+sac_flies+sac_bunts+hits_by_pitch\n",
    "    woba = (wbb*walks+whbp*hits_by_pitch+w1b*singles+w2b*doubles+w3b*triples+whr*home_runs)/plate_appearances\n",
    "    return woba\n",
    "\n",
    "get_woba(1779085, 2017)"
   ]
  },
  {
   "cell_type": "code",
   "execution_count": 69,
   "id": "3361fc7d-9ff9-4ad8-9a8d-b7d0d8aab031",
   "metadata": {},
   "outputs": [
    {
     "data": {
      "text/plain": [
       "7.687957875457876"
      ]
     },
     "execution_count": 69,
     "metadata": {},
     "output_type": "execute_result"
    }
   ],
   "source": [
    "def get_wraa(player_id, year):\n",
    "    \"\"\"\n",
    "    Returns: The Weighted Runs Above Average (wRAA) for a given player in a given season\n",
    "    \n",
    "    [(wOBA−leagueWOBA) / wOBAscale] ∗ PA\n",
    "    PA = AB + BB - IBB + SF + HBP \n",
    "\n",
    "    Parameter player_id: The ID of player to return for\n",
    "    Precondition: player_id is \n",
    "    Parameter year: The season to return wRC for \n",
    "    Precondition: year is an INT \n",
    "    \"\"\"\n",
    "    season_batting = pd.read_csv(\"data/cornellbatting\"+str(year)+\".csv\")\n",
    "    player_batting =  season_batting[season_batting.player_id==player_id]\n",
    "    player_batting = player_batting.fillna(0)\n",
    "    linear_weights = pd.read_csv(\"data/ncaa_d1_woba_linear_weights.csv\")\n",
    "    season_weights = linear_weights[linear_weights.Season== year]\n",
    "    league_woba = season_weights[\"wOBA\"].values[0]\n",
    "    woba_scale = season_weights[\"wOBAScale\"].values[0]\n",
    "    league_runs_per_pa = season_weights[\"R/PA\"].values[0]\n",
    "    player_woba = get_woba(player_id, year)\n",
    "    at_bats = player_batting[\"AB\"].values[0]\n",
    "    walks = player_batting[\"BB\"].values[0]\n",
    "    sac_flies = player_batting[\"SF\"].values[0]\n",
    "    sac_bunts = player_batting[\"SH\"].values[0]\n",
    "    hits_by_pitch = player_batting[\"HBP\"].values[0]\n",
    "    plate_appearances = at_bats+walks+sac_flies+sac_bunts+hits_by_pitch\n",
    "    wraa = ((((player_woba-league_woba)/woba_scale)))*(plate_appearances)\n",
    "    return wraa\n",
    "\n",
    "get_wraa(1779085,2017)"
   ]
  },
  {
   "cell_type": "code",
   "execution_count": 70,
   "id": "36e1e9e1-de2c-48e1-8787-7bf2a7f722a4",
   "metadata": {},
   "outputs": [
    {
     "data": {
      "text/plain": [
       "20.843957875457875"
      ]
     },
     "execution_count": 70,
     "metadata": {},
     "output_type": "execute_result"
    }
   ],
   "source": [
    "def get_wrc(player_id, year):\n",
    "    \"\"\"\n",
    "    Returns: The Weighted Runs Created  for a given player in a given season\n",
    "    \n",
    "    wRC = [((wOBA - lgwOBA)/wOBAScale) + (lgR/PA)] * PA\n",
    "    PA = AB + BB - IBB + SF + HBP \n",
    "\n",
    "    Parameter player_id: The ID of player to return for\n",
    "    Precondition: player_id is \n",
    "    Parameter year: The season to return for \n",
    "    Precondition: year is an INT \n",
    "    \"\"\"\n",
    "    season_batting = pd.read_csv(\"data/cornellbatting\"+str(year)+\".csv\")\n",
    "    player_batting =  season_batting[season_batting.player_id==player_id]\n",
    "    player_batting = player_batting.fillna(0)\n",
    "    linear_weights = pd.read_csv(\"data/ncaa_d1_woba_linear_weights.csv\")\n",
    "    season_weights = linear_weights[linear_weights.Season==year]\n",
    "    league_woba = season_weights[\"wOBA\"].values[0]\n",
    "    woba_scale = season_weights[\"wOBAScale\"].values[0]\n",
    "    league_runs_per_pa = season_weights[\"R/PA\"].values[0]\n",
    "    player_woba = get_woba(player_id, year)   \n",
    "    at_bats = player_batting[\"AB\"].values[0]\n",
    "    walks = player_batting[\"BB\"].values[0]\n",
    "    sac_flies = player_batting[\"SF\"].values[0]\n",
    "    sac_bunts = player_batting[\"SH\"].values[0]\n",
    "    hits_by_pitch = player_batting[\"HBP\"].values[0]\n",
    "    plate_appearances = at_bats+walks+sac_flies+sac_bunts+hits_by_pitch\n",
    "    wrc = ((((player_woba-league_woba)/woba_scale)+league_runs_per_pa))*plate_appearances\n",
    "    return wrc\n",
    "\n",
    "get_wrc(1779085,2017)"
   ]
  },
  {
   "cell_type": "code",
   "execution_count": 71,
   "id": "0439973a-50b2-480b-9030-ae6a558e4722",
   "metadata": {},
   "outputs": [
    {
     "data": {
      "text/plain": [
       "0.2962856623931624"
      ]
     },
     "execution_count": 71,
     "metadata": {},
     "output_type": "execute_result"
    }
   ],
   "source": [
    "def get_cornell_woba(year):\n",
    "    \"\"\"\n",
    "    Returns: The Weighted On-Base Average  for a given player in a given season\n",
    "    \n",
    "    wOBA = (wBB×uBB + wHBP×HBP + w1B×1B + w2B×2B + w3B×3B +\n",
    "    wHR×HR) / (AB + BB – IBB + SF + HBP)\n",
    "    PA = AB + BB - IBB + SF + HBP \n",
    "\n",
    "    Parameter year: The season to return for \n",
    "    Precondition: year is an INT 2012-2020\n",
    "    \"\"\"\n",
    "    linear_weights = pd.read_csv(\"data/ncaa_d1_woba_linear_weights.csv\")\n",
    "    season_weights = linear_weights[linear_weights.Season==year]\n",
    "    wbb = season_weights[\"wBB\"].values[0]\n",
    "    whbp = season_weights[\"wHBP\"].values[0]\n",
    "    w1b = season_weights[\"w1B\"].values[0]\n",
    "    w2b = season_weights[\"w2B\"].values[0]\n",
    "    w3b = season_weights[\"w3B\"].values[0]\n",
    "    whr = season_weights[\"wHR\"].values[0]\n",
    "    totals = pd.read_excel(\"data/cornell_totals_2012_to_2020.xlsx\")\n",
    "    season_totals = totals[totals.Season==year]\n",
    "    walks = season_totals[\"BB\"].values[0]\n",
    "    hits_by_pitch = season_totals[\"HBP\"].values[0]\n",
    "    doubles = season_totals[\"2B\"].values[0]\n",
    "    triples = season_totals[\"3B\"].values[0]\n",
    "    home_runs = season_totals[\"HR\"].values[0]\n",
    "    hits = season_totals[\"H\"].values[0]\n",
    "    singles =  hits-(doubles+triples+home_runs)\n",
    "    at_bats = season_totals[\"AB\"].values[0]\n",
    "    sac_flies = season_totals[\"SF\"].values[0]\n",
    "    sac_bunts = season_totals[\"SH\"].values[0]\n",
    "    plate_appearances = at_bats+walks+sac_flies+sac_bunts+hits_by_pitch\n",
    "    woba = (wbb*walks+whbp*hits_by_pitch+w1b*singles+w2b*doubles+w3b*triples+whr*home_runs)/plate_appearances\n",
    "    return woba\n",
    "\n",
    "get_cornell_woba(2019)"
   ]
  },
  {
   "cell_type": "code",
   "execution_count": 72,
   "id": "16f11c7b-fe51-4286-8689-09c6f3e1ebd7",
   "metadata": {},
   "outputs": [
    {
     "data": {
      "text/plain": [
       "0.33472055601974937"
      ]
     },
     "execution_count": 72,
     "metadata": {},
     "output_type": "execute_result"
    }
   ],
   "source": [
    "def get_ivy_woba(year):\n",
    "        \"\"\"\n",
    "        Returns: Ivy League Weighted On-Base Average in a given season\n",
    "\n",
    "        wOBA = (wBB×uBB + wHBP×HBP + w1B×1B + w2B×2B + w3B×3B +\n",
    "        wHR×HR) / (AB + BB – IBB + SF + HBP)\n",
    "        PA = AB + BB - IBB + SF + HBP \n",
    "\n",
    "        Parameter year: The season to return for \n",
    "        Precondition: year is an INT 2012-2020\n",
    "        \"\"\"  \n",
    "        linear_weights = pd.read_csv(\"data/ncaa_d1_woba_linear_weights.csv\")\n",
    "        season_weights = linear_weights[linear_weights.Season==year]\n",
    "        wbb = season_weights[\"wBB\"].values[0]\n",
    "        whbp = season_weights[\"wHBP\"].values[0]\n",
    "        w1b = season_weights[\"w1B\"].values[0]\n",
    "        w2b = season_weights[\"w2B\"].values[0]\n",
    "        w3b = season_weights[\"w3B\"].values[0]\n",
    "        whr = season_weights[\"wHR\"].values[0]\n",
    "        ivy_totals = pd.read_excel(\"data/ivy_league_totals_2012_to_2020.xlsx\", sheet_name=\"batting\")\n",
    "        season_totals = ivy_totals[ivy_totals.Season==year]\n",
    "        walks = season_totals[\"BB\"].values[0]\n",
    "        hits_by_pitch = season_totals[\"HBP\"].values[0]\n",
    "        doubles = season_totals[\"2B\"].values[0]\n",
    "        triples = season_totals[\"3B\"].values[0]\n",
    "        home_runs = season_totals[\"HR\"].values[0]\n",
    "        hits = season_totals[\"H\"].values[0]\n",
    "        singles =  hits-(doubles+triples+home_runs)\n",
    "        at_bats = season_totals[\"AB\"].values[0]\n",
    "        sac_flies = season_totals[\"SF\"].values[0]\n",
    "        sac_bunts = season_totals[\"SH\"].values[0]\n",
    "        plate_appearances = at_bats+walks+sac_flies+sac_bunts+hits_by_pitch\n",
    "        woba = (wbb*walks+whbp*hits_by_pitch+w1b*singles+w2b*doubles+w3b*triples+whr*home_runs)/plate_appearances\n",
    "        return woba\n",
    "\n",
    "get_ivy_woba(2018)"
   ]
  },
  {
   "cell_type": "code",
   "execution_count": 73,
   "id": "24bc2ef2-37e0-426e-bd72-b51188047716",
   "metadata": {},
   "outputs": [
    {
     "data": {
      "text/plain": [
       "3.416944055944056"
      ]
     },
     "execution_count": 73,
     "metadata": {},
     "output_type": "execute_result"
    }
   ],
   "source": [
    "def get_fip(player_id, year):\n",
    "    \"\"\"\n",
    "    Returns: Fielding Independent Pitching for a given player in a given season\n",
    "    \n",
    "    FIP = ((13*HR)+(3*(BB+HBP))-(2*K))/IP + constant\n",
    "    FIP Constant = lgERA – (((13*lgHR)+(3*(lgBB+lgHBP))-(2*lgK))/lgIP)\n",
    "\n",
    "    Parameter player_id: The ID of player to return for\n",
    "    Precondition: player_id is \n",
    "    Parameter year: The season to return wRC for \n",
    "    Precondition: year is an INT \n",
    "    \"\"\"\n",
    "    season_pitching = pd.read_csv(\"data/cornellpitching\"+str(year)+\".csv\")\n",
    "    player_pitching =  season_pitching[season_pitching.player_id==player_id]\n",
    "    player_pitching = player_pitching.fillna(0)\n",
    "    strike_outs = player_pitching[\"SO\"].values[0]\n",
    "    hit_batters = player_pitching[\"HB\"].values[0]\n",
    "    walks_given = player_pitching[\"BB\"].values[0]\n",
    "    home_runs_allowed = player_pitching[\"HR-A\"].values[0]\n",
    "    strike_outs = player_pitching[\"IP\"].values[0]\n",
    "    linear_weights = pd.read_csv(\"data/ncaa_d1_woba_linear_weights.csv\")\n",
    "    season_weights = linear_weights[linear_weights.Season== year]\n",
    "    fip_constant =season_weights[\"cFIP\"].values[0]\n",
    "    fip = (((13*home_runs_allowed)+(3*(walks_given+hit_batters))-(2*strike_outs))/strike_outs) + fip_constant\n",
    "    return fip\n",
    "\n",
    "get_fip(1546998, 2017)"
   ]
  },
  {
   "cell_type": "code",
   "execution_count": 74,
   "id": "b9e359f3-ab4b-4d10-a7ce-91004b9c0c29",
   "metadata": {},
   "outputs": [
    {
     "data": {
      "text/plain": [
       "3.850534334078569"
      ]
     },
     "execution_count": 74,
     "metadata": {},
     "output_type": "execute_result"
    }
   ],
   "source": [
    "def get_cornell_fip(year):\n",
    "    \"\"\"\n",
    "    Returns: Cornell total  Fielding Independent Pitching (FIP) for a given player in a given season\n",
    "\n",
    "    FIP = ((13*HR)+(3*(BB+HBP))-(2*K))/IP + constant\n",
    "    FIP Constant = lgERA – (((13*lgHR)+(3*(lgBB+lgHBP))-(2*lgK))/lgIP)\n",
    "\n",
    "    Parameter player_id: The ID of player to return for\n",
    "    Precondition: player_id is \n",
    "    Parameter year: The season to return wRC for \n",
    "    Precondition: year is an INT \n",
    "    \"\"\"\n",
    "    cu_pitching = pd.read_csv(\"data/cornellpitching\"+str(year)+\".csv\")\n",
    "    season_totals = cu_pitching[cu_pitching.Player==\"Totals\"]\n",
    "    strike_outs = season_totals[\"SO\"].values[0]\n",
    "    hit_batters = season_totals[\"HB\"].values[0]\n",
    "    walks_given = season_totals[\"BB\"].values[0]\n",
    "    home_runs_allowed = season_totals[\"HR-A\"].values[0]\n",
    "    strike_outs = season_totals[\"IP\"].values[0]\n",
    "    linear_weights = pd.read_csv(\"data/ncaa_d1_woba_linear_weights.csv\")\n",
    "    season_weights = linear_weights[linear_weights.Season== year]\n",
    "    fip_constant =season_weights[\"cFIP\"].values[0]\n",
    "    fip = (((13*home_runs_allowed)+(3*(walks_given+hit_batters))-(2*strike_outs))/strike_outs) + fip_constant\n",
    "    return fip\n",
    "\n",
    "get_cornell_fip(2015)"
   ]
  },
  {
   "cell_type": "code",
   "execution_count": 75,
   "id": "e48e1393-aa15-48e2-8e69-31f8dd9a8d9b",
   "metadata": {},
   "outputs": [
    {
     "data": {
      "text/plain": [
       "4.506829547519535"
      ]
     },
     "execution_count": 75,
     "metadata": {},
     "output_type": "execute_result"
    }
   ],
   "source": [
    "def get_ivy_fip(year):\n",
    "    \"\"\"\n",
    "    Returns: Ivy League total Fielding Independent Pitching (FIP) for a given season\n",
    "    \n",
    "    FIP = ((13*HR)+(3*(BB+HBP))-(2*K))/IP + constant\n",
    "    FIP Constant = lgERA – (((13*lgHR)+(3*(lgBB+lgHBP))-(2*lgK))/lgIP)\n",
    "\n",
    "    Parameter year: The season to return fip for \n",
    "    Precondition: year is an INT \n",
    "    \"\"\"\n",
    "    ivy_pitching = pd.read_excel(\"data/ivy_league_totals_2012_to_2020.xlsx\", sheet_name=\"pitching\")\n",
    "    season_totals = ivy_pitching[ivy_pitching.Season==year]\n",
    "    walks = season_totals[\"BB\"].values[0]   \n",
    "    strike_outs = season_totals[\"SO\"].values[0]\n",
    "    hit_batters = season_totals[\"HB\"].values[0]\n",
    "    walks_given = season_totals[\"BB\"].values[0]\n",
    "    home_runs_allowed = season_totals[\"HR-A\"].values[0]\n",
    "    strike_outs = season_totals[\"IP\"].values[0]\n",
    "    linear_weights = pd.read_csv(\"data/ncaa_d1_woba_linear_weights.csv\")\n",
    "    season_weights = linear_weights[linear_weights.Season== year]\n",
    "    fip_constant =season_weights[\"cFIP\"].values[0]\n",
    "    fip = (((13*home_runs_allowed)+(3*(walks_given+hit_batters))-(2*strike_outs))/strike_outs) + fip_constant\n",
    "    return fip\n",
    "\n",
    "get_ivy_fip(2017)"
   ]
  },
  {
   "cell_type": "code",
   "execution_count": 76,
   "id": "43460114-d4bb-496d-b253-931db6a49c70",
   "metadata": {},
   "outputs": [
    {
     "data": {
      "text/plain": [
       "2.18"
      ]
     },
     "execution_count": 76,
     "metadata": {},
     "output_type": "execute_result"
    }
   ],
   "source": [
    "def get_era(player_id, year): \n",
    "    \"\"\"\n",
    "    Returns: ERA for a given player in a given season \n",
    "    \n",
    "    Parameter player_id: The ID of player to return for\n",
    "    Precondition: player_id is \n",
    "    Parameter year: The season to return wRC for \n",
    "    Precondition: year is an INT \n",
    "    \"\"\"\n",
    "    season_pitching = pd.read_csv(\"data/cornellpitching\"+str(year)+\".csv\")\n",
    "    player_pitching =  season_pitching[season_pitching.player_id==player_id]\n",
    "    player_pitching = player_pitching.fillna(0)\n",
    "    era = player_pitching[\"ERA\"].values[0]\n",
    "    return era\n",
    "\n",
    "get_era(1546998, 2017)"
   ]
  },
  {
   "cell_type": "code",
   "execution_count": 77,
   "id": "cdb6cd78-8b62-4b75-9bf0-0ee750074df1",
   "metadata": {},
   "outputs": [
    {
     "data": {
      "text/plain": [
       "0.4020979020979021"
      ]
     },
     "execution_count": 77,
     "metadata": {},
     "output_type": "execute_result"
    }
   ],
   "source": [
    "def get_runs_per_ip(player_id, year):\n",
    "    \"\"\"\n",
    "    Returns: runs per innings pitched\n",
    "    \n",
    "    runs allowed / innings pitched\n",
    "    \n",
    "    \"\"\"\n",
    "    season_pitching = pd.read_csv(\"data/cornellpitching\"+str(year)+\".csv\")\n",
    "    player_pitching =  season_pitching[season_pitching.player_id==player_id]\n",
    "    player_pitching = player_pitching.fillna(0)\n",
    "    runs_allowed = player_pitching[\"R\"].values[0]\n",
    "    innings_pitched = player_pitching[\"IP\"].values[0]\n",
    "    res = runs_allowed/innings_pitched\n",
    "    return res\n",
    "\n",
    "get_runs_per_ip(1546998, 2017)"
   ]
  },
  {
   "cell_type": "code",
   "execution_count": 78,
   "id": "2ec82cec-85f3-4140-8b9c-f326f2d124a6",
   "metadata": {},
   "outputs": [
    {
     "data": {
      "text/html": [
       "<div>\n",
       "<style scoped>\n",
       "    .dataframe tbody tr th:only-of-type {\n",
       "        vertical-align: middle;\n",
       "    }\n",
       "\n",
       "    .dataframe tbody tr th {\n",
       "        vertical-align: top;\n",
       "    }\n",
       "\n",
       "    .dataframe thead th {\n",
       "        text-align: right;\n",
       "    }\n",
       "</style>\n",
       "<table border=\"1\" class=\"dataframe\">\n",
       "  <thead>\n",
       "    <tr style=\"text-align: right;\">\n",
       "      <th></th>\n",
       "      <th>player_id</th>\n",
       "      <th>name</th>\n",
       "      <th>year</th>\n",
       "      <th>AB</th>\n",
       "      <th>woba</th>\n",
       "      <th>wrc</th>\n",
       "      <th>wraa</th>\n",
       "      <th>class_year</th>\n",
       "    </tr>\n",
       "  </thead>\n",
       "  <tbody>\n",
       "    <tr>\n",
       "      <th>0</th>\n",
       "      <td>2347188.0</td>\n",
       "      <td>Hollerbach, Joe</td>\n",
       "      <td>2020</td>\n",
       "      <td>29.0</td>\n",
       "      <td>0.261942</td>\n",
       "      <td>2.053749</td>\n",
       "      <td>-2.533251</td>\n",
       "      <td>Fr</td>\n",
       "    </tr>\n",
       "    <tr>\n",
       "      <th>1</th>\n",
       "      <td>1884385.0</td>\n",
       "      <td>Carnegie, Alex</td>\n",
       "      <td>2020</td>\n",
       "      <td>24.0</td>\n",
       "      <td>0.305891</td>\n",
       "      <td>3.173484</td>\n",
       "      <td>-1.135516</td>\n",
       "      <td>Sr</td>\n",
       "    </tr>\n",
       "    <tr>\n",
       "      <th>2</th>\n",
       "      <td>1997347.0</td>\n",
       "      <td>Matton, Kalani</td>\n",
       "      <td>2020</td>\n",
       "      <td>29.0</td>\n",
       "      <td>0.301949</td>\n",
       "      <td>3.061895</td>\n",
       "      <td>-1.247105</td>\n",
       "      <td>Jr</td>\n",
       "    </tr>\n",
       "    <tr>\n",
       "      <th>3</th>\n",
       "      <td>1997328.0</td>\n",
       "      <td>Garza, Ramon</td>\n",
       "      <td>2020</td>\n",
       "      <td>30.0</td>\n",
       "      <td>0.306521</td>\n",
       "      <td>3.706064</td>\n",
       "      <td>-1.297936</td>\n",
       "      <td>Jr</td>\n",
       "    </tr>\n",
       "    <tr>\n",
       "      <th>4</th>\n",
       "      <td>2347184.0</td>\n",
       "      <td>Russell, Shane</td>\n",
       "      <td>2020</td>\n",
       "      <td>35.0</td>\n",
       "      <td>0.183941</td>\n",
       "      <td>-0.323973</td>\n",
       "      <td>-5.327973</td>\n",
       "      <td>Fr</td>\n",
       "    </tr>\n",
       "    <tr>\n",
       "      <th>...</th>\n",
       "      <td>...</td>\n",
       "      <td>...</td>\n",
       "      <td>...</td>\n",
       "      <td>...</td>\n",
       "      <td>...</td>\n",
       "      <td>...</td>\n",
       "      <td>...</td>\n",
       "      <td>...</td>\n",
       "    </tr>\n",
       "    <tr>\n",
       "      <th>81</th>\n",
       "      <td>1439148.0</td>\n",
       "      <td>Lowell, Eliot</td>\n",
       "      <td>2015</td>\n",
       "      <td>34.0</td>\n",
       "      <td>0.241800</td>\n",
       "      <td>1.639443</td>\n",
       "      <td>-3.977557</td>\n",
       "      <td>Jr</td>\n",
       "    </tr>\n",
       "    <tr>\n",
       "      <th>82</th>\n",
       "      <td>1546996.0</td>\n",
       "      <td>Smith, Jamie</td>\n",
       "      <td>2015</td>\n",
       "      <td>46.0</td>\n",
       "      <td>0.205158</td>\n",
       "      <td>0.341294</td>\n",
       "      <td>-6.508706</td>\n",
       "      <td>So</td>\n",
       "    </tr>\n",
       "    <tr>\n",
       "      <th>83</th>\n",
       "      <td>1652421.0</td>\n",
       "      <td>Le Dorze, Pierre</td>\n",
       "      <td>2015</td>\n",
       "      <td>19.0</td>\n",
       "      <td>0.531137</td>\n",
       "      <td>7.243910</td>\n",
       "      <td>3.955910</td>\n",
       "      <td>Fr</td>\n",
       "    </tr>\n",
       "    <tr>\n",
       "      <th>84</th>\n",
       "      <td>1652419.0</td>\n",
       "      <td>Baur, Trey</td>\n",
       "      <td>2015</td>\n",
       "      <td>24.0</td>\n",
       "      <td>0.259539</td>\n",
       "      <td>1.457032</td>\n",
       "      <td>-2.104968</td>\n",
       "      <td>Fr</td>\n",
       "    </tr>\n",
       "    <tr>\n",
       "      <th>85</th>\n",
       "      <td>1546999.0</td>\n",
       "      <td>Weston, Jacob</td>\n",
       "      <td>2015</td>\n",
       "      <td>19.0</td>\n",
       "      <td>0.239463</td>\n",
       "      <td>0.719561</td>\n",
       "      <td>-1.883439</td>\n",
       "      <td>So</td>\n",
       "    </tr>\n",
       "  </tbody>\n",
       "</table>\n",
       "<p>86 rows × 8 columns</p>\n",
       "</div>"
      ],
      "text/plain": [
       "    player_id              name  year    AB      woba       wrc      wraa  \\\n",
       "0   2347188.0   Hollerbach, Joe  2020  29.0  0.261942  2.053749 -2.533251   \n",
       "1   1884385.0    Carnegie, Alex  2020  24.0  0.305891  3.173484 -1.135516   \n",
       "2   1997347.0    Matton, Kalani  2020  29.0  0.301949  3.061895 -1.247105   \n",
       "3   1997328.0      Garza, Ramon  2020  30.0  0.306521  3.706064 -1.297936   \n",
       "4   2347184.0    Russell, Shane  2020  35.0  0.183941 -0.323973 -5.327973   \n",
       "..        ...               ...   ...   ...       ...       ...       ...   \n",
       "81  1439148.0     Lowell, Eliot  2015  34.0  0.241800  1.639443 -3.977557   \n",
       "82  1546996.0      Smith, Jamie  2015  46.0  0.205158  0.341294 -6.508706   \n",
       "83  1652421.0  Le Dorze, Pierre  2015  19.0  0.531137  7.243910  3.955910   \n",
       "84  1652419.0        Baur, Trey  2015  24.0  0.259539  1.457032 -2.104968   \n",
       "85  1546999.0     Weston, Jacob  2015  19.0  0.239463  0.719561 -1.883439   \n",
       "\n",
       "   class_year  \n",
       "0          Fr  \n",
       "1          Sr  \n",
       "2          Jr  \n",
       "3          Jr  \n",
       "4          Fr  \n",
       "..        ...  \n",
       "81         Jr  \n",
       "82         So  \n",
       "83         Fr  \n",
       "84         Fr  \n",
       "85         So  \n",
       "\n",
       "[86 rows x 8 columns]"
      ]
     },
     "execution_count": 78,
     "metadata": {},
     "output_type": "execute_result"
    }
   ],
   "source": [
    "def get_cornell_batting_stats(start):\n",
    "    \"\"\"\n",
    "    Returns: \n",
    "    \"\"\"\n",
    "    batting = pd.read_csv(\"data/battingsince\"+str(start)+\".csv\")\n",
    "    batting = batting.loc[batting['BA']>0, :]\n",
    "    team_list = {\"player_id\":[], \"name\":[], \"year\":[], \"AB\":[], \"woba\":[], \"wrc\":[], \"wraa\":[], \"class_year\":[]}\n",
    "    for i in range(len(batting)):\n",
    "        player_id = batting.iloc[i, 0]\n",
    "        player = batting.iloc[i,6]\n",
    "        year = batting.iloc[i, 1]\n",
    "        at_bats = batting.iloc[i,15]\n",
    "        class_year = batting.iloc[i,7]\n",
    "        woba = get_woba(player_id, year)\n",
    "        wrc  = get_wrc(player_id, year)\n",
    "        wraa  = get_wraa(player_id, year)\n",
    "        team_list[\"player_id\"].append(player_id)\n",
    "        team_list[\"AB\"].append(at_bats)\n",
    "        team_list[\"class_year\"].append(class_year)\n",
    "        team_list[\"name\"].append(player)\n",
    "        team_list[\"year\"].append(year)\n",
    "        team_list[\"woba\"].append(woba)\n",
    "        team_list[\"wrc\"].append(wrc)\n",
    "        team_list[\"wraa\"].append(wraa)\n",
    "    res = pd.DataFrame(team_list)\n",
    "    return res\n",
    "\n",
    "get_cornell_batting_stats(2015)"
   ]
  },
  {
   "cell_type": "code",
   "execution_count": 79,
   "id": "a8f0de7c-923f-4d99-9ae7-3a384fb58091",
   "metadata": {},
   "outputs": [
    {
     "data": {
      "text/html": [
       "<div>\n",
       "<style scoped>\n",
       "    .dataframe tbody tr th:only-of-type {\n",
       "        vertical-align: middle;\n",
       "    }\n",
       "\n",
       "    .dataframe tbody tr th {\n",
       "        vertical-align: top;\n",
       "    }\n",
       "\n",
       "    .dataframe thead th {\n",
       "        text-align: right;\n",
       "    }\n",
       "</style>\n",
       "<table border=\"1\" class=\"dataframe\">\n",
       "  <thead>\n",
       "    <tr style=\"text-align: right;\">\n",
       "      <th></th>\n",
       "      <th>player_id</th>\n",
       "      <th>name</th>\n",
       "      <th>year</th>\n",
       "      <th>innings_pitched</th>\n",
       "      <th>runs</th>\n",
       "      <th>era</th>\n",
       "      <th>fip</th>\n",
       "      <th>runs_per_ip</th>\n",
       "      <th>class_year</th>\n",
       "    </tr>\n",
       "  </thead>\n",
       "  <tbody>\n",
       "    <tr>\n",
       "      <th>0</th>\n",
       "      <td>2111707.0</td>\n",
       "      <td>Lillios, Nikolas</td>\n",
       "      <td>2020</td>\n",
       "      <td>5.1</td>\n",
       "      <td>1.0</td>\n",
       "      <td>1.69</td>\n",
       "      <td>2.497235</td>\n",
       "      <td>0.196078</td>\n",
       "      <td>So</td>\n",
       "    </tr>\n",
       "    <tr>\n",
       "      <th>1</th>\n",
       "      <td>2111755.0</td>\n",
       "      <td>Zacharias, Jon</td>\n",
       "      <td>2020</td>\n",
       "      <td>6.2</td>\n",
       "      <td>9.0</td>\n",
       "      <td>6.75</td>\n",
       "      <td>6.909000</td>\n",
       "      <td>1.451613</td>\n",
       "      <td>So</td>\n",
       "    </tr>\n",
       "    <tr>\n",
       "      <th>2</th>\n",
       "      <td>1997345.0</td>\n",
       "      <td>Davis, Trevor Daniel</td>\n",
       "      <td>2020</td>\n",
       "      <td>4.2</td>\n",
       "      <td>2.0</td>\n",
       "      <td>1.93</td>\n",
       "      <td>6.909000</td>\n",
       "      <td>0.476190</td>\n",
       "      <td>Jr</td>\n",
       "    </tr>\n",
       "    <tr>\n",
       "      <th>3</th>\n",
       "      <td>1997324.0</td>\n",
       "      <td>Urbon, Seth</td>\n",
       "      <td>2020</td>\n",
       "      <td>7.0</td>\n",
       "      <td>6.0</td>\n",
       "      <td>6.43</td>\n",
       "      <td>7.766143</td>\n",
       "      <td>0.857143</td>\n",
       "      <td>Sr</td>\n",
       "    </tr>\n",
       "    <tr>\n",
       "      <th>4</th>\n",
       "      <td>1884389.0</td>\n",
       "      <td>Wyatt, Colby</td>\n",
       "      <td>2020</td>\n",
       "      <td>14.1</td>\n",
       "      <td>17.0</td>\n",
       "      <td>5.65</td>\n",
       "      <td>6.377085</td>\n",
       "      <td>1.205674</td>\n",
       "      <td>Sr</td>\n",
       "    </tr>\n",
       "    <tr>\n",
       "      <th>...</th>\n",
       "      <td>...</td>\n",
       "      <td>...</td>\n",
       "      <td>...</td>\n",
       "      <td>...</td>\n",
       "      <td>...</td>\n",
       "      <td>...</td>\n",
       "      <td>...</td>\n",
       "      <td>...</td>\n",
       "      <td>...</td>\n",
       "    </tr>\n",
       "    <tr>\n",
       "      <th>79</th>\n",
       "      <td>1547001.0</td>\n",
       "      <td>Brewer, Ray</td>\n",
       "      <td>2015</td>\n",
       "      <td>12.1</td>\n",
       "      <td>8.0</td>\n",
       "      <td>2.19</td>\n",
       "      <td>4.542917</td>\n",
       "      <td>0.661157</td>\n",
       "      <td>So</td>\n",
       "    </tr>\n",
       "    <tr>\n",
       "      <th>80</th>\n",
       "      <td>1652392.0</td>\n",
       "      <td>McCulley, Zach</td>\n",
       "      <td>2015</td>\n",
       "      <td>12.1</td>\n",
       "      <td>10.0</td>\n",
       "      <td>7.30</td>\n",
       "      <td>5.121430</td>\n",
       "      <td>0.826446</td>\n",
       "      <td>Sr</td>\n",
       "    </tr>\n",
       "    <tr>\n",
       "      <th>81</th>\n",
       "      <td>1546997.0</td>\n",
       "      <td>Veenema, Ryne</td>\n",
       "      <td>2015</td>\n",
       "      <td>5.0</td>\n",
       "      <td>10.0</td>\n",
       "      <td>18.00</td>\n",
       "      <td>9.733000</td>\n",
       "      <td>2.000000</td>\n",
       "      <td>So</td>\n",
       "    </tr>\n",
       "    <tr>\n",
       "      <th>82</th>\n",
       "      <td>1439149.0</td>\n",
       "      <td>Horton, Matt</td>\n",
       "      <td>2015</td>\n",
       "      <td>1.0</td>\n",
       "      <td>5.0</td>\n",
       "      <td>27.00</td>\n",
       "      <td>10.733000</td>\n",
       "      <td>5.000000</td>\n",
       "      <td>Jr</td>\n",
       "    </tr>\n",
       "    <tr>\n",
       "      <th>83</th>\n",
       "      <td>1546994.0</td>\n",
       "      <td>Soltis, Scott</td>\n",
       "      <td>2015</td>\n",
       "      <td>0.2</td>\n",
       "      <td>4.0</td>\n",
       "      <td>54.00</td>\n",
       "      <td>46.733000</td>\n",
       "      <td>20.000000</td>\n",
       "      <td>So</td>\n",
       "    </tr>\n",
       "  </tbody>\n",
       "</table>\n",
       "<p>84 rows × 9 columns</p>\n",
       "</div>"
      ],
      "text/plain": [
       "    player_id                  name  year  innings_pitched  runs    era  \\\n",
       "0   2111707.0      Lillios, Nikolas  2020              5.1   1.0   1.69   \n",
       "1   2111755.0        Zacharias, Jon  2020              6.2   9.0   6.75   \n",
       "2   1997345.0  Davis, Trevor Daniel  2020              4.2   2.0   1.93   \n",
       "3   1997324.0           Urbon, Seth  2020              7.0   6.0   6.43   \n",
       "4   1884389.0          Wyatt, Colby  2020             14.1  17.0   5.65   \n",
       "..        ...                   ...   ...              ...   ...    ...   \n",
       "79  1547001.0           Brewer, Ray  2015             12.1   8.0   2.19   \n",
       "80  1652392.0        McCulley, Zach  2015             12.1  10.0   7.30   \n",
       "81  1546997.0         Veenema, Ryne  2015              5.0  10.0  18.00   \n",
       "82  1439149.0          Horton, Matt  2015              1.0   5.0  27.00   \n",
       "83  1546994.0         Soltis, Scott  2015              0.2   4.0  54.00   \n",
       "\n",
       "          fip  runs_per_ip class_year  \n",
       "0    2.497235     0.196078         So  \n",
       "1    6.909000     1.451613         So  \n",
       "2    6.909000     0.476190         Jr  \n",
       "3    7.766143     0.857143         Sr  \n",
       "4    6.377085     1.205674         Sr  \n",
       "..        ...          ...        ...  \n",
       "79   4.542917     0.661157         So  \n",
       "80   5.121430     0.826446         Sr  \n",
       "81   9.733000     2.000000         So  \n",
       "82  10.733000     5.000000         Jr  \n",
       "83  46.733000    20.000000         So  \n",
       "\n",
       "[84 rows x 9 columns]"
      ]
     },
     "execution_count": 79,
     "metadata": {},
     "output_type": "execute_result"
    }
   ],
   "source": [
    "def get_cornell_pitching_stats(start):\n",
    "    \"\"\"\n",
    "    Returns: Dataframe of advanced pitching statistics\n",
    "    \"\"\"\n",
    "    pitching = pd.read_csv(\"data/pitchingsince\"+str(start)+\".csv\")\n",
    "    pitching = pitching.loc[pitching['App']>0, :]\n",
    "    team_list = {\"player_id\":[], \"name\":[], \"year\":[], \"innings_pitched\":[], \"runs\":[], \"era\":[], \"fip\":[], \"runs_per_ip\":[],\"class_year\":[]}\n",
    "    for i in range(len(pitching)):\n",
    "        player_id = pitching.iloc[i, 0]\n",
    "        player = pitching.iloc[i,6]\n",
    "        year = pitching.iloc[i, 1]\n",
    "        class_year = pitching.iloc[i,7]\n",
    "        innings_pitched = pitching.iloc[i, 13]\n",
    "        runs_allowed = pitching.iloc[i, 15]\n",
    "        era = get_era(player_id, year)\n",
    "        fip = get_fip(player_id, year)\n",
    "        runs_per_ip = get_runs_per_ip(player_id, year)\n",
    "        team_list[\"player_id\"].append(player_id)\n",
    "        team_list[\"innings_pitched\"].append(innings_pitched)\n",
    "        team_list[\"runs\"].append(runs_allowed)\n",
    "        team_list[\"class_year\"].append(class_year)\n",
    "        team_list[\"name\"].append(player)\n",
    "        team_list[\"year\"].append(year)\n",
    "        team_list[\"era\"].append(era)\n",
    "        team_list[\"fip\"].append(fip)\n",
    "        team_list[\"runs_per_ip\"].append(runs_per_ip)\n",
    "    res = pd.DataFrame(team_list)\n",
    "    return res\n",
    "\n",
    "get_cornell_pitching_stats(2015)"
   ]
  },
  {
   "cell_type": "code",
   "execution_count": 80,
   "id": "99fb417a-360b-42ce-bc61-a9f45907a9ed",
   "metadata": {},
   "outputs": [],
   "source": [
    "def generate_rd_chart(team_name, start, end):\n",
    "    \"\"\"\n",
    "    generates a cumulative run differential bar chart\n",
    "    \"\"\"\n",
    "    games = sc.get_games(team_name, start=start, end=end)\n",
    "    games[\"date\"] =  pd.to_datetime(games[\"date\"])\n",
    "    games = games.sort_values(by=\"date\")\n",
    "    games = games.reset_index(drop=\"True\")\n",
    "    games = sc.add_run_difference_column(team_name, games)\n",
    "    fig = px.bar(games,x=games.index, y=\"cumulative_rd\",\n",
    "        hover_data=[\"opponent\", \"date\"], color=\"cumulative_rd\", color_continuous_scale=px.colors.diverging.balance,\n",
    "        color_continuous_midpoint=0,labels={\"cumulative_rd\":\"Run Differential\"})\n",
    "    fig.update_layout( \n",
    "    title = \"Cumulative Run Differential<br>\"+str(start)+\" to \"+str(end),\n",
    "    title_font_size = 20,\n",
    "    title_xanchor = \"center\",\n",
    "    title_yanchor = \"top\",\n",
    "    title_x =  0.5,\n",
    "    yaxis_title=\"Cumulative Run Differential\",\n",
    "    xaxis_title=\"Games Played\",\n",
    "    margin=dict(l=40, r=20, t=125, b=20)\n",
    "    )\n",
    "    fig.update_yaxes(\n",
    "    ticklabelposition=\"inside top\",\n",
    "    )\n",
    "    fig.update_coloraxes(showscale=False)\n",
    "    fig.show() "
   ]
  },
  {
   "cell_type": "code",
   "execution_count": 90,
   "id": "18505a1e-63bd-4b6f-9fc6-96605ad71ee5",
   "metadata": {},
   "outputs": [],
   "source": [
    "def generate_ivy_rd_chart(team_name, start, end):\n",
    "    \"\"\"\n",
    "    generates a cumulative run differential bar chart\n",
    "    \"\"\"\n",
    "    games = get_intra_ivy(team_name, start=start, end=end)\n",
    "    games[\"date\"] =  pd.to_datetime(games[\"date\"])\n",
    "    games = games.sort_values(by=\"date\")\n",
    "    games = games.reset_index(drop=\"True\")\n",
    "    games = add_run_difference_column(team_name, games)\n",
    "    fig = px.bar(games,x=games.index, y=\"cumulative_rd\",\n",
    "        hover_data=[\"opponent\", \"date\"], color=\"cumulative_rd\", color_continuous_scale=px.colors.diverging.balance,\n",
    "        color_continuous_midpoint=0,labels={\"cumulative_rd\":\"Run Differential\"})\n",
    "    img = Image.open(\"assets/logos/\"+team_name+\".png\")\n",
    "    fig.update_layout( \n",
    "    title = \"Cumulative Run Differential<br>\"+str(start)+\" to \"+str(end),\n",
    "    title_font_size = 20,\n",
    "    title_xanchor = \"center\",\n",
    "    title_yanchor = \"top\",\n",
    "    title_x =  0.5,\n",
    "    yaxis_title=\"Cumulative Run Differential\",\n",
    "    xaxis_title=\"Games Played\",\n",
    "    margin=dict(l=40, r=20, t=125, b=20)\n",
    "    )\n",
    "    \n",
    "    fig.update_yaxes(\n",
    "    ticklabelposition=\"inside top\",\n",
    "    )\n",
    "    fig.add_layout_image(\n",
    "    dict(\n",
    "        source=img,\n",
    "        xref=\"paper\", yref=\"paper\",\n",
    "        xanchor=\"left\", yanchor=\"top\",\n",
    "        x=-0.02, y=1.325,\n",
    "        sizex=0.3, sizey=0.3\n",
    "        )\n",
    "    )\n",
    "    fig.update_coloraxes(showscale=False)\n",
    "    fig.show() "
   ]
  },
  {
   "cell_type": "code",
   "execution_count": 96,
   "id": "sustainable-bangkok",
   "metadata": {},
   "outputs": [
    {
     "data": {
      "application/vnd.plotly.v1+json": {
       "config": {
        "plotlyServerURL": "https://plot.ly"
       },
       "data": [
        {
         "alignmentgroup": "True",
         "customdata": [
          [
           "Columbia",
           "2015-03-29T00:00:00"
          ],
          [
           "Columbia",
           "2015-03-29T00:00:00"
          ],
          [
           "Pennsylvania",
           "2015-03-30T00:00:00"
          ],
          [
           "Pennsylvania",
           "2015-03-30T00:00:00"
          ],
          [
           "Princeton",
           "2015-04-04T00:00:00"
          ],
          [
           "Princeton",
           "2015-04-04T00:00:00"
          ],
          [
           "Cornell",
           "2015-04-05T00:00:00"
          ],
          [
           "Cornell",
           "2015-04-05T00:00:00"
          ],
          [
           "Brown",
           "2015-04-11T00:00:00"
          ],
          [
           "Brown",
           "2015-04-11T00:00:00"
          ],
          [
           "Brown",
           "2015-04-12T00:00:00"
          ],
          [
           "Brown",
           "2015-04-12T00:00:00"
          ],
          [
           "Yale",
           "2015-04-18T00:00:00"
          ],
          [
           "Yale",
           "2015-04-18T00:00:00"
          ],
          [
           "Yale",
           "2015-04-19T00:00:00"
          ],
          [
           "Yale",
           "2015-04-19T00:00:00"
          ],
          [
           "Dartmouth",
           "2015-04-25T00:00:00"
          ],
          [
           "Dartmouth",
           "2015-04-25T00:00:00"
          ],
          [
           "Dartmouth",
           "2015-04-26T00:00:00"
          ],
          [
           "Dartmouth",
           "2015-04-26T00:00:00"
          ],
          [
           "Cornell",
           "2016-04-02T00:00:00"
          ],
          [
           "Cornell",
           "2016-04-02T00:00:00"
          ],
          [
           "Princeton",
           "2016-04-03T00:00:00"
          ],
          [
           "Princeton",
           "2016-04-03T00:00:00"
          ],
          [
           "Columbia",
           "2016-04-09T00:00:00"
          ],
          [
           "Columbia",
           "2016-04-09T00:00:00"
          ],
          [
           "Pennsylvania",
           "2016-04-10T00:00:00"
          ],
          [
           "Pennsylvania",
           "2016-04-10T00:00:00"
          ],
          [
           "Yale",
           "2016-04-16T00:00:00"
          ],
          [
           "Yale",
           "2016-04-16T00:00:00"
          ],
          [
           "Yale",
           "2016-04-17T00:00:00"
          ],
          [
           "Yale",
           "2016-04-17T00:00:00"
          ],
          [
           "Brown",
           "2016-04-23T00:00:00"
          ],
          [
           "Brown",
           "2016-04-23T00:00:00"
          ],
          [
           "Brown",
           "2016-04-24T00:00:00"
          ],
          [
           "Brown",
           "2016-04-24T00:00:00"
          ],
          [
           "Dartmouth",
           "2016-04-30T00:00:00"
          ],
          [
           "Dartmouth",
           "2016-04-30T00:00:00"
          ],
          [
           "Dartmouth",
           "2016-05-03T00:00:00"
          ],
          [
           "Dartmouth",
           "2016-05-03T00:00:00"
          ],
          [
           "Columbia",
           "2017-04-01T00:00:00"
          ],
          [
           "Columbia",
           "2017-04-01T00:00:00"
          ],
          [
           "Pennsylvania",
           "2017-04-02T00:00:00"
          ],
          [
           "Pennsylvania",
           "2017-04-02T00:00:00"
          ],
          [
           "Cornell",
           "2017-04-08T00:00:00"
          ],
          [
           "Cornell",
           "2017-04-08T00:00:00"
          ],
          [
           "Princeton",
           "2017-04-09T00:00:00"
          ],
          [
           "Princeton",
           "2017-04-09T00:00:00"
          ],
          [
           "Yale",
           "2017-04-15T00:00:00"
          ],
          [
           "Yale",
           "2017-04-15T00:00:00"
          ],
          [
           "Yale",
           "2017-04-16T00:00:00"
          ],
          [
           "Yale",
           "2017-04-16T00:00:00"
          ],
          [
           "Brown",
           "2017-04-22T00:00:00"
          ],
          [
           "Brown",
           "2017-04-22T00:00:00"
          ],
          [
           "Brown",
           "2017-04-23T00:00:00"
          ],
          [
           "Brown",
           "2017-04-23T00:00:00"
          ],
          [
           "Dartmouth",
           "2017-04-29T00:00:00"
          ],
          [
           "Dartmouth",
           "2017-04-29T00:00:00"
          ],
          [
           "Dartmouth",
           "2017-04-30T00:00:00"
          ],
          [
           "Dartmouth",
           "2017-04-30T00:00:00"
          ],
          [
           "Columbia",
           "2018-03-31T00:00:00"
          ],
          [
           "Columbia",
           "2018-03-31T00:00:00"
          ],
          [
           "Columbia",
           "2018-04-01T00:00:00"
          ],
          [
           "Pennsylvania",
           "2018-04-07T00:00:00"
          ],
          [
           "Pennsylvania",
           "2018-04-07T00:00:00"
          ],
          [
           "Pennsylvania",
           "2018-04-08T00:00:00"
          ],
          [
           "Yale",
           "2018-04-13T00:00:00"
          ],
          [
           "Yale",
           "2018-04-14T00:00:00"
          ],
          [
           "Yale",
           "2018-04-14T00:00:00"
          ],
          [
           "Brown",
           "2018-04-21T00:00:00"
          ],
          [
           "Brown",
           "2018-04-21T00:00:00"
          ],
          [
           "Brown",
           "2018-04-22T00:00:00"
          ],
          [
           "Princeton",
           "2018-04-24T00:00:00"
          ],
          [
           "Princeton",
           "2018-04-24T00:00:00"
          ],
          [
           "Princeton",
           "2018-04-25T00:00:00"
          ],
          [
           "Cornell",
           "2018-04-28T00:00:00"
          ],
          [
           "Cornell",
           "2018-04-28T00:00:00"
          ],
          [
           "Cornell",
           "2018-04-29T00:00:00"
          ],
          [
           "Dartmouth",
           "2018-05-13T00:00:00"
          ],
          [
           "Dartmouth",
           "2018-05-13T00:00:00"
          ],
          [
           "Dartmouth",
           "2018-05-14T00:00:00"
          ],
          [
           "Pennsylvania",
           "2019-03-23T00:00:00"
          ],
          [
           "Pennsylvania",
           "2019-03-23T00:00:00"
          ],
          [
           "Pennsylvania",
           "2019-03-24T00:00:00"
          ],
          [
           "Princeton",
           "2019-03-29T00:00:00"
          ],
          [
           "Princeton",
           "2019-03-30T00:00:00"
          ],
          [
           "Princeton",
           "2019-03-30T00:00:00"
          ],
          [
           "Yale",
           "2019-04-06T00:00:00"
          ],
          [
           "Yale",
           "2019-04-06T00:00:00"
          ],
          [
           "Yale",
           "2019-04-07T00:00:00"
          ],
          [
           "Cornell",
           "2019-04-13T00:00:00"
          ],
          [
           "Cornell",
           "2019-04-13T00:00:00"
          ],
          [
           "Cornell",
           "2019-04-14T00:00:00"
          ],
          [
           "Dartmouth",
           "2019-04-21T00:00:00"
          ],
          [
           "Dartmouth",
           "2019-04-21T00:00:00"
          ],
          [
           "Dartmouth",
           "2019-04-22T00:00:00"
          ],
          [
           "Columbia",
           "2019-04-27T00:00:00"
          ],
          [
           "Columbia",
           "2019-04-27T00:00:00"
          ],
          [
           "Columbia",
           "2019-04-28T00:00:00"
          ],
          [
           "Brown",
           "2019-05-04T00:00:00"
          ],
          [
           "Brown",
           "2019-05-04T00:00:00"
          ],
          [
           "Brown",
           "2019-05-06T00:00:00"
          ],
          [
           "Columbia",
           "2019-05-18T00:00:00"
          ],
          [
           "Columbia",
           "2019-05-19T00:00:00"
          ]
         ],
         "hovertemplate": "index=%{x}<br>Run Differential=%{marker.color}<br>opponent=%{customdata[0]}<br>date=%{customdata[1]}<extra></extra>",
         "legendgroup": "",
         "marker": {
          "color": [
           -1,
           -3,
           -4,
           -5,
           -2,
           5,
           4,
           16,
           13,
           27,
           26,
           27,
           32,
           39,
           38,
           36,
           35,
           28,
           23,
           21,
           17,
           15,
           6,
           3,
           2,
           10,
           9,
           10,
           9,
           12,
           15,
           23,
           24,
           25,
           19,
           25,
           23,
           22,
           20,
           22,
           18,
           16,
           12,
           9,
           11,
           7,
           2,
           0,
           -2,
           -10,
           -14,
           -9,
           -13,
           -12,
           -11,
           -10,
           -9,
           -10,
           -9,
           -12,
           -18,
           -13,
           -16,
           -13,
           -4,
           -5,
           -1,
           -5,
           -8,
           -6,
           -5,
           -9,
           -2,
           2,
           7,
           5,
           2,
           6,
           14,
           13,
           14,
           17,
           13,
           15,
           27,
           20,
           22,
           25,
           27,
           26,
           32,
           34,
           32,
           33,
           41,
           33,
           35,
           33,
           34,
           32,
           35,
           40,
           42,
           44
          ],
          "coloraxis": "coloraxis"
         },
         "name": "",
         "offsetgroup": "",
         "orientation": "v",
         "showlegend": false,
         "textposition": "auto",
         "type": "bar",
         "x": [
          0,
          1,
          2,
          3,
          4,
          5,
          6,
          7,
          8,
          9,
          10,
          11,
          12,
          13,
          14,
          15,
          16,
          17,
          18,
          19,
          20,
          21,
          22,
          23,
          24,
          25,
          26,
          27,
          28,
          29,
          30,
          31,
          32,
          33,
          34,
          35,
          36,
          37,
          38,
          39,
          40,
          41,
          42,
          43,
          44,
          45,
          46,
          47,
          48,
          49,
          50,
          51,
          52,
          53,
          54,
          55,
          56,
          57,
          58,
          59,
          60,
          61,
          62,
          63,
          64,
          65,
          66,
          67,
          68,
          69,
          70,
          71,
          72,
          73,
          74,
          75,
          76,
          77,
          78,
          79,
          80,
          81,
          82,
          83,
          84,
          85,
          86,
          87,
          88,
          89,
          90,
          91,
          92,
          93,
          94,
          95,
          96,
          97,
          98,
          99,
          100,
          101,
          102,
          103
         ],
         "xaxis": "x",
         "y": [
          -1,
          -3,
          -4,
          -5,
          -2,
          5,
          4,
          16,
          13,
          27,
          26,
          27,
          32,
          39,
          38,
          36,
          35,
          28,
          23,
          21,
          17,
          15,
          6,
          3,
          2,
          10,
          9,
          10,
          9,
          12,
          15,
          23,
          24,
          25,
          19,
          25,
          23,
          22,
          20,
          22,
          18,
          16,
          12,
          9,
          11,
          7,
          2,
          0,
          -2,
          -10,
          -14,
          -9,
          -13,
          -12,
          -11,
          -10,
          -9,
          -10,
          -9,
          -12,
          -18,
          -13,
          -16,
          -13,
          -4,
          -5,
          -1,
          -5,
          -8,
          -6,
          -5,
          -9,
          -2,
          2,
          7,
          5,
          2,
          6,
          14,
          13,
          14,
          17,
          13,
          15,
          27,
          20,
          22,
          25,
          27,
          26,
          32,
          34,
          32,
          33,
          41,
          33,
          35,
          33,
          34,
          32,
          35,
          40,
          42,
          44
         ],
         "yaxis": "y"
        }
       ],
       "layout": {
        "barmode": "relative",
        "coloraxis": {
         "cmid": 0,
         "colorbar": {
          "title": {
           "text": "Run Differential"
          }
         },
         "colorscale": [
          [
           0,
           "rgb(23, 28, 66)"
          ],
          [
           0.09090909090909091,
           "rgb(41, 58, 143)"
          ],
          [
           0.18181818181818182,
           "rgb(11, 102, 189)"
          ],
          [
           0.2727272727272727,
           "rgb(69, 144, 185)"
          ],
          [
           0.36363636363636365,
           "rgb(142, 181, 194)"
          ],
          [
           0.45454545454545453,
           "rgb(210, 216, 219)"
          ],
          [
           0.5454545454545454,
           "rgb(230, 210, 204)"
          ],
          [
           0.6363636363636364,
           "rgb(213, 157, 137)"
          ],
          [
           0.7272727272727273,
           "rgb(196, 101, 72)"
          ],
          [
           0.8181818181818182,
           "rgb(172, 43, 36)"
          ],
          [
           0.9090909090909091,
           "rgb(120, 14, 40)"
          ],
          [
           1,
           "rgb(60, 9, 17)"
          ]
         ],
         "showscale": false
        },
        "images": [
         {
          "sizex": 0.3,
          "sizey": 0.3,
          "source": "data:image/png;base64,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",
          "x": -0.02,
          "xanchor": "left",
          "xref": "paper",
          "y": 1.325,
          "yanchor": "top",
          "yref": "paper"
         }
        ],
        "legend": {
         "tracegroupgap": 0
        },
        "margin": {
         "b": 20,
         "l": 40,
         "r": 20,
         "t": 125
        },
        "template": {
         "data": {
          "bar": [
           {
            "error_x": {
             "color": "#2a3f5f"
            },
            "error_y": {
             "color": "#2a3f5f"
            },
            "marker": {
             "line": {
              "color": "#E5ECF6",
              "width": 0.5
             }
            },
            "type": "bar"
           }
          ],
          "barpolar": [
           {
            "marker": {
             "line": {
              "color": "#E5ECF6",
              "width": 0.5
             }
            },
            "type": "barpolar"
           }
          ],
          "carpet": [
           {
            "aaxis": {
             "endlinecolor": "#2a3f5f",
             "gridcolor": "white",
             "linecolor": "white",
             "minorgridcolor": "white",
             "startlinecolor": "#2a3f5f"
            },
            "baxis": {
             "endlinecolor": "#2a3f5f",
             "gridcolor": "white",
             "linecolor": "white",
             "minorgridcolor": "white",
             "startlinecolor": "#2a3f5f"
            },
            "type": "carpet"
           }
          ],
          "choropleth": [
           {
            "colorbar": {
             "outlinewidth": 0,
             "ticks": ""
            },
            "type": "choropleth"
           }
          ],
          "contour": [
           {
            "colorbar": {
             "outlinewidth": 0,
             "ticks": ""
            },
            "colorscale": [
             [
              0,
              "#0d0887"
             ],
             [
              0.1111111111111111,
              "#46039f"
             ],
             [
              0.2222222222222222,
              "#7201a8"
             ],
             [
              0.3333333333333333,
              "#9c179e"
             ],
             [
              0.4444444444444444,
              "#bd3786"
             ],
             [
              0.5555555555555556,
              "#d8576b"
             ],
             [
              0.6666666666666666,
              "#ed7953"
             ],
             [
              0.7777777777777778,
              "#fb9f3a"
             ],
             [
              0.8888888888888888,
              "#fdca26"
             ],
             [
              1,
              "#f0f921"
             ]
            ],
            "type": "contour"
           }
          ],
          "contourcarpet": [
           {
            "colorbar": {
             "outlinewidth": 0,
             "ticks": ""
            },
            "type": "contourcarpet"
           }
          ],
          "heatmap": [
           {
            "colorbar": {
             "outlinewidth": 0,
             "ticks": ""
            },
            "colorscale": [
             [
              0,
              "#0d0887"
             ],
             [
              0.1111111111111111,
              "#46039f"
             ],
             [
              0.2222222222222222,
              "#7201a8"
             ],
             [
              0.3333333333333333,
              "#9c179e"
             ],
             [
              0.4444444444444444,
              "#bd3786"
             ],
             [
              0.5555555555555556,
              "#d8576b"
             ],
             [
              0.6666666666666666,
              "#ed7953"
             ],
             [
              0.7777777777777778,
              "#fb9f3a"
             ],
             [
              0.8888888888888888,
              "#fdca26"
             ],
             [
              1,
              "#f0f921"
             ]
            ],
            "type": "heatmap"
           }
          ],
          "heatmapgl": [
           {
            "colorbar": {
             "outlinewidth": 0,
             "ticks": ""
            },
            "colorscale": [
             [
              0,
              "#0d0887"
             ],
             [
              0.1111111111111111,
              "#46039f"
             ],
             [
              0.2222222222222222,
              "#7201a8"
             ],
             [
              0.3333333333333333,
              "#9c179e"
             ],
             [
              0.4444444444444444,
              "#bd3786"
             ],
             [
              0.5555555555555556,
              "#d8576b"
             ],
             [
              0.6666666666666666,
              "#ed7953"
             ],
             [
              0.7777777777777778,
              "#fb9f3a"
             ],
             [
              0.8888888888888888,
              "#fdca26"
             ],
             [
              1,
              "#f0f921"
             ]
            ],
            "type": "heatmapgl"
           }
          ],
          "histogram": [
           {
            "marker": {
             "colorbar": {
              "outlinewidth": 0,
              "ticks": ""
             }
            },
            "type": "histogram"
           }
          ],
          "histogram2d": [
           {
            "colorbar": {
             "outlinewidth": 0,
             "ticks": ""
            },
            "colorscale": [
             [
              0,
              "#0d0887"
             ],
             [
              0.1111111111111111,
              "#46039f"
             ],
             [
              0.2222222222222222,
              "#7201a8"
             ],
             [
              0.3333333333333333,
              "#9c179e"
             ],
             [
              0.4444444444444444,
              "#bd3786"
             ],
             [
              0.5555555555555556,
              "#d8576b"
             ],
             [
              0.6666666666666666,
              "#ed7953"
             ],
             [
              0.7777777777777778,
              "#fb9f3a"
             ],
             [
              0.8888888888888888,
              "#fdca26"
             ],
             [
              1,
              "#f0f921"
             ]
            ],
            "type": "histogram2d"
           }
          ],
          "histogram2dcontour": [
           {
            "colorbar": {
             "outlinewidth": 0,
             "ticks": ""
            },
            "colorscale": [
             [
              0,
              "#0d0887"
             ],
             [
              0.1111111111111111,
              "#46039f"
             ],
             [
              0.2222222222222222,
              "#7201a8"
             ],
             [
              0.3333333333333333,
              "#9c179e"
             ],
             [
              0.4444444444444444,
              "#bd3786"
             ],
             [
              0.5555555555555556,
              "#d8576b"
             ],
             [
              0.6666666666666666,
              "#ed7953"
             ],
             [
              0.7777777777777778,
              "#fb9f3a"
             ],
             [
              0.8888888888888888,
              "#fdca26"
             ],
             [
              1,
              "#f0f921"
             ]
            ],
            "type": "histogram2dcontour"
           }
          ],
          "mesh3d": [
           {
            "colorbar": {
             "outlinewidth": 0,
             "ticks": ""
            },
            "type": "mesh3d"
           }
          ],
          "parcoords": [
           {
            "line": {
             "colorbar": {
              "outlinewidth": 0,
              "ticks": ""
             }
            },
            "type": "parcoords"
           }
          ],
          "pie": [
           {
            "automargin": true,
            "type": "pie"
           }
          ],
          "scatter": [
           {
            "marker": {
             "colorbar": {
              "outlinewidth": 0,
              "ticks": ""
             }
            },
            "type": "scatter"
           }
          ],
          "scatter3d": [
           {
            "line": {
             "colorbar": {
              "outlinewidth": 0,
              "ticks": ""
             }
            },
            "marker": {
             "colorbar": {
              "outlinewidth": 0,
              "ticks": ""
             }
            },
            "type": "scatter3d"
           }
          ],
          "scattercarpet": [
           {
            "marker": {
             "colorbar": {
              "outlinewidth": 0,
              "ticks": ""
             }
            },
            "type": "scattercarpet"
           }
          ],
          "scattergeo": [
           {
            "marker": {
             "colorbar": {
              "outlinewidth": 0,
              "ticks": ""
             }
            },
            "type": "scattergeo"
           }
          ],
          "scattergl": [
           {
            "marker": {
             "colorbar": {
              "outlinewidth": 0,
              "ticks": ""
             }
            },
            "type": "scattergl"
           }
          ],
          "scattermapbox": [
           {
            "marker": {
             "colorbar": {
              "outlinewidth": 0,
              "ticks": ""
             }
            },
            "type": "scattermapbox"
           }
          ],
          "scatterpolar": [
           {
            "marker": {
             "colorbar": {
              "outlinewidth": 0,
              "ticks": ""
             }
            },
            "type": "scatterpolar"
           }
          ],
          "scatterpolargl": [
           {
            "marker": {
             "colorbar": {
              "outlinewidth": 0,
              "ticks": ""
             }
            },
            "type": "scatterpolargl"
           }
          ],
          "scatterternary": [
           {
            "marker": {
             "colorbar": {
              "outlinewidth": 0,
              "ticks": ""
             }
            },
            "type": "scatterternary"
           }
          ],
          "surface": [
           {
            "colorbar": {
             "outlinewidth": 0,
             "ticks": ""
            },
            "colorscale": [
             [
              0,
              "#0d0887"
             ],
             [
              0.1111111111111111,
              "#46039f"
             ],
             [
              0.2222222222222222,
              "#7201a8"
             ],
             [
              0.3333333333333333,
              "#9c179e"
             ],
             [
              0.4444444444444444,
              "#bd3786"
             ],
             [
              0.5555555555555556,
              "#d8576b"
             ],
             [
              0.6666666666666666,
              "#ed7953"
             ],
             [
              0.7777777777777778,
              "#fb9f3a"
             ],
             [
              0.8888888888888888,
              "#fdca26"
             ],
             [
              1,
              "#f0f921"
             ]
            ],
            "type": "surface"
           }
          ],
          "table": [
           {
            "cells": {
             "fill": {
              "color": "#EBF0F8"
             },
             "line": {
              "color": "white"
             }
            },
            "header": {
             "fill": {
              "color": "#C8D4E3"
             },
             "line": {
              "color": "white"
             }
            },
            "type": "table"
           }
          ]
         },
         "layout": {
          "annotationdefaults": {
           "arrowcolor": "#2a3f5f",
           "arrowhead": 0,
           "arrowwidth": 1
          },
          "autotypenumbers": "strict",
          "coloraxis": {
           "colorbar": {
            "outlinewidth": 0,
            "ticks": ""
           }
          },
          "colorscale": {
           "diverging": [
            [
             0,
             "#8e0152"
            ],
            [
             0.1,
             "#c51b7d"
            ],
            [
             0.2,
             "#de77ae"
            ],
            [
             0.3,
             "#f1b6da"
            ],
            [
             0.4,
             "#fde0ef"
            ],
            [
             0.5,
             "#f7f7f7"
            ],
            [
             0.6,
             "#e6f5d0"
            ],
            [
             0.7,
             "#b8e186"
            ],
            [
             0.8,
             "#7fbc41"
            ],
            [
             0.9,
             "#4d9221"
            ],
            [
             1,
             "#276419"
            ]
           ],
           "sequential": [
            [
             0,
             "#0d0887"
            ],
            [
             0.1111111111111111,
             "#46039f"
            ],
            [
             0.2222222222222222,
             "#7201a8"
            ],
            [
             0.3333333333333333,
             "#9c179e"
            ],
            [
             0.4444444444444444,
             "#bd3786"
            ],
            [
             0.5555555555555556,
             "#d8576b"
            ],
            [
             0.6666666666666666,
             "#ed7953"
            ],
            [
             0.7777777777777778,
             "#fb9f3a"
            ],
            [
             0.8888888888888888,
             "#fdca26"
            ],
            [
             1,
             "#f0f921"
            ]
           ],
           "sequentialminus": [
            [
             0,
             "#0d0887"
            ],
            [
             0.1111111111111111,
             "#46039f"
            ],
            [
             0.2222222222222222,
             "#7201a8"
            ],
            [
             0.3333333333333333,
             "#9c179e"
            ],
            [
             0.4444444444444444,
             "#bd3786"
            ],
            [
             0.5555555555555556,
             "#d8576b"
            ],
            [
             0.6666666666666666,
             "#ed7953"
            ],
            [
             0.7777777777777778,
             "#fb9f3a"
            ],
            [
             0.8888888888888888,
             "#fdca26"
            ],
            [
             1,
             "#f0f921"
            ]
           ]
          },
          "colorway": [
           "#636efa",
           "#EF553B",
           "#00cc96",
           "#ab63fa",
           "#FFA15A",
           "#19d3f3",
           "#FF6692",
           "#B6E880",
           "#FF97FF",
           "#FECB52"
          ],
          "font": {
           "color": "#2a3f5f"
          },
          "geo": {
           "bgcolor": "white",
           "lakecolor": "white",
           "landcolor": "#E5ECF6",
           "showlakes": true,
           "showland": true,
           "subunitcolor": "white"
          },
          "hoverlabel": {
           "align": "left"
          },
          "hovermode": "closest",
          "mapbox": {
           "style": "light"
          },
          "paper_bgcolor": "white",
          "plot_bgcolor": "#E5ECF6",
          "polar": {
           "angularaxis": {
            "gridcolor": "white",
            "linecolor": "white",
            "ticks": ""
           },
           "bgcolor": "#E5ECF6",
           "radialaxis": {
            "gridcolor": "white",
            "linecolor": "white",
            "ticks": ""
           }
          },
          "scene": {
           "xaxis": {
            "backgroundcolor": "#E5ECF6",
            "gridcolor": "white",
            "gridwidth": 2,
            "linecolor": "white",
            "showbackground": true,
            "ticks": "",
            "zerolinecolor": "white"
           },
           "yaxis": {
            "backgroundcolor": "#E5ECF6",
            "gridcolor": "white",
            "gridwidth": 2,
            "linecolor": "white",
            "showbackground": true,
            "ticks": "",
            "zerolinecolor": "white"
           },
           "zaxis": {
            "backgroundcolor": "#E5ECF6",
            "gridcolor": "white",
            "gridwidth": 2,
            "linecolor": "white",
            "showbackground": true,
            "ticks": "",
            "zerolinecolor": "white"
           }
          },
          "shapedefaults": {
           "line": {
            "color": "#2a3f5f"
           }
          },
          "ternary": {
           "aaxis": {
            "gridcolor": "white",
            "linecolor": "white",
            "ticks": ""
           },
           "baxis": {
            "gridcolor": "white",
            "linecolor": "white",
            "ticks": ""
           },
           "bgcolor": "#E5ECF6",
           "caxis": {
            "gridcolor": "white",
            "linecolor": "white",
            "ticks": ""
           }
          },
          "title": {
           "x": 0.05
          },
          "xaxis": {
           "automargin": true,
           "gridcolor": "white",
           "linecolor": "white",
           "ticks": "",
           "title": {
            "standoff": 15
           },
           "zerolinecolor": "white",
           "zerolinewidth": 2
          },
          "yaxis": {
           "automargin": true,
           "gridcolor": "white",
           "linecolor": "white",
           "ticks": "",
           "title": {
            "standoff": 15
           },
           "zerolinecolor": "white",
           "zerolinewidth": 2
          }
         }
        },
        "title": {
         "font": {
          "size": 20
         },
         "text": "Cumulative Run Differential<br>2015 to 2020",
         "x": 0.5,
         "xanchor": "center",
         "yanchor": "top"
        },
        "xaxis": {
         "anchor": "y",
         "domain": [
          0,
          1
         ],
         "title": {
          "text": "Games Played"
         }
        },
        "yaxis": {
         "anchor": "x",
         "domain": [
          0,
          1
         ],
         "ticklabelposition": "inside top",
         "title": {
          "text": "Cumulative Run Differential"
         }
        }
       }
      },
      "text/html": [
       "<div>                            <div id=\"45903811-7bbf-4506-98c9-ff5f5f0ad66b\" class=\"plotly-graph-div\" style=\"height:525px; width:100%;\"></div>            <script type=\"text/javascript\">                require([\"plotly\"], function(Plotly) {                    window.PLOTLYENV=window.PLOTLYENV || {};                                    if (document.getElementById(\"45903811-7bbf-4506-98c9-ff5f5f0ad66b\")) {                    Plotly.newPlot(                        \"45903811-7bbf-4506-98c9-ff5f5f0ad66b\",                        [{\"alignmentgroup\": \"True\", \"customdata\": [[\"Columbia\", \"2015-03-29T00:00:00\"], [\"Columbia\", \"2015-03-29T00:00:00\"], [\"Pennsylvania\", \"2015-03-30T00:00:00\"], [\"Pennsylvania\", \"2015-03-30T00:00:00\"], [\"Princeton\", \"2015-04-04T00:00:00\"], [\"Princeton\", \"2015-04-04T00:00:00\"], [\"Cornell\", \"2015-04-05T00:00:00\"], [\"Cornell\", \"2015-04-05T00:00:00\"], [\"Brown\", \"2015-04-11T00:00:00\"], [\"Brown\", \"2015-04-11T00:00:00\"], [\"Brown\", \"2015-04-12T00:00:00\"], [\"Brown\", \"2015-04-12T00:00:00\"], [\"Yale\", \"2015-04-18T00:00:00\"], [\"Yale\", \"2015-04-18T00:00:00\"], [\"Yale\", \"2015-04-19T00:00:00\"], [\"Yale\", \"2015-04-19T00:00:00\"], [\"Dartmouth\", \"2015-04-25T00:00:00\"], [\"Dartmouth\", \"2015-04-25T00:00:00\"], [\"Dartmouth\", \"2015-04-26T00:00:00\"], [\"Dartmouth\", \"2015-04-26T00:00:00\"], [\"Cornell\", \"2016-04-02T00:00:00\"], [\"Cornell\", \"2016-04-02T00:00:00\"], [\"Princeton\", \"2016-04-03T00:00:00\"], [\"Princeton\", \"2016-04-03T00:00:00\"], [\"Columbia\", \"2016-04-09T00:00:00\"], [\"Columbia\", \"2016-04-09T00:00:00\"], [\"Pennsylvania\", \"2016-04-10T00:00:00\"], [\"Pennsylvania\", \"2016-04-10T00:00:00\"], [\"Yale\", \"2016-04-16T00:00:00\"], [\"Yale\", \"2016-04-16T00:00:00\"], [\"Yale\", \"2016-04-17T00:00:00\"], [\"Yale\", \"2016-04-17T00:00:00\"], [\"Brown\", \"2016-04-23T00:00:00\"], [\"Brown\", \"2016-04-23T00:00:00\"], [\"Brown\", \"2016-04-24T00:00:00\"], [\"Brown\", \"2016-04-24T00:00:00\"], [\"Dartmouth\", \"2016-04-30T00:00:00\"], [\"Dartmouth\", \"2016-04-30T00:00:00\"], [\"Dartmouth\", \"2016-05-03T00:00:00\"], [\"Dartmouth\", \"2016-05-03T00:00:00\"], [\"Columbia\", \"2017-04-01T00:00:00\"], [\"Columbia\", \"2017-04-01T00:00:00\"], [\"Pennsylvania\", \"2017-04-02T00:00:00\"], [\"Pennsylvania\", \"2017-04-02T00:00:00\"], [\"Cornell\", \"2017-04-08T00:00:00\"], [\"Cornell\", \"2017-04-08T00:00:00\"], [\"Princeton\", \"2017-04-09T00:00:00\"], [\"Princeton\", \"2017-04-09T00:00:00\"], [\"Yale\", \"2017-04-15T00:00:00\"], [\"Yale\", \"2017-04-15T00:00:00\"], [\"Yale\", \"2017-04-16T00:00:00\"], [\"Yale\", \"2017-04-16T00:00:00\"], [\"Brown\", \"2017-04-22T00:00:00\"], [\"Brown\", \"2017-04-22T00:00:00\"], [\"Brown\", \"2017-04-23T00:00:00\"], [\"Brown\", \"2017-04-23T00:00:00\"], [\"Dartmouth\", \"2017-04-29T00:00:00\"], [\"Dartmouth\", \"2017-04-29T00:00:00\"], [\"Dartmouth\", \"2017-04-30T00:00:00\"], [\"Dartmouth\", \"2017-04-30T00:00:00\"], [\"Columbia\", \"2018-03-31T00:00:00\"], [\"Columbia\", \"2018-03-31T00:00:00\"], [\"Columbia\", \"2018-04-01T00:00:00\"], [\"Pennsylvania\", \"2018-04-07T00:00:00\"], [\"Pennsylvania\", \"2018-04-07T00:00:00\"], [\"Pennsylvania\", \"2018-04-08T00:00:00\"], [\"Yale\", \"2018-04-13T00:00:00\"], [\"Yale\", \"2018-04-14T00:00:00\"], [\"Yale\", \"2018-04-14T00:00:00\"], [\"Brown\", \"2018-04-21T00:00:00\"], [\"Brown\", \"2018-04-21T00:00:00\"], [\"Brown\", \"2018-04-22T00:00:00\"], [\"Princeton\", \"2018-04-24T00:00:00\"], [\"Princeton\", \"2018-04-24T00:00:00\"], [\"Princeton\", \"2018-04-25T00:00:00\"], [\"Cornell\", \"2018-04-28T00:00:00\"], [\"Cornell\", \"2018-04-28T00:00:00\"], [\"Cornell\", \"2018-04-29T00:00:00\"], [\"Dartmouth\", \"2018-05-13T00:00:00\"], [\"Dartmouth\", \"2018-05-13T00:00:00\"], [\"Dartmouth\", \"2018-05-14T00:00:00\"], [\"Pennsylvania\", \"2019-03-23T00:00:00\"], [\"Pennsylvania\", \"2019-03-23T00:00:00\"], [\"Pennsylvania\", \"2019-03-24T00:00:00\"], [\"Princeton\", \"2019-03-29T00:00:00\"], [\"Princeton\", \"2019-03-30T00:00:00\"], [\"Princeton\", \"2019-03-30T00:00:00\"], [\"Yale\", \"2019-04-06T00:00:00\"], [\"Yale\", \"2019-04-06T00:00:00\"], [\"Yale\", \"2019-04-07T00:00:00\"], [\"Cornell\", \"2019-04-13T00:00:00\"], [\"Cornell\", \"2019-04-13T00:00:00\"], [\"Cornell\", \"2019-04-14T00:00:00\"], [\"Dartmouth\", \"2019-04-21T00:00:00\"], [\"Dartmouth\", \"2019-04-21T00:00:00\"], [\"Dartmouth\", \"2019-04-22T00:00:00\"], [\"Columbia\", \"2019-04-27T00:00:00\"], [\"Columbia\", \"2019-04-27T00:00:00\"], [\"Columbia\", \"2019-04-28T00:00:00\"], [\"Brown\", \"2019-05-04T00:00:00\"], [\"Brown\", \"2019-05-04T00:00:00\"], [\"Brown\", \"2019-05-06T00:00:00\"], [\"Columbia\", \"2019-05-18T00:00:00\"], [\"Columbia\", \"2019-05-19T00:00:00\"]], \"hovertemplate\": \"index=%{x}<br>Run Differential=%{marker.color}<br>opponent=%{customdata[0]}<br>date=%{customdata[1]}<extra></extra>\", \"legendgroup\": \"\", \"marker\": {\"color\": [-1, -3, -4, -5, -2, 5, 4, 16, 13, 27, 26, 27, 32, 39, 38, 36, 35, 28, 23, 21, 17, 15, 6, 3, 2, 10, 9, 10, 9, 12, 15, 23, 24, 25, 19, 25, 23, 22, 20, 22, 18, 16, 12, 9, 11, 7, 2, 0, -2, -10, -14, -9, -13, -12, -11, -10, -9, -10, -9, -12, -18, -13, -16, -13, -4, -5, -1, -5, -8, -6, -5, -9, -2, 2, 7, 5, 2, 6, 14, 13, 14, 17, 13, 15, 27, 20, 22, 25, 27, 26, 32, 34, 32, 33, 41, 33, 35, 33, 34, 32, 35, 40, 42, 44], \"coloraxis\": \"coloraxis\"}, \"name\": \"\", \"offsetgroup\": \"\", \"orientation\": \"v\", \"showlegend\": false, \"textposition\": \"auto\", \"type\": \"bar\", \"x\": [0, 1, 2, 3, 4, 5, 6, 7, 8, 9, 10, 11, 12, 13, 14, 15, 16, 17, 18, 19, 20, 21, 22, 23, 24, 25, 26, 27, 28, 29, 30, 31, 32, 33, 34, 35, 36, 37, 38, 39, 40, 41, 42, 43, 44, 45, 46, 47, 48, 49, 50, 51, 52, 53, 54, 55, 56, 57, 58, 59, 60, 61, 62, 63, 64, 65, 66, 67, 68, 69, 70, 71, 72, 73, 74, 75, 76, 77, 78, 79, 80, 81, 82, 83, 84, 85, 86, 87, 88, 89, 90, 91, 92, 93, 94, 95, 96, 97, 98, 99, 100, 101, 102, 103], \"xaxis\": \"x\", \"y\": [-1, -3, -4, -5, -2, 5, 4, 16, 13, 27, 26, 27, 32, 39, 38, 36, 35, 28, 23, 21, 17, 15, 6, 3, 2, 10, 9, 10, 9, 12, 15, 23, 24, 25, 19, 25, 23, 22, 20, 22, 18, 16, 12, 9, 11, 7, 2, 0, -2, -10, -14, -9, -13, -12, -11, -10, -9, -10, -9, -12, -18, -13, -16, -13, -4, -5, -1, -5, -8, -6, -5, -9, -2, 2, 7, 5, 2, 6, 14, 13, 14, 17, 13, 15, 27, 20, 22, 25, 27, 26, 32, 34, 32, 33, 41, 33, 35, 33, 34, 32, 35, 40, 42, 44], \"yaxis\": \"y\"}],                        {\"barmode\": \"relative\", \"coloraxis\": {\"cmid\": 0, \"colorbar\": {\"title\": {\"text\": \"Run Differential\"}}, \"colorscale\": [[0.0, \"rgb(23, 28, 66)\"], [0.09090909090909091, \"rgb(41, 58, 143)\"], [0.18181818181818182, \"rgb(11, 102, 189)\"], [0.2727272727272727, \"rgb(69, 144, 185)\"], [0.36363636363636365, \"rgb(142, 181, 194)\"], [0.45454545454545453, \"rgb(210, 216, 219)\"], [0.5454545454545454, \"rgb(230, 210, 204)\"], [0.6363636363636364, \"rgb(213, 157, 137)\"], [0.7272727272727273, \"rgb(196, 101, 72)\"], [0.8181818181818182, \"rgb(172, 43, 36)\"], [0.9090909090909091, \"rgb(120, 14, 40)\"], [1.0, \"rgb(60, 9, 17)\"]], \"showscale\": false}, \"images\": [{\"sizex\": 0.3, \"sizey\": 0.3, \"source\": \"data:image/png;base64,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\", \"x\": -0.02, \"xanchor\": \"left\", \"xref\": \"paper\", \"y\": 1.325, \"yanchor\": \"top\", \"yref\": \"paper\"}], \"legend\": {\"tracegroupgap\": 0}, \"margin\": {\"b\": 20, \"l\": 40, \"r\": 20, \"t\": 125}, \"template\": {\"data\": {\"bar\": [{\"error_x\": {\"color\": \"#2a3f5f\"}, \"error_y\": {\"color\": \"#2a3f5f\"}, \"marker\": {\"line\": {\"color\": \"#E5ECF6\", \"width\": 0.5}}, \"type\": \"bar\"}], \"barpolar\": [{\"marker\": {\"line\": {\"color\": \"#E5ECF6\", \"width\": 0.5}}, \"type\": \"barpolar\"}], \"carpet\": [{\"aaxis\": {\"endlinecolor\": \"#2a3f5f\", \"gridcolor\": \"white\", \"linecolor\": \"white\", \"minorgridcolor\": \"white\", \"startlinecolor\": \"#2a3f5f\"}, \"baxis\": {\"endlinecolor\": \"#2a3f5f\", \"gridcolor\": \"white\", \"linecolor\": \"white\", \"minorgridcolor\": \"white\", \"startlinecolor\": \"#2a3f5f\"}, \"type\": \"carpet\"}], \"choropleth\": [{\"colorbar\": {\"outlinewidth\": 0, \"ticks\": \"\"}, \"type\": \"choropleth\"}], \"contour\": [{\"colorbar\": {\"outlinewidth\": 0, \"ticks\": \"\"}, \"colorscale\": [[0.0, \"#0d0887\"], [0.1111111111111111, \"#46039f\"], [0.2222222222222222, \"#7201a8\"], [0.3333333333333333, \"#9c179e\"], [0.4444444444444444, \"#bd3786\"], [0.5555555555555556, \"#d8576b\"], [0.6666666666666666, \"#ed7953\"], [0.7777777777777778, \"#fb9f3a\"], [0.8888888888888888, \"#fdca26\"], [1.0, \"#f0f921\"]], \"type\": \"contour\"}], \"contourcarpet\": [{\"colorbar\": {\"outlinewidth\": 0, \"ticks\": \"\"}, \"type\": \"contourcarpet\"}], \"heatmap\": [{\"colorbar\": {\"outlinewidth\": 0, \"ticks\": \"\"}, \"colorscale\": [[0.0, \"#0d0887\"], [0.1111111111111111, \"#46039f\"], [0.2222222222222222, \"#7201a8\"], [0.3333333333333333, \"#9c179e\"], [0.4444444444444444, \"#bd3786\"], [0.5555555555555556, \"#d8576b\"], [0.6666666666666666, \"#ed7953\"], [0.7777777777777778, \"#fb9f3a\"], [0.8888888888888888, \"#fdca26\"], [1.0, \"#f0f921\"]], \"type\": \"heatmap\"}], \"heatmapgl\": [{\"colorbar\": {\"outlinewidth\": 0, \"ticks\": \"\"}, \"colorscale\": [[0.0, \"#0d0887\"], [0.1111111111111111, \"#46039f\"], [0.2222222222222222, \"#7201a8\"], [0.3333333333333333, \"#9c179e\"], [0.4444444444444444, \"#bd3786\"], [0.5555555555555556, \"#d8576b\"], [0.6666666666666666, \"#ed7953\"], [0.7777777777777778, \"#fb9f3a\"], [0.8888888888888888, \"#fdca26\"], [1.0, \"#f0f921\"]], \"type\": \"heatmapgl\"}], \"histogram\": [{\"marker\": {\"colorbar\": {\"outlinewidth\": 0, \"ticks\": \"\"}}, \"type\": \"histogram\"}], \"histogram2d\": [{\"colorbar\": {\"outlinewidth\": 0, \"ticks\": \"\"}, \"colorscale\": [[0.0, \"#0d0887\"], [0.1111111111111111, \"#46039f\"], [0.2222222222222222, \"#7201a8\"], [0.3333333333333333, \"#9c179e\"], [0.4444444444444444, \"#bd3786\"], [0.5555555555555556, \"#d8576b\"], [0.6666666666666666, \"#ed7953\"], [0.7777777777777778, \"#fb9f3a\"], [0.8888888888888888, \"#fdca26\"], [1.0, \"#f0f921\"]], \"type\": \"histogram2d\"}], \"histogram2dcontour\": [{\"colorbar\": {\"outlinewidth\": 0, \"ticks\": \"\"}, \"colorscale\": [[0.0, \"#0d0887\"], [0.1111111111111111, \"#46039f\"], [0.2222222222222222, \"#7201a8\"], [0.3333333333333333, \"#9c179e\"], [0.4444444444444444, \"#bd3786\"], [0.5555555555555556, \"#d8576b\"], [0.6666666666666666, \"#ed7953\"], [0.7777777777777778, \"#fb9f3a\"], [0.8888888888888888, \"#fdca26\"], [1.0, \"#f0f921\"]], \"type\": \"histogram2dcontour\"}], \"mesh3d\": [{\"colorbar\": {\"outlinewidth\": 0, \"ticks\": \"\"}, \"type\": \"mesh3d\"}], \"parcoords\": [{\"line\": {\"colorbar\": {\"outlinewidth\": 0, \"ticks\": \"\"}}, \"type\": \"parcoords\"}], \"pie\": [{\"automargin\": true, \"type\": \"pie\"}], \"scatter\": [{\"marker\": {\"colorbar\": {\"outlinewidth\": 0, \"ticks\": \"\"}}, \"type\": \"scatter\"}], \"scatter3d\": [{\"line\": {\"colorbar\": {\"outlinewidth\": 0, \"ticks\": \"\"}}, \"marker\": {\"colorbar\": {\"outlinewidth\": 0, \"ticks\": \"\"}}, \"type\": \"scatter3d\"}], \"scattercarpet\": [{\"marker\": {\"colorbar\": {\"outlinewidth\": 0, \"ticks\": \"\"}}, \"type\": \"scattercarpet\"}], \"scattergeo\": [{\"marker\": {\"colorbar\": {\"outlinewidth\": 0, \"ticks\": \"\"}}, \"type\": \"scattergeo\"}], \"scattergl\": [{\"marker\": {\"colorbar\": {\"outlinewidth\": 0, \"ticks\": \"\"}}, \"type\": \"scattergl\"}], \"scattermapbox\": [{\"marker\": {\"colorbar\": {\"outlinewidth\": 0, \"ticks\": \"\"}}, \"type\": \"scattermapbox\"}], \"scatterpolar\": [{\"marker\": {\"colorbar\": {\"outlinewidth\": 0, \"ticks\": \"\"}}, \"type\": \"scatterpolar\"}], \"scatterpolargl\": [{\"marker\": {\"colorbar\": {\"outlinewidth\": 0, \"ticks\": \"\"}}, \"type\": \"scatterpolargl\"}], \"scatterternary\": [{\"marker\": {\"colorbar\": {\"outlinewidth\": 0, \"ticks\": \"\"}}, \"type\": \"scatterternary\"}], \"surface\": [{\"colorbar\": {\"outlinewidth\": 0, \"ticks\": \"\"}, \"colorscale\": [[0.0, \"#0d0887\"], [0.1111111111111111, \"#46039f\"], [0.2222222222222222, \"#7201a8\"], [0.3333333333333333, \"#9c179e\"], [0.4444444444444444, \"#bd3786\"], [0.5555555555555556, \"#d8576b\"], [0.6666666666666666, \"#ed7953\"], [0.7777777777777778, \"#fb9f3a\"], [0.8888888888888888, \"#fdca26\"], [1.0, \"#f0f921\"]], \"type\": \"surface\"}], \"table\": [{\"cells\": {\"fill\": {\"color\": \"#EBF0F8\"}, \"line\": {\"color\": \"white\"}}, \"header\": {\"fill\": {\"color\": \"#C8D4E3\"}, \"line\": {\"color\": \"white\"}}, \"type\": \"table\"}]}, \"layout\": {\"annotationdefaults\": {\"arrowcolor\": \"#2a3f5f\", \"arrowhead\": 0, \"arrowwidth\": 1}, \"autotypenumbers\": \"strict\", \"coloraxis\": {\"colorbar\": {\"outlinewidth\": 0, \"ticks\": \"\"}}, \"colorscale\": {\"diverging\": [[0, \"#8e0152\"], [0.1, \"#c51b7d\"], [0.2, \"#de77ae\"], [0.3, \"#f1b6da\"], [0.4, \"#fde0ef\"], [0.5, \"#f7f7f7\"], [0.6, \"#e6f5d0\"], [0.7, \"#b8e186\"], [0.8, \"#7fbc41\"], [0.9, \"#4d9221\"], [1, \"#276419\"]], \"sequential\": [[0.0, \"#0d0887\"], [0.1111111111111111, \"#46039f\"], [0.2222222222222222, \"#7201a8\"], [0.3333333333333333, \"#9c179e\"], [0.4444444444444444, \"#bd3786\"], [0.5555555555555556, \"#d8576b\"], [0.6666666666666666, \"#ed7953\"], [0.7777777777777778, \"#fb9f3a\"], [0.8888888888888888, \"#fdca26\"], [1.0, \"#f0f921\"]], \"sequentialminus\": [[0.0, \"#0d0887\"], [0.1111111111111111, \"#46039f\"], [0.2222222222222222, \"#7201a8\"], [0.3333333333333333, \"#9c179e\"], [0.4444444444444444, \"#bd3786\"], [0.5555555555555556, \"#d8576b\"], [0.6666666666666666, \"#ed7953\"], [0.7777777777777778, \"#fb9f3a\"], [0.8888888888888888, \"#fdca26\"], [1.0, \"#f0f921\"]]}, \"colorway\": [\"#636efa\", \"#EF553B\", \"#00cc96\", \"#ab63fa\", \"#FFA15A\", \"#19d3f3\", \"#FF6692\", \"#B6E880\", \"#FF97FF\", \"#FECB52\"], \"font\": {\"color\": \"#2a3f5f\"}, \"geo\": {\"bgcolor\": \"white\", \"lakecolor\": \"white\", \"landcolor\": \"#E5ECF6\", \"showlakes\": true, \"showland\": true, \"subunitcolor\": \"white\"}, \"hoverlabel\": {\"align\": \"left\"}, \"hovermode\": \"closest\", \"mapbox\": {\"style\": \"light\"}, \"paper_bgcolor\": \"white\", \"plot_bgcolor\": \"#E5ECF6\", \"polar\": {\"angularaxis\": {\"gridcolor\": \"white\", \"linecolor\": \"white\", \"ticks\": \"\"}, \"bgcolor\": \"#E5ECF6\", \"radialaxis\": {\"gridcolor\": \"white\", \"linecolor\": \"white\", \"ticks\": \"\"}}, \"scene\": {\"xaxis\": {\"backgroundcolor\": \"#E5ECF6\", \"gridcolor\": \"white\", \"gridwidth\": 2, \"linecolor\": \"white\", \"showbackground\": true, \"ticks\": \"\", \"zerolinecolor\": \"white\"}, \"yaxis\": {\"backgroundcolor\": \"#E5ECF6\", \"gridcolor\": \"white\", \"gridwidth\": 2, \"linecolor\": \"white\", \"showbackground\": true, \"ticks\": \"\", \"zerolinecolor\": \"white\"}, \"zaxis\": {\"backgroundcolor\": \"#E5ECF6\", \"gridcolor\": \"white\", \"gridwidth\": 2, \"linecolor\": \"white\", \"showbackground\": true, \"ticks\": \"\", \"zerolinecolor\": \"white\"}}, \"shapedefaults\": {\"line\": {\"color\": \"#2a3f5f\"}}, \"ternary\": {\"aaxis\": {\"gridcolor\": \"white\", \"linecolor\": \"white\", \"ticks\": \"\"}, \"baxis\": {\"gridcolor\": \"white\", \"linecolor\": \"white\", \"ticks\": \"\"}, \"bgcolor\": \"#E5ECF6\", \"caxis\": {\"gridcolor\": \"white\", \"linecolor\": \"white\", \"ticks\": \"\"}}, \"title\": {\"x\": 0.05}, \"xaxis\": {\"automargin\": true, \"gridcolor\": \"white\", \"linecolor\": \"white\", \"ticks\": \"\", \"title\": {\"standoff\": 15}, \"zerolinecolor\": \"white\", \"zerolinewidth\": 2}, \"yaxis\": {\"automargin\": true, \"gridcolor\": \"white\", \"linecolor\": \"white\", \"ticks\": \"\", \"title\": {\"standoff\": 15}, \"zerolinecolor\": \"white\", \"zerolinewidth\": 2}}}, \"title\": {\"font\": {\"size\": 20}, \"text\": \"Cumulative Run Differential<br>2015 to 2020\", \"x\": 0.5, \"xanchor\": \"center\", \"yanchor\": \"top\"}, \"xaxis\": {\"anchor\": \"y\", \"domain\": [0.0, 1.0], \"title\": {\"text\": \"Games Played\"}}, \"yaxis\": {\"anchor\": \"x\", \"domain\": [0.0, 1.0], \"ticklabelposition\": \"inside top\", \"title\": {\"text\": \"Cumulative Run Differential\"}}},                        {\"responsive\": true}                    ).then(function(){\n",
       "                            \n",
       "var gd = document.getElementById('45903811-7bbf-4506-98c9-ff5f5f0ad66b');\n",
       "var x = new MutationObserver(function (mutations, observer) {{\n",
       "        var display = window.getComputedStyle(gd).display;\n",
       "        if (!display || display === 'none') {{\n",
       "            console.log([gd, 'removed!']);\n",
       "            Plotly.purge(gd);\n",
       "            observer.disconnect();\n",
       "        }}\n",
       "}});\n",
       "\n",
       "// Listen for the removal of the full notebook cells\n",
       "var notebookContainer = gd.closest('#notebook-container');\n",
       "if (notebookContainer) {{\n",
       "    x.observe(notebookContainer, {childList: true});\n",
       "}}\n",
       "\n",
       "// Listen for the clearing of the current output cell\n",
       "var outputEl = gd.closest('.output');\n",
       "if (outputEl) {{\n",
       "    x.observe(outputEl, {childList: true});\n",
       "}}\n",
       "\n",
       "                        })                };                });            </script>        </div>"
      ]
     },
     "metadata": {},
     "output_type": "display_data"
    }
   ],
   "source": [
    "    generate_ivy_rd_chart(\"Harvard\", 2015,2020)"
   ]
  },
  {
   "cell_type": "code",
   "execution_count": 82,
   "id": "6eeea8ed-2039-4cd5-b08f-d204ad373c69",
   "metadata": {},
   "outputs": [
    {
     "data": {
      "application/vnd.plotly.v1+json": {
       "config": {
        "plotlyServerURL": "https://plot.ly"
       },
       "data": [
        {
         "alignmentgroup": "True",
         "hovertemplate": "variable=pythagenpat_pct<br>team_name=%{x}<br>value=%{y}<extra></extra>",
         "legendgroup": "pythagenpat_pct",
         "marker": {
          "color": "#636efa"
         },
         "name": "pythagenpat_pct",
         "offsetgroup": "pythagenpat_pct",
         "orientation": "v",
         "showlegend": true,
         "textposition": "auto",
         "type": "bar",
         "x": [
          "Brown",
          "Columbia",
          "Cornell",
          "Dartmouth",
          "Harvard",
          "Pennsylvania",
          "Princeton",
          "Yale"
         ],
         "xaxis": "x",
         "y": [
          0.4,
          0.6,
          0.44,
          0.54,
          0.53,
          0.62,
          0.37,
          0.52
         ],
         "yaxis": "y"
        },
        {
         "alignmentgroup": "True",
         "hovertemplate": "variable=actual_pct<br>team_name=%{x}<br>value=%{y}<extra></extra>",
         "legendgroup": "actual_pct",
         "marker": {
          "color": "#EF553B"
         },
         "name": "actual_pct",
         "offsetgroup": "actual_pct",
         "orientation": "v",
         "showlegend": true,
         "textposition": "auto",
         "type": "bar",
         "x": [
          "Brown",
          "Columbia",
          "Cornell",
          "Dartmouth",
          "Harvard",
          "Pennsylvania",
          "Princeton",
          "Yale"
         ],
         "xaxis": "x",
         "y": [
          0.35,
          0.62,
          0.41,
          0.56,
          0.49,
          0.56,
          0.39,
          0.59
         ],
         "yaxis": "y"
        }
       ],
       "layout": {
        "barmode": "group",
        "legend": {
         "title": {
          "text": "variable"
         },
         "tracegroupgap": 0
        },
        "margin": {
         "t": 60
        },
        "template": {
         "data": {
          "bar": [
           {
            "error_x": {
             "color": "#2a3f5f"
            },
            "error_y": {
             "color": "#2a3f5f"
            },
            "marker": {
             "line": {
              "color": "#E5ECF6",
              "width": 0.5
             }
            },
            "type": "bar"
           }
          ],
          "barpolar": [
           {
            "marker": {
             "line": {
              "color": "#E5ECF6",
              "width": 0.5
             }
            },
            "type": "barpolar"
           }
          ],
          "carpet": [
           {
            "aaxis": {
             "endlinecolor": "#2a3f5f",
             "gridcolor": "white",
             "linecolor": "white",
             "minorgridcolor": "white",
             "startlinecolor": "#2a3f5f"
            },
            "baxis": {
             "endlinecolor": "#2a3f5f",
             "gridcolor": "white",
             "linecolor": "white",
             "minorgridcolor": "white",
             "startlinecolor": "#2a3f5f"
            },
            "type": "carpet"
           }
          ],
          "choropleth": [
           {
            "colorbar": {
             "outlinewidth": 0,
             "ticks": ""
            },
            "type": "choropleth"
           }
          ],
          "contour": [
           {
            "colorbar": {
             "outlinewidth": 0,
             "ticks": ""
            },
            "colorscale": [
             [
              0,
              "#0d0887"
             ],
             [
              0.1111111111111111,
              "#46039f"
             ],
             [
              0.2222222222222222,
              "#7201a8"
             ],
             [
              0.3333333333333333,
              "#9c179e"
             ],
             [
              0.4444444444444444,
              "#bd3786"
             ],
             [
              0.5555555555555556,
              "#d8576b"
             ],
             [
              0.6666666666666666,
              "#ed7953"
             ],
             [
              0.7777777777777778,
              "#fb9f3a"
             ],
             [
              0.8888888888888888,
              "#fdca26"
             ],
             [
              1,
              "#f0f921"
             ]
            ],
            "type": "contour"
           }
          ],
          "contourcarpet": [
           {
            "colorbar": {
             "outlinewidth": 0,
             "ticks": ""
            },
            "type": "contourcarpet"
           }
          ],
          "heatmap": [
           {
            "colorbar": {
             "outlinewidth": 0,
             "ticks": ""
            },
            "colorscale": [
             [
              0,
              "#0d0887"
             ],
             [
              0.1111111111111111,
              "#46039f"
             ],
             [
              0.2222222222222222,
              "#7201a8"
             ],
             [
              0.3333333333333333,
              "#9c179e"
             ],
             [
              0.4444444444444444,
              "#bd3786"
             ],
             [
              0.5555555555555556,
              "#d8576b"
             ],
             [
              0.6666666666666666,
              "#ed7953"
             ],
             [
              0.7777777777777778,
              "#fb9f3a"
             ],
             [
              0.8888888888888888,
              "#fdca26"
             ],
             [
              1,
              "#f0f921"
             ]
            ],
            "type": "heatmap"
           }
          ],
          "heatmapgl": [
           {
            "colorbar": {
             "outlinewidth": 0,
             "ticks": ""
            },
            "colorscale": [
             [
              0,
              "#0d0887"
             ],
             [
              0.1111111111111111,
              "#46039f"
             ],
             [
              0.2222222222222222,
              "#7201a8"
             ],
             [
              0.3333333333333333,
              "#9c179e"
             ],
             [
              0.4444444444444444,
              "#bd3786"
             ],
             [
              0.5555555555555556,
              "#d8576b"
             ],
             [
              0.6666666666666666,
              "#ed7953"
             ],
             [
              0.7777777777777778,
              "#fb9f3a"
             ],
             [
              0.8888888888888888,
              "#fdca26"
             ],
             [
              1,
              "#f0f921"
             ]
            ],
            "type": "heatmapgl"
           }
          ],
          "histogram": [
           {
            "marker": {
             "colorbar": {
              "outlinewidth": 0,
              "ticks": ""
             }
            },
            "type": "histogram"
           }
          ],
          "histogram2d": [
           {
            "colorbar": {
             "outlinewidth": 0,
             "ticks": ""
            },
            "colorscale": [
             [
              0,
              "#0d0887"
             ],
             [
              0.1111111111111111,
              "#46039f"
             ],
             [
              0.2222222222222222,
              "#7201a8"
             ],
             [
              0.3333333333333333,
              "#9c179e"
             ],
             [
              0.4444444444444444,
              "#bd3786"
             ],
             [
              0.5555555555555556,
              "#d8576b"
             ],
             [
              0.6666666666666666,
              "#ed7953"
             ],
             [
              0.7777777777777778,
              "#fb9f3a"
             ],
             [
              0.8888888888888888,
              "#fdca26"
             ],
             [
              1,
              "#f0f921"
             ]
            ],
            "type": "histogram2d"
           }
          ],
          "histogram2dcontour": [
           {
            "colorbar": {
             "outlinewidth": 0,
             "ticks": ""
            },
            "colorscale": [
             [
              0,
              "#0d0887"
             ],
             [
              0.1111111111111111,
              "#46039f"
             ],
             [
              0.2222222222222222,
              "#7201a8"
             ],
             [
              0.3333333333333333,
              "#9c179e"
             ],
             [
              0.4444444444444444,
              "#bd3786"
             ],
             [
              0.5555555555555556,
              "#d8576b"
             ],
             [
              0.6666666666666666,
              "#ed7953"
             ],
             [
              0.7777777777777778,
              "#fb9f3a"
             ],
             [
              0.8888888888888888,
              "#fdca26"
             ],
             [
              1,
              "#f0f921"
             ]
            ],
            "type": "histogram2dcontour"
           }
          ],
          "mesh3d": [
           {
            "colorbar": {
             "outlinewidth": 0,
             "ticks": ""
            },
            "type": "mesh3d"
           }
          ],
          "parcoords": [
           {
            "line": {
             "colorbar": {
              "outlinewidth": 0,
              "ticks": ""
             }
            },
            "type": "parcoords"
           }
          ],
          "pie": [
           {
            "automargin": true,
            "type": "pie"
           }
          ],
          "scatter": [
           {
            "marker": {
             "colorbar": {
              "outlinewidth": 0,
              "ticks": ""
             }
            },
            "type": "scatter"
           }
          ],
          "scatter3d": [
           {
            "line": {
             "colorbar": {
              "outlinewidth": 0,
              "ticks": ""
             }
            },
            "marker": {
             "colorbar": {
              "outlinewidth": 0,
              "ticks": ""
             }
            },
            "type": "scatter3d"
           }
          ],
          "scattercarpet": [
           {
            "marker": {
             "colorbar": {
              "outlinewidth": 0,
              "ticks": ""
             }
            },
            "type": "scattercarpet"
           }
          ],
          "scattergeo": [
           {
            "marker": {
             "colorbar": {
              "outlinewidth": 0,
              "ticks": ""
             }
            },
            "type": "scattergeo"
           }
          ],
          "scattergl": [
           {
            "marker": {
             "colorbar": {
              "outlinewidth": 0,
              "ticks": ""
             }
            },
            "type": "scattergl"
           }
          ],
          "scattermapbox": [
           {
            "marker": {
             "colorbar": {
              "outlinewidth": 0,
              "ticks": ""
             }
            },
            "type": "scattermapbox"
           }
          ],
          "scatterpolar": [
           {
            "marker": {
             "colorbar": {
              "outlinewidth": 0,
              "ticks": ""
             }
            },
            "type": "scatterpolar"
           }
          ],
          "scatterpolargl": [
           {
            "marker": {
             "colorbar": {
              "outlinewidth": 0,
              "ticks": ""
             }
            },
            "type": "scatterpolargl"
           }
          ],
          "scatterternary": [
           {
            "marker": {
             "colorbar": {
              "outlinewidth": 0,
              "ticks": ""
             }
            },
            "type": "scatterternary"
           }
          ],
          "surface": [
           {
            "colorbar": {
             "outlinewidth": 0,
             "ticks": ""
            },
            "colorscale": [
             [
              0,
              "#0d0887"
             ],
             [
              0.1111111111111111,
              "#46039f"
             ],
             [
              0.2222222222222222,
              "#7201a8"
             ],
             [
              0.3333333333333333,
              "#9c179e"
             ],
             [
              0.4444444444444444,
              "#bd3786"
             ],
             [
              0.5555555555555556,
              "#d8576b"
             ],
             [
              0.6666666666666666,
              "#ed7953"
             ],
             [
              0.7777777777777778,
              "#fb9f3a"
             ],
             [
              0.8888888888888888,
              "#fdca26"
             ],
             [
              1,
              "#f0f921"
             ]
            ],
            "type": "surface"
           }
          ],
          "table": [
           {
            "cells": {
             "fill": {
              "color": "#EBF0F8"
             },
             "line": {
              "color": "white"
             }
            },
            "header": {
             "fill": {
              "color": "#C8D4E3"
             },
             "line": {
              "color": "white"
             }
            },
            "type": "table"
           }
          ]
         },
         "layout": {
          "annotationdefaults": {
           "arrowcolor": "#2a3f5f",
           "arrowhead": 0,
           "arrowwidth": 1
          },
          "autotypenumbers": "strict",
          "coloraxis": {
           "colorbar": {
            "outlinewidth": 0,
            "ticks": ""
           }
          },
          "colorscale": {
           "diverging": [
            [
             0,
             "#8e0152"
            ],
            [
             0.1,
             "#c51b7d"
            ],
            [
             0.2,
             "#de77ae"
            ],
            [
             0.3,
             "#f1b6da"
            ],
            [
             0.4,
             "#fde0ef"
            ],
            [
             0.5,
             "#f7f7f7"
            ],
            [
             0.6,
             "#e6f5d0"
            ],
            [
             0.7,
             "#b8e186"
            ],
            [
             0.8,
             "#7fbc41"
            ],
            [
             0.9,
             "#4d9221"
            ],
            [
             1,
             "#276419"
            ]
           ],
           "sequential": [
            [
             0,
             "#0d0887"
            ],
            [
             0.1111111111111111,
             "#46039f"
            ],
            [
             0.2222222222222222,
             "#7201a8"
            ],
            [
             0.3333333333333333,
             "#9c179e"
            ],
            [
             0.4444444444444444,
             "#bd3786"
            ],
            [
             0.5555555555555556,
             "#d8576b"
            ],
            [
             0.6666666666666666,
             "#ed7953"
            ],
            [
             0.7777777777777778,
             "#fb9f3a"
            ],
            [
             0.8888888888888888,
             "#fdca26"
            ],
            [
             1,
             "#f0f921"
            ]
           ],
           "sequentialminus": [
            [
             0,
             "#0d0887"
            ],
            [
             0.1111111111111111,
             "#46039f"
            ],
            [
             0.2222222222222222,
             "#7201a8"
            ],
            [
             0.3333333333333333,
             "#9c179e"
            ],
            [
             0.4444444444444444,
             "#bd3786"
            ],
            [
             0.5555555555555556,
             "#d8576b"
            ],
            [
             0.6666666666666666,
             "#ed7953"
            ],
            [
             0.7777777777777778,
             "#fb9f3a"
            ],
            [
             0.8888888888888888,
             "#fdca26"
            ],
            [
             1,
             "#f0f921"
            ]
           ]
          },
          "colorway": [
           "#636efa",
           "#EF553B",
           "#00cc96",
           "#ab63fa",
           "#FFA15A",
           "#19d3f3",
           "#FF6692",
           "#B6E880",
           "#FF97FF",
           "#FECB52"
          ],
          "font": {
           "color": "#2a3f5f"
          },
          "geo": {
           "bgcolor": "white",
           "lakecolor": "white",
           "landcolor": "#E5ECF6",
           "showlakes": true,
           "showland": true,
           "subunitcolor": "white"
          },
          "hoverlabel": {
           "align": "left"
          },
          "hovermode": "closest",
          "mapbox": {
           "style": "light"
          },
          "paper_bgcolor": "white",
          "plot_bgcolor": "#E5ECF6",
          "polar": {
           "angularaxis": {
            "gridcolor": "white",
            "linecolor": "white",
            "ticks": ""
           },
           "bgcolor": "#E5ECF6",
           "radialaxis": {
            "gridcolor": "white",
            "linecolor": "white",
            "ticks": ""
           }
          },
          "scene": {
           "xaxis": {
            "backgroundcolor": "#E5ECF6",
            "gridcolor": "white",
            "gridwidth": 2,
            "linecolor": "white",
            "showbackground": true,
            "ticks": "",
            "zerolinecolor": "white"
           },
           "yaxis": {
            "backgroundcolor": "#E5ECF6",
            "gridcolor": "white",
            "gridwidth": 2,
            "linecolor": "white",
            "showbackground": true,
            "ticks": "",
            "zerolinecolor": "white"
           },
           "zaxis": {
            "backgroundcolor": "#E5ECF6",
            "gridcolor": "white",
            "gridwidth": 2,
            "linecolor": "white",
            "showbackground": true,
            "ticks": "",
            "zerolinecolor": "white"
           }
          },
          "shapedefaults": {
           "line": {
            "color": "#2a3f5f"
           }
          },
          "ternary": {
           "aaxis": {
            "gridcolor": "white",
            "linecolor": "white",
            "ticks": ""
           },
           "baxis": {
            "gridcolor": "white",
            "linecolor": "white",
            "ticks": ""
           },
           "bgcolor": "#E5ECF6",
           "caxis": {
            "gridcolor": "white",
            "linecolor": "white",
            "ticks": ""
           }
          },
          "title": {
           "x": 0.05
          },
          "xaxis": {
           "automargin": true,
           "gridcolor": "white",
           "linecolor": "white",
           "ticks": "",
           "title": {
            "standoff": 15
           },
           "zerolinecolor": "white",
           "zerolinewidth": 2
          },
          "yaxis": {
           "automargin": true,
           "gridcolor": "white",
           "linecolor": "white",
           "ticks": "",
           "title": {
            "standoff": 15
           },
           "zerolinecolor": "white",
           "zerolinewidth": 2
          }
         }
        },
        "title": {
         "text": "Actual vs. Pythagenpat Expected Win Pct.<br>2015 to 2020",
         "x": 0.5,
         "xanchor": "center",
         "yanchor": "top"
        },
        "xaxis": {
         "anchor": "y",
         "domain": [
          0,
          1
         ],
         "title": {
          "text": "School"
         }
        },
        "yaxis": {
         "anchor": "x",
         "domain": [
          0,
          1
         ],
         "ticklabelposition": "inside top",
         "title": {
          "text": "Percentage"
         }
        }
       }
      },
      "text/html": [
       "<div>                            <div id=\"50a98cea-c404-4bf6-9ff5-b27a81e21c2f\" class=\"plotly-graph-div\" style=\"height:525px; width:100%;\"></div>            <script type=\"text/javascript\">                require([\"plotly\"], function(Plotly) {                    window.PLOTLYENV=window.PLOTLYENV || {};                                    if (document.getElementById(\"50a98cea-c404-4bf6-9ff5-b27a81e21c2f\")) {                    Plotly.newPlot(                        \"50a98cea-c404-4bf6-9ff5-b27a81e21c2f\",                        [{\"alignmentgroup\": \"True\", \"hovertemplate\": \"variable=pythagenpat_pct<br>team_name=%{x}<br>value=%{y}<extra></extra>\", \"legendgroup\": \"pythagenpat_pct\", \"marker\": {\"color\": \"#636efa\"}, \"name\": \"pythagenpat_pct\", \"offsetgroup\": \"pythagenpat_pct\", \"orientation\": \"v\", \"showlegend\": true, \"textposition\": \"auto\", \"type\": \"bar\", \"x\": [\"Brown\", \"Columbia\", \"Cornell\", \"Dartmouth\", \"Harvard\", \"Pennsylvania\", \"Princeton\", \"Yale\"], \"xaxis\": \"x\", \"y\": [0.4, 0.6, 0.44, 0.54, 0.53, 0.62, 0.37, 0.52], \"yaxis\": \"y\"}, {\"alignmentgroup\": \"True\", \"hovertemplate\": \"variable=actual_pct<br>team_name=%{x}<br>value=%{y}<extra></extra>\", \"legendgroup\": \"actual_pct\", \"marker\": {\"color\": \"#EF553B\"}, \"name\": \"actual_pct\", \"offsetgroup\": \"actual_pct\", \"orientation\": \"v\", \"showlegend\": true, \"textposition\": \"auto\", \"type\": \"bar\", \"x\": [\"Brown\", \"Columbia\", \"Cornell\", \"Dartmouth\", \"Harvard\", \"Pennsylvania\", \"Princeton\", \"Yale\"], \"xaxis\": \"x\", \"y\": [0.35, 0.62, 0.41, 0.56, 0.49, 0.56, 0.39, 0.59], \"yaxis\": \"y\"}],                        {\"barmode\": \"group\", \"legend\": {\"title\": {\"text\": \"variable\"}, \"tracegroupgap\": 0}, \"margin\": {\"t\": 60}, \"template\": {\"data\": {\"bar\": [{\"error_x\": {\"color\": \"#2a3f5f\"}, \"error_y\": {\"color\": \"#2a3f5f\"}, \"marker\": {\"line\": {\"color\": \"#E5ECF6\", \"width\": 0.5}}, \"type\": \"bar\"}], \"barpolar\": [{\"marker\": {\"line\": {\"color\": \"#E5ECF6\", \"width\": 0.5}}, \"type\": \"barpolar\"}], \"carpet\": [{\"aaxis\": {\"endlinecolor\": \"#2a3f5f\", \"gridcolor\": \"white\", \"linecolor\": \"white\", \"minorgridcolor\": \"white\", \"startlinecolor\": \"#2a3f5f\"}, \"baxis\": {\"endlinecolor\": \"#2a3f5f\", \"gridcolor\": \"white\", \"linecolor\": \"white\", \"minorgridcolor\": \"white\", \"startlinecolor\": \"#2a3f5f\"}, \"type\": \"carpet\"}], \"choropleth\": [{\"colorbar\": {\"outlinewidth\": 0, \"ticks\": \"\"}, \"type\": \"choropleth\"}], \"contour\": [{\"colorbar\": {\"outlinewidth\": 0, \"ticks\": \"\"}, \"colorscale\": [[0.0, \"#0d0887\"], [0.1111111111111111, \"#46039f\"], [0.2222222222222222, \"#7201a8\"], [0.3333333333333333, \"#9c179e\"], [0.4444444444444444, \"#bd3786\"], [0.5555555555555556, \"#d8576b\"], [0.6666666666666666, \"#ed7953\"], [0.7777777777777778, \"#fb9f3a\"], [0.8888888888888888, \"#fdca26\"], [1.0, \"#f0f921\"]], \"type\": \"contour\"}], \"contourcarpet\": [{\"colorbar\": {\"outlinewidth\": 0, \"ticks\": \"\"}, \"type\": \"contourcarpet\"}], \"heatmap\": [{\"colorbar\": {\"outlinewidth\": 0, \"ticks\": \"\"}, \"colorscale\": [[0.0, \"#0d0887\"], [0.1111111111111111, \"#46039f\"], [0.2222222222222222, \"#7201a8\"], [0.3333333333333333, \"#9c179e\"], [0.4444444444444444, \"#bd3786\"], [0.5555555555555556, \"#d8576b\"], [0.6666666666666666, \"#ed7953\"], [0.7777777777777778, \"#fb9f3a\"], [0.8888888888888888, \"#fdca26\"], [1.0, \"#f0f921\"]], \"type\": \"heatmap\"}], \"heatmapgl\": [{\"colorbar\": {\"outlinewidth\": 0, \"ticks\": \"\"}, \"colorscale\": [[0.0, \"#0d0887\"], [0.1111111111111111, \"#46039f\"], [0.2222222222222222, \"#7201a8\"], [0.3333333333333333, \"#9c179e\"], [0.4444444444444444, \"#bd3786\"], [0.5555555555555556, \"#d8576b\"], [0.6666666666666666, \"#ed7953\"], [0.7777777777777778, \"#fb9f3a\"], [0.8888888888888888, \"#fdca26\"], [1.0, \"#f0f921\"]], \"type\": \"heatmapgl\"}], \"histogram\": [{\"marker\": {\"colorbar\": {\"outlinewidth\": 0, \"ticks\": \"\"}}, \"type\": \"histogram\"}], \"histogram2d\": [{\"colorbar\": {\"outlinewidth\": 0, \"ticks\": \"\"}, \"colorscale\": [[0.0, \"#0d0887\"], [0.1111111111111111, \"#46039f\"], [0.2222222222222222, \"#7201a8\"], [0.3333333333333333, \"#9c179e\"], [0.4444444444444444, \"#bd3786\"], [0.5555555555555556, \"#d8576b\"], [0.6666666666666666, \"#ed7953\"], [0.7777777777777778, \"#fb9f3a\"], [0.8888888888888888, \"#fdca26\"], [1.0, \"#f0f921\"]], \"type\": \"histogram2d\"}], \"histogram2dcontour\": [{\"colorbar\": {\"outlinewidth\": 0, \"ticks\": \"\"}, \"colorscale\": [[0.0, \"#0d0887\"], [0.1111111111111111, \"#46039f\"], [0.2222222222222222, \"#7201a8\"], [0.3333333333333333, \"#9c179e\"], [0.4444444444444444, \"#bd3786\"], [0.5555555555555556, \"#d8576b\"], [0.6666666666666666, \"#ed7953\"], [0.7777777777777778, \"#fb9f3a\"], [0.8888888888888888, \"#fdca26\"], [1.0, \"#f0f921\"]], \"type\": \"histogram2dcontour\"}], \"mesh3d\": [{\"colorbar\": {\"outlinewidth\": 0, \"ticks\": \"\"}, \"type\": \"mesh3d\"}], \"parcoords\": [{\"line\": {\"colorbar\": {\"outlinewidth\": 0, \"ticks\": \"\"}}, \"type\": \"parcoords\"}], \"pie\": [{\"automargin\": true, \"type\": \"pie\"}], \"scatter\": [{\"marker\": {\"colorbar\": {\"outlinewidth\": 0, \"ticks\": \"\"}}, \"type\": \"scatter\"}], \"scatter3d\": [{\"line\": {\"colorbar\": {\"outlinewidth\": 0, \"ticks\": \"\"}}, \"marker\": {\"colorbar\": {\"outlinewidth\": 0, \"ticks\": \"\"}}, \"type\": \"scatter3d\"}], \"scattercarpet\": [{\"marker\": {\"colorbar\": {\"outlinewidth\": 0, \"ticks\": \"\"}}, \"type\": \"scattercarpet\"}], \"scattergeo\": [{\"marker\": {\"colorbar\": {\"outlinewidth\": 0, \"ticks\": \"\"}}, \"type\": \"scattergeo\"}], \"scattergl\": [{\"marker\": {\"colorbar\": {\"outlinewidth\": 0, \"ticks\": \"\"}}, \"type\": \"scattergl\"}], \"scattermapbox\": [{\"marker\": {\"colorbar\": {\"outlinewidth\": 0, \"ticks\": \"\"}}, \"type\": \"scattermapbox\"}], \"scatterpolar\": [{\"marker\": {\"colorbar\": {\"outlinewidth\": 0, \"ticks\": \"\"}}, \"type\": \"scatterpolar\"}], \"scatterpolargl\": [{\"marker\": {\"colorbar\": {\"outlinewidth\": 0, \"ticks\": \"\"}}, \"type\": \"scatterpolargl\"}], \"scatterternary\": [{\"marker\": {\"colorbar\": {\"outlinewidth\": 0, \"ticks\": \"\"}}, \"type\": \"scatterternary\"}], \"surface\": [{\"colorbar\": {\"outlinewidth\": 0, \"ticks\": \"\"}, \"colorscale\": [[0.0, \"#0d0887\"], [0.1111111111111111, \"#46039f\"], [0.2222222222222222, \"#7201a8\"], [0.3333333333333333, \"#9c179e\"], [0.4444444444444444, \"#bd3786\"], [0.5555555555555556, \"#d8576b\"], [0.6666666666666666, \"#ed7953\"], [0.7777777777777778, \"#fb9f3a\"], [0.8888888888888888, \"#fdca26\"], [1.0, \"#f0f921\"]], \"type\": \"surface\"}], \"table\": [{\"cells\": {\"fill\": {\"color\": \"#EBF0F8\"}, \"line\": {\"color\": \"white\"}}, \"header\": {\"fill\": {\"color\": \"#C8D4E3\"}, \"line\": {\"color\": \"white\"}}, \"type\": \"table\"}]}, \"layout\": {\"annotationdefaults\": {\"arrowcolor\": \"#2a3f5f\", \"arrowhead\": 0, \"arrowwidth\": 1}, \"autotypenumbers\": \"strict\", \"coloraxis\": {\"colorbar\": {\"outlinewidth\": 0, \"ticks\": \"\"}}, \"colorscale\": {\"diverging\": [[0, \"#8e0152\"], [0.1, \"#c51b7d\"], [0.2, \"#de77ae\"], [0.3, \"#f1b6da\"], [0.4, \"#fde0ef\"], [0.5, \"#f7f7f7\"], [0.6, \"#e6f5d0\"], [0.7, \"#b8e186\"], [0.8, \"#7fbc41\"], [0.9, \"#4d9221\"], [1, \"#276419\"]], \"sequential\": [[0.0, \"#0d0887\"], [0.1111111111111111, \"#46039f\"], [0.2222222222222222, \"#7201a8\"], [0.3333333333333333, \"#9c179e\"], [0.4444444444444444, \"#bd3786\"], [0.5555555555555556, \"#d8576b\"], [0.6666666666666666, \"#ed7953\"], [0.7777777777777778, \"#fb9f3a\"], [0.8888888888888888, \"#fdca26\"], [1.0, \"#f0f921\"]], \"sequentialminus\": [[0.0, \"#0d0887\"], [0.1111111111111111, \"#46039f\"], [0.2222222222222222, \"#7201a8\"], [0.3333333333333333, \"#9c179e\"], [0.4444444444444444, \"#bd3786\"], [0.5555555555555556, \"#d8576b\"], [0.6666666666666666, \"#ed7953\"], [0.7777777777777778, \"#fb9f3a\"], [0.8888888888888888, \"#fdca26\"], [1.0, \"#f0f921\"]]}, \"colorway\": [\"#636efa\", \"#EF553B\", \"#00cc96\", \"#ab63fa\", \"#FFA15A\", \"#19d3f3\", \"#FF6692\", \"#B6E880\", \"#FF97FF\", \"#FECB52\"], \"font\": {\"color\": \"#2a3f5f\"}, \"geo\": {\"bgcolor\": \"white\", \"lakecolor\": \"white\", \"landcolor\": \"#E5ECF6\", \"showlakes\": true, \"showland\": true, \"subunitcolor\": \"white\"}, \"hoverlabel\": {\"align\": \"left\"}, \"hovermode\": \"closest\", \"mapbox\": {\"style\": \"light\"}, \"paper_bgcolor\": \"white\", \"plot_bgcolor\": \"#E5ECF6\", \"polar\": {\"angularaxis\": {\"gridcolor\": \"white\", \"linecolor\": \"white\", \"ticks\": \"\"}, \"bgcolor\": \"#E5ECF6\", \"radialaxis\": {\"gridcolor\": \"white\", \"linecolor\": \"white\", \"ticks\": \"\"}}, \"scene\": {\"xaxis\": {\"backgroundcolor\": \"#E5ECF6\", \"gridcolor\": \"white\", \"gridwidth\": 2, \"linecolor\": \"white\", \"showbackground\": true, \"ticks\": \"\", \"zerolinecolor\": \"white\"}, \"yaxis\": {\"backgroundcolor\": \"#E5ECF6\", \"gridcolor\": \"white\", \"gridwidth\": 2, \"linecolor\": \"white\", \"showbackground\": true, \"ticks\": \"\", \"zerolinecolor\": \"white\"}, \"zaxis\": {\"backgroundcolor\": \"#E5ECF6\", \"gridcolor\": \"white\", \"gridwidth\": 2, \"linecolor\": \"white\", \"showbackground\": true, \"ticks\": \"\", \"zerolinecolor\": \"white\"}}, \"shapedefaults\": {\"line\": {\"color\": \"#2a3f5f\"}}, \"ternary\": {\"aaxis\": {\"gridcolor\": \"white\", \"linecolor\": \"white\", \"ticks\": \"\"}, \"baxis\": {\"gridcolor\": \"white\", \"linecolor\": \"white\", \"ticks\": \"\"}, \"bgcolor\": \"#E5ECF6\", \"caxis\": {\"gridcolor\": \"white\", \"linecolor\": \"white\", \"ticks\": \"\"}}, \"title\": {\"x\": 0.05}, \"xaxis\": {\"automargin\": true, \"gridcolor\": \"white\", \"linecolor\": \"white\", \"ticks\": \"\", \"title\": {\"standoff\": 15}, \"zerolinecolor\": \"white\", \"zerolinewidth\": 2}, \"yaxis\": {\"automargin\": true, \"gridcolor\": \"white\", \"linecolor\": \"white\", \"ticks\": \"\", \"title\": {\"standoff\": 15}, \"zerolinecolor\": \"white\", \"zerolinewidth\": 2}}}, \"title\": {\"text\": \"Actual vs. Pythagenpat Expected Win Pct.<br>2015 to 2020\", \"x\": 0.5, \"xanchor\": \"center\", \"yanchor\": \"top\"}, \"xaxis\": {\"anchor\": \"y\", \"domain\": [0.0, 1.0], \"title\": {\"text\": \"School\"}}, \"yaxis\": {\"anchor\": \"x\", \"domain\": [0.0, 1.0], \"ticklabelposition\": \"inside top\", \"title\": {\"text\": \"Percentage\"}}},                        {\"responsive\": true}                    ).then(function(){\n",
       "                            \n",
       "var gd = document.getElementById('50a98cea-c404-4bf6-9ff5-b27a81e21c2f');\n",
       "var x = new MutationObserver(function (mutations, observer) {{\n",
       "        var display = window.getComputedStyle(gd).display;\n",
       "        if (!display || display === 'none') {{\n",
       "            console.log([gd, 'removed!']);\n",
       "            Plotly.purge(gd);\n",
       "            observer.disconnect();\n",
       "        }}\n",
       "}});\n",
       "\n",
       "// Listen for the removal of the full notebook cells\n",
       "var notebookContainer = gd.closest('#notebook-container');\n",
       "if (notebookContainer) {{\n",
       "    x.observe(notebookContainer, {childList: true});\n",
       "}}\n",
       "\n",
       "// Listen for the clearing of the current output cell\n",
       "var outputEl = gd.closest('.output');\n",
       "if (outputEl) {{\n",
       "    x.observe(outputEl, {childList: true});\n",
       "}}\n",
       "\n",
       "                        })                };                });            </script>        </div>"
      ]
     },
     "metadata": {},
     "output_type": "display_data"
    }
   ],
   "source": [
    "df = generate_ivy_pythags(2015,2020)\n",
    "start = 2015\n",
    "end = 2020\n",
    "fig = px.bar(df, x=\"team_name\", y=[\"pythagenpat_pct\", \"actual_pct\"], barmode=\"group\")\n",
    "fig.update_layout( \n",
    "title = \"Actual vs. Pythagenpat Expected Win Pct.<br>\"+str(start)+\" to \"+str(end),\n",
    "title_xanchor = \"center\",\n",
    "title_yanchor = \"top\",\n",
    "title_x =  0.5,\n",
    "yaxis_title=\"Percentage\",\n",
    "xaxis_title=\"School\"\n",
    ")\n",
    "fig.update_yaxes(\n",
    "ticklabelposition=\"inside top\",\n",
    ")\n",
    "fig.show()"
   ]
  },
  {
   "cell_type": "code",
   "execution_count": 83,
   "id": "8788a092-fa21-415f-8963-9c4972189e50",
   "metadata": {},
   "outputs": [
    {
     "data": {
      "application/vnd.plotly.v1+json": {
       "config": {
        "plotlyServerURL": "https://plot.ly"
       },
       "data": [
        {
         "hovertemplate": "year=%{x}<br>wrc=%{marker.color}<extra></extra>",
         "legendgroup": "",
         "marker": {
          "color": [
           2.0537488584474906,
           3.17348401826484,
           3.0618949771689508,
           3.7060639269406392,
           -0.32397260273972484,
           5.619059360730596,
           -0.3109223744292233,
           -0.3109223744292233,
           -0.5060365296803643,
           -0.15546118721461166,
           1.8650821917808218,
           1.6358767123287672,
           12.528052631578944,
           27.252416267942582,
           13.940641148325357,
           9.660985645933017,
           10.30026315789474,
           0.3529282296650722,
           9.801272727272732,
           8.77488995215311,
           8.684090909090914,
           24.02048803827752,
           1.8723540669856455,
           -1.6254449760765546,
           -0.3362679425837318,
           -0.47120095693779923,
           0.1413492822966509,
           31.300204651162783,
           26.89064186046512,
           26.347720930232555,
           27.631283720930234,
           34.24336744186047,
           10.7066,
           11.568688372093026,
           -2.7007720930232555,
           13.765181395348838,
           7.139493023255818,
           -1.3562046511627923,
           5.834720930232555,
           6.019669767441861,
           24.990871794871794,
           21.017494505494508,
           36.92047802197802,
           21.40241391941392,
           23.90321428571428,
           25.292827838827836,
           22.73731501831502,
           4.606646520146519,
           28.091794871794868,
           20.843957875457875,
           4.932739926739927,
           3.317820512820513,
           0.7160201465201472,
           -0.6447857142857141,
           0.886967032967033,
           26.415003629764076,
           19.766651542649733,
           26.088809437386583,
           20.54659528130672,
           10.508479128856631,
           7.098885662431944,
           6.538159709618879,
           6.639744101633398,
           10.939039927404721,
           20.153774954627952,
           -0.9838312159709603,
           0.7772359346642491,
           2.5502776769509996,
           0.5731052631578962,
           0.4997495462794923,
           21.112533936651587,
           23.823031674208146,
           17.93725339366517,
           20.506289592760183,
           13.085493212669691,
           4.478099547511319,
           14.056923076923077,
           6.031524886877831,
           9.785914027149323,
           6.249221719457015,
           6.685081447963803,
           1.6394434389140287,
           0.34129411764706047,
           7.2439095022624445,
           1.4570316742081455,
           0.7195610859728515
          ],
          "coloraxis": "coloraxis",
          "symbol": "circle"
         },
         "mode": "markers",
         "name": "",
         "orientation": "v",
         "showlegend": false,
         "type": "scatter",
         "x": [
          2020,
          2020,
          2020,
          2020,
          2020,
          2020,
          2020,
          2020,
          2020,
          2020,
          2020,
          2020,
          2019,
          2019,
          2019,
          2019,
          2019,
          2019,
          2019,
          2019,
          2019,
          2019,
          2019,
          2019,
          2019,
          2019,
          2019,
          2018,
          2018,
          2018,
          2018,
          2018,
          2018,
          2018,
          2018,
          2018,
          2018,
          2018,
          2018,
          2018,
          2017,
          2017,
          2017,
          2017,
          2017,
          2017,
          2017,
          2017,
          2017,
          2017,
          2017,
          2017,
          2017,
          2017,
          2017,
          2016,
          2016,
          2016,
          2016,
          2016,
          2016,
          2016,
          2016,
          2016,
          2016,
          2016,
          2016,
          2016,
          2016,
          2016,
          2015,
          2015,
          2015,
          2015,
          2015,
          2015,
          2015,
          2015,
          2015,
          2015,
          2015,
          2015,
          2015,
          2015,
          2015,
          2015
         ],
         "xaxis": "x",
         "y": [
          2.0537488584474906,
          3.17348401826484,
          3.0618949771689508,
          3.7060639269406392,
          -0.32397260273972484,
          5.619059360730596,
          -0.3109223744292233,
          -0.3109223744292233,
          -0.5060365296803643,
          -0.15546118721461166,
          1.8650821917808218,
          1.6358767123287672,
          12.528052631578944,
          27.252416267942582,
          13.940641148325357,
          9.660985645933017,
          10.30026315789474,
          0.3529282296650722,
          9.801272727272732,
          8.77488995215311,
          8.684090909090914,
          24.02048803827752,
          1.8723540669856455,
          -1.6254449760765546,
          -0.3362679425837318,
          -0.47120095693779923,
          0.1413492822966509,
          31.300204651162783,
          26.89064186046512,
          26.347720930232555,
          27.631283720930234,
          34.24336744186047,
          10.7066,
          11.568688372093026,
          -2.7007720930232555,
          13.765181395348838,
          7.139493023255818,
          -1.3562046511627923,
          5.834720930232555,
          6.019669767441861,
          24.990871794871794,
          21.017494505494508,
          36.92047802197802,
          21.40241391941392,
          23.90321428571428,
          25.292827838827836,
          22.73731501831502,
          4.606646520146519,
          28.091794871794868,
          20.843957875457875,
          4.932739926739927,
          3.317820512820513,
          0.7160201465201472,
          -0.6447857142857141,
          0.886967032967033,
          26.415003629764076,
          19.766651542649733,
          26.088809437386583,
          20.54659528130672,
          10.508479128856631,
          7.098885662431944,
          6.538159709618879,
          6.639744101633398,
          10.939039927404721,
          20.153774954627952,
          -0.9838312159709603,
          0.7772359346642491,
          2.5502776769509996,
          0.5731052631578962,
          0.4997495462794923,
          21.112533936651587,
          23.823031674208146,
          17.93725339366517,
          20.506289592760183,
          13.085493212669691,
          4.478099547511319,
          14.056923076923077,
          6.031524886877831,
          9.785914027149323,
          6.249221719457015,
          6.685081447963803,
          1.6394434389140287,
          0.34129411764706047,
          7.2439095022624445,
          1.4570316742081455,
          0.7195610859728515
         ],
         "yaxis": "y"
        }
       ],
       "layout": {
        "coloraxis": {
         "colorbar": {
          "title": {
           "text": "wrc"
          }
         },
         "colorscale": [
          [
           0,
           "rgb(20,44,66)"
          ],
          [
           1,
           "rgb(90,179,244)"
          ]
         ]
        },
        "legend": {
         "tracegroupgap": 0
        },
        "margin": {
         "t": 60
        },
        "template": {
         "data": {
          "bar": [
           {
            "error_x": {
             "color": "rgb(51,51,51)"
            },
            "error_y": {
             "color": "rgb(51,51,51)"
            },
            "marker": {
             "line": {
              "color": "rgb(237,237,237)",
              "width": 0.5
             }
            },
            "type": "bar"
           }
          ],
          "barpolar": [
           {
            "marker": {
             "line": {
              "color": "rgb(237,237,237)",
              "width": 0.5
             }
            },
            "type": "barpolar"
           }
          ],
          "carpet": [
           {
            "aaxis": {
             "endlinecolor": "rgb(51,51,51)",
             "gridcolor": "white",
             "linecolor": "white",
             "minorgridcolor": "white",
             "startlinecolor": "rgb(51,51,51)"
            },
            "baxis": {
             "endlinecolor": "rgb(51,51,51)",
             "gridcolor": "white",
             "linecolor": "white",
             "minorgridcolor": "white",
             "startlinecolor": "rgb(51,51,51)"
            },
            "type": "carpet"
           }
          ],
          "choropleth": [
           {
            "colorbar": {
             "outlinewidth": 0,
             "tickcolor": "rgb(237,237,237)",
             "ticklen": 6,
             "ticks": "inside"
            },
            "type": "choropleth"
           }
          ],
          "contour": [
           {
            "colorbar": {
             "outlinewidth": 0,
             "tickcolor": "rgb(237,237,237)",
             "ticklen": 6,
             "ticks": "inside"
            },
            "colorscale": [
             [
              0,
              "rgb(20,44,66)"
             ],
             [
              1,
              "rgb(90,179,244)"
             ]
            ],
            "type": "contour"
           }
          ],
          "contourcarpet": [
           {
            "colorbar": {
             "outlinewidth": 0,
             "tickcolor": "rgb(237,237,237)",
             "ticklen": 6,
             "ticks": "inside"
            },
            "type": "contourcarpet"
           }
          ],
          "heatmap": [
           {
            "colorbar": {
             "outlinewidth": 0,
             "tickcolor": "rgb(237,237,237)",
             "ticklen": 6,
             "ticks": "inside"
            },
            "colorscale": [
             [
              0,
              "rgb(20,44,66)"
             ],
             [
              1,
              "rgb(90,179,244)"
             ]
            ],
            "type": "heatmap"
           }
          ],
          "heatmapgl": [
           {
            "colorbar": {
             "outlinewidth": 0,
             "tickcolor": "rgb(237,237,237)",
             "ticklen": 6,
             "ticks": "inside"
            },
            "colorscale": [
             [
              0,
              "rgb(20,44,66)"
             ],
             [
              1,
              "rgb(90,179,244)"
             ]
            ],
            "type": "heatmapgl"
           }
          ],
          "histogram": [
           {
            "marker": {
             "colorbar": {
              "outlinewidth": 0,
              "tickcolor": "rgb(237,237,237)",
              "ticklen": 6,
              "ticks": "inside"
             }
            },
            "type": "histogram"
           }
          ],
          "histogram2d": [
           {
            "colorbar": {
             "outlinewidth": 0,
             "tickcolor": "rgb(237,237,237)",
             "ticklen": 6,
             "ticks": "inside"
            },
            "colorscale": [
             [
              0,
              "rgb(20,44,66)"
             ],
             [
              1,
              "rgb(90,179,244)"
             ]
            ],
            "type": "histogram2d"
           }
          ],
          "histogram2dcontour": [
           {
            "colorbar": {
             "outlinewidth": 0,
             "tickcolor": "rgb(237,237,237)",
             "ticklen": 6,
             "ticks": "inside"
            },
            "colorscale": [
             [
              0,
              "rgb(20,44,66)"
             ],
             [
              1,
              "rgb(90,179,244)"
             ]
            ],
            "type": "histogram2dcontour"
           }
          ],
          "mesh3d": [
           {
            "colorbar": {
             "outlinewidth": 0,
             "tickcolor": "rgb(237,237,237)",
             "ticklen": 6,
             "ticks": "inside"
            },
            "type": "mesh3d"
           }
          ],
          "parcoords": [
           {
            "line": {
             "colorbar": {
              "outlinewidth": 0,
              "tickcolor": "rgb(237,237,237)",
              "ticklen": 6,
              "ticks": "inside"
             }
            },
            "type": "parcoords"
           }
          ],
          "pie": [
           {
            "automargin": true,
            "type": "pie"
           }
          ],
          "scatter": [
           {
            "marker": {
             "colorbar": {
              "outlinewidth": 0,
              "tickcolor": "rgb(237,237,237)",
              "ticklen": 6,
              "ticks": "inside"
             }
            },
            "type": "scatter"
           }
          ],
          "scatter3d": [
           {
            "line": {
             "colorbar": {
              "outlinewidth": 0,
              "tickcolor": "rgb(237,237,237)",
              "ticklen": 6,
              "ticks": "inside"
             }
            },
            "marker": {
             "colorbar": {
              "outlinewidth": 0,
              "tickcolor": "rgb(237,237,237)",
              "ticklen": 6,
              "ticks": "inside"
             }
            },
            "type": "scatter3d"
           }
          ],
          "scattercarpet": [
           {
            "marker": {
             "colorbar": {
              "outlinewidth": 0,
              "tickcolor": "rgb(237,237,237)",
              "ticklen": 6,
              "ticks": "inside"
             }
            },
            "type": "scattercarpet"
           }
          ],
          "scattergeo": [
           {
            "marker": {
             "colorbar": {
              "outlinewidth": 0,
              "tickcolor": "rgb(237,237,237)",
              "ticklen": 6,
              "ticks": "inside"
             }
            },
            "type": "scattergeo"
           }
          ],
          "scattergl": [
           {
            "marker": {
             "colorbar": {
              "outlinewidth": 0,
              "tickcolor": "rgb(237,237,237)",
              "ticklen": 6,
              "ticks": "inside"
             }
            },
            "type": "scattergl"
           }
          ],
          "scattermapbox": [
           {
            "marker": {
             "colorbar": {
              "outlinewidth": 0,
              "tickcolor": "rgb(237,237,237)",
              "ticklen": 6,
              "ticks": "inside"
             }
            },
            "type": "scattermapbox"
           }
          ],
          "scatterpolar": [
           {
            "marker": {
             "colorbar": {
              "outlinewidth": 0,
              "tickcolor": "rgb(237,237,237)",
              "ticklen": 6,
              "ticks": "inside"
             }
            },
            "type": "scatterpolar"
           }
          ],
          "scatterpolargl": [
           {
            "marker": {
             "colorbar": {
              "outlinewidth": 0,
              "tickcolor": "rgb(237,237,237)",
              "ticklen": 6,
              "ticks": "inside"
             }
            },
            "type": "scatterpolargl"
           }
          ],
          "scatterternary": [
           {
            "marker": {
             "colorbar": {
              "outlinewidth": 0,
              "tickcolor": "rgb(237,237,237)",
              "ticklen": 6,
              "ticks": "inside"
             }
            },
            "type": "scatterternary"
           }
          ],
          "surface": [
           {
            "colorbar": {
             "outlinewidth": 0,
             "tickcolor": "rgb(237,237,237)",
             "ticklen": 6,
             "ticks": "inside"
            },
            "colorscale": [
             [
              0,
              "rgb(20,44,66)"
             ],
             [
              1,
              "rgb(90,179,244)"
             ]
            ],
            "type": "surface"
           }
          ],
          "table": [
           {
            "cells": {
             "fill": {
              "color": "rgb(237,237,237)"
             },
             "line": {
              "color": "white"
             }
            },
            "header": {
             "fill": {
              "color": "rgb(217,217,217)"
             },
             "line": {
              "color": "white"
             }
            },
            "type": "table"
           }
          ]
         },
         "layout": {
          "annotationdefaults": {
           "arrowhead": 0,
           "arrowwidth": 1
          },
          "autotypenumbers": "strict",
          "coloraxis": {
           "colorbar": {
            "outlinewidth": 0,
            "tickcolor": "rgb(237,237,237)",
            "ticklen": 6,
            "ticks": "inside"
           }
          },
          "colorscale": {
           "sequential": [
            [
             0,
             "rgb(20,44,66)"
            ],
            [
             1,
             "rgb(90,179,244)"
            ]
           ],
           "sequentialminus": [
            [
             0,
             "rgb(20,44,66)"
            ],
            [
             1,
             "rgb(90,179,244)"
            ]
           ]
          },
          "colorway": [
           "#F8766D",
           "#A3A500",
           "#00BF7D",
           "#00B0F6",
           "#E76BF3"
          ],
          "font": {
           "color": "rgb(51,51,51)"
          },
          "geo": {
           "bgcolor": "white",
           "lakecolor": "white",
           "landcolor": "rgb(237,237,237)",
           "showlakes": true,
           "showland": true,
           "subunitcolor": "white"
          },
          "hoverlabel": {
           "align": "left"
          },
          "hovermode": "closest",
          "paper_bgcolor": "white",
          "plot_bgcolor": "rgb(237,237,237)",
          "polar": {
           "angularaxis": {
            "gridcolor": "white",
            "linecolor": "white",
            "showgrid": true,
            "tickcolor": "rgb(51,51,51)",
            "ticks": "outside"
           },
           "bgcolor": "rgb(237,237,237)",
           "radialaxis": {
            "gridcolor": "white",
            "linecolor": "white",
            "showgrid": true,
            "tickcolor": "rgb(51,51,51)",
            "ticks": "outside"
           }
          },
          "scene": {
           "xaxis": {
            "backgroundcolor": "rgb(237,237,237)",
            "gridcolor": "white",
            "gridwidth": 2,
            "linecolor": "white",
            "showbackground": true,
            "showgrid": true,
            "tickcolor": "rgb(51,51,51)",
            "ticks": "outside",
            "zerolinecolor": "white"
           },
           "yaxis": {
            "backgroundcolor": "rgb(237,237,237)",
            "gridcolor": "white",
            "gridwidth": 2,
            "linecolor": "white",
            "showbackground": true,
            "showgrid": true,
            "tickcolor": "rgb(51,51,51)",
            "ticks": "outside",
            "zerolinecolor": "white"
           },
           "zaxis": {
            "backgroundcolor": "rgb(237,237,237)",
            "gridcolor": "white",
            "gridwidth": 2,
            "linecolor": "white",
            "showbackground": true,
            "showgrid": true,
            "tickcolor": "rgb(51,51,51)",
            "ticks": "outside",
            "zerolinecolor": "white"
           }
          },
          "shapedefaults": {
           "fillcolor": "black",
           "line": {
            "width": 0
           },
           "opacity": 0.3
          },
          "ternary": {
           "aaxis": {
            "gridcolor": "white",
            "linecolor": "white",
            "showgrid": true,
            "tickcolor": "rgb(51,51,51)",
            "ticks": "outside"
           },
           "baxis": {
            "gridcolor": "white",
            "linecolor": "white",
            "showgrid": true,
            "tickcolor": "rgb(51,51,51)",
            "ticks": "outside"
           },
           "bgcolor": "rgb(237,237,237)",
           "caxis": {
            "gridcolor": "white",
            "linecolor": "white",
            "showgrid": true,
            "tickcolor": "rgb(51,51,51)",
            "ticks": "outside"
           }
          },
          "xaxis": {
           "automargin": true,
           "gridcolor": "white",
           "linecolor": "white",
           "showgrid": true,
           "tickcolor": "rgb(51,51,51)",
           "ticks": "outside",
           "title": {
            "standoff": 15
           },
           "zerolinecolor": "white"
          },
          "yaxis": {
           "automargin": true,
           "gridcolor": "white",
           "linecolor": "white",
           "showgrid": true,
           "tickcolor": "rgb(51,51,51)",
           "ticks": "outside",
           "title": {
            "standoff": 15
           },
           "zerolinecolor": "white"
          }
         }
        },
        "title": {
         "text": "Cornell Season Batting Performances",
         "x": 0.5,
         "yanchor": "top"
        },
        "xaxis": {
         "anchor": "y",
         "domain": [
          0,
          1
         ],
         "title": {}
        },
        "yaxis": {
         "anchor": "x",
         "domain": [
          0,
          1
         ],
         "title": {
          "text": "Weighted Runs Created (wRC)"
         }
        }
       }
      },
      "text/html": [
       "<div>                            <div id=\"7be75ee0-afd5-443b-b6c5-1c45b3d5f795\" class=\"plotly-graph-div\" style=\"height:525px; width:100%;\"></div>            <script type=\"text/javascript\">                require([\"plotly\"], function(Plotly) {                    window.PLOTLYENV=window.PLOTLYENV || {};                                    if (document.getElementById(\"7be75ee0-afd5-443b-b6c5-1c45b3d5f795\")) {                    Plotly.newPlot(                        \"7be75ee0-afd5-443b-b6c5-1c45b3d5f795\",                        [{\"hovertemplate\": \"year=%{x}<br>wrc=%{marker.color}<extra></extra>\", \"legendgroup\": \"\", \"marker\": {\"color\": [2.0537488584474906, 3.17348401826484, 3.0618949771689508, 3.7060639269406392, -0.32397260273972484, 5.619059360730596, -0.3109223744292233, -0.3109223744292233, -0.5060365296803643, -0.15546118721461166, 1.8650821917808218, 1.6358767123287672, 12.528052631578944, 27.252416267942582, 13.940641148325357, 9.660985645933017, 10.30026315789474, 0.3529282296650722, 9.801272727272732, 8.77488995215311, 8.684090909090914, 24.02048803827752, 1.8723540669856455, -1.6254449760765546, -0.3362679425837318, -0.47120095693779923, 0.1413492822966509, 31.300204651162783, 26.89064186046512, 26.347720930232555, 27.631283720930234, 34.24336744186047, 10.7066, 11.568688372093026, -2.7007720930232555, 13.765181395348838, 7.139493023255818, -1.3562046511627923, 5.834720930232555, 6.019669767441861, 24.990871794871794, 21.017494505494508, 36.92047802197802, 21.40241391941392, 23.90321428571428, 25.292827838827836, 22.73731501831502, 4.606646520146519, 28.091794871794868, 20.843957875457875, 4.932739926739927, 3.317820512820513, 0.7160201465201472, -0.6447857142857141, 0.886967032967033, 26.415003629764076, 19.766651542649733, 26.088809437386583, 20.54659528130672, 10.508479128856631, 7.098885662431944, 6.538159709618879, 6.639744101633398, 10.939039927404721, 20.153774954627952, -0.9838312159709603, 0.7772359346642491, 2.5502776769509996, 0.5731052631578962, 0.4997495462794923, 21.112533936651587, 23.823031674208146, 17.93725339366517, 20.506289592760183, 13.085493212669691, 4.478099547511319, 14.056923076923077, 6.031524886877831, 9.785914027149323, 6.249221719457015, 6.685081447963803, 1.6394434389140287, 0.34129411764706047, 7.2439095022624445, 1.4570316742081455, 0.7195610859728515], \"coloraxis\": \"coloraxis\", \"symbol\": \"circle\"}, \"mode\": \"markers\", \"name\": \"\", \"orientation\": \"v\", \"showlegend\": false, \"type\": \"scatter\", \"x\": [2020, 2020, 2020, 2020, 2020, 2020, 2020, 2020, 2020, 2020, 2020, 2020, 2019, 2019, 2019, 2019, 2019, 2019, 2019, 2019, 2019, 2019, 2019, 2019, 2019, 2019, 2019, 2018, 2018, 2018, 2018, 2018, 2018, 2018, 2018, 2018, 2018, 2018, 2018, 2018, 2017, 2017, 2017, 2017, 2017, 2017, 2017, 2017, 2017, 2017, 2017, 2017, 2017, 2017, 2017, 2016, 2016, 2016, 2016, 2016, 2016, 2016, 2016, 2016, 2016, 2016, 2016, 2016, 2016, 2016, 2015, 2015, 2015, 2015, 2015, 2015, 2015, 2015, 2015, 2015, 2015, 2015, 2015, 2015, 2015, 2015], \"xaxis\": \"x\", \"y\": [2.0537488584474906, 3.17348401826484, 3.0618949771689508, 3.7060639269406392, -0.32397260273972484, 5.619059360730596, -0.3109223744292233, -0.3109223744292233, -0.5060365296803643, -0.15546118721461166, 1.8650821917808218, 1.6358767123287672, 12.528052631578944, 27.252416267942582, 13.940641148325357, 9.660985645933017, 10.30026315789474, 0.3529282296650722, 9.801272727272732, 8.77488995215311, 8.684090909090914, 24.02048803827752, 1.8723540669856455, -1.6254449760765546, -0.3362679425837318, -0.47120095693779923, 0.1413492822966509, 31.300204651162783, 26.89064186046512, 26.347720930232555, 27.631283720930234, 34.24336744186047, 10.7066, 11.568688372093026, -2.7007720930232555, 13.765181395348838, 7.139493023255818, -1.3562046511627923, 5.834720930232555, 6.019669767441861, 24.990871794871794, 21.017494505494508, 36.92047802197802, 21.40241391941392, 23.90321428571428, 25.292827838827836, 22.73731501831502, 4.606646520146519, 28.091794871794868, 20.843957875457875, 4.932739926739927, 3.317820512820513, 0.7160201465201472, -0.6447857142857141, 0.886967032967033, 26.415003629764076, 19.766651542649733, 26.088809437386583, 20.54659528130672, 10.508479128856631, 7.098885662431944, 6.538159709618879, 6.639744101633398, 10.939039927404721, 20.153774954627952, -0.9838312159709603, 0.7772359346642491, 2.5502776769509996, 0.5731052631578962, 0.4997495462794923, 21.112533936651587, 23.823031674208146, 17.93725339366517, 20.506289592760183, 13.085493212669691, 4.478099547511319, 14.056923076923077, 6.031524886877831, 9.785914027149323, 6.249221719457015, 6.685081447963803, 1.6394434389140287, 0.34129411764706047, 7.2439095022624445, 1.4570316742081455, 0.7195610859728515], \"yaxis\": \"y\"}],                        {\"coloraxis\": {\"colorbar\": {\"title\": {\"text\": \"wrc\"}}, \"colorscale\": [[0.0, \"rgb(20,44,66)\"], [1.0, \"rgb(90,179,244)\"]]}, \"legend\": {\"tracegroupgap\": 0}, \"margin\": {\"t\": 60}, \"template\": {\"data\": {\"bar\": [{\"error_x\": {\"color\": \"rgb(51,51,51)\"}, \"error_y\": {\"color\": \"rgb(51,51,51)\"}, \"marker\": {\"line\": {\"color\": \"rgb(237,237,237)\", \"width\": 0.5}}, \"type\": \"bar\"}], \"barpolar\": [{\"marker\": {\"line\": {\"color\": \"rgb(237,237,237)\", \"width\": 0.5}}, \"type\": \"barpolar\"}], \"carpet\": [{\"aaxis\": {\"endlinecolor\": \"rgb(51,51,51)\", \"gridcolor\": \"white\", \"linecolor\": \"white\", \"minorgridcolor\": \"white\", \"startlinecolor\": \"rgb(51,51,51)\"}, \"baxis\": {\"endlinecolor\": \"rgb(51,51,51)\", \"gridcolor\": \"white\", \"linecolor\": \"white\", \"minorgridcolor\": \"white\", \"startlinecolor\": \"rgb(51,51,51)\"}, \"type\": \"carpet\"}], \"choropleth\": [{\"colorbar\": {\"outlinewidth\": 0, \"tickcolor\": \"rgb(237,237,237)\", \"ticklen\": 6, \"ticks\": \"inside\"}, \"type\": \"choropleth\"}], \"contour\": [{\"colorbar\": {\"outlinewidth\": 0, \"tickcolor\": \"rgb(237,237,237)\", \"ticklen\": 6, \"ticks\": \"inside\"}, \"colorscale\": [[0, \"rgb(20,44,66)\"], [1, \"rgb(90,179,244)\"]], \"type\": \"contour\"}], \"contourcarpet\": [{\"colorbar\": {\"outlinewidth\": 0, \"tickcolor\": \"rgb(237,237,237)\", \"ticklen\": 6, \"ticks\": \"inside\"}, \"type\": \"contourcarpet\"}], \"heatmap\": [{\"colorbar\": {\"outlinewidth\": 0, \"tickcolor\": \"rgb(237,237,237)\", \"ticklen\": 6, \"ticks\": \"inside\"}, \"colorscale\": [[0, \"rgb(20,44,66)\"], [1, \"rgb(90,179,244)\"]], \"type\": \"heatmap\"}], \"heatmapgl\": [{\"colorbar\": {\"outlinewidth\": 0, \"tickcolor\": \"rgb(237,237,237)\", \"ticklen\": 6, \"ticks\": \"inside\"}, \"colorscale\": [[0, \"rgb(20,44,66)\"], [1, \"rgb(90,179,244)\"]], \"type\": \"heatmapgl\"}], \"histogram\": [{\"marker\": {\"colorbar\": {\"outlinewidth\": 0, \"tickcolor\": \"rgb(237,237,237)\", \"ticklen\": 6, \"ticks\": \"inside\"}}, \"type\": \"histogram\"}], \"histogram2d\": [{\"colorbar\": {\"outlinewidth\": 0, \"tickcolor\": \"rgb(237,237,237)\", \"ticklen\": 6, \"ticks\": \"inside\"}, \"colorscale\": [[0, \"rgb(20,44,66)\"], [1, \"rgb(90,179,244)\"]], \"type\": \"histogram2d\"}], \"histogram2dcontour\": [{\"colorbar\": {\"outlinewidth\": 0, \"tickcolor\": \"rgb(237,237,237)\", \"ticklen\": 6, \"ticks\": \"inside\"}, \"colorscale\": [[0, \"rgb(20,44,66)\"], [1, \"rgb(90,179,244)\"]], \"type\": \"histogram2dcontour\"}], \"mesh3d\": [{\"colorbar\": {\"outlinewidth\": 0, \"tickcolor\": \"rgb(237,237,237)\", \"ticklen\": 6, \"ticks\": \"inside\"}, \"type\": \"mesh3d\"}], \"parcoords\": [{\"line\": {\"colorbar\": {\"outlinewidth\": 0, \"tickcolor\": \"rgb(237,237,237)\", \"ticklen\": 6, \"ticks\": \"inside\"}}, \"type\": \"parcoords\"}], \"pie\": [{\"automargin\": true, \"type\": \"pie\"}], \"scatter\": [{\"marker\": {\"colorbar\": {\"outlinewidth\": 0, \"tickcolor\": \"rgb(237,237,237)\", \"ticklen\": 6, \"ticks\": \"inside\"}}, \"type\": \"scatter\"}], \"scatter3d\": [{\"line\": {\"colorbar\": {\"outlinewidth\": 0, \"tickcolor\": \"rgb(237,237,237)\", \"ticklen\": 6, \"ticks\": \"inside\"}}, \"marker\": {\"colorbar\": {\"outlinewidth\": 0, \"tickcolor\": \"rgb(237,237,237)\", \"ticklen\": 6, \"ticks\": \"inside\"}}, \"type\": \"scatter3d\"}], \"scattercarpet\": [{\"marker\": {\"colorbar\": {\"outlinewidth\": 0, \"tickcolor\": \"rgb(237,237,237)\", \"ticklen\": 6, \"ticks\": \"inside\"}}, \"type\": \"scattercarpet\"}], \"scattergeo\": [{\"marker\": {\"colorbar\": {\"outlinewidth\": 0, \"tickcolor\": \"rgb(237,237,237)\", \"ticklen\": 6, \"ticks\": \"inside\"}}, \"type\": \"scattergeo\"}], \"scattergl\": [{\"marker\": {\"colorbar\": {\"outlinewidth\": 0, \"tickcolor\": \"rgb(237,237,237)\", \"ticklen\": 6, \"ticks\": \"inside\"}}, \"type\": \"scattergl\"}], \"scattermapbox\": [{\"marker\": {\"colorbar\": {\"outlinewidth\": 0, \"tickcolor\": \"rgb(237,237,237)\", \"ticklen\": 6, \"ticks\": \"inside\"}}, \"type\": \"scattermapbox\"}], \"scatterpolar\": [{\"marker\": {\"colorbar\": {\"outlinewidth\": 0, \"tickcolor\": \"rgb(237,237,237)\", \"ticklen\": 6, \"ticks\": \"inside\"}}, \"type\": \"scatterpolar\"}], \"scatterpolargl\": [{\"marker\": {\"colorbar\": {\"outlinewidth\": 0, \"tickcolor\": \"rgb(237,237,237)\", \"ticklen\": 6, \"ticks\": \"inside\"}}, \"type\": \"scatterpolargl\"}], \"scatterternary\": [{\"marker\": {\"colorbar\": {\"outlinewidth\": 0, \"tickcolor\": \"rgb(237,237,237)\", \"ticklen\": 6, \"ticks\": \"inside\"}}, \"type\": \"scatterternary\"}], \"surface\": [{\"colorbar\": {\"outlinewidth\": 0, \"tickcolor\": \"rgb(237,237,237)\", \"ticklen\": 6, \"ticks\": \"inside\"}, \"colorscale\": [[0, \"rgb(20,44,66)\"], [1, \"rgb(90,179,244)\"]], \"type\": \"surface\"}], \"table\": [{\"cells\": {\"fill\": {\"color\": \"rgb(237,237,237)\"}, \"line\": {\"color\": \"white\"}}, \"header\": {\"fill\": {\"color\": \"rgb(217,217,217)\"}, \"line\": {\"color\": \"white\"}}, \"type\": \"table\"}]}, \"layout\": {\"annotationdefaults\": {\"arrowhead\": 0, \"arrowwidth\": 1}, \"autotypenumbers\": \"strict\", \"coloraxis\": {\"colorbar\": {\"outlinewidth\": 0, \"tickcolor\": \"rgb(237,237,237)\", \"ticklen\": 6, \"ticks\": \"inside\"}}, \"colorscale\": {\"sequential\": [[0, \"rgb(20,44,66)\"], [1, \"rgb(90,179,244)\"]], \"sequentialminus\": [[0, \"rgb(20,44,66)\"], [1, \"rgb(90,179,244)\"]]}, \"colorway\": [\"#F8766D\", \"#A3A500\", \"#00BF7D\", \"#00B0F6\", \"#E76BF3\"], \"font\": {\"color\": \"rgb(51,51,51)\"}, \"geo\": {\"bgcolor\": \"white\", \"lakecolor\": \"white\", \"landcolor\": \"rgb(237,237,237)\", \"showlakes\": true, \"showland\": true, \"subunitcolor\": \"white\"}, \"hoverlabel\": {\"align\": \"left\"}, \"hovermode\": \"closest\", \"paper_bgcolor\": \"white\", \"plot_bgcolor\": \"rgb(237,237,237)\", \"polar\": {\"angularaxis\": {\"gridcolor\": \"white\", \"linecolor\": \"white\", \"showgrid\": true, \"tickcolor\": \"rgb(51,51,51)\", \"ticks\": \"outside\"}, \"bgcolor\": \"rgb(237,237,237)\", \"radialaxis\": {\"gridcolor\": \"white\", \"linecolor\": \"white\", \"showgrid\": true, \"tickcolor\": \"rgb(51,51,51)\", \"ticks\": \"outside\"}}, \"scene\": {\"xaxis\": {\"backgroundcolor\": \"rgb(237,237,237)\", \"gridcolor\": \"white\", \"gridwidth\": 2, \"linecolor\": \"white\", \"showbackground\": true, \"showgrid\": true, \"tickcolor\": \"rgb(51,51,51)\", \"ticks\": \"outside\", \"zerolinecolor\": \"white\"}, \"yaxis\": {\"backgroundcolor\": \"rgb(237,237,237)\", \"gridcolor\": \"white\", \"gridwidth\": 2, \"linecolor\": \"white\", \"showbackground\": true, \"showgrid\": true, \"tickcolor\": \"rgb(51,51,51)\", \"ticks\": \"outside\", \"zerolinecolor\": \"white\"}, \"zaxis\": {\"backgroundcolor\": \"rgb(237,237,237)\", \"gridcolor\": \"white\", \"gridwidth\": 2, \"linecolor\": \"white\", \"showbackground\": true, \"showgrid\": true, \"tickcolor\": \"rgb(51,51,51)\", \"ticks\": \"outside\", \"zerolinecolor\": \"white\"}}, \"shapedefaults\": {\"fillcolor\": \"black\", \"line\": {\"width\": 0}, \"opacity\": 0.3}, \"ternary\": {\"aaxis\": {\"gridcolor\": \"white\", \"linecolor\": \"white\", \"showgrid\": true, \"tickcolor\": \"rgb(51,51,51)\", \"ticks\": \"outside\"}, \"baxis\": {\"gridcolor\": \"white\", \"linecolor\": \"white\", \"showgrid\": true, \"tickcolor\": \"rgb(51,51,51)\", \"ticks\": \"outside\"}, \"bgcolor\": \"rgb(237,237,237)\", \"caxis\": {\"gridcolor\": \"white\", \"linecolor\": \"white\", \"showgrid\": true, \"tickcolor\": \"rgb(51,51,51)\", \"ticks\": \"outside\"}}, \"xaxis\": {\"automargin\": true, \"gridcolor\": \"white\", \"linecolor\": \"white\", \"showgrid\": true, \"tickcolor\": \"rgb(51,51,51)\", \"ticks\": \"outside\", \"title\": {\"standoff\": 15}, \"zerolinecolor\": \"white\"}, \"yaxis\": {\"automargin\": true, \"gridcolor\": \"white\", \"linecolor\": \"white\", \"showgrid\": true, \"tickcolor\": \"rgb(51,51,51)\", \"ticks\": \"outside\", \"title\": {\"standoff\": 15}, \"zerolinecolor\": \"white\"}}}, \"title\": {\"text\": \"Cornell Season Batting Performances\", \"x\": 0.5, \"yanchor\": \"top\"}, \"xaxis\": {\"anchor\": \"y\", \"domain\": [0.0, 1.0], \"title\": {}}, \"yaxis\": {\"anchor\": \"x\", \"domain\": [0.0, 1.0], \"title\": {\"text\": \"Weighted Runs Created (wRC)\"}}},                        {\"responsive\": true}                    ).then(function(){\n",
       "                            \n",
       "var gd = document.getElementById('7be75ee0-afd5-443b-b6c5-1c45b3d5f795');\n",
       "var x = new MutationObserver(function (mutations, observer) {{\n",
       "        var display = window.getComputedStyle(gd).display;\n",
       "        if (!display || display === 'none') {{\n",
       "            console.log([gd, 'removed!']);\n",
       "            Plotly.purge(gd);\n",
       "            observer.disconnect();\n",
       "        }}\n",
       "}});\n",
       "\n",
       "// Listen for the removal of the full notebook cells\n",
       "var notebookContainer = gd.closest('#notebook-container');\n",
       "if (notebookContainer) {{\n",
       "    x.observe(notebookContainer, {childList: true});\n",
       "}}\n",
       "\n",
       "// Listen for the clearing of the current output cell\n",
       "var outputEl = gd.closest('.output');\n",
       "if (outputEl) {{\n",
       "    x.observe(outputEl, {childList: true});\n",
       "}}\n",
       "\n",
       "                        })                };                });            </script>        </div>"
      ]
     },
     "metadata": {},
     "output_type": "display_data"
    }
   ],
   "source": [
    "data = get_cornell_batting_stats(2015)\n",
    "fig = px.scatter(data, x=\"year\", y=\"wrc\", color=\"wrc\", template=\"ggplot2\")\n",
    "fig.update_layout( \n",
    "title = \"Cornell Season Batting Performances\",\n",
    "title_yanchor = \"top\",\n",
    "title_x =  0.5,\n",
    "yaxis_title=\"Weighted Runs Created (wRC)\",\n",
    "xaxis_title=None\n",
    ")\n",
    "fig.show()"
   ]
  },
  {
   "cell_type": "code",
   "execution_count": 84,
   "id": "6e5a0694-617b-4ba4-8554-42ed30303f63",
   "metadata": {},
   "outputs": [
    {
     "data": {
      "application/vnd.plotly.v1+json": {
       "config": {
        "plotlyServerURL": "https://plot.ly"
       },
       "data": [
        {
         "hovertemplate": "year=%{x}<br>woba=%{marker.color}<extra></extra>",
         "legendgroup": "",
         "marker": {
          "color": [
           0.26194212121212124,
           0.3058906451612903,
           0.3019490322580645,
           0.3065211111111111,
           0.18394083333333333,
           0.3557126315789474,
           0.17677199999999998,
           0.17677199999999998,
           0.16860818181818182,
           0.17677199999999998,
           0.32994599999999996,
           0.39282666666666666,
           0.2828193333333333,
           0.3848684713375796,
           0.30904,
           0.2698942763157895,
           0.29547307692307695,
           0.2064492741935484,
           0.29027440677966104,
           0.3076768181818182,
           0.2837836283185841,
           0.4126534166666667,
           0.29241181818181816,
           0.16654913043478262,
           0.18151250000000002,
           0.170648,
           0.22193875000000002,
           0.39360522727272723,
           0.3630218888888889,
           0.37305030120481925,
           0.37923232142857144,
           0.42965722222222225,
           0.29450176,
           0.32678840000000003,
           0.1708670652173913,
           0.36326815217391306,
           0.29489433734939763,
           0.17728844827586204,
           0.33043163265306114,
           0.34010893617021276,
           0.38702732394366196,
           0.33064934911242605,
           0.44371537037037034,
           0.37325190839694655,
           0.42182060869565213,
           0.41062343749999997,
           0.3967069918699187,
           0.25545192771084335,
           0.4737189090909091,
           0.44225271739130434,
           0.2696572222222222,
           0.24013225,
           0.25069357142857146,
           0.16550625,
           0.315915,
           0.3850790849673203,
           0.34504855172413795,
           0.3917389041095891,
           0.3499065753424657,
           0.2787375362318841,
           0.26344456140350875,
           0.2805964285714286,
           0.27522857142857143,
           0.3302694382022472,
           0.41691659999999997,
           0.1598483870967742,
           0.21098264150943397,
           0.2989111111111111,
           0.22806210526315793,
           0.2636625,
           0.3434234375,
           0.36214281249999997,
           0.3222732704402516,
           0.3528167123287671,
           0.3340250943396227,
           0.24259954545454548,
           0.3469698076923077,
           0.30340603174603176,
           0.3025998058252427,
           0.30899225806451613,
           0.31486920634920634,
           0.24180000000000001,
           0.2051576,
           0.5311366666666667,
           0.25953884615384615,
           0.23946315789473685
          ],
          "coloraxis": "coloraxis",
          "symbol": "circle"
         },
         "mode": "markers",
         "name": "",
         "orientation": "v",
         "showlegend": false,
         "type": "scatter",
         "x": [
          2020,
          2020,
          2020,
          2020,
          2020,
          2020,
          2020,
          2020,
          2020,
          2020,
          2020,
          2020,
          2019,
          2019,
          2019,
          2019,
          2019,
          2019,
          2019,
          2019,
          2019,
          2019,
          2019,
          2019,
          2019,
          2019,
          2019,
          2018,
          2018,
          2018,
          2018,
          2018,
          2018,
          2018,
          2018,
          2018,
          2018,
          2018,
          2018,
          2018,
          2017,
          2017,
          2017,
          2017,
          2017,
          2017,
          2017,
          2017,
          2017,
          2017,
          2017,
          2017,
          2017,
          2017,
          2017,
          2016,
          2016,
          2016,
          2016,
          2016,
          2016,
          2016,
          2016,
          2016,
          2016,
          2016,
          2016,
          2016,
          2016,
          2016,
          2015,
          2015,
          2015,
          2015,
          2015,
          2015,
          2015,
          2015,
          2015,
          2015,
          2015,
          2015,
          2015,
          2015,
          2015,
          2015
         ],
         "xaxis": "x",
         "y": [
          0.26194212121212124,
          0.3058906451612903,
          0.3019490322580645,
          0.3065211111111111,
          0.18394083333333333,
          0.3557126315789474,
          0.17677199999999998,
          0.17677199999999998,
          0.16860818181818182,
          0.17677199999999998,
          0.32994599999999996,
          0.39282666666666666,
          0.2828193333333333,
          0.3848684713375796,
          0.30904,
          0.2698942763157895,
          0.29547307692307695,
          0.2064492741935484,
          0.29027440677966104,
          0.3076768181818182,
          0.2837836283185841,
          0.4126534166666667,
          0.29241181818181816,
          0.16654913043478262,
          0.18151250000000002,
          0.170648,
          0.22193875000000002,
          0.39360522727272723,
          0.3630218888888889,
          0.37305030120481925,
          0.37923232142857144,
          0.42965722222222225,
          0.29450176,
          0.32678840000000003,
          0.1708670652173913,
          0.36326815217391306,
          0.29489433734939763,
          0.17728844827586204,
          0.33043163265306114,
          0.34010893617021276,
          0.38702732394366196,
          0.33064934911242605,
          0.44371537037037034,
          0.37325190839694655,
          0.42182060869565213,
          0.41062343749999997,
          0.3967069918699187,
          0.25545192771084335,
          0.4737189090909091,
          0.44225271739130434,
          0.2696572222222222,
          0.24013225,
          0.25069357142857146,
          0.16550625,
          0.315915,
          0.3850790849673203,
          0.34504855172413795,
          0.3917389041095891,
          0.3499065753424657,
          0.2787375362318841,
          0.26344456140350875,
          0.2805964285714286,
          0.27522857142857143,
          0.3302694382022472,
          0.41691659999999997,
          0.1598483870967742,
          0.21098264150943397,
          0.2989111111111111,
          0.22806210526315793,
          0.2636625,
          0.3434234375,
          0.36214281249999997,
          0.3222732704402516,
          0.3528167123287671,
          0.3340250943396227,
          0.24259954545454548,
          0.3469698076923077,
          0.30340603174603176,
          0.3025998058252427,
          0.30899225806451613,
          0.31486920634920634,
          0.24180000000000001,
          0.2051576,
          0.5311366666666667,
          0.25953884615384615,
          0.23946315789473685
         ],
         "yaxis": "y"
        }
       ],
       "layout": {
        "coloraxis": {
         "colorbar": {
          "title": {
           "text": "woba"
          }
         },
         "colorscale": [
          [
           0,
           "rgb(20,44,66)"
          ],
          [
           1,
           "rgb(90,179,244)"
          ]
         ]
        },
        "legend": {
         "tracegroupgap": 0
        },
        "margin": {
         "t": 60
        },
        "template": {
         "data": {
          "bar": [
           {
            "error_x": {
             "color": "rgb(51,51,51)"
            },
            "error_y": {
             "color": "rgb(51,51,51)"
            },
            "marker": {
             "line": {
              "color": "rgb(237,237,237)",
              "width": 0.5
             }
            },
            "type": "bar"
           }
          ],
          "barpolar": [
           {
            "marker": {
             "line": {
              "color": "rgb(237,237,237)",
              "width": 0.5
             }
            },
            "type": "barpolar"
           }
          ],
          "carpet": [
           {
            "aaxis": {
             "endlinecolor": "rgb(51,51,51)",
             "gridcolor": "white",
             "linecolor": "white",
             "minorgridcolor": "white",
             "startlinecolor": "rgb(51,51,51)"
            },
            "baxis": {
             "endlinecolor": "rgb(51,51,51)",
             "gridcolor": "white",
             "linecolor": "white",
             "minorgridcolor": "white",
             "startlinecolor": "rgb(51,51,51)"
            },
            "type": "carpet"
           }
          ],
          "choropleth": [
           {
            "colorbar": {
             "outlinewidth": 0,
             "tickcolor": "rgb(237,237,237)",
             "ticklen": 6,
             "ticks": "inside"
            },
            "type": "choropleth"
           }
          ],
          "contour": [
           {
            "colorbar": {
             "outlinewidth": 0,
             "tickcolor": "rgb(237,237,237)",
             "ticklen": 6,
             "ticks": "inside"
            },
            "colorscale": [
             [
              0,
              "rgb(20,44,66)"
             ],
             [
              1,
              "rgb(90,179,244)"
             ]
            ],
            "type": "contour"
           }
          ],
          "contourcarpet": [
           {
            "colorbar": {
             "outlinewidth": 0,
             "tickcolor": "rgb(237,237,237)",
             "ticklen": 6,
             "ticks": "inside"
            },
            "type": "contourcarpet"
           }
          ],
          "heatmap": [
           {
            "colorbar": {
             "outlinewidth": 0,
             "tickcolor": "rgb(237,237,237)",
             "ticklen": 6,
             "ticks": "inside"
            },
            "colorscale": [
             [
              0,
              "rgb(20,44,66)"
             ],
             [
              1,
              "rgb(90,179,244)"
             ]
            ],
            "type": "heatmap"
           }
          ],
          "heatmapgl": [
           {
            "colorbar": {
             "outlinewidth": 0,
             "tickcolor": "rgb(237,237,237)",
             "ticklen": 6,
             "ticks": "inside"
            },
            "colorscale": [
             [
              0,
              "rgb(20,44,66)"
             ],
             [
              1,
              "rgb(90,179,244)"
             ]
            ],
            "type": "heatmapgl"
           }
          ],
          "histogram": [
           {
            "marker": {
             "colorbar": {
              "outlinewidth": 0,
              "tickcolor": "rgb(237,237,237)",
              "ticklen": 6,
              "ticks": "inside"
             }
            },
            "type": "histogram"
           }
          ],
          "histogram2d": [
           {
            "colorbar": {
             "outlinewidth": 0,
             "tickcolor": "rgb(237,237,237)",
             "ticklen": 6,
             "ticks": "inside"
            },
            "colorscale": [
             [
              0,
              "rgb(20,44,66)"
             ],
             [
              1,
              "rgb(90,179,244)"
             ]
            ],
            "type": "histogram2d"
           }
          ],
          "histogram2dcontour": [
           {
            "colorbar": {
             "outlinewidth": 0,
             "tickcolor": "rgb(237,237,237)",
             "ticklen": 6,
             "ticks": "inside"
            },
            "colorscale": [
             [
              0,
              "rgb(20,44,66)"
             ],
             [
              1,
              "rgb(90,179,244)"
             ]
            ],
            "type": "histogram2dcontour"
           }
          ],
          "mesh3d": [
           {
            "colorbar": {
             "outlinewidth": 0,
             "tickcolor": "rgb(237,237,237)",
             "ticklen": 6,
             "ticks": "inside"
            },
            "type": "mesh3d"
           }
          ],
          "parcoords": [
           {
            "line": {
             "colorbar": {
              "outlinewidth": 0,
              "tickcolor": "rgb(237,237,237)",
              "ticklen": 6,
              "ticks": "inside"
             }
            },
            "type": "parcoords"
           }
          ],
          "pie": [
           {
            "automargin": true,
            "type": "pie"
           }
          ],
          "scatter": [
           {
            "marker": {
             "colorbar": {
              "outlinewidth": 0,
              "tickcolor": "rgb(237,237,237)",
              "ticklen": 6,
              "ticks": "inside"
             }
            },
            "type": "scatter"
           }
          ],
          "scatter3d": [
           {
            "line": {
             "colorbar": {
              "outlinewidth": 0,
              "tickcolor": "rgb(237,237,237)",
              "ticklen": 6,
              "ticks": "inside"
             }
            },
            "marker": {
             "colorbar": {
              "outlinewidth": 0,
              "tickcolor": "rgb(237,237,237)",
              "ticklen": 6,
              "ticks": "inside"
             }
            },
            "type": "scatter3d"
           }
          ],
          "scattercarpet": [
           {
            "marker": {
             "colorbar": {
              "outlinewidth": 0,
              "tickcolor": "rgb(237,237,237)",
              "ticklen": 6,
              "ticks": "inside"
             }
            },
            "type": "scattercarpet"
           }
          ],
          "scattergeo": [
           {
            "marker": {
             "colorbar": {
              "outlinewidth": 0,
              "tickcolor": "rgb(237,237,237)",
              "ticklen": 6,
              "ticks": "inside"
             }
            },
            "type": "scattergeo"
           }
          ],
          "scattergl": [
           {
            "marker": {
             "colorbar": {
              "outlinewidth": 0,
              "tickcolor": "rgb(237,237,237)",
              "ticklen": 6,
              "ticks": "inside"
             }
            },
            "type": "scattergl"
           }
          ],
          "scattermapbox": [
           {
            "marker": {
             "colorbar": {
              "outlinewidth": 0,
              "tickcolor": "rgb(237,237,237)",
              "ticklen": 6,
              "ticks": "inside"
             }
            },
            "type": "scattermapbox"
           }
          ],
          "scatterpolar": [
           {
            "marker": {
             "colorbar": {
              "outlinewidth": 0,
              "tickcolor": "rgb(237,237,237)",
              "ticklen": 6,
              "ticks": "inside"
             }
            },
            "type": "scatterpolar"
           }
          ],
          "scatterpolargl": [
           {
            "marker": {
             "colorbar": {
              "outlinewidth": 0,
              "tickcolor": "rgb(237,237,237)",
              "ticklen": 6,
              "ticks": "inside"
             }
            },
            "type": "scatterpolargl"
           }
          ],
          "scatterternary": [
           {
            "marker": {
             "colorbar": {
              "outlinewidth": 0,
              "tickcolor": "rgb(237,237,237)",
              "ticklen": 6,
              "ticks": "inside"
             }
            },
            "type": "scatterternary"
           }
          ],
          "surface": [
           {
            "colorbar": {
             "outlinewidth": 0,
             "tickcolor": "rgb(237,237,237)",
             "ticklen": 6,
             "ticks": "inside"
            },
            "colorscale": [
             [
              0,
              "rgb(20,44,66)"
             ],
             [
              1,
              "rgb(90,179,244)"
             ]
            ],
            "type": "surface"
           }
          ],
          "table": [
           {
            "cells": {
             "fill": {
              "color": "rgb(237,237,237)"
             },
             "line": {
              "color": "white"
             }
            },
            "header": {
             "fill": {
              "color": "rgb(217,217,217)"
             },
             "line": {
              "color": "white"
             }
            },
            "type": "table"
           }
          ]
         },
         "layout": {
          "annotationdefaults": {
           "arrowhead": 0,
           "arrowwidth": 1
          },
          "autotypenumbers": "strict",
          "coloraxis": {
           "colorbar": {
            "outlinewidth": 0,
            "tickcolor": "rgb(237,237,237)",
            "ticklen": 6,
            "ticks": "inside"
           }
          },
          "colorscale": {
           "sequential": [
            [
             0,
             "rgb(20,44,66)"
            ],
            [
             1,
             "rgb(90,179,244)"
            ]
           ],
           "sequentialminus": [
            [
             0,
             "rgb(20,44,66)"
            ],
            [
             1,
             "rgb(90,179,244)"
            ]
           ]
          },
          "colorway": [
           "#F8766D",
           "#A3A500",
           "#00BF7D",
           "#00B0F6",
           "#E76BF3"
          ],
          "font": {
           "color": "rgb(51,51,51)"
          },
          "geo": {
           "bgcolor": "white",
           "lakecolor": "white",
           "landcolor": "rgb(237,237,237)",
           "showlakes": true,
           "showland": true,
           "subunitcolor": "white"
          },
          "hoverlabel": {
           "align": "left"
          },
          "hovermode": "closest",
          "paper_bgcolor": "white",
          "plot_bgcolor": "rgb(237,237,237)",
          "polar": {
           "angularaxis": {
            "gridcolor": "white",
            "linecolor": "white",
            "showgrid": true,
            "tickcolor": "rgb(51,51,51)",
            "ticks": "outside"
           },
           "bgcolor": "rgb(237,237,237)",
           "radialaxis": {
            "gridcolor": "white",
            "linecolor": "white",
            "showgrid": true,
            "tickcolor": "rgb(51,51,51)",
            "ticks": "outside"
           }
          },
          "scene": {
           "xaxis": {
            "backgroundcolor": "rgb(237,237,237)",
            "gridcolor": "white",
            "gridwidth": 2,
            "linecolor": "white",
            "showbackground": true,
            "showgrid": true,
            "tickcolor": "rgb(51,51,51)",
            "ticks": "outside",
            "zerolinecolor": "white"
           },
           "yaxis": {
            "backgroundcolor": "rgb(237,237,237)",
            "gridcolor": "white",
            "gridwidth": 2,
            "linecolor": "white",
            "showbackground": true,
            "showgrid": true,
            "tickcolor": "rgb(51,51,51)",
            "ticks": "outside",
            "zerolinecolor": "white"
           },
           "zaxis": {
            "backgroundcolor": "rgb(237,237,237)",
            "gridcolor": "white",
            "gridwidth": 2,
            "linecolor": "white",
            "showbackground": true,
            "showgrid": true,
            "tickcolor": "rgb(51,51,51)",
            "ticks": "outside",
            "zerolinecolor": "white"
           }
          },
          "shapedefaults": {
           "fillcolor": "black",
           "line": {
            "width": 0
           },
           "opacity": 0.3
          },
          "ternary": {
           "aaxis": {
            "gridcolor": "white",
            "linecolor": "white",
            "showgrid": true,
            "tickcolor": "rgb(51,51,51)",
            "ticks": "outside"
           },
           "baxis": {
            "gridcolor": "white",
            "linecolor": "white",
            "showgrid": true,
            "tickcolor": "rgb(51,51,51)",
            "ticks": "outside"
           },
           "bgcolor": "rgb(237,237,237)",
           "caxis": {
            "gridcolor": "white",
            "linecolor": "white",
            "showgrid": true,
            "tickcolor": "rgb(51,51,51)",
            "ticks": "outside"
           }
          },
          "xaxis": {
           "automargin": true,
           "gridcolor": "white",
           "linecolor": "white",
           "showgrid": true,
           "tickcolor": "rgb(51,51,51)",
           "ticks": "outside",
           "title": {
            "standoff": 15
           },
           "zerolinecolor": "white"
          },
          "yaxis": {
           "automargin": true,
           "gridcolor": "white",
           "linecolor": "white",
           "showgrid": true,
           "tickcolor": "rgb(51,51,51)",
           "ticks": "outside",
           "title": {
            "standoff": 15
           },
           "zerolinecolor": "white"
          }
         }
        },
        "title": {
         "text": "Cornell Individual Batting Performances <br><i>min. 5 AB</i>",
         "x": 0.5,
         "yanchor": "top"
        },
        "xaxis": {
         "anchor": "y",
         "domain": [
          0,
          1
         ],
         "title": {}
        },
        "yaxis": {
         "anchor": "x",
         "domain": [
          0,
          1
         ],
         "title": {
          "text": "Weighted On-Base Average (wOBA)"
         }
        }
       }
      },
      "text/html": [
       "<div>                            <div id=\"c3559bf1-7bda-4566-9241-0e9b325d1bf0\" class=\"plotly-graph-div\" style=\"height:525px; width:100%;\"></div>            <script type=\"text/javascript\">                require([\"plotly\"], function(Plotly) {                    window.PLOTLYENV=window.PLOTLYENV || {};                                    if (document.getElementById(\"c3559bf1-7bda-4566-9241-0e9b325d1bf0\")) {                    Plotly.newPlot(                        \"c3559bf1-7bda-4566-9241-0e9b325d1bf0\",                        [{\"hovertemplate\": \"year=%{x}<br>woba=%{marker.color}<extra></extra>\", \"legendgroup\": \"\", \"marker\": {\"color\": [0.26194212121212124, 0.3058906451612903, 0.3019490322580645, 0.3065211111111111, 0.18394083333333333, 0.3557126315789474, 0.17677199999999998, 0.17677199999999998, 0.16860818181818182, 0.17677199999999998, 0.32994599999999996, 0.39282666666666666, 0.2828193333333333, 0.3848684713375796, 0.30904, 0.2698942763157895, 0.29547307692307695, 0.2064492741935484, 0.29027440677966104, 0.3076768181818182, 0.2837836283185841, 0.4126534166666667, 0.29241181818181816, 0.16654913043478262, 0.18151250000000002, 0.170648, 0.22193875000000002, 0.39360522727272723, 0.3630218888888889, 0.37305030120481925, 0.37923232142857144, 0.42965722222222225, 0.29450176, 0.32678840000000003, 0.1708670652173913, 0.36326815217391306, 0.29489433734939763, 0.17728844827586204, 0.33043163265306114, 0.34010893617021276, 0.38702732394366196, 0.33064934911242605, 0.44371537037037034, 0.37325190839694655, 0.42182060869565213, 0.41062343749999997, 0.3967069918699187, 0.25545192771084335, 0.4737189090909091, 0.44225271739130434, 0.2696572222222222, 0.24013225, 0.25069357142857146, 0.16550625, 0.315915, 0.3850790849673203, 0.34504855172413795, 0.3917389041095891, 0.3499065753424657, 0.2787375362318841, 0.26344456140350875, 0.2805964285714286, 0.27522857142857143, 0.3302694382022472, 0.41691659999999997, 0.1598483870967742, 0.21098264150943397, 0.2989111111111111, 0.22806210526315793, 0.2636625, 0.3434234375, 0.36214281249999997, 0.3222732704402516, 0.3528167123287671, 0.3340250943396227, 0.24259954545454548, 0.3469698076923077, 0.30340603174603176, 0.3025998058252427, 0.30899225806451613, 0.31486920634920634, 0.24180000000000001, 0.2051576, 0.5311366666666667, 0.25953884615384615, 0.23946315789473685], \"coloraxis\": \"coloraxis\", \"symbol\": \"circle\"}, \"mode\": \"markers\", \"name\": \"\", \"orientation\": \"v\", \"showlegend\": false, \"type\": \"scatter\", \"x\": [2020, 2020, 2020, 2020, 2020, 2020, 2020, 2020, 2020, 2020, 2020, 2020, 2019, 2019, 2019, 2019, 2019, 2019, 2019, 2019, 2019, 2019, 2019, 2019, 2019, 2019, 2019, 2018, 2018, 2018, 2018, 2018, 2018, 2018, 2018, 2018, 2018, 2018, 2018, 2018, 2017, 2017, 2017, 2017, 2017, 2017, 2017, 2017, 2017, 2017, 2017, 2017, 2017, 2017, 2017, 2016, 2016, 2016, 2016, 2016, 2016, 2016, 2016, 2016, 2016, 2016, 2016, 2016, 2016, 2016, 2015, 2015, 2015, 2015, 2015, 2015, 2015, 2015, 2015, 2015, 2015, 2015, 2015, 2015, 2015, 2015], \"xaxis\": \"x\", \"y\": [0.26194212121212124, 0.3058906451612903, 0.3019490322580645, 0.3065211111111111, 0.18394083333333333, 0.3557126315789474, 0.17677199999999998, 0.17677199999999998, 0.16860818181818182, 0.17677199999999998, 0.32994599999999996, 0.39282666666666666, 0.2828193333333333, 0.3848684713375796, 0.30904, 0.2698942763157895, 0.29547307692307695, 0.2064492741935484, 0.29027440677966104, 0.3076768181818182, 0.2837836283185841, 0.4126534166666667, 0.29241181818181816, 0.16654913043478262, 0.18151250000000002, 0.170648, 0.22193875000000002, 0.39360522727272723, 0.3630218888888889, 0.37305030120481925, 0.37923232142857144, 0.42965722222222225, 0.29450176, 0.32678840000000003, 0.1708670652173913, 0.36326815217391306, 0.29489433734939763, 0.17728844827586204, 0.33043163265306114, 0.34010893617021276, 0.38702732394366196, 0.33064934911242605, 0.44371537037037034, 0.37325190839694655, 0.42182060869565213, 0.41062343749999997, 0.3967069918699187, 0.25545192771084335, 0.4737189090909091, 0.44225271739130434, 0.2696572222222222, 0.24013225, 0.25069357142857146, 0.16550625, 0.315915, 0.3850790849673203, 0.34504855172413795, 0.3917389041095891, 0.3499065753424657, 0.2787375362318841, 0.26344456140350875, 0.2805964285714286, 0.27522857142857143, 0.3302694382022472, 0.41691659999999997, 0.1598483870967742, 0.21098264150943397, 0.2989111111111111, 0.22806210526315793, 0.2636625, 0.3434234375, 0.36214281249999997, 0.3222732704402516, 0.3528167123287671, 0.3340250943396227, 0.24259954545454548, 0.3469698076923077, 0.30340603174603176, 0.3025998058252427, 0.30899225806451613, 0.31486920634920634, 0.24180000000000001, 0.2051576, 0.5311366666666667, 0.25953884615384615, 0.23946315789473685], \"yaxis\": \"y\"}],                        {\"coloraxis\": {\"colorbar\": {\"title\": {\"text\": \"woba\"}}, \"colorscale\": [[0.0, \"rgb(20,44,66)\"], [1.0, \"rgb(90,179,244)\"]]}, \"legend\": {\"tracegroupgap\": 0}, \"margin\": {\"t\": 60}, \"template\": {\"data\": {\"bar\": [{\"error_x\": {\"color\": \"rgb(51,51,51)\"}, \"error_y\": {\"color\": \"rgb(51,51,51)\"}, \"marker\": {\"line\": {\"color\": \"rgb(237,237,237)\", \"width\": 0.5}}, \"type\": \"bar\"}], \"barpolar\": [{\"marker\": {\"line\": {\"color\": \"rgb(237,237,237)\", \"width\": 0.5}}, \"type\": \"barpolar\"}], \"carpet\": [{\"aaxis\": {\"endlinecolor\": \"rgb(51,51,51)\", \"gridcolor\": \"white\", \"linecolor\": \"white\", \"minorgridcolor\": \"white\", \"startlinecolor\": \"rgb(51,51,51)\"}, \"baxis\": {\"endlinecolor\": \"rgb(51,51,51)\", \"gridcolor\": \"white\", \"linecolor\": \"white\", \"minorgridcolor\": \"white\", \"startlinecolor\": \"rgb(51,51,51)\"}, \"type\": \"carpet\"}], \"choropleth\": [{\"colorbar\": {\"outlinewidth\": 0, \"tickcolor\": \"rgb(237,237,237)\", \"ticklen\": 6, \"ticks\": \"inside\"}, \"type\": \"choropleth\"}], \"contour\": [{\"colorbar\": {\"outlinewidth\": 0, \"tickcolor\": \"rgb(237,237,237)\", \"ticklen\": 6, \"ticks\": \"inside\"}, \"colorscale\": [[0, \"rgb(20,44,66)\"], [1, \"rgb(90,179,244)\"]], \"type\": \"contour\"}], \"contourcarpet\": [{\"colorbar\": {\"outlinewidth\": 0, \"tickcolor\": \"rgb(237,237,237)\", \"ticklen\": 6, \"ticks\": \"inside\"}, \"type\": \"contourcarpet\"}], \"heatmap\": [{\"colorbar\": {\"outlinewidth\": 0, \"tickcolor\": \"rgb(237,237,237)\", \"ticklen\": 6, \"ticks\": \"inside\"}, \"colorscale\": [[0, \"rgb(20,44,66)\"], [1, \"rgb(90,179,244)\"]], \"type\": \"heatmap\"}], \"heatmapgl\": [{\"colorbar\": {\"outlinewidth\": 0, \"tickcolor\": \"rgb(237,237,237)\", \"ticklen\": 6, \"ticks\": \"inside\"}, \"colorscale\": [[0, \"rgb(20,44,66)\"], [1, \"rgb(90,179,244)\"]], \"type\": \"heatmapgl\"}], \"histogram\": [{\"marker\": {\"colorbar\": {\"outlinewidth\": 0, \"tickcolor\": \"rgb(237,237,237)\", \"ticklen\": 6, \"ticks\": \"inside\"}}, \"type\": \"histogram\"}], \"histogram2d\": [{\"colorbar\": {\"outlinewidth\": 0, \"tickcolor\": \"rgb(237,237,237)\", \"ticklen\": 6, \"ticks\": \"inside\"}, \"colorscale\": [[0, \"rgb(20,44,66)\"], [1, \"rgb(90,179,244)\"]], \"type\": \"histogram2d\"}], \"histogram2dcontour\": [{\"colorbar\": {\"outlinewidth\": 0, \"tickcolor\": \"rgb(237,237,237)\", \"ticklen\": 6, \"ticks\": \"inside\"}, \"colorscale\": [[0, \"rgb(20,44,66)\"], [1, \"rgb(90,179,244)\"]], \"type\": \"histogram2dcontour\"}], \"mesh3d\": [{\"colorbar\": {\"outlinewidth\": 0, \"tickcolor\": \"rgb(237,237,237)\", \"ticklen\": 6, \"ticks\": \"inside\"}, \"type\": \"mesh3d\"}], \"parcoords\": [{\"line\": {\"colorbar\": {\"outlinewidth\": 0, \"tickcolor\": \"rgb(237,237,237)\", \"ticklen\": 6, \"ticks\": \"inside\"}}, \"type\": \"parcoords\"}], \"pie\": [{\"automargin\": true, \"type\": \"pie\"}], \"scatter\": [{\"marker\": {\"colorbar\": {\"outlinewidth\": 0, \"tickcolor\": \"rgb(237,237,237)\", \"ticklen\": 6, \"ticks\": \"inside\"}}, \"type\": \"scatter\"}], \"scatter3d\": [{\"line\": {\"colorbar\": {\"outlinewidth\": 0, \"tickcolor\": \"rgb(237,237,237)\", \"ticklen\": 6, \"ticks\": \"inside\"}}, \"marker\": {\"colorbar\": {\"outlinewidth\": 0, \"tickcolor\": \"rgb(237,237,237)\", \"ticklen\": 6, \"ticks\": \"inside\"}}, \"type\": \"scatter3d\"}], \"scattercarpet\": [{\"marker\": {\"colorbar\": {\"outlinewidth\": 0, \"tickcolor\": \"rgb(237,237,237)\", \"ticklen\": 6, \"ticks\": \"inside\"}}, \"type\": \"scattercarpet\"}], \"scattergeo\": [{\"marker\": {\"colorbar\": {\"outlinewidth\": 0, \"tickcolor\": \"rgb(237,237,237)\", \"ticklen\": 6, \"ticks\": \"inside\"}}, \"type\": \"scattergeo\"}], \"scattergl\": [{\"marker\": {\"colorbar\": {\"outlinewidth\": 0, \"tickcolor\": \"rgb(237,237,237)\", \"ticklen\": 6, \"ticks\": \"inside\"}}, \"type\": \"scattergl\"}], \"scattermapbox\": [{\"marker\": {\"colorbar\": {\"outlinewidth\": 0, \"tickcolor\": \"rgb(237,237,237)\", \"ticklen\": 6, \"ticks\": \"inside\"}}, \"type\": \"scattermapbox\"}], \"scatterpolar\": [{\"marker\": {\"colorbar\": {\"outlinewidth\": 0, \"tickcolor\": \"rgb(237,237,237)\", \"ticklen\": 6, \"ticks\": \"inside\"}}, \"type\": \"scatterpolar\"}], \"scatterpolargl\": [{\"marker\": {\"colorbar\": {\"outlinewidth\": 0, \"tickcolor\": \"rgb(237,237,237)\", \"ticklen\": 6, \"ticks\": \"inside\"}}, \"type\": \"scatterpolargl\"}], \"scatterternary\": [{\"marker\": {\"colorbar\": {\"outlinewidth\": 0, \"tickcolor\": \"rgb(237,237,237)\", \"ticklen\": 6, \"ticks\": \"inside\"}}, \"type\": \"scatterternary\"}], \"surface\": [{\"colorbar\": {\"outlinewidth\": 0, \"tickcolor\": \"rgb(237,237,237)\", \"ticklen\": 6, \"ticks\": \"inside\"}, \"colorscale\": [[0, \"rgb(20,44,66)\"], [1, \"rgb(90,179,244)\"]], \"type\": \"surface\"}], \"table\": [{\"cells\": {\"fill\": {\"color\": \"rgb(237,237,237)\"}, \"line\": {\"color\": \"white\"}}, \"header\": {\"fill\": {\"color\": \"rgb(217,217,217)\"}, \"line\": {\"color\": \"white\"}}, \"type\": \"table\"}]}, \"layout\": {\"annotationdefaults\": {\"arrowhead\": 0, \"arrowwidth\": 1}, \"autotypenumbers\": \"strict\", \"coloraxis\": {\"colorbar\": {\"outlinewidth\": 0, \"tickcolor\": \"rgb(237,237,237)\", \"ticklen\": 6, \"ticks\": \"inside\"}}, \"colorscale\": {\"sequential\": [[0, \"rgb(20,44,66)\"], [1, \"rgb(90,179,244)\"]], \"sequentialminus\": [[0, \"rgb(20,44,66)\"], [1, \"rgb(90,179,244)\"]]}, \"colorway\": [\"#F8766D\", \"#A3A500\", \"#00BF7D\", \"#00B0F6\", \"#E76BF3\"], \"font\": {\"color\": \"rgb(51,51,51)\"}, \"geo\": {\"bgcolor\": \"white\", \"lakecolor\": \"white\", \"landcolor\": \"rgb(237,237,237)\", \"showlakes\": true, \"showland\": true, \"subunitcolor\": \"white\"}, \"hoverlabel\": {\"align\": \"left\"}, \"hovermode\": \"closest\", \"paper_bgcolor\": \"white\", \"plot_bgcolor\": \"rgb(237,237,237)\", \"polar\": {\"angularaxis\": {\"gridcolor\": \"white\", \"linecolor\": \"white\", \"showgrid\": true, \"tickcolor\": \"rgb(51,51,51)\", \"ticks\": \"outside\"}, \"bgcolor\": \"rgb(237,237,237)\", \"radialaxis\": {\"gridcolor\": \"white\", \"linecolor\": \"white\", \"showgrid\": true, \"tickcolor\": \"rgb(51,51,51)\", \"ticks\": \"outside\"}}, \"scene\": {\"xaxis\": {\"backgroundcolor\": \"rgb(237,237,237)\", \"gridcolor\": \"white\", \"gridwidth\": 2, \"linecolor\": \"white\", \"showbackground\": true, \"showgrid\": true, \"tickcolor\": \"rgb(51,51,51)\", \"ticks\": \"outside\", \"zerolinecolor\": \"white\"}, \"yaxis\": {\"backgroundcolor\": \"rgb(237,237,237)\", \"gridcolor\": \"white\", \"gridwidth\": 2, \"linecolor\": \"white\", \"showbackground\": true, \"showgrid\": true, \"tickcolor\": \"rgb(51,51,51)\", \"ticks\": \"outside\", \"zerolinecolor\": \"white\"}, \"zaxis\": {\"backgroundcolor\": \"rgb(237,237,237)\", \"gridcolor\": \"white\", \"gridwidth\": 2, \"linecolor\": \"white\", \"showbackground\": true, \"showgrid\": true, \"tickcolor\": \"rgb(51,51,51)\", \"ticks\": \"outside\", \"zerolinecolor\": \"white\"}}, \"shapedefaults\": {\"fillcolor\": \"black\", \"line\": {\"width\": 0}, \"opacity\": 0.3}, \"ternary\": {\"aaxis\": {\"gridcolor\": \"white\", \"linecolor\": \"white\", \"showgrid\": true, \"tickcolor\": \"rgb(51,51,51)\", \"ticks\": \"outside\"}, \"baxis\": {\"gridcolor\": \"white\", \"linecolor\": \"white\", \"showgrid\": true, \"tickcolor\": \"rgb(51,51,51)\", \"ticks\": \"outside\"}, \"bgcolor\": \"rgb(237,237,237)\", \"caxis\": {\"gridcolor\": \"white\", \"linecolor\": \"white\", \"showgrid\": true, \"tickcolor\": \"rgb(51,51,51)\", \"ticks\": \"outside\"}}, \"xaxis\": {\"automargin\": true, \"gridcolor\": \"white\", \"linecolor\": \"white\", \"showgrid\": true, \"tickcolor\": \"rgb(51,51,51)\", \"ticks\": \"outside\", \"title\": {\"standoff\": 15}, \"zerolinecolor\": \"white\"}, \"yaxis\": {\"automargin\": true, \"gridcolor\": \"white\", \"linecolor\": \"white\", \"showgrid\": true, \"tickcolor\": \"rgb(51,51,51)\", \"ticks\": \"outside\", \"title\": {\"standoff\": 15}, \"zerolinecolor\": \"white\"}}}, \"title\": {\"text\": \"Cornell Individual Batting Performances <br><i>min. 5 AB</i>\", \"x\": 0.5, \"yanchor\": \"top\"}, \"xaxis\": {\"anchor\": \"y\", \"domain\": [0.0, 1.0], \"title\": {}}, \"yaxis\": {\"anchor\": \"x\", \"domain\": [0.0, 1.0], \"title\": {\"text\": \"Weighted On-Base Average (wOBA)\"}}},                        {\"responsive\": true}                    ).then(function(){\n",
       "                            \n",
       "var gd = document.getElementById('c3559bf1-7bda-4566-9241-0e9b325d1bf0');\n",
       "var x = new MutationObserver(function (mutations, observer) {{\n",
       "        var display = window.getComputedStyle(gd).display;\n",
       "        if (!display || display === 'none') {{\n",
       "            console.log([gd, 'removed!']);\n",
       "            Plotly.purge(gd);\n",
       "            observer.disconnect();\n",
       "        }}\n",
       "}});\n",
       "\n",
       "// Listen for the removal of the full notebook cells\n",
       "var notebookContainer = gd.closest('#notebook-container');\n",
       "if (notebookContainer) {{\n",
       "    x.observe(notebookContainer, {childList: true});\n",
       "}}\n",
       "\n",
       "// Listen for the clearing of the current output cell\n",
       "var outputEl = gd.closest('.output');\n",
       "if (outputEl) {{\n",
       "    x.observe(outputEl, {childList: true});\n",
       "}}\n",
       "\n",
       "                        })                };                });            </script>        </div>"
      ]
     },
     "metadata": {},
     "output_type": "display_data"
    }
   ],
   "source": [
    "data = get_cornell_batting_stats(2015)\n",
    "data = data[data[\"AB\"] > 5]\n",
    "fig = px.scatter(data, x=\"year\", y=\"woba\", color=\"woba\", template=\"ggplot2\")\n",
    "fig.update_layout( \n",
    "title = \"Cornell Individual Batting Performances <br><i>min. 5 AB</i>\",\n",
    "title_yanchor = \"top\",\n",
    "title_x =  0.5,\n",
    "yaxis_title=\"Weighted On-Base Average (wOBA)\",\n",
    "xaxis_title=None,\n",
    ")\n",
    "fig.show()"
   ]
  },
  {
   "cell_type": "code",
   "execution_count": 85,
   "id": "082ba96d-f3bd-4d3b-8cba-439046aeb773",
   "metadata": {},
   "outputs": [
    {
     "data": {
      "application/vnd.plotly.v1+json": {
       "config": {
        "plotlyServerURL": "https://plot.ly"
       },
       "data": [
        {
         "hovertemplate": "<b>%{hovertext}</b><br><br>year=%{x}<br>innings_pitched=%{marker.color}<extra></extra>",
         "hovertext": [
          "Lillios, Nikolas",
          "Zacharias, Jon",
          "Davis, Trevor Daniel",
          "Urbon, Seth",
          "Wyatt, Colby",
          "Edwards, Spencer",
          "Natoli, John",
          "Yacinich, Luke",
          "Cushing, Kevin",
          "Ellison, Andrew",
          "Natoli, John",
          "Lillios, Nikolas",
          "Davis, Trevor Daniel",
          "Zacharias, Jon",
          "Yacinich, Luke",
          "Wyatt, Colby",
          "Bemiss, Jeb",
          "Cushing, Kevin",
          "Ellison, Andrew",
          "Arnold, Austin",
          "Urbon, Seth",
          "Gilbert, William",
          "Wyatt, Colby",
          "Ellison, Andrew",
          "Wahl, Austin",
          "Bemiss, Jeb",
          "Saks, Adam",
          "Urbon, Seth",
          "Willittes, Tim",
          "Morris, Tommy",
          "Fernandez, Tyler",
          "McMenamy, Owen",
          "Bailey, Garrett",
          "Davis, Trevor Daniel",
          "Arnold, Austin",
          "Binnie, Nicholas",
          "Natoli, John",
          "Lannoo, Peter",
          "Flynn, Jamie",
          "Bemiss, Jeb",
          "Horton, Matt",
          "Natoli, John",
          "Soltis, Scott",
          "Willittes, Tim",
          "Balestrieri, Paul",
          "Lewis, Justin",
          "Wyatt, Colby",
          "Morris, Tommy",
          "Saks, Adam",
          "Pannullo, Rob",
          "Morris, Parker",
          "Cintron, Nick",
          "Lowell, Eliot",
          "Morris, Parker",
          "Flynn, Jamie",
          "Lewis, Justin",
          "Soltis, Scott",
          "Willittes, Tim",
          "Byrne, Michael",
          "Smith, Jamie",
          "Saks, Adam",
          "Balestrieri, Paul",
          "Veenema, Ryne",
          "Lannoo, Peter",
          "Wahl, Austin",
          "Arnold, Austin",
          "Le Dorze, Pierre",
          "Pannullo, Rob",
          "McGee, Collin",
          "Wickham, Dale",
          "Lowell, Eliot",
          "Balestrieri, Paul",
          "Byrne, Michael",
          "Busto, Nick",
          "Upton, Eric",
          "Urbon, Kellen",
          "Lewis, Justin",
          "Lannoo, Peter",
          "Suppa, Roberto",
          "Brewer, Ray",
          "McCulley, Zach",
          "Veenema, Ryne",
          "Horton, Matt",
          "Soltis, Scott"
         ],
         "legendgroup": "",
         "marker": {
          "color": [
           5.1,
           6.2,
           4.2,
           7,
           14.1,
           10,
           11,
           7.2,
           5.2,
           2.2,
           36.1,
           11,
           16.1,
           41.1,
           32.1,
           63.2,
           46.1,
           12,
           26.1,
           5.2,
           33.1,
           1.2,
           24.2,
           26.2,
           20.2,
           30.2,
           15,
           65.1,
           68,
           36.1,
           22.2,
           3.1,
           2.1,
           2.2,
           3.2,
           1.1,
           1.2,
           21,
           16,
           22.2,
           13,
           9,
           27.2,
           50,
           57.2,
           45.2,
           9,
           27.1,
           2.1,
           0.2,
           4,
           1,
           2.2,
           0.2,
           18,
           39.2,
           18.1,
           44.2,
           36,
           7.1,
           13.1,
           49,
           4,
           43.2,
           13.2,
           4.1,
           1,
           7.1,
           1.2,
           0.2,
           2,
           40.2,
           35.2,
           33,
           33,
           45.2,
           15,
           10.1,
           10,
           12.1,
           12.1,
           5,
           1,
           0.2
          ],
          "coloraxis": "coloraxis",
          "symbol": "circle"
         },
         "mode": "markers",
         "name": "",
         "orientation": "v",
         "showlegend": false,
         "type": "scatter",
         "x": [
          2020,
          2020,
          2020,
          2020,
          2020,
          2020,
          2020,
          2020,
          2020,
          2020,
          2019,
          2019,
          2019,
          2019,
          2019,
          2019,
          2019,
          2019,
          2019,
          2019,
          2019,
          2019,
          2018,
          2018,
          2018,
          2018,
          2018,
          2018,
          2018,
          2018,
          2018,
          2018,
          2018,
          2018,
          2018,
          2018,
          2018,
          2017,
          2017,
          2017,
          2017,
          2017,
          2017,
          2017,
          2017,
          2017,
          2017,
          2017,
          2017,
          2017,
          2017,
          2017,
          2016,
          2016,
          2016,
          2016,
          2016,
          2016,
          2016,
          2016,
          2016,
          2016,
          2016,
          2016,
          2016,
          2016,
          2016,
          2016,
          2016,
          2015,
          2015,
          2015,
          2015,
          2015,
          2015,
          2015,
          2015,
          2015,
          2015,
          2015,
          2015,
          2015,
          2015,
          2015
         ],
         "xaxis": "x",
         "y": [
          5.1,
          6.2,
          4.2,
          7,
          14.1,
          10,
          11,
          7.2,
          5.2,
          2.2,
          36.1,
          11,
          16.1,
          41.1,
          32.1,
          63.2,
          46.1,
          12,
          26.1,
          5.2,
          33.1,
          1.2,
          24.2,
          26.2,
          20.2,
          30.2,
          15,
          65.1,
          68,
          36.1,
          22.2,
          3.1,
          2.1,
          2.2,
          3.2,
          1.1,
          1.2,
          21,
          16,
          22.2,
          13,
          9,
          27.2,
          50,
          57.2,
          45.2,
          9,
          27.1,
          2.1,
          0.2,
          4,
          1,
          2.2,
          0.2,
          18,
          39.2,
          18.1,
          44.2,
          36,
          7.1,
          13.1,
          49,
          4,
          43.2,
          13.2,
          4.1,
          1,
          7.1,
          1.2,
          0.2,
          2,
          40.2,
          35.2,
          33,
          33,
          45.2,
          15,
          10.1,
          10,
          12.1,
          12.1,
          5,
          1,
          0.2
         ],
         "yaxis": "y"
        }
       ],
       "layout": {
        "coloraxis": {
         "colorbar": {
          "title": {
           "text": "innings_pitched"
          }
         },
         "colorscale": [
          [
           0,
           "rgb(20,44,66)"
          ],
          [
           1,
           "rgb(90,179,244)"
          ]
         ]
        },
        "legend": {
         "tracegroupgap": 0
        },
        "margin": {
         "t": 60
        },
        "template": {
         "data": {
          "bar": [
           {
            "error_x": {
             "color": "rgb(51,51,51)"
            },
            "error_y": {
             "color": "rgb(51,51,51)"
            },
            "marker": {
             "line": {
              "color": "rgb(237,237,237)",
              "width": 0.5
             }
            },
            "type": "bar"
           }
          ],
          "barpolar": [
           {
            "marker": {
             "line": {
              "color": "rgb(237,237,237)",
              "width": 0.5
             }
            },
            "type": "barpolar"
           }
          ],
          "carpet": [
           {
            "aaxis": {
             "endlinecolor": "rgb(51,51,51)",
             "gridcolor": "white",
             "linecolor": "white",
             "minorgridcolor": "white",
             "startlinecolor": "rgb(51,51,51)"
            },
            "baxis": {
             "endlinecolor": "rgb(51,51,51)",
             "gridcolor": "white",
             "linecolor": "white",
             "minorgridcolor": "white",
             "startlinecolor": "rgb(51,51,51)"
            },
            "type": "carpet"
           }
          ],
          "choropleth": [
           {
            "colorbar": {
             "outlinewidth": 0,
             "tickcolor": "rgb(237,237,237)",
             "ticklen": 6,
             "ticks": "inside"
            },
            "type": "choropleth"
           }
          ],
          "contour": [
           {
            "colorbar": {
             "outlinewidth": 0,
             "tickcolor": "rgb(237,237,237)",
             "ticklen": 6,
             "ticks": "inside"
            },
            "colorscale": [
             [
              0,
              "rgb(20,44,66)"
             ],
             [
              1,
              "rgb(90,179,244)"
             ]
            ],
            "type": "contour"
           }
          ],
          "contourcarpet": [
           {
            "colorbar": {
             "outlinewidth": 0,
             "tickcolor": "rgb(237,237,237)",
             "ticklen": 6,
             "ticks": "inside"
            },
            "type": "contourcarpet"
           }
          ],
          "heatmap": [
           {
            "colorbar": {
             "outlinewidth": 0,
             "tickcolor": "rgb(237,237,237)",
             "ticklen": 6,
             "ticks": "inside"
            },
            "colorscale": [
             [
              0,
              "rgb(20,44,66)"
             ],
             [
              1,
              "rgb(90,179,244)"
             ]
            ],
            "type": "heatmap"
           }
          ],
          "heatmapgl": [
           {
            "colorbar": {
             "outlinewidth": 0,
             "tickcolor": "rgb(237,237,237)",
             "ticklen": 6,
             "ticks": "inside"
            },
            "colorscale": [
             [
              0,
              "rgb(20,44,66)"
             ],
             [
              1,
              "rgb(90,179,244)"
             ]
            ],
            "type": "heatmapgl"
           }
          ],
          "histogram": [
           {
            "marker": {
             "colorbar": {
              "outlinewidth": 0,
              "tickcolor": "rgb(237,237,237)",
              "ticklen": 6,
              "ticks": "inside"
             }
            },
            "type": "histogram"
           }
          ],
          "histogram2d": [
           {
            "colorbar": {
             "outlinewidth": 0,
             "tickcolor": "rgb(237,237,237)",
             "ticklen": 6,
             "ticks": "inside"
            },
            "colorscale": [
             [
              0,
              "rgb(20,44,66)"
             ],
             [
              1,
              "rgb(90,179,244)"
             ]
            ],
            "type": "histogram2d"
           }
          ],
          "histogram2dcontour": [
           {
            "colorbar": {
             "outlinewidth": 0,
             "tickcolor": "rgb(237,237,237)",
             "ticklen": 6,
             "ticks": "inside"
            },
            "colorscale": [
             [
              0,
              "rgb(20,44,66)"
             ],
             [
              1,
              "rgb(90,179,244)"
             ]
            ],
            "type": "histogram2dcontour"
           }
          ],
          "mesh3d": [
           {
            "colorbar": {
             "outlinewidth": 0,
             "tickcolor": "rgb(237,237,237)",
             "ticklen": 6,
             "ticks": "inside"
            },
            "type": "mesh3d"
           }
          ],
          "parcoords": [
           {
            "line": {
             "colorbar": {
              "outlinewidth": 0,
              "tickcolor": "rgb(237,237,237)",
              "ticklen": 6,
              "ticks": "inside"
             }
            },
            "type": "parcoords"
           }
          ],
          "pie": [
           {
            "automargin": true,
            "type": "pie"
           }
          ],
          "scatter": [
           {
            "marker": {
             "colorbar": {
              "outlinewidth": 0,
              "tickcolor": "rgb(237,237,237)",
              "ticklen": 6,
              "ticks": "inside"
             }
            },
            "type": "scatter"
           }
          ],
          "scatter3d": [
           {
            "line": {
             "colorbar": {
              "outlinewidth": 0,
              "tickcolor": "rgb(237,237,237)",
              "ticklen": 6,
              "ticks": "inside"
             }
            },
            "marker": {
             "colorbar": {
              "outlinewidth": 0,
              "tickcolor": "rgb(237,237,237)",
              "ticklen": 6,
              "ticks": "inside"
             }
            },
            "type": "scatter3d"
           }
          ],
          "scattercarpet": [
           {
            "marker": {
             "colorbar": {
              "outlinewidth": 0,
              "tickcolor": "rgb(237,237,237)",
              "ticklen": 6,
              "ticks": "inside"
             }
            },
            "type": "scattercarpet"
           }
          ],
          "scattergeo": [
           {
            "marker": {
             "colorbar": {
              "outlinewidth": 0,
              "tickcolor": "rgb(237,237,237)",
              "ticklen": 6,
              "ticks": "inside"
             }
            },
            "type": "scattergeo"
           }
          ],
          "scattergl": [
           {
            "marker": {
             "colorbar": {
              "outlinewidth": 0,
              "tickcolor": "rgb(237,237,237)",
              "ticklen": 6,
              "ticks": "inside"
             }
            },
            "type": "scattergl"
           }
          ],
          "scattermapbox": [
           {
            "marker": {
             "colorbar": {
              "outlinewidth": 0,
              "tickcolor": "rgb(237,237,237)",
              "ticklen": 6,
              "ticks": "inside"
             }
            },
            "type": "scattermapbox"
           }
          ],
          "scatterpolar": [
           {
            "marker": {
             "colorbar": {
              "outlinewidth": 0,
              "tickcolor": "rgb(237,237,237)",
              "ticklen": 6,
              "ticks": "inside"
             }
            },
            "type": "scatterpolar"
           }
          ],
          "scatterpolargl": [
           {
            "marker": {
             "colorbar": {
              "outlinewidth": 0,
              "tickcolor": "rgb(237,237,237)",
              "ticklen": 6,
              "ticks": "inside"
             }
            },
            "type": "scatterpolargl"
           }
          ],
          "scatterternary": [
           {
            "marker": {
             "colorbar": {
              "outlinewidth": 0,
              "tickcolor": "rgb(237,237,237)",
              "ticklen": 6,
              "ticks": "inside"
             }
            },
            "type": "scatterternary"
           }
          ],
          "surface": [
           {
            "colorbar": {
             "outlinewidth": 0,
             "tickcolor": "rgb(237,237,237)",
             "ticklen": 6,
             "ticks": "inside"
            },
            "colorscale": [
             [
              0,
              "rgb(20,44,66)"
             ],
             [
              1,
              "rgb(90,179,244)"
             ]
            ],
            "type": "surface"
           }
          ],
          "table": [
           {
            "cells": {
             "fill": {
              "color": "rgb(237,237,237)"
             },
             "line": {
              "color": "white"
             }
            },
            "header": {
             "fill": {
              "color": "rgb(217,217,217)"
             },
             "line": {
              "color": "white"
             }
            },
            "type": "table"
           }
          ]
         },
         "layout": {
          "annotationdefaults": {
           "arrowhead": 0,
           "arrowwidth": 1
          },
          "autotypenumbers": "strict",
          "coloraxis": {
           "colorbar": {
            "outlinewidth": 0,
            "tickcolor": "rgb(237,237,237)",
            "ticklen": 6,
            "ticks": "inside"
           }
          },
          "colorscale": {
           "sequential": [
            [
             0,
             "rgb(20,44,66)"
            ],
            [
             1,
             "rgb(90,179,244)"
            ]
           ],
           "sequentialminus": [
            [
             0,
             "rgb(20,44,66)"
            ],
            [
             1,
             "rgb(90,179,244)"
            ]
           ]
          },
          "colorway": [
           "#F8766D",
           "#A3A500",
           "#00BF7D",
           "#00B0F6",
           "#E76BF3"
          ],
          "font": {
           "color": "rgb(51,51,51)"
          },
          "geo": {
           "bgcolor": "white",
           "lakecolor": "white",
           "landcolor": "rgb(237,237,237)",
           "showlakes": true,
           "showland": true,
           "subunitcolor": "white"
          },
          "hoverlabel": {
           "align": "left"
          },
          "hovermode": "closest",
          "paper_bgcolor": "white",
          "plot_bgcolor": "rgb(237,237,237)",
          "polar": {
           "angularaxis": {
            "gridcolor": "white",
            "linecolor": "white",
            "showgrid": true,
            "tickcolor": "rgb(51,51,51)",
            "ticks": "outside"
           },
           "bgcolor": "rgb(237,237,237)",
           "radialaxis": {
            "gridcolor": "white",
            "linecolor": "white",
            "showgrid": true,
            "tickcolor": "rgb(51,51,51)",
            "ticks": "outside"
           }
          },
          "scene": {
           "xaxis": {
            "backgroundcolor": "rgb(237,237,237)",
            "gridcolor": "white",
            "gridwidth": 2,
            "linecolor": "white",
            "showbackground": true,
            "showgrid": true,
            "tickcolor": "rgb(51,51,51)",
            "ticks": "outside",
            "zerolinecolor": "white"
           },
           "yaxis": {
            "backgroundcolor": "rgb(237,237,237)",
            "gridcolor": "white",
            "gridwidth": 2,
            "linecolor": "white",
            "showbackground": true,
            "showgrid": true,
            "tickcolor": "rgb(51,51,51)",
            "ticks": "outside",
            "zerolinecolor": "white"
           },
           "zaxis": {
            "backgroundcolor": "rgb(237,237,237)",
            "gridcolor": "white",
            "gridwidth": 2,
            "linecolor": "white",
            "showbackground": true,
            "showgrid": true,
            "tickcolor": "rgb(51,51,51)",
            "ticks": "outside",
            "zerolinecolor": "white"
           }
          },
          "shapedefaults": {
           "fillcolor": "black",
           "line": {
            "width": 0
           },
           "opacity": 0.3
          },
          "ternary": {
           "aaxis": {
            "gridcolor": "white",
            "linecolor": "white",
            "showgrid": true,
            "tickcolor": "rgb(51,51,51)",
            "ticks": "outside"
           },
           "baxis": {
            "gridcolor": "white",
            "linecolor": "white",
            "showgrid": true,
            "tickcolor": "rgb(51,51,51)",
            "ticks": "outside"
           },
           "bgcolor": "rgb(237,237,237)",
           "caxis": {
            "gridcolor": "white",
            "linecolor": "white",
            "showgrid": true,
            "tickcolor": "rgb(51,51,51)",
            "ticks": "outside"
           }
          },
          "xaxis": {
           "automargin": true,
           "gridcolor": "white",
           "linecolor": "white",
           "showgrid": true,
           "tickcolor": "rgb(51,51,51)",
           "ticks": "outside",
           "title": {
            "standoff": 15
           },
           "zerolinecolor": "white"
          },
          "yaxis": {
           "automargin": true,
           "gridcolor": "white",
           "linecolor": "white",
           "showgrid": true,
           "tickcolor": "rgb(51,51,51)",
           "ticks": "outside",
           "title": {
            "standoff": 15
           },
           "zerolinecolor": "white"
          }
         }
        },
        "title": {
         "text": "Innings Pitched by Cornell Pitchers",
         "x": 0.5,
         "yanchor": "top"
        },
        "xaxis": {
         "anchor": "y",
         "domain": [
          0,
          1
         ],
         "title": {}
        },
        "yaxis": {
         "anchor": "x",
         "domain": [
          0,
          1
         ],
         "title": {
          "text": "Innings Pitched"
         }
        }
       }
      },
      "text/html": [
       "<div>                            <div id=\"3876400c-45ba-4aba-abf2-4a477cfda855\" class=\"plotly-graph-div\" style=\"height:525px; width:100%;\"></div>            <script type=\"text/javascript\">                require([\"plotly\"], function(Plotly) {                    window.PLOTLYENV=window.PLOTLYENV || {};                                    if (document.getElementById(\"3876400c-45ba-4aba-abf2-4a477cfda855\")) {                    Plotly.newPlot(                        \"3876400c-45ba-4aba-abf2-4a477cfda855\",                        [{\"hovertemplate\": \"<b>%{hovertext}</b><br><br>year=%{x}<br>innings_pitched=%{marker.color}<extra></extra>\", \"hovertext\": [\"Lillios, Nikolas\", \"Zacharias, Jon\", \"Davis, Trevor Daniel\", \"Urbon, Seth\", \"Wyatt, Colby\", \"Edwards, Spencer\", \"Natoli, John\", \"Yacinich, Luke\", \"Cushing, Kevin\", \"Ellison, Andrew\", \"Natoli, John\", \"Lillios, Nikolas\", \"Davis, Trevor Daniel\", \"Zacharias, Jon\", \"Yacinich, Luke\", \"Wyatt, Colby\", \"Bemiss, Jeb\", \"Cushing, Kevin\", \"Ellison, Andrew\", \"Arnold, Austin\", \"Urbon, Seth\", \"Gilbert, William\", \"Wyatt, Colby\", \"Ellison, Andrew\", \"Wahl, Austin\", \"Bemiss, Jeb\", \"Saks, Adam\", \"Urbon, Seth\", \"Willittes, Tim\", \"Morris, Tommy\", \"Fernandez, Tyler\", \"McMenamy, Owen\", \"Bailey, Garrett\", \"Davis, Trevor Daniel\", \"Arnold, Austin\", \"Binnie, Nicholas\", \"Natoli, John\", \"Lannoo, Peter\", \"Flynn, Jamie\", \"Bemiss, Jeb\", \"Horton, Matt\", \"Natoli, John\", \"Soltis, Scott\", \"Willittes, Tim\", \"Balestrieri, Paul\", \"Lewis, Justin\", \"Wyatt, Colby\", \"Morris, Tommy\", \"Saks, Adam\", \"Pannullo, Rob\", \"Morris, Parker\", \"Cintron, Nick\", \"Lowell, Eliot\", \"Morris, Parker\", \"Flynn, Jamie\", \"Lewis, Justin\", \"Soltis, Scott\", \"Willittes, Tim\", \"Byrne, Michael\", \"Smith, Jamie\", \"Saks, Adam\", \"Balestrieri, Paul\", \"Veenema, Ryne\", \"Lannoo, Peter\", \"Wahl, Austin\", \"Arnold, Austin\", \"Le Dorze, Pierre\", \"Pannullo, Rob\", \"McGee, Collin\", \"Wickham, Dale\", \"Lowell, Eliot\", \"Balestrieri, Paul\", \"Byrne, Michael\", \"Busto, Nick\", \"Upton, Eric\", \"Urbon, Kellen\", \"Lewis, Justin\", \"Lannoo, Peter\", \"Suppa, Roberto\", \"Brewer, Ray\", \"McCulley, Zach\", \"Veenema, Ryne\", \"Horton, Matt\", \"Soltis, Scott\"], \"legendgroup\": \"\", \"marker\": {\"color\": [5.1, 6.2, 4.2, 7.0, 14.1, 10.0, 11.0, 7.2, 5.2, 2.2, 36.1, 11.0, 16.1, 41.1, 32.1, 63.2, 46.1, 12.0, 26.1, 5.2, 33.1, 1.2, 24.2, 26.2, 20.2, 30.2, 15.0, 65.1, 68.0, 36.1, 22.2, 3.1, 2.1, 2.2, 3.2, 1.1, 1.2, 21.0, 16.0, 22.2, 13.0, 9.0, 27.2, 50.0, 57.2, 45.2, 9.0, 27.1, 2.1, 0.2, 4.0, 1.0, 2.2, 0.2, 18.0, 39.2, 18.1, 44.2, 36.0, 7.1, 13.1, 49.0, 4.0, 43.2, 13.2, 4.1, 1.0, 7.1, 1.2, 0.2, 2.0, 40.2, 35.2, 33.0, 33.0, 45.2, 15.0, 10.1, 10.0, 12.1, 12.1, 5.0, 1.0, 0.2], \"coloraxis\": \"coloraxis\", \"symbol\": \"circle\"}, \"mode\": \"markers\", \"name\": \"\", \"orientation\": \"v\", \"showlegend\": false, \"type\": \"scatter\", \"x\": [2020, 2020, 2020, 2020, 2020, 2020, 2020, 2020, 2020, 2020, 2019, 2019, 2019, 2019, 2019, 2019, 2019, 2019, 2019, 2019, 2019, 2019, 2018, 2018, 2018, 2018, 2018, 2018, 2018, 2018, 2018, 2018, 2018, 2018, 2018, 2018, 2018, 2017, 2017, 2017, 2017, 2017, 2017, 2017, 2017, 2017, 2017, 2017, 2017, 2017, 2017, 2017, 2016, 2016, 2016, 2016, 2016, 2016, 2016, 2016, 2016, 2016, 2016, 2016, 2016, 2016, 2016, 2016, 2016, 2015, 2015, 2015, 2015, 2015, 2015, 2015, 2015, 2015, 2015, 2015, 2015, 2015, 2015, 2015], \"xaxis\": \"x\", \"y\": [5.1, 6.2, 4.2, 7.0, 14.1, 10.0, 11.0, 7.2, 5.2, 2.2, 36.1, 11.0, 16.1, 41.1, 32.1, 63.2, 46.1, 12.0, 26.1, 5.2, 33.1, 1.2, 24.2, 26.2, 20.2, 30.2, 15.0, 65.1, 68.0, 36.1, 22.2, 3.1, 2.1, 2.2, 3.2, 1.1, 1.2, 21.0, 16.0, 22.2, 13.0, 9.0, 27.2, 50.0, 57.2, 45.2, 9.0, 27.1, 2.1, 0.2, 4.0, 1.0, 2.2, 0.2, 18.0, 39.2, 18.1, 44.2, 36.0, 7.1, 13.1, 49.0, 4.0, 43.2, 13.2, 4.1, 1.0, 7.1, 1.2, 0.2, 2.0, 40.2, 35.2, 33.0, 33.0, 45.2, 15.0, 10.1, 10.0, 12.1, 12.1, 5.0, 1.0, 0.2], \"yaxis\": \"y\"}],                        {\"coloraxis\": {\"colorbar\": {\"title\": {\"text\": \"innings_pitched\"}}, \"colorscale\": [[0.0, \"rgb(20,44,66)\"], [1.0, \"rgb(90,179,244)\"]]}, \"legend\": {\"tracegroupgap\": 0}, \"margin\": {\"t\": 60}, \"template\": {\"data\": {\"bar\": [{\"error_x\": {\"color\": \"rgb(51,51,51)\"}, \"error_y\": {\"color\": \"rgb(51,51,51)\"}, \"marker\": {\"line\": {\"color\": \"rgb(237,237,237)\", \"width\": 0.5}}, \"type\": \"bar\"}], \"barpolar\": [{\"marker\": {\"line\": {\"color\": \"rgb(237,237,237)\", \"width\": 0.5}}, \"type\": \"barpolar\"}], \"carpet\": [{\"aaxis\": {\"endlinecolor\": \"rgb(51,51,51)\", \"gridcolor\": \"white\", \"linecolor\": \"white\", \"minorgridcolor\": \"white\", \"startlinecolor\": \"rgb(51,51,51)\"}, \"baxis\": {\"endlinecolor\": \"rgb(51,51,51)\", \"gridcolor\": \"white\", \"linecolor\": \"white\", \"minorgridcolor\": \"white\", \"startlinecolor\": \"rgb(51,51,51)\"}, \"type\": \"carpet\"}], \"choropleth\": [{\"colorbar\": {\"outlinewidth\": 0, \"tickcolor\": \"rgb(237,237,237)\", \"ticklen\": 6, \"ticks\": \"inside\"}, \"type\": \"choropleth\"}], \"contour\": [{\"colorbar\": {\"outlinewidth\": 0, \"tickcolor\": \"rgb(237,237,237)\", \"ticklen\": 6, \"ticks\": \"inside\"}, \"colorscale\": [[0, \"rgb(20,44,66)\"], [1, \"rgb(90,179,244)\"]], \"type\": \"contour\"}], \"contourcarpet\": [{\"colorbar\": {\"outlinewidth\": 0, \"tickcolor\": \"rgb(237,237,237)\", \"ticklen\": 6, \"ticks\": \"inside\"}, \"type\": \"contourcarpet\"}], \"heatmap\": [{\"colorbar\": {\"outlinewidth\": 0, \"tickcolor\": \"rgb(237,237,237)\", \"ticklen\": 6, \"ticks\": \"inside\"}, \"colorscale\": [[0, \"rgb(20,44,66)\"], [1, \"rgb(90,179,244)\"]], \"type\": \"heatmap\"}], \"heatmapgl\": [{\"colorbar\": {\"outlinewidth\": 0, \"tickcolor\": \"rgb(237,237,237)\", \"ticklen\": 6, \"ticks\": \"inside\"}, \"colorscale\": [[0, \"rgb(20,44,66)\"], [1, \"rgb(90,179,244)\"]], \"type\": \"heatmapgl\"}], \"histogram\": [{\"marker\": {\"colorbar\": {\"outlinewidth\": 0, \"tickcolor\": \"rgb(237,237,237)\", \"ticklen\": 6, \"ticks\": \"inside\"}}, \"type\": \"histogram\"}], \"histogram2d\": [{\"colorbar\": {\"outlinewidth\": 0, \"tickcolor\": \"rgb(237,237,237)\", \"ticklen\": 6, \"ticks\": \"inside\"}, \"colorscale\": [[0, \"rgb(20,44,66)\"], [1, \"rgb(90,179,244)\"]], \"type\": \"histogram2d\"}], \"histogram2dcontour\": [{\"colorbar\": {\"outlinewidth\": 0, \"tickcolor\": \"rgb(237,237,237)\", \"ticklen\": 6, \"ticks\": \"inside\"}, \"colorscale\": [[0, \"rgb(20,44,66)\"], [1, \"rgb(90,179,244)\"]], \"type\": \"histogram2dcontour\"}], \"mesh3d\": [{\"colorbar\": {\"outlinewidth\": 0, \"tickcolor\": \"rgb(237,237,237)\", \"ticklen\": 6, \"ticks\": \"inside\"}, \"type\": \"mesh3d\"}], \"parcoords\": [{\"line\": {\"colorbar\": {\"outlinewidth\": 0, \"tickcolor\": \"rgb(237,237,237)\", \"ticklen\": 6, \"ticks\": \"inside\"}}, \"type\": \"parcoords\"}], \"pie\": [{\"automargin\": true, \"type\": \"pie\"}], \"scatter\": [{\"marker\": {\"colorbar\": {\"outlinewidth\": 0, \"tickcolor\": \"rgb(237,237,237)\", \"ticklen\": 6, \"ticks\": \"inside\"}}, \"type\": \"scatter\"}], \"scatter3d\": [{\"line\": {\"colorbar\": {\"outlinewidth\": 0, \"tickcolor\": \"rgb(237,237,237)\", \"ticklen\": 6, \"ticks\": \"inside\"}}, \"marker\": {\"colorbar\": {\"outlinewidth\": 0, \"tickcolor\": \"rgb(237,237,237)\", \"ticklen\": 6, \"ticks\": \"inside\"}}, \"type\": \"scatter3d\"}], \"scattercarpet\": [{\"marker\": {\"colorbar\": {\"outlinewidth\": 0, \"tickcolor\": \"rgb(237,237,237)\", \"ticklen\": 6, \"ticks\": \"inside\"}}, \"type\": \"scattercarpet\"}], \"scattergeo\": [{\"marker\": {\"colorbar\": {\"outlinewidth\": 0, \"tickcolor\": \"rgb(237,237,237)\", \"ticklen\": 6, \"ticks\": \"inside\"}}, \"type\": \"scattergeo\"}], \"scattergl\": [{\"marker\": {\"colorbar\": {\"outlinewidth\": 0, \"tickcolor\": \"rgb(237,237,237)\", \"ticklen\": 6, \"ticks\": \"inside\"}}, \"type\": \"scattergl\"}], \"scattermapbox\": [{\"marker\": {\"colorbar\": {\"outlinewidth\": 0, \"tickcolor\": \"rgb(237,237,237)\", \"ticklen\": 6, \"ticks\": \"inside\"}}, \"type\": \"scattermapbox\"}], \"scatterpolar\": [{\"marker\": {\"colorbar\": {\"outlinewidth\": 0, \"tickcolor\": \"rgb(237,237,237)\", \"ticklen\": 6, \"ticks\": \"inside\"}}, \"type\": \"scatterpolar\"}], \"scatterpolargl\": [{\"marker\": {\"colorbar\": {\"outlinewidth\": 0, \"tickcolor\": \"rgb(237,237,237)\", \"ticklen\": 6, \"ticks\": \"inside\"}}, \"type\": \"scatterpolargl\"}], \"scatterternary\": [{\"marker\": {\"colorbar\": {\"outlinewidth\": 0, \"tickcolor\": \"rgb(237,237,237)\", \"ticklen\": 6, \"ticks\": \"inside\"}}, \"type\": \"scatterternary\"}], \"surface\": [{\"colorbar\": {\"outlinewidth\": 0, \"tickcolor\": \"rgb(237,237,237)\", \"ticklen\": 6, \"ticks\": \"inside\"}, \"colorscale\": [[0, \"rgb(20,44,66)\"], [1, \"rgb(90,179,244)\"]], \"type\": \"surface\"}], \"table\": [{\"cells\": {\"fill\": {\"color\": \"rgb(237,237,237)\"}, \"line\": {\"color\": \"white\"}}, \"header\": {\"fill\": {\"color\": \"rgb(217,217,217)\"}, \"line\": {\"color\": \"white\"}}, \"type\": \"table\"}]}, \"layout\": {\"annotationdefaults\": {\"arrowhead\": 0, \"arrowwidth\": 1}, \"autotypenumbers\": \"strict\", \"coloraxis\": {\"colorbar\": {\"outlinewidth\": 0, \"tickcolor\": \"rgb(237,237,237)\", \"ticklen\": 6, \"ticks\": \"inside\"}}, \"colorscale\": {\"sequential\": [[0, \"rgb(20,44,66)\"], [1, \"rgb(90,179,244)\"]], \"sequentialminus\": [[0, \"rgb(20,44,66)\"], [1, \"rgb(90,179,244)\"]]}, \"colorway\": [\"#F8766D\", \"#A3A500\", \"#00BF7D\", \"#00B0F6\", \"#E76BF3\"], \"font\": {\"color\": \"rgb(51,51,51)\"}, \"geo\": {\"bgcolor\": \"white\", \"lakecolor\": \"white\", \"landcolor\": \"rgb(237,237,237)\", \"showlakes\": true, \"showland\": true, \"subunitcolor\": \"white\"}, \"hoverlabel\": {\"align\": \"left\"}, \"hovermode\": \"closest\", \"paper_bgcolor\": \"white\", \"plot_bgcolor\": \"rgb(237,237,237)\", \"polar\": {\"angularaxis\": {\"gridcolor\": \"white\", \"linecolor\": \"white\", \"showgrid\": true, \"tickcolor\": \"rgb(51,51,51)\", \"ticks\": \"outside\"}, \"bgcolor\": \"rgb(237,237,237)\", \"radialaxis\": {\"gridcolor\": \"white\", \"linecolor\": \"white\", \"showgrid\": true, \"tickcolor\": \"rgb(51,51,51)\", \"ticks\": \"outside\"}}, \"scene\": {\"xaxis\": {\"backgroundcolor\": \"rgb(237,237,237)\", \"gridcolor\": \"white\", \"gridwidth\": 2, \"linecolor\": \"white\", \"showbackground\": true, \"showgrid\": true, \"tickcolor\": \"rgb(51,51,51)\", \"ticks\": \"outside\", \"zerolinecolor\": \"white\"}, \"yaxis\": {\"backgroundcolor\": \"rgb(237,237,237)\", \"gridcolor\": \"white\", \"gridwidth\": 2, \"linecolor\": \"white\", \"showbackground\": true, \"showgrid\": true, \"tickcolor\": \"rgb(51,51,51)\", \"ticks\": \"outside\", \"zerolinecolor\": \"white\"}, \"zaxis\": {\"backgroundcolor\": \"rgb(237,237,237)\", \"gridcolor\": \"white\", \"gridwidth\": 2, \"linecolor\": \"white\", \"showbackground\": true, \"showgrid\": true, \"tickcolor\": \"rgb(51,51,51)\", \"ticks\": \"outside\", \"zerolinecolor\": \"white\"}}, \"shapedefaults\": {\"fillcolor\": \"black\", \"line\": {\"width\": 0}, \"opacity\": 0.3}, \"ternary\": {\"aaxis\": {\"gridcolor\": \"white\", \"linecolor\": \"white\", \"showgrid\": true, \"tickcolor\": \"rgb(51,51,51)\", \"ticks\": \"outside\"}, \"baxis\": {\"gridcolor\": \"white\", \"linecolor\": \"white\", \"showgrid\": true, \"tickcolor\": \"rgb(51,51,51)\", \"ticks\": \"outside\"}, \"bgcolor\": \"rgb(237,237,237)\", \"caxis\": {\"gridcolor\": \"white\", \"linecolor\": \"white\", \"showgrid\": true, \"tickcolor\": \"rgb(51,51,51)\", \"ticks\": \"outside\"}}, \"xaxis\": {\"automargin\": true, \"gridcolor\": \"white\", \"linecolor\": \"white\", \"showgrid\": true, \"tickcolor\": \"rgb(51,51,51)\", \"ticks\": \"outside\", \"title\": {\"standoff\": 15}, \"zerolinecolor\": \"white\"}, \"yaxis\": {\"automargin\": true, \"gridcolor\": \"white\", \"linecolor\": \"white\", \"showgrid\": true, \"tickcolor\": \"rgb(51,51,51)\", \"ticks\": \"outside\", \"title\": {\"standoff\": 15}, \"zerolinecolor\": \"white\"}}}, \"title\": {\"text\": \"Innings Pitched by Cornell Pitchers\", \"x\": 0.5, \"yanchor\": \"top\"}, \"xaxis\": {\"anchor\": \"y\", \"domain\": [0.0, 1.0], \"title\": {}}, \"yaxis\": {\"anchor\": \"x\", \"domain\": [0.0, 1.0], \"title\": {\"text\": \"Innings Pitched\"}}},                        {\"responsive\": true}                    ).then(function(){\n",
       "                            \n",
       "var gd = document.getElementById('3876400c-45ba-4aba-abf2-4a477cfda855');\n",
       "var x = new MutationObserver(function (mutations, observer) {{\n",
       "        var display = window.getComputedStyle(gd).display;\n",
       "        if (!display || display === 'none') {{\n",
       "            console.log([gd, 'removed!']);\n",
       "            Plotly.purge(gd);\n",
       "            observer.disconnect();\n",
       "        }}\n",
       "}});\n",
       "\n",
       "// Listen for the removal of the full notebook cells\n",
       "var notebookContainer = gd.closest('#notebook-container');\n",
       "if (notebookContainer) {{\n",
       "    x.observe(notebookContainer, {childList: true});\n",
       "}}\n",
       "\n",
       "// Listen for the clearing of the current output cell\n",
       "var outputEl = gd.closest('.output');\n",
       "if (outputEl) {{\n",
       "    x.observe(outputEl, {childList: true});\n",
       "}}\n",
       "\n",
       "                        })                };                });            </script>        </div>"
      ]
     },
     "metadata": {},
     "output_type": "display_data"
    }
   ],
   "source": [
    "data = get_cornell_pitching_stats(2015)\n",
    "fig = px.scatter(data, x=\"year\", y=\"innings_pitched\", hover_name=\"name\", color=\"innings_pitched\",template=\"ggplot2\")\n",
    "fig.update_layout( \n",
    "title = \"Innings Pitched by Cornell Pitchers\",\n",
    "title_yanchor = \"top\",\n",
    "title_x =  0.5,\n",
    "yaxis_title=\"Innings Pitched\",\n",
    "xaxis_title=None\n",
    ")\n",
    "fig.show()"
   ]
  },
  {
   "cell_type": "code",
   "execution_count": 86,
   "id": "83c9c349-c61e-4fec-bb12-e79608506b0e",
   "metadata": {},
   "outputs": [
    {
     "data": {
      "application/vnd.plotly.v1+json": {
       "config": {
        "plotlyServerURL": "https://plot.ly"
       },
       "data": [
        {
         "hovertemplate": "<b>%{hovertext}</b><br><br>year=%{x}<br>runs_per_ip=%{marker.color}<extra></extra>",
         "hovertext": [
          "Lillios, Nikolas",
          "Zacharias, Jon",
          "Urbon, Seth",
          "Wyatt, Colby",
          "Edwards, Spencer",
          "Natoli, John",
          "Yacinich, Luke",
          "Cushing, Kevin",
          "Natoli, John",
          "Lillios, Nikolas",
          "Davis, Trevor Daniel",
          "Zacharias, Jon",
          "Yacinich, Luke",
          "Wyatt, Colby",
          "Bemiss, Jeb",
          "Cushing, Kevin",
          "Ellison, Andrew",
          "Arnold, Austin",
          "Urbon, Seth",
          "Wyatt, Colby",
          "Ellison, Andrew",
          "Wahl, Austin",
          "Bemiss, Jeb",
          "Saks, Adam",
          "Urbon, Seth",
          "Willittes, Tim",
          "Morris, Tommy",
          "Fernandez, Tyler",
          "Lannoo, Peter",
          "Flynn, Jamie",
          "Bemiss, Jeb",
          "Horton, Matt",
          "Natoli, John",
          "Soltis, Scott",
          "Willittes, Tim",
          "Balestrieri, Paul",
          "Lewis, Justin",
          "Wyatt, Colby",
          "Morris, Tommy",
          "Flynn, Jamie",
          "Lewis, Justin",
          "Soltis, Scott",
          "Willittes, Tim",
          "Byrne, Michael",
          "Smith, Jamie",
          "Saks, Adam",
          "Balestrieri, Paul",
          "Lannoo, Peter",
          "Wahl, Austin",
          "Pannullo, Rob",
          "Balestrieri, Paul",
          "Byrne, Michael",
          "Busto, Nick",
          "Upton, Eric",
          "Urbon, Kellen",
          "Lewis, Justin",
          "Lannoo, Peter",
          "Suppa, Roberto",
          "Brewer, Ray",
          "McCulley, Zach"
         ],
         "legendgroup": "",
         "marker": {
          "color": [
           0.19607843137254904,
           1.4516129032258065,
           0.8571428571428571,
           1.2056737588652482,
           1.3,
           0.09090909090909091,
           0.6944444444444444,
           1.1538461538461537,
           0.33240997229916897,
           0.45454545454545453,
           1.1801242236024843,
           0.36496350364963503,
           1.02803738317757,
           0.5696202531645569,
           0.6941431670281996,
           0.5,
           0.2681992337164751,
           0.3846153846153846,
           1.0574018126888216,
           0.49586776859504134,
           0.3435114503816794,
           0.39603960396039606,
           0.8609271523178809,
           0.8,
           0.6758832565284179,
           0.6911764705882353,
           0.5817174515235457,
           1.4864864864864866,
           0.42857142857142855,
           0.3125,
           0.6306306306306306,
           0.5384615384615384,
           0.6666666666666666,
           0.6617647058823529,
           0.8,
           0.4020979020979021,
           0.7079646017699115,
           1.6666666666666667,
           0.4797047970479705,
           0.8333333333333334,
           0.4336734693877551,
           1.1049723756906076,
           0.9049773755656108,
           0.5,
           0.8450704225352114,
           1.2213740458015268,
           0.7142857142857143,
           0.6481481481481481,
           0.6818181818181819,
           0.7042253521126761,
           0.6218905472636815,
           1.1363636363636362,
           0.7272727272727273,
           0.8181818181818182,
           0.48672566371681414,
           1.4,
           0.297029702970297,
           1.8,
           0.6611570247933884,
           0.8264462809917356
          ],
          "coloraxis": "coloraxis",
          "symbol": "circle"
         },
         "mode": "markers",
         "name": "",
         "orientation": "v",
         "showlegend": false,
         "type": "scatter",
         "x": [
          2020,
          2020,
          2020,
          2020,
          2020,
          2020,
          2020,
          2020,
          2019,
          2019,
          2019,
          2019,
          2019,
          2019,
          2019,
          2019,
          2019,
          2019,
          2019,
          2018,
          2018,
          2018,
          2018,
          2018,
          2018,
          2018,
          2018,
          2018,
          2017,
          2017,
          2017,
          2017,
          2017,
          2017,
          2017,
          2017,
          2017,
          2017,
          2017,
          2016,
          2016,
          2016,
          2016,
          2016,
          2016,
          2016,
          2016,
          2016,
          2016,
          2016,
          2015,
          2015,
          2015,
          2015,
          2015,
          2015,
          2015,
          2015,
          2015,
          2015
         ],
         "xaxis": "x",
         "y": [
          0.19607843137254904,
          1.4516129032258065,
          0.8571428571428571,
          1.2056737588652482,
          1.3,
          0.09090909090909091,
          0.6944444444444444,
          1.1538461538461537,
          0.33240997229916897,
          0.45454545454545453,
          1.1801242236024843,
          0.36496350364963503,
          1.02803738317757,
          0.5696202531645569,
          0.6941431670281996,
          0.5,
          0.2681992337164751,
          0.3846153846153846,
          1.0574018126888216,
          0.49586776859504134,
          0.3435114503816794,
          0.39603960396039606,
          0.8609271523178809,
          0.8,
          0.6758832565284179,
          0.6911764705882353,
          0.5817174515235457,
          1.4864864864864866,
          0.42857142857142855,
          0.3125,
          0.6306306306306306,
          0.5384615384615384,
          0.6666666666666666,
          0.6617647058823529,
          0.8,
          0.4020979020979021,
          0.7079646017699115,
          1.6666666666666667,
          0.4797047970479705,
          0.8333333333333334,
          0.4336734693877551,
          1.1049723756906076,
          0.9049773755656108,
          0.5,
          0.8450704225352114,
          1.2213740458015268,
          0.7142857142857143,
          0.6481481481481481,
          0.6818181818181819,
          0.7042253521126761,
          0.6218905472636815,
          1.1363636363636362,
          0.7272727272727273,
          0.8181818181818182,
          0.48672566371681414,
          1.4,
          0.297029702970297,
          1.8,
          0.6611570247933884,
          0.8264462809917356
         ],
         "yaxis": "y"
        }
       ],
       "layout": {
        "coloraxis": {
         "colorbar": {
          "title": {
           "text": "runs_per_ip"
          }
         },
         "colorscale": [
          [
           0,
           "rgb(20,44,66)"
          ],
          [
           1,
           "rgb(90,179,244)"
          ]
         ]
        },
        "legend": {
         "tracegroupgap": 0
        },
        "margin": {
         "t": 60
        },
        "template": {
         "data": {
          "bar": [
           {
            "error_x": {
             "color": "rgb(51,51,51)"
            },
            "error_y": {
             "color": "rgb(51,51,51)"
            },
            "marker": {
             "line": {
              "color": "rgb(237,237,237)",
              "width": 0.5
             }
            },
            "type": "bar"
           }
          ],
          "barpolar": [
           {
            "marker": {
             "line": {
              "color": "rgb(237,237,237)",
              "width": 0.5
             }
            },
            "type": "barpolar"
           }
          ],
          "carpet": [
           {
            "aaxis": {
             "endlinecolor": "rgb(51,51,51)",
             "gridcolor": "white",
             "linecolor": "white",
             "minorgridcolor": "white",
             "startlinecolor": "rgb(51,51,51)"
            },
            "baxis": {
             "endlinecolor": "rgb(51,51,51)",
             "gridcolor": "white",
             "linecolor": "white",
             "minorgridcolor": "white",
             "startlinecolor": "rgb(51,51,51)"
            },
            "type": "carpet"
           }
          ],
          "choropleth": [
           {
            "colorbar": {
             "outlinewidth": 0,
             "tickcolor": "rgb(237,237,237)",
             "ticklen": 6,
             "ticks": "inside"
            },
            "type": "choropleth"
           }
          ],
          "contour": [
           {
            "colorbar": {
             "outlinewidth": 0,
             "tickcolor": "rgb(237,237,237)",
             "ticklen": 6,
             "ticks": "inside"
            },
            "colorscale": [
             [
              0,
              "rgb(20,44,66)"
             ],
             [
              1,
              "rgb(90,179,244)"
             ]
            ],
            "type": "contour"
           }
          ],
          "contourcarpet": [
           {
            "colorbar": {
             "outlinewidth": 0,
             "tickcolor": "rgb(237,237,237)",
             "ticklen": 6,
             "ticks": "inside"
            },
            "type": "contourcarpet"
           }
          ],
          "heatmap": [
           {
            "colorbar": {
             "outlinewidth": 0,
             "tickcolor": "rgb(237,237,237)",
             "ticklen": 6,
             "ticks": "inside"
            },
            "colorscale": [
             [
              0,
              "rgb(20,44,66)"
             ],
             [
              1,
              "rgb(90,179,244)"
             ]
            ],
            "type": "heatmap"
           }
          ],
          "heatmapgl": [
           {
            "colorbar": {
             "outlinewidth": 0,
             "tickcolor": "rgb(237,237,237)",
             "ticklen": 6,
             "ticks": "inside"
            },
            "colorscale": [
             [
              0,
              "rgb(20,44,66)"
             ],
             [
              1,
              "rgb(90,179,244)"
             ]
            ],
            "type": "heatmapgl"
           }
          ],
          "histogram": [
           {
            "marker": {
             "colorbar": {
              "outlinewidth": 0,
              "tickcolor": "rgb(237,237,237)",
              "ticklen": 6,
              "ticks": "inside"
             }
            },
            "type": "histogram"
           }
          ],
          "histogram2d": [
           {
            "colorbar": {
             "outlinewidth": 0,
             "tickcolor": "rgb(237,237,237)",
             "ticklen": 6,
             "ticks": "inside"
            },
            "colorscale": [
             [
              0,
              "rgb(20,44,66)"
             ],
             [
              1,
              "rgb(90,179,244)"
             ]
            ],
            "type": "histogram2d"
           }
          ],
          "histogram2dcontour": [
           {
            "colorbar": {
             "outlinewidth": 0,
             "tickcolor": "rgb(237,237,237)",
             "ticklen": 6,
             "ticks": "inside"
            },
            "colorscale": [
             [
              0,
              "rgb(20,44,66)"
             ],
             [
              1,
              "rgb(90,179,244)"
             ]
            ],
            "type": "histogram2dcontour"
           }
          ],
          "mesh3d": [
           {
            "colorbar": {
             "outlinewidth": 0,
             "tickcolor": "rgb(237,237,237)",
             "ticklen": 6,
             "ticks": "inside"
            },
            "type": "mesh3d"
           }
          ],
          "parcoords": [
           {
            "line": {
             "colorbar": {
              "outlinewidth": 0,
              "tickcolor": "rgb(237,237,237)",
              "ticklen": 6,
              "ticks": "inside"
             }
            },
            "type": "parcoords"
           }
          ],
          "pie": [
           {
            "automargin": true,
            "type": "pie"
           }
          ],
          "scatter": [
           {
            "marker": {
             "colorbar": {
              "outlinewidth": 0,
              "tickcolor": "rgb(237,237,237)",
              "ticklen": 6,
              "ticks": "inside"
             }
            },
            "type": "scatter"
           }
          ],
          "scatter3d": [
           {
            "line": {
             "colorbar": {
              "outlinewidth": 0,
              "tickcolor": "rgb(237,237,237)",
              "ticklen": 6,
              "ticks": "inside"
             }
            },
            "marker": {
             "colorbar": {
              "outlinewidth": 0,
              "tickcolor": "rgb(237,237,237)",
              "ticklen": 6,
              "ticks": "inside"
             }
            },
            "type": "scatter3d"
           }
          ],
          "scattercarpet": [
           {
            "marker": {
             "colorbar": {
              "outlinewidth": 0,
              "tickcolor": "rgb(237,237,237)",
              "ticklen": 6,
              "ticks": "inside"
             }
            },
            "type": "scattercarpet"
           }
          ],
          "scattergeo": [
           {
            "marker": {
             "colorbar": {
              "outlinewidth": 0,
              "tickcolor": "rgb(237,237,237)",
              "ticklen": 6,
              "ticks": "inside"
             }
            },
            "type": "scattergeo"
           }
          ],
          "scattergl": [
           {
            "marker": {
             "colorbar": {
              "outlinewidth": 0,
              "tickcolor": "rgb(237,237,237)",
              "ticklen": 6,
              "ticks": "inside"
             }
            },
            "type": "scattergl"
           }
          ],
          "scattermapbox": [
           {
            "marker": {
             "colorbar": {
              "outlinewidth": 0,
              "tickcolor": "rgb(237,237,237)",
              "ticklen": 6,
              "ticks": "inside"
             }
            },
            "type": "scattermapbox"
           }
          ],
          "scatterpolar": [
           {
            "marker": {
             "colorbar": {
              "outlinewidth": 0,
              "tickcolor": "rgb(237,237,237)",
              "ticklen": 6,
              "ticks": "inside"
             }
            },
            "type": "scatterpolar"
           }
          ],
          "scatterpolargl": [
           {
            "marker": {
             "colorbar": {
              "outlinewidth": 0,
              "tickcolor": "rgb(237,237,237)",
              "ticklen": 6,
              "ticks": "inside"
             }
            },
            "type": "scatterpolargl"
           }
          ],
          "scatterternary": [
           {
            "marker": {
             "colorbar": {
              "outlinewidth": 0,
              "tickcolor": "rgb(237,237,237)",
              "ticklen": 6,
              "ticks": "inside"
             }
            },
            "type": "scatterternary"
           }
          ],
          "surface": [
           {
            "colorbar": {
             "outlinewidth": 0,
             "tickcolor": "rgb(237,237,237)",
             "ticklen": 6,
             "ticks": "inside"
            },
            "colorscale": [
             [
              0,
              "rgb(20,44,66)"
             ],
             [
              1,
              "rgb(90,179,244)"
             ]
            ],
            "type": "surface"
           }
          ],
          "table": [
           {
            "cells": {
             "fill": {
              "color": "rgb(237,237,237)"
             },
             "line": {
              "color": "white"
             }
            },
            "header": {
             "fill": {
              "color": "rgb(217,217,217)"
             },
             "line": {
              "color": "white"
             }
            },
            "type": "table"
           }
          ]
         },
         "layout": {
          "annotationdefaults": {
           "arrowhead": 0,
           "arrowwidth": 1
          },
          "autotypenumbers": "strict",
          "coloraxis": {
           "colorbar": {
            "outlinewidth": 0,
            "tickcolor": "rgb(237,237,237)",
            "ticklen": 6,
            "ticks": "inside"
           }
          },
          "colorscale": {
           "sequential": [
            [
             0,
             "rgb(20,44,66)"
            ],
            [
             1,
             "rgb(90,179,244)"
            ]
           ],
           "sequentialminus": [
            [
             0,
             "rgb(20,44,66)"
            ],
            [
             1,
             "rgb(90,179,244)"
            ]
           ]
          },
          "colorway": [
           "#F8766D",
           "#A3A500",
           "#00BF7D",
           "#00B0F6",
           "#E76BF3"
          ],
          "font": {
           "color": "rgb(51,51,51)"
          },
          "geo": {
           "bgcolor": "white",
           "lakecolor": "white",
           "landcolor": "rgb(237,237,237)",
           "showlakes": true,
           "showland": true,
           "subunitcolor": "white"
          },
          "hoverlabel": {
           "align": "left"
          },
          "hovermode": "closest",
          "paper_bgcolor": "white",
          "plot_bgcolor": "rgb(237,237,237)",
          "polar": {
           "angularaxis": {
            "gridcolor": "white",
            "linecolor": "white",
            "showgrid": true,
            "tickcolor": "rgb(51,51,51)",
            "ticks": "outside"
           },
           "bgcolor": "rgb(237,237,237)",
           "radialaxis": {
            "gridcolor": "white",
            "linecolor": "white",
            "showgrid": true,
            "tickcolor": "rgb(51,51,51)",
            "ticks": "outside"
           }
          },
          "scene": {
           "xaxis": {
            "backgroundcolor": "rgb(237,237,237)",
            "gridcolor": "white",
            "gridwidth": 2,
            "linecolor": "white",
            "showbackground": true,
            "showgrid": true,
            "tickcolor": "rgb(51,51,51)",
            "ticks": "outside",
            "zerolinecolor": "white"
           },
           "yaxis": {
            "backgroundcolor": "rgb(237,237,237)",
            "gridcolor": "white",
            "gridwidth": 2,
            "linecolor": "white",
            "showbackground": true,
            "showgrid": true,
            "tickcolor": "rgb(51,51,51)",
            "ticks": "outside",
            "zerolinecolor": "white"
           },
           "zaxis": {
            "backgroundcolor": "rgb(237,237,237)",
            "gridcolor": "white",
            "gridwidth": 2,
            "linecolor": "white",
            "showbackground": true,
            "showgrid": true,
            "tickcolor": "rgb(51,51,51)",
            "ticks": "outside",
            "zerolinecolor": "white"
           }
          },
          "shapedefaults": {
           "fillcolor": "black",
           "line": {
            "width": 0
           },
           "opacity": 0.3
          },
          "ternary": {
           "aaxis": {
            "gridcolor": "white",
            "linecolor": "white",
            "showgrid": true,
            "tickcolor": "rgb(51,51,51)",
            "ticks": "outside"
           },
           "baxis": {
            "gridcolor": "white",
            "linecolor": "white",
            "showgrid": true,
            "tickcolor": "rgb(51,51,51)",
            "ticks": "outside"
           },
           "bgcolor": "rgb(237,237,237)",
           "caxis": {
            "gridcolor": "white",
            "linecolor": "white",
            "showgrid": true,
            "tickcolor": "rgb(51,51,51)",
            "ticks": "outside"
           }
          },
          "xaxis": {
           "automargin": true,
           "gridcolor": "white",
           "linecolor": "white",
           "showgrid": true,
           "tickcolor": "rgb(51,51,51)",
           "ticks": "outside",
           "title": {
            "standoff": 15
           },
           "zerolinecolor": "white"
          },
          "yaxis": {
           "automargin": true,
           "gridcolor": "white",
           "linecolor": "white",
           "showgrid": true,
           "tickcolor": "rgb(51,51,51)",
           "ticks": "outside",
           "title": {
            "standoff": 15
           },
           "zerolinecolor": "white"
          }
         }
        },
        "title": {
         "text": "Runs/IP Cornell Pitchers by Year since 2015",
         "x": 0.5,
         "yanchor": "top"
        },
        "xaxis": {
         "anchor": "y",
         "domain": [
          0,
          1
         ],
         "title": {}
        },
        "yaxis": {
         "anchor": "x",
         "autorange": "reversed",
         "domain": [
          0,
          1
         ],
         "title": {
          "text": "Runs/IP (min 5 IP)"
         }
        }
       }
      },
      "text/html": [
       "<div>                            <div id=\"2975d5dd-4281-4ac0-b9bd-c381b8795c0e\" class=\"plotly-graph-div\" style=\"height:525px; width:100%;\"></div>            <script type=\"text/javascript\">                require([\"plotly\"], function(Plotly) {                    window.PLOTLYENV=window.PLOTLYENV || {};                                    if (document.getElementById(\"2975d5dd-4281-4ac0-b9bd-c381b8795c0e\")) {                    Plotly.newPlot(                        \"2975d5dd-4281-4ac0-b9bd-c381b8795c0e\",                        [{\"hovertemplate\": \"<b>%{hovertext}</b><br><br>year=%{x}<br>runs_per_ip=%{marker.color}<extra></extra>\", \"hovertext\": [\"Lillios, Nikolas\", \"Zacharias, Jon\", \"Urbon, Seth\", \"Wyatt, Colby\", \"Edwards, Spencer\", \"Natoli, John\", \"Yacinich, Luke\", \"Cushing, Kevin\", \"Natoli, John\", \"Lillios, Nikolas\", \"Davis, Trevor Daniel\", \"Zacharias, Jon\", \"Yacinich, Luke\", \"Wyatt, Colby\", \"Bemiss, Jeb\", \"Cushing, Kevin\", \"Ellison, Andrew\", \"Arnold, Austin\", \"Urbon, Seth\", \"Wyatt, Colby\", \"Ellison, Andrew\", \"Wahl, Austin\", \"Bemiss, Jeb\", \"Saks, Adam\", \"Urbon, Seth\", \"Willittes, Tim\", \"Morris, Tommy\", \"Fernandez, Tyler\", \"Lannoo, Peter\", \"Flynn, Jamie\", \"Bemiss, Jeb\", \"Horton, Matt\", \"Natoli, John\", \"Soltis, Scott\", \"Willittes, Tim\", \"Balestrieri, Paul\", \"Lewis, Justin\", \"Wyatt, Colby\", \"Morris, Tommy\", \"Flynn, Jamie\", \"Lewis, Justin\", \"Soltis, Scott\", \"Willittes, Tim\", \"Byrne, Michael\", \"Smith, Jamie\", \"Saks, Adam\", \"Balestrieri, Paul\", \"Lannoo, Peter\", \"Wahl, Austin\", \"Pannullo, Rob\", \"Balestrieri, Paul\", \"Byrne, Michael\", \"Busto, Nick\", \"Upton, Eric\", \"Urbon, Kellen\", \"Lewis, Justin\", \"Lannoo, Peter\", \"Suppa, Roberto\", \"Brewer, Ray\", \"McCulley, Zach\"], \"legendgroup\": \"\", \"marker\": {\"color\": [0.19607843137254904, 1.4516129032258065, 0.8571428571428571, 1.2056737588652482, 1.3, 0.09090909090909091, 0.6944444444444444, 1.1538461538461537, 0.33240997229916897, 0.45454545454545453, 1.1801242236024843, 0.36496350364963503, 1.02803738317757, 0.5696202531645569, 0.6941431670281996, 0.5, 0.2681992337164751, 0.3846153846153846, 1.0574018126888216, 0.49586776859504134, 0.3435114503816794, 0.39603960396039606, 0.8609271523178809, 0.8, 0.6758832565284179, 0.6911764705882353, 0.5817174515235457, 1.4864864864864866, 0.42857142857142855, 0.3125, 0.6306306306306306, 0.5384615384615384, 0.6666666666666666, 0.6617647058823529, 0.8, 0.4020979020979021, 0.7079646017699115, 1.6666666666666667, 0.4797047970479705, 0.8333333333333334, 0.4336734693877551, 1.1049723756906076, 0.9049773755656108, 0.5, 0.8450704225352114, 1.2213740458015268, 0.7142857142857143, 0.6481481481481481, 0.6818181818181819, 0.7042253521126761, 0.6218905472636815, 1.1363636363636362, 0.7272727272727273, 0.8181818181818182, 0.48672566371681414, 1.4, 0.297029702970297, 1.8, 0.6611570247933884, 0.8264462809917356], \"coloraxis\": \"coloraxis\", \"symbol\": \"circle\"}, \"mode\": \"markers\", \"name\": \"\", \"orientation\": \"v\", \"showlegend\": false, \"type\": \"scatter\", \"x\": [2020, 2020, 2020, 2020, 2020, 2020, 2020, 2020, 2019, 2019, 2019, 2019, 2019, 2019, 2019, 2019, 2019, 2019, 2019, 2018, 2018, 2018, 2018, 2018, 2018, 2018, 2018, 2018, 2017, 2017, 2017, 2017, 2017, 2017, 2017, 2017, 2017, 2017, 2017, 2016, 2016, 2016, 2016, 2016, 2016, 2016, 2016, 2016, 2016, 2016, 2015, 2015, 2015, 2015, 2015, 2015, 2015, 2015, 2015, 2015], \"xaxis\": \"x\", \"y\": [0.19607843137254904, 1.4516129032258065, 0.8571428571428571, 1.2056737588652482, 1.3, 0.09090909090909091, 0.6944444444444444, 1.1538461538461537, 0.33240997229916897, 0.45454545454545453, 1.1801242236024843, 0.36496350364963503, 1.02803738317757, 0.5696202531645569, 0.6941431670281996, 0.5, 0.2681992337164751, 0.3846153846153846, 1.0574018126888216, 0.49586776859504134, 0.3435114503816794, 0.39603960396039606, 0.8609271523178809, 0.8, 0.6758832565284179, 0.6911764705882353, 0.5817174515235457, 1.4864864864864866, 0.42857142857142855, 0.3125, 0.6306306306306306, 0.5384615384615384, 0.6666666666666666, 0.6617647058823529, 0.8, 0.4020979020979021, 0.7079646017699115, 1.6666666666666667, 0.4797047970479705, 0.8333333333333334, 0.4336734693877551, 1.1049723756906076, 0.9049773755656108, 0.5, 0.8450704225352114, 1.2213740458015268, 0.7142857142857143, 0.6481481481481481, 0.6818181818181819, 0.7042253521126761, 0.6218905472636815, 1.1363636363636362, 0.7272727272727273, 0.8181818181818182, 0.48672566371681414, 1.4, 0.297029702970297, 1.8, 0.6611570247933884, 0.8264462809917356], \"yaxis\": \"y\"}],                        {\"coloraxis\": {\"colorbar\": {\"title\": {\"text\": \"runs_per_ip\"}}, \"colorscale\": [[0.0, \"rgb(20,44,66)\"], [1.0, \"rgb(90,179,244)\"]]}, \"legend\": {\"tracegroupgap\": 0}, \"margin\": {\"t\": 60}, \"template\": {\"data\": {\"bar\": [{\"error_x\": {\"color\": \"rgb(51,51,51)\"}, \"error_y\": {\"color\": \"rgb(51,51,51)\"}, \"marker\": {\"line\": {\"color\": \"rgb(237,237,237)\", \"width\": 0.5}}, \"type\": \"bar\"}], \"barpolar\": [{\"marker\": {\"line\": {\"color\": \"rgb(237,237,237)\", \"width\": 0.5}}, \"type\": \"barpolar\"}], \"carpet\": [{\"aaxis\": {\"endlinecolor\": \"rgb(51,51,51)\", \"gridcolor\": \"white\", \"linecolor\": \"white\", \"minorgridcolor\": \"white\", \"startlinecolor\": \"rgb(51,51,51)\"}, \"baxis\": {\"endlinecolor\": \"rgb(51,51,51)\", \"gridcolor\": \"white\", \"linecolor\": \"white\", \"minorgridcolor\": \"white\", \"startlinecolor\": \"rgb(51,51,51)\"}, \"type\": \"carpet\"}], \"choropleth\": [{\"colorbar\": {\"outlinewidth\": 0, \"tickcolor\": \"rgb(237,237,237)\", \"ticklen\": 6, \"ticks\": \"inside\"}, \"type\": \"choropleth\"}], \"contour\": [{\"colorbar\": {\"outlinewidth\": 0, \"tickcolor\": \"rgb(237,237,237)\", \"ticklen\": 6, \"ticks\": \"inside\"}, \"colorscale\": [[0, \"rgb(20,44,66)\"], [1, \"rgb(90,179,244)\"]], \"type\": \"contour\"}], \"contourcarpet\": [{\"colorbar\": {\"outlinewidth\": 0, \"tickcolor\": \"rgb(237,237,237)\", \"ticklen\": 6, \"ticks\": \"inside\"}, \"type\": \"contourcarpet\"}], \"heatmap\": [{\"colorbar\": {\"outlinewidth\": 0, \"tickcolor\": \"rgb(237,237,237)\", \"ticklen\": 6, \"ticks\": \"inside\"}, \"colorscale\": [[0, \"rgb(20,44,66)\"], [1, \"rgb(90,179,244)\"]], \"type\": \"heatmap\"}], \"heatmapgl\": [{\"colorbar\": {\"outlinewidth\": 0, \"tickcolor\": \"rgb(237,237,237)\", \"ticklen\": 6, \"ticks\": \"inside\"}, \"colorscale\": [[0, \"rgb(20,44,66)\"], [1, \"rgb(90,179,244)\"]], \"type\": \"heatmapgl\"}], \"histogram\": [{\"marker\": {\"colorbar\": {\"outlinewidth\": 0, \"tickcolor\": \"rgb(237,237,237)\", \"ticklen\": 6, \"ticks\": \"inside\"}}, \"type\": \"histogram\"}], \"histogram2d\": [{\"colorbar\": {\"outlinewidth\": 0, \"tickcolor\": \"rgb(237,237,237)\", \"ticklen\": 6, \"ticks\": \"inside\"}, \"colorscale\": [[0, \"rgb(20,44,66)\"], [1, \"rgb(90,179,244)\"]], \"type\": \"histogram2d\"}], \"histogram2dcontour\": [{\"colorbar\": {\"outlinewidth\": 0, \"tickcolor\": \"rgb(237,237,237)\", \"ticklen\": 6, \"ticks\": \"inside\"}, \"colorscale\": [[0, \"rgb(20,44,66)\"], [1, \"rgb(90,179,244)\"]], \"type\": \"histogram2dcontour\"}], \"mesh3d\": [{\"colorbar\": {\"outlinewidth\": 0, \"tickcolor\": \"rgb(237,237,237)\", \"ticklen\": 6, \"ticks\": \"inside\"}, \"type\": \"mesh3d\"}], \"parcoords\": [{\"line\": {\"colorbar\": {\"outlinewidth\": 0, \"tickcolor\": \"rgb(237,237,237)\", \"ticklen\": 6, \"ticks\": \"inside\"}}, \"type\": \"parcoords\"}], \"pie\": [{\"automargin\": true, \"type\": \"pie\"}], \"scatter\": [{\"marker\": {\"colorbar\": {\"outlinewidth\": 0, \"tickcolor\": \"rgb(237,237,237)\", \"ticklen\": 6, \"ticks\": \"inside\"}}, \"type\": \"scatter\"}], \"scatter3d\": [{\"line\": {\"colorbar\": {\"outlinewidth\": 0, \"tickcolor\": \"rgb(237,237,237)\", \"ticklen\": 6, \"ticks\": \"inside\"}}, \"marker\": {\"colorbar\": {\"outlinewidth\": 0, \"tickcolor\": \"rgb(237,237,237)\", \"ticklen\": 6, \"ticks\": \"inside\"}}, \"type\": \"scatter3d\"}], \"scattercarpet\": [{\"marker\": {\"colorbar\": {\"outlinewidth\": 0, \"tickcolor\": \"rgb(237,237,237)\", \"ticklen\": 6, \"ticks\": \"inside\"}}, \"type\": \"scattercarpet\"}], \"scattergeo\": [{\"marker\": {\"colorbar\": {\"outlinewidth\": 0, \"tickcolor\": \"rgb(237,237,237)\", \"ticklen\": 6, \"ticks\": \"inside\"}}, \"type\": \"scattergeo\"}], \"scattergl\": [{\"marker\": {\"colorbar\": {\"outlinewidth\": 0, \"tickcolor\": \"rgb(237,237,237)\", \"ticklen\": 6, \"ticks\": \"inside\"}}, \"type\": \"scattergl\"}], \"scattermapbox\": [{\"marker\": {\"colorbar\": {\"outlinewidth\": 0, \"tickcolor\": \"rgb(237,237,237)\", \"ticklen\": 6, \"ticks\": \"inside\"}}, \"type\": \"scattermapbox\"}], \"scatterpolar\": [{\"marker\": {\"colorbar\": {\"outlinewidth\": 0, \"tickcolor\": \"rgb(237,237,237)\", \"ticklen\": 6, \"ticks\": \"inside\"}}, \"type\": \"scatterpolar\"}], \"scatterpolargl\": [{\"marker\": {\"colorbar\": {\"outlinewidth\": 0, \"tickcolor\": \"rgb(237,237,237)\", \"ticklen\": 6, \"ticks\": \"inside\"}}, \"type\": \"scatterpolargl\"}], \"scatterternary\": [{\"marker\": {\"colorbar\": {\"outlinewidth\": 0, \"tickcolor\": \"rgb(237,237,237)\", \"ticklen\": 6, \"ticks\": \"inside\"}}, \"type\": \"scatterternary\"}], \"surface\": [{\"colorbar\": {\"outlinewidth\": 0, \"tickcolor\": \"rgb(237,237,237)\", \"ticklen\": 6, \"ticks\": \"inside\"}, \"colorscale\": [[0, \"rgb(20,44,66)\"], [1, \"rgb(90,179,244)\"]], \"type\": \"surface\"}], \"table\": [{\"cells\": {\"fill\": {\"color\": \"rgb(237,237,237)\"}, \"line\": {\"color\": \"white\"}}, \"header\": {\"fill\": {\"color\": \"rgb(217,217,217)\"}, \"line\": {\"color\": \"white\"}}, \"type\": \"table\"}]}, \"layout\": {\"annotationdefaults\": {\"arrowhead\": 0, \"arrowwidth\": 1}, \"autotypenumbers\": \"strict\", \"coloraxis\": {\"colorbar\": {\"outlinewidth\": 0, \"tickcolor\": \"rgb(237,237,237)\", \"ticklen\": 6, \"ticks\": \"inside\"}}, \"colorscale\": {\"sequential\": [[0, \"rgb(20,44,66)\"], [1, \"rgb(90,179,244)\"]], \"sequentialminus\": [[0, \"rgb(20,44,66)\"], [1, \"rgb(90,179,244)\"]]}, \"colorway\": [\"#F8766D\", \"#A3A500\", \"#00BF7D\", \"#00B0F6\", \"#E76BF3\"], \"font\": {\"color\": \"rgb(51,51,51)\"}, \"geo\": {\"bgcolor\": \"white\", \"lakecolor\": \"white\", \"landcolor\": \"rgb(237,237,237)\", \"showlakes\": true, \"showland\": true, \"subunitcolor\": \"white\"}, \"hoverlabel\": {\"align\": \"left\"}, \"hovermode\": \"closest\", \"paper_bgcolor\": \"white\", \"plot_bgcolor\": \"rgb(237,237,237)\", \"polar\": {\"angularaxis\": {\"gridcolor\": \"white\", \"linecolor\": \"white\", \"showgrid\": true, \"tickcolor\": \"rgb(51,51,51)\", \"ticks\": \"outside\"}, \"bgcolor\": \"rgb(237,237,237)\", \"radialaxis\": {\"gridcolor\": \"white\", \"linecolor\": \"white\", \"showgrid\": true, \"tickcolor\": \"rgb(51,51,51)\", \"ticks\": \"outside\"}}, \"scene\": {\"xaxis\": {\"backgroundcolor\": \"rgb(237,237,237)\", \"gridcolor\": \"white\", \"gridwidth\": 2, \"linecolor\": \"white\", \"showbackground\": true, \"showgrid\": true, \"tickcolor\": \"rgb(51,51,51)\", \"ticks\": \"outside\", \"zerolinecolor\": \"white\"}, \"yaxis\": {\"backgroundcolor\": \"rgb(237,237,237)\", \"gridcolor\": \"white\", \"gridwidth\": 2, \"linecolor\": \"white\", \"showbackground\": true, \"showgrid\": true, \"tickcolor\": \"rgb(51,51,51)\", \"ticks\": \"outside\", \"zerolinecolor\": \"white\"}, \"zaxis\": {\"backgroundcolor\": \"rgb(237,237,237)\", \"gridcolor\": \"white\", \"gridwidth\": 2, \"linecolor\": \"white\", \"showbackground\": true, \"showgrid\": true, \"tickcolor\": \"rgb(51,51,51)\", \"ticks\": \"outside\", \"zerolinecolor\": \"white\"}}, \"shapedefaults\": {\"fillcolor\": \"black\", \"line\": {\"width\": 0}, \"opacity\": 0.3}, \"ternary\": {\"aaxis\": {\"gridcolor\": \"white\", \"linecolor\": \"white\", \"showgrid\": true, \"tickcolor\": \"rgb(51,51,51)\", \"ticks\": \"outside\"}, \"baxis\": {\"gridcolor\": \"white\", \"linecolor\": \"white\", \"showgrid\": true, \"tickcolor\": \"rgb(51,51,51)\", \"ticks\": \"outside\"}, \"bgcolor\": \"rgb(237,237,237)\", \"caxis\": {\"gridcolor\": \"white\", \"linecolor\": \"white\", \"showgrid\": true, \"tickcolor\": \"rgb(51,51,51)\", \"ticks\": \"outside\"}}, \"xaxis\": {\"automargin\": true, \"gridcolor\": \"white\", \"linecolor\": \"white\", \"showgrid\": true, \"tickcolor\": \"rgb(51,51,51)\", \"ticks\": \"outside\", \"title\": {\"standoff\": 15}, \"zerolinecolor\": \"white\"}, \"yaxis\": {\"automargin\": true, \"gridcolor\": \"white\", \"linecolor\": \"white\", \"showgrid\": true, \"tickcolor\": \"rgb(51,51,51)\", \"ticks\": \"outside\", \"title\": {\"standoff\": 15}, \"zerolinecolor\": \"white\"}}}, \"title\": {\"text\": \"Runs/IP Cornell Pitchers by Year since 2015\", \"x\": 0.5, \"yanchor\": \"top\"}, \"xaxis\": {\"anchor\": \"y\", \"domain\": [0.0, 1.0], \"title\": {}}, \"yaxis\": {\"anchor\": \"x\", \"autorange\": \"reversed\", \"domain\": [0.0, 1.0], \"title\": {\"text\": \"Runs/IP (min 5 IP)\"}}},                        {\"responsive\": true}                    ).then(function(){\n",
       "                            \n",
       "var gd = document.getElementById('2975d5dd-4281-4ac0-b9bd-c381b8795c0e');\n",
       "var x = new MutationObserver(function (mutations, observer) {{\n",
       "        var display = window.getComputedStyle(gd).display;\n",
       "        if (!display || display === 'none') {{\n",
       "            console.log([gd, 'removed!']);\n",
       "            Plotly.purge(gd);\n",
       "            observer.disconnect();\n",
       "        }}\n",
       "}});\n",
       "\n",
       "// Listen for the removal of the full notebook cells\n",
       "var notebookContainer = gd.closest('#notebook-container');\n",
       "if (notebookContainer) {{\n",
       "    x.observe(notebookContainer, {childList: true});\n",
       "}}\n",
       "\n",
       "// Listen for the clearing of the current output cell\n",
       "var outputEl = gd.closest('.output');\n",
       "if (outputEl) {{\n",
       "    x.observe(outputEl, {childList: true});\n",
       "}}\n",
       "\n",
       "                        })                };                });            </script>        </div>"
      ]
     },
     "metadata": {},
     "output_type": "display_data"
    }
   ],
   "source": [
    "data = get_cornell_pitching_stats(2015)\n",
    "data = data[data[\"innings_pitched\"] > 5]\n",
    "fig = px.scatter(data, x=\"year\", y=\"runs_per_ip\", color=\"runs_per_ip\", hover_name=\"name\",template=\"ggplot2\")\n",
    "fig.update_layout( \n",
    "title = \"Runs/IP Cornell Pitchers by Year since 2015\",\n",
    "title_yanchor = \"top\",\n",
    "title_x =  0.5,\n",
    "yaxis_title=\"Runs/IP (min 5 IP)\",\n",
    "xaxis_title=None\n",
    ")\n",
    "fig.update_yaxes(autorange=\"reversed\")\n",
    "fig.show()\n"
   ]
  }
 ],
 "metadata": {
  "kernelspec": {
   "display_name": "Python 3",
   "language": "python",
   "name": "python3"
  },
  "language_info": {
   "codemirror_mode": {
    "name": "ipython",
    "version": 3
   },
   "file_extension": ".py",
   "mimetype": "text/x-python",
   "name": "python",
   "nbconvert_exporter": "python",
   "pygments_lexer": "ipython3",
   "version": "3.8.8"
  }
 },
 "nbformat": 4,
 "nbformat_minor": 5
}
