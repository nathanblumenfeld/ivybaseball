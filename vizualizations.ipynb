{
 "cells": [
  {
   "cell_type": "markdown",
   "metadata": {},
   "source": [
    "# Visualizations \n",
    "\n",
    "The past 5 years, visually\n",
    "cumulative run totals graph\n",
    "league standings graph\n",
    "\n",
    "pitching distribution\n",
    "\n",
    "batting distribution\n",
    "\n",
    "Outstanding players\n",
    "reasons to be hopeful"
   ]
  },
  {
   "cell_type": "code",
   "execution_count": 1,
   "metadata": {},
   "outputs": [
    {
     "ename": "SyntaxError",
     "evalue": "invalid syntax (scraper.ipynb, line 33)",
     "output_type": "error",
     "traceback": [
      "Traceback \u001b[1;36m(most recent call last)\u001b[0m:\n",
      "  File \u001b[0;32m\"C:\\Users\\natha\\anaconda3\\lib\\site-packages\\IPython\\core\\interactiveshell.py\"\u001b[0m, line \u001b[0;32m3418\u001b[0m, in \u001b[0;35mrun_code\u001b[0m\n    exec(code_obj, self.user_global_ns, self.user_ns)\n",
      "  File \u001b[0;32m\"<ipython-input-1-d3bd9938460b>\"\u001b[0m, line \u001b[0;32m1\u001b[0m, in \u001b[0;35m<module>\u001b[0m\n    import ipynb.fs.full.scraper as sc\n",
      "  File \u001b[0;32m\"<frozen importlib._bootstrap>\"\u001b[0m, line \u001b[0;32m991\u001b[0m, in \u001b[0;35m_find_and_load\u001b[0m\n",
      "  File \u001b[0;32m\"<frozen importlib._bootstrap>\"\u001b[0m, line \u001b[0;32m975\u001b[0m, in \u001b[0;35m_find_and_load_unlocked\u001b[0m\n",
      "  File \u001b[0;32m\"<frozen importlib._bootstrap>\"\u001b[0m, line \u001b[0;32m671\u001b[0m, in \u001b[0;35m_load_unlocked\u001b[0m\n",
      "  File \u001b[0;32m\"<frozen importlib._bootstrap_external>\"\u001b[0m, line \u001b[0;32m779\u001b[0m, in \u001b[0;35mexec_module\u001b[0m\n",
      "\u001b[1;36m  File \u001b[1;32m\"C:\\Users\\natha\\anaconda3\\lib\\site-packages\\ipynb\\fs\\full\\__init__.py\"\u001b[1;36m, line \u001b[1;32m43\u001b[1;36m, in \u001b[1;35mget_code\u001b[1;36m\u001b[0m\n\u001b[1;33m    return self.source_to_code(code_from_ipynb(nb), self.path)\u001b[0m\n",
      "\u001b[1;36m  File \u001b[1;32m\"C:\\Users\\natha\\Desktop\\CDS\\Sabermetrics\\ivybaseball\\scraper.ipynb\"\u001b[1;36m, line \u001b[1;32m33\u001b[0m\n\u001b[1;33m    \"metadata\": {},\u001b[0m\n\u001b[1;37m                   \n^\u001b[0m\n\u001b[1;31mSyntaxError\u001b[0m\u001b[1;31m:\u001b[0m invalid syntax\n"
     ]
    }
   ],
   "source": [
    "import ipynb.fs.full.scraper as sc\n",
    "import plotly.express as px\n"
   ]
  },
  {
   "cell_type": "code",
   "execution_count": 15,
   "metadata": {},
   "outputs": [
    {
     "ename": "TypeError",
     "evalue": "get_intra_ivy() takes 2 positional arguments but 3 were given",
     "output_type": "error",
     "traceback": [
      "\u001b[1;31m---------------------------------------------------------------------------\u001b[0m",
      "\u001b[1;31mTypeError\u001b[0m                                 Traceback (most recent call last)",
      "\u001b[1;32m<ipython-input-15-e0039dc283ce>\u001b[0m in \u001b[0;36m<module>\u001b[1;34m\u001b[0m\n\u001b[1;32m----> 1\u001b[1;33m \u001b[0mdf\u001b[0m \u001b[1;33m=\u001b[0m \u001b[0msc\u001b[0m\u001b[1;33m.\u001b[0m\u001b[0mget_intra_ivy\u001b[0m\u001b[1;33m(\u001b[0m\u001b[1;34m\"Cornell\"\u001b[0m\u001b[1;33m,\u001b[0m\u001b[1;34m\"2015\"\u001b[0m\u001b[1;33m,\u001b[0m\u001b[1;34m\"2020\"\u001b[0m\u001b[1;33m)\u001b[0m\u001b[1;33m\u001b[0m\u001b[1;33m\u001b[0m\u001b[0m\n\u001b[0m\u001b[0;32m      2\u001b[0m \u001b[0mdf\u001b[0m\u001b[1;33m\u001b[0m\u001b[1;33m\u001b[0m\u001b[0m\n",
      "\u001b[1;31mTypeError\u001b[0m: get_intra_ivy() takes 2 positional arguments but 3 were given"
     ]
    }
   ],
   "source": [
    "df = sc.get_intra_ivy(\"Cornell\",\"2015\",\"2020\")\n",
    "df\n"
   ]
  },
  {
   "cell_type": "code",
   "execution_count": null,
   "metadata": {},
   "outputs": [],
   "source": [
    "import plotly.plotly as py\n",
    "\n",
    "fig = py.get_figure('https://plotly.com/~Dreamshot/8158/')\n",
    "\n",
    "fig.layout.images = [dict(\n",
    "        source=\"https://raw.githubusercontent.com/cldougl/plot_images/add_r_img/theverge.png\",\n",
    "        xref=\"paper\", yref=\"paper\",\n",
    "        x=0.1, y=1.0,\n",
    "        sizex=0.2, sizey=0.3,\n",
    "        xanchor=\"center\", yanchor=\"bottom\"\n",
    "      )]\n",
    "\n",
    "fig.layout.legend.orientation = 'h'\n",
    "\n",
    "py.iplot(fig, fileopt='overwrite', filename='Logos/Apple_Labor_Violations_TheVerge')"
   ]
  },
  {
   "cell_type": "code",
   "execution_count": null,
   "metadata": {},
   "outputs": [],
   "source": []
  }
 ],
 "metadata": {
  "kernelspec": {
   "display_name": "Python 3",
   "language": "python",
   "name": "python3"
  },
  "language_info": {
   "codemirror_mode": {
    "name": "ipython",
    "version": 3
   },
   "file_extension": ".py",
   "mimetype": "text/x-python",
   "name": "python",
   "nbconvert_exporter": "python",
   "pygments_lexer": "ipython3",
   "version": "3.8.5"
  }
 },
 "nbformat": 4,
 "nbformat_minor": 4
}
