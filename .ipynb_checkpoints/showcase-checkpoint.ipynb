{
 "cells": [
  {
   "cell_type": "code",
   "execution_count": 82,
   "id": "5c3a48e8-7850-47fa-9013-58c2144ca1d3",
   "metadata": {},
   "outputs": [],
   "source": [
    "import pandas as pd\n",
    "import numpy as np\n",
    "from datetime import datetime\n",
    "import requests\n",
    "import tempfile\n",
    "from io import StringIO\n",
    "import plotly.express as px\n",
    "import plotly.graph_objects as go\n",
    "from PIL import Image\n",
    "from datetime import datetime\n",
    "import warnings\n",
    "warnings.filterwarnings(\"ignore\")\n"
   ]
  },
  {
   "cell_type": "code",
   "execution_count": 84,
   "id": "1d0f24d1-ce01-4710-b5b8-c012928cc848",
   "metadata": {},
   "outputs": [],
   "source": [
    "pitching = pd.read_csv(\"data/pitchingsince2015.csv\")\n",
    "batting = pd.read_csv(\"data/battingsince2015.csv\")\n",
    "standings = pd.read_csv(\"data/ivy_league_standings_2015_to_2019.csv\")\n",
    "park_factors = pd.read_csv(\"data/park_factors.csv\")\n",
    "ivy_pitching = pd.read_excel(\"data/ivy_league_totals_2012_to_2020.xlsx\", sheet_name=\"pitching\")\n",
    "ivy_pitching = ivy_pitching.set_index(\"Season\")\n",
    "ivy_batting = pd.read_excel(\"data/ivy_league_totals_2012_to_2020.xlsx\", sheet_name=\"batting\")\n",
    "ivy_batting = ivy_batting.set_index(\"Season\")"
   ]
  },
  {
   "cell_type": "code",
   "execution_count": 85,
   "id": "43e2951e-24fd-4a71-bf86-98e35234a153",
   "metadata": {},
   "outputs": [],
   "source": [
    "def get_games(team_name, start,end):\n",
    "    \"\"\"\n",
    "    Returns: a dataframe of all games played for a given team inclusive of given start & end year\n",
    "    \n",
    "    Parameter team_name: team whose games to select \n",
    "    Precondition: team_name is a lowercase string\n",
    "    Parameter start: the start year of games. To select only games from one year, leave  \n",
    "    Precondition: start is an int\n",
    "    Parameter end: the end year of games\n",
    "    Precondition: end is an int\n",
    "    \"\"\"\n",
    "    assert type(team_name) == str, \"team_name invalid, must be string\"\n",
    "    assert type(start) == int, \"team_name invalid, must be int\"\n",
    "    assert type(end) == int, \"team_name invalid, must be int\"\n",
    "    payload = {\"team1\":team_name, \"firstyear\":str(start), \"team2\":\"all\",\"lastyear\":str(end), \"format\":\"Text\", \"submit\":\"Fetch\"}\n",
    "    url = \"http://www.boydsworld.com/cgi/scores.pl?\" \n",
    "    s = requests.Session()\n",
    "    r = requests.get(url, params = payload)\n",
    "    response = r.text \n",
    "    if (len(response) < 10):\n",
    "        return pd.DataFrame\n",
    "    else:\n",
    "        df = pd.read_fwf(StringIO(response), encoding = 'utf8',header=None)\n",
    "        col_names = [\"date\", \"team_1\", \"team_1_score\", \"team_2\", \"team_2_score\", \"field\"]\n",
    "        try: \n",
    "            df.shift(periods=1)\n",
    "            df.columns = col_names\n",
    "        except:          \n",
    "            df.columns = df.columns.astype(\"str\")\n",
    "            df.drop(\"2\", inplace=True, axis=1)\n",
    "            df.columns = col_names\n",
    "        return df"
   ]
  },
  {
   "cell_type": "code",
   "execution_count": 86,
   "id": "a51a4de5-2fa5-44c6-8727-a81d05a11a97",
   "metadata": {},
   "outputs": [],
   "source": [
    "def get_wins(team_name, start, end):\n",
    "    \"\"\"\n",
    "    Returns a dataframe of victories of a given team\n",
    "\n",
    "    Parameter team_name: team to return victories of \n",
    "    Preconditions: team_name is a string format ex. \"Cornell,\" \"Colgate\"\n",
    "    Parameter start: the start year of games. To select only games from one year, leave  \n",
    "    Precondition: start is an int\n",
    "    Parameter end: the end year of games\n",
    "    Precondition: end is an int\n",
    "    \"\"\"        \n",
    "    assert type(team_name) == str, \"team_name invalid, must be string\"\n",
    "    assert type(start) == int, \"team_name invalid, must be int\"\n",
    "    assert type(end) == int, \"team_name invalid, must be int\"\n",
    "    games = get_games(team_name,start,end)\n",
    "    wins = games[(games[\"team_1\"] == team_name) & (games[\"team_1_score\"] > games[\"team_2_score\"])]\n",
    "    return wins"
   ]
  },
  {
   "cell_type": "code",
   "execution_count": 87,
   "id": "3bb413c4-f4b6-4986-a811-be9648106a96",
   "metadata": {},
   "outputs": [],
   "source": [
    "def get_wins_from_df(team_name, games):\n",
    "    \"\"\"\n",
    "    Returns a dataframe of victories of a given team from given get_games dataframe\n",
    "\n",
    "    Parameter team_name: team to return victories of \n",
    "    Preconditions: team_name is a string format ex. \"Cornell,\" \"Colgate\"\n",
    "    Parameter games: Games to filter \n",
    "    Precondition: games is a DataFrame returned by getGames() function\n",
    "    \"\"\"        \n",
    "    assert type(team_name) == str, \"team_name invalid, must be string\"\n",
    "    wins = games[(games[\"team_1\"] == team_name) & (games[\"team_1_score\"] > games[\"team_2_score\"])]\n",
    "    return wins"
   ]
  },
  {
   "cell_type": "code",
   "execution_count": 88,
   "id": "bde29250-acb8-47f0-95aa-25fe3b3bc31f",
   "metadata": {},
   "outputs": [],
   "source": [
    "def get_losses(team_name, start, end):\n",
    "    \"\"\"\n",
    "    Returns a dataframe of losses of a given dataframe \n",
    "\n",
    "    Parameter team_name: team to return losses of \n",
    "    Preconditions: team_name is a string format ex. \"Cornell,\" \"Colgate\"\n",
    "    Parameter start: the start year of games. To select only games from one year, leave  \n",
    "    Precondition: start is an int\n",
    "    Parameter end: the end year of games\n",
    "    Precondition: end is an int\n",
    "    \"\"\"        \n",
    "    assert type(team_name) == str, \"team_name invalid, must be string\"\n",
    "    assert type(start) == int, \"start years invalid, must be int\"\n",
    "    assert type(end) == int, \"end year invalid, must be int\"\n",
    "    games = get_games(team_name,start,end)\n",
    "    losses = games[(games[\"team_2\"] == team_name) & (games[\"team_1_score\"] > games[\"team_2_score\"])]\n",
    "    return losses"
   ]
  },
  {
   "cell_type": "code",
   "execution_count": 89,
   "id": "10d7c59f-9b50-42fe-8418-d516d4fc5228",
   "metadata": {},
   "outputs": [],
   "source": [
    "def get_losses_from_df(team_name, games):\n",
    "    \"\"\"\n",
    "    Returns a dataframe of losses of a given dataframe from get_games dataframe\n",
    "\n",
    "    Parameter team_name: team to return losses of \n",
    "    Preconditions: team_name is a string format ex. \"Cornell,\" \"Colgate\"\n",
    "    Parameter games: Games to filter \n",
    "    Precondition: games is a DataFrame returned by getGames() function\n",
    "    \"\"\"        \n",
    "    assert type(team_name) == str, \"team_name invalid, must be string\"\n",
    "    losses = games[(games[\"team_2\"] == team_name) & (games[\"team_1_score\"] > games[\"team_2_score\"])]\n",
    "    return losses"
   ]
  },
  {
   "cell_type": "code",
   "execution_count": 90,
   "id": "c80326c6-33e3-4681-989a-6d2afa99fff1",
   "metadata": {},
   "outputs": [],
   "source": [
    "def get_intra_ivy(team_name, start, end):\n",
    "    \"\"\"\n",
    "    Returns: data frame of in-conference games of given team. Currently only functional for Ivy League Teams. \n",
    "    \n",
    "     Creates a temporary column \"intra_ivy\" equal to 1 if against an Ivy-League opponent, 0 if not, and then \n",
    "     selects the rows for which this intra_ivy is one. \n",
    "    \n",
    "    Plan to make this work for any team. Conference changes get tricky, will need helper to get conference team list for each season, \n",
    "    check each game against per-season list. \n",
    "    \n",
    "    Parameter team_name: team whose games to select \n",
    "    Precondition: team_name is a lowercase string\n",
    "    Parameter start: the start year of games. To select only games from one year, leave  \n",
    "    Precondition: start is an int\n",
    "    Parameter end: the end year of games\n",
    "    Precondition: end is an int\n",
    "    \"\"\"\n",
    "    assert type(team_name) == str, \"team_name invalid, must be string\"\n",
    "    assert type(start) == int, \"start years invalid, must be int\"\n",
    "    assert type(end) == int, \"end year invalid, must be int\"\n",
    "    conference = [\"Brown\",\"Cornell\",\"Columbia\",\"Dartmouth\",\"Harvard\",\"Pennsylvania\",\"Princeton\",\"Yale\"]\n",
    "    conference.remove(team_name)\n",
    "    games = get_games(team_name, start, end)\n",
    "    wins = get_wins_from_df(team_name, games)\n",
    "    losses = get_losses_from_df(team_name, games)\n",
    "    wins[\"intra_ivy\"] = [1 if x in conference else 0 for x in wins[\"team_2\"]]\n",
    "    losses[\"intra_ivy\"] = [1 if x in conference else 0 for x in losses[\"team_1\"]]\n",
    "    new_df = pd.concat([wins,losses])\n",
    "    in_conference = new_df[new_df[\"intra_ivy\"] == 1]\n",
    "    return in_conference"
   ]
  },
  {
   "cell_type": "code",
   "execution_count": 91,
   "id": "1b895310-243e-4d08-a6c2-be156b4c59c9",
   "metadata": {},
   "outputs": [],
   "source": [
    "def get_intra_ivy_from_df(team_name, games):  \n",
    "    \"\"\"\n",
    "    Returns: data frame of in-conference games of given team from get_games dataframe\n",
    "    \n",
    "     Creates a temporary column \"intra_ivy\" equal to 1 if against an Ivy-League opponent, 0 if not, and then \n",
    "     selects the rows for which this intra_ivy is one. \n",
    "    \n",
    "    Plan to make this work for any team. Conference changes get tricky, will need helper to get conference team list for each season, \n",
    "    check each game against per-season list. \n",
    "    \n",
    "    Parameter team_name: team whose games to select \n",
    "    Precondition: team_name is a lowercase string\n",
    "    Parameter games: Games to filter \n",
    "    Precondition: games is a DataFrame returned by getGames() function\n",
    "    \"\"\"\n",
    "    assert type(team_name) == str, \"team_name invalid, must be string\"\n",
    "    conference = [\"Brown\",\"Cornell\",\"Columbia\",\"Dartmouth\",\"Harvard\",\"Pennsylvania\",\"Princeton\",\"Yale\"]\n",
    "    conference.remove(team_name)\n",
    "    wins = get_wins_from_df(team_name, games)\n",
    "    losses = get_losses_from_df(team_name, games)\n",
    "    wins[\"intra_ivy\"] = [1 if x in conference else 0 for x in wins[\"team_2\"]]\n",
    "    losses[\"intra_ivy\"] = [1 if x in conference else 0 for x in losses[\"team_1\"]]\n",
    "    new_df = pd.concat([wins,losses])\n",
    "    in_conference = new_df[new_df[\"intra_ivy\"] == 1]\n",
    "    return in_conference"
   ]
  },
  {
   "cell_type": "code",
   "execution_count": 92,
   "id": "e4e803c8-2ab2-493c-8fc1-784522fbdbbc",
   "metadata": {},
   "outputs": [],
   "source": [
    "def get_runs_scored(team_name,start, end):\n",
    "    \"\"\"\n",
    "    Returns: int equal to total number of runs scored by team_name over given games\n",
    "    \n",
    "    Parameter team_name: team to calculate runs scored for \n",
    "    Preconditions: team_name is a string format ex. \"Cornell,\" \"Colgate\"\n",
    "    Parameter start: the start year of games. To select only games from one year, leave  \n",
    "    Precondition: start is an int\n",
    "    Parameter end: the end year of games\n",
    "    Precondition: end is an int\n",
    "    \"\"\"\n",
    "    assert type(team_name) == str, \"team_name invalid, must be string\"\n",
    "    assert type(start) == int, \"start years invalid, must be int\"\n",
    "    assert type(end) == int, \"end year invalid, must be int\"\n",
    "    games = get_games(team_name, start, end)\n",
    "    wins = get_wins_from_df(team_name, games)\n",
    "    wins[\"winner_runs_scored\"] = wins[\"team_1_score\"]\n",
    "    losses = get_losses_from_df(team_name, games)\n",
    "    losses[\"loser_runs_scored\"] = losses[\"team_2_score\"] \n",
    "    sum_runs_scored_in_wins = wins[\"winner_runs_scored\"].sum()\n",
    "    sum_runs_scored_in_losses = losses[\"loser_runs_scored\"].sum()\n",
    "    result = sum_runs_scored_in_wins+sum_runs_scored_in_losses\n",
    "    return result"
   ]
  },
  {
   "cell_type": "code",
   "execution_count": 93,
   "id": "b09c4c03-0386-4a97-8c9d-c513f47e006e",
   "metadata": {},
   "outputs": [],
   "source": [
    "def get_runs_scored_from_df (team_name, games):\n",
    "    \"\"\"\n",
    "    Returns: int equal to total number of runs scored by team_name over given games\n",
    "\n",
    "    Parameter team_name: team to calculate runs scored for \n",
    "    Preconditions: team_name is a string format ex. \"Cornell,\" \"Colgate\"\n",
    "    Parameter games: games to aggregate over \n",
    "    Precondition: games is a DataFrame returned by getGames() function\n",
    "    \"\"\"\n",
    "    assert type(team_name) == str, \"team_name invalid, must be string\"\n",
    "    wins = get_wins_from_df(team_name, games)\n",
    "    wins[\"winner_runs_scored\"] = wins[\"team_1_score\"]\n",
    "    losses = get_losses_from_df(team_name, games)\n",
    "    losses[\"loser_runs_scored\"] = losses[\"team_2_score\"] \n",
    "    sum_runs_scored_in_wins = wins[\"winner_runs_scored\"].sum()\n",
    "    sum_runs_scored_in_losses = losses[\"loser_runs_scored\"].sum()\n",
    "    result = sum_runs_scored_in_wins+sum_runs_scored_in_losses\n",
    "    return result"
   ]
  },
  {
   "cell_type": "code",
   "execution_count": 94,
   "id": "f8bf8414-5bcf-4019-86fc-988e239f6507",
   "metadata": {},
   "outputs": [],
   "source": [
    "def get_runs_allowed(team_name, start, end):\n",
    "    \"\"\"\n",
    "    Returns: int equal to total number of runs allowed by team_name over given games\n",
    "    \n",
    "    Parameter team_name: team to calculate runs allowed for \n",
    "    Preconditions: team_name is a string format ex. \"Cornell,\" \"Colgate\"\n",
    "    Parameter start: the start year of games. To select only games from one year, leave  \n",
    "    Precondition: start is an int\n",
    "    Parameter end: the end year of games\n",
    "    Precondition: end is an int\n",
    "    \"\"\"\n",
    "    assert type(team_name) == str, \"team_name invalid, must be string\"\n",
    "    assert type(start) == int, \"start years invalid, must be int\"\n",
    "    assert type(end) == int, \"end year invalid, must be int\"\n",
    "    games = get_games(team_name,start,end)\n",
    "    wins = get_wins_from_df(team_name, games)\n",
    "    wins[\"winner_runs_allowed\"] = wins[\"team_2_score\"]\n",
    "    losses = get_losses_from_df(team_name, games)\n",
    "    losses[\"loser_runs_allowed\"] = losses[\"team_1_score\"] \n",
    "    sum_runs_allowed_in_wins = wins[\"winner_runs_allowed\"].sum()\n",
    "    sum_runs_allowed_in_losses = losses[\"loser_runs_allowed\"].sum()\n",
    "    result = sum_runs_allowed_in_wins + sum_runs_allowed_in_losses\n",
    "    return result"
   ]
  },
  {
   "cell_type": "code",
   "execution_count": 95,
   "id": "2e3f57fa-11c8-4d0e-b02c-dc7fa1186482",
   "metadata": {},
   "outputs": [],
   "source": [
    "def get_runs_allowed_from_df(team_name, games):\n",
    "    \"\"\"\n",
    "    Returns: int equal to total number of runs allowed by team_name over given get_games dataframe\n",
    "    \n",
    "    Parameter team_name: team to calculate runs allowed for \n",
    "    Preconditions: team_name is a string format ex. \"Cornell,\" \"Colgate\"\n",
    "    Parameter games: games to aggregate over \n",
    "    Precondition: games is a DataFrame returned by getGames() function\n",
    "    \"\"\"\n",
    "    assert type(team_name) == str, \"team_name invalid, must be string\"\n",
    "    wins = get_wins_from_df(team_name, games)\n",
    "    wins[\"winner_runs_allowed\"] = wins[\"team_2_score\"]\n",
    "    losses = get_losses_from_df(team_name, games)\n",
    "    losses[\"loser_runs_allowed\"] = losses[\"team_1_score\"] \n",
    "    sum_runs_allowed_in_wins = wins[\"winner_runs_allowed\"].sum()\n",
    "    sum_runs_allowed_in_losses = losses[\"loser_runs_allowed\"].sum()\n",
    "    result = sum_runs_allowed_in_wins + sum_runs_allowed_in_losses\n",
    "    return result"
   ]
  },
  {
   "cell_type": "code",
   "execution_count": 96,
   "id": "35598f02-56dc-47e3-a398-7ec24f633546",
   "metadata": {},
   "outputs": [],
   "source": [
    "def get_run_difference(team_name, start, end):\n",
    "    \"\"\"\n",
    "    Returns: The total run difference across a given set of games \n",
    "    \n",
    "    Parameter team_name: team to return run difference of\n",
    "    Preconditions: team_name is a string format ex. \"Cornell,\" \"Colgate\"\n",
    "    Parameter start: the start year of games. To select only games from one year, leave  \n",
    "    Precondition: start is an int\n",
    "    Parameter end: the end year of games\n",
    "    Precondition: end is an int\n",
    "    \"\"\"\n",
    "    assert type(team_name) == str, \"team_name invalid, must be string\"\n",
    "    assert type(start) == int, \"start years invalid, must be int\"\n",
    "    assert type(end) == int, \"end year invalid, must be int\"\n",
    "    games  = get_games(team_name, start, end)\n",
    "    scored = get_runs_allowed_from_df(team_name, games)\n",
    "    allowed = get_runs_scored_from_df(team_name, games)\n",
    "    result = scored - allowed\n",
    "    return result"
   ]
  },
  {
   "cell_type": "code",
   "execution_count": 97,
   "id": "acb470d1-a2f4-408a-aa61-cb45bf65481b",
   "metadata": {},
   "outputs": [],
   "source": [
    "def get_run_difference_from_df(team_name, games):\n",
    "    \"\"\"\n",
    "    Returns: The total run difference across a given set of get_games dataframe\n",
    "    \n",
    "    Parameter team_name: team to return run difference of\n",
    "    Preconditions: team_name is a string format ex. \"Cornell,\" \"Colgate\"\n",
    "    Parameter games: Games to filter \n",
    "    Precondition: games is a DataFrame returned by getGames() function\n",
    "    \"\"\"\n",
    "    assert type(team_name) == str, \"team_name invalid, must be string\"\n",
    "    scored = get_runs_allowed_from_df(team_name, games)\n",
    "    allowed = get_runs_scored_from_df(team_name, games)\n",
    "    result = scored - allowed\n",
    "    return result"
   ]
  },
  {
   "cell_type": "code",
   "execution_count": 98,
   "id": "6e6dbf22-9e2f-4108-a38c-208eb1437fb7",
   "metadata": {},
   "outputs": [],
   "source": [
    "def add_run_difference_column(team_name, games):\n",
    "    \"\"\"\n",
    "    Returns copy with a given dataframe with new column containing the run difference for each game for a given team.\n",
    "\n",
    "    Parameter team_name: team to return run difference of\n",
    "    Preconditions: team_name is a string format ex. \"Cornell,\" \"Colgate\"Precondtion: \n",
    "    Parameter games: Games to filter \n",
    "    Precondition: games is a DataFrame returned by getGames() function\n",
    "    \"\"\"\n",
    "    assert type(team_name) == str, \"team_name invalid, must be string\"\n",
    "    df_copy = games.copy()\n",
    "    dif_in_wins = df_copy[\"team_1_score\"] - df_copy[\"team_2_score\"]\n",
    "    dif_in_losses = df_copy[\"team_2_score\"] - df_copy[\"team_1_score\" ]\n",
    "    df_copy[\"run_difference\"] = np.where(((df_copy[\"team_1\"] == team_name) & (df_copy[\"team_1_score\"] > df_copy[\"team_2_score\"])), dif_in_wins, dif_in_losses)\n",
    "    df_copy[\"opponent\"] = np.where(((df_copy[\"team_1\"] == team_name) & (df_copy[\"team_1_score\"] > df_copy[\"team_2_score\"])), df_copy[\"team_2\"], df_copy[\"team_1\"])\n",
    "    df_copy[\"cumulative_rd\"] = df_copy[\"run_difference\"].cumsum()\n",
    "    return df_copy"
   ]
  },
  {
   "cell_type": "code",
   "execution_count": 99,
   "id": "8e10faeb-c528-4ae9-8ed5-d79fc363a0fd",
   "metadata": {},
   "outputs": [],
   "source": [
    "def pythag_win_percentage_from_df(team_name, games):\n",
    "    \"\"\"\n",
    "    Returns: The PythagenPat winning percentage expectation of a given team over given games. \n",
    "\n",
    "    W% = R^x/(R^x + RA^x)\n",
    "    where x = (RPG)^.287\n",
    "    Developed by David Smyth and Patriot\n",
    "   \n",
    "    Parameter team_name: team to return expected winning % for \n",
    "    Preconditions: team_name is a string format ex. \"Cornell,\" \"Colgate\"\n",
    "    Parameter games: games over which to calculate\n",
    "    Precondition: games is a DataFrame returned by getGames() function\n",
    "    \"\"\"\n",
    "    assert type(team_name) == str, \"team_name invalid, must be string\"\n",
    "    run_diff =  get_run_difference_from_df(team_name, games)\n",
    "    runs_scored = get_runs_scored_from_df(team_name, games)\n",
    "    runs_allowed = get_runs_allowed_from_df(team_name, games)    \n",
    "    num_games = len(games.index)\n",
    "    if not num_games == 0:\n",
    "        runs_per_game = runs_scored / num_games\n",
    "    else:\n",
    "        runs_per_game = 0\n",
    "    x = runs_per_game ** 0.287\n",
    "    result  = (runs_scored ** x) / ((runs_scored ** x) + (runs_allowed ** x))\n",
    "    return result"
   ]
  },
  {
   "cell_type": "code",
   "execution_count": 100,
   "id": "2bfe47b9-4eef-4630-8078-ff32088738a8",
   "metadata": {},
   "outputs": [],
   "source": [
    "def actual_win_percentage_from_df(team_name, games):\n",
    "    \"\"\"\n",
    "    Returns: The actual (i.e. experimental) winning percentage of a given team over given games. \n",
    "\n",
    "    winning_percentage = games_won / games_plated\n",
    "   \n",
    "    Parameter team_name: team to return actual winning % for \n",
    "    Preconditions: team_name is a string format ex. \"Cornell,\" \"Colgate\"\n",
    "    Parameter games: games over which to calculate\n",
    "    Precondition: games is a DataFrame returned by getGames() function\n",
    "    \"\"\"\n",
    "    assert type(team_name) == str, \"team_name invalid, must be string\"\n",
    "    wins = get_wins_from_df(team_name, games)\n",
    "    losses = get_losses_from_df(team_name,games)\n",
    "    num_wins = len(wins.index)\n",
    "    num_losses = len(losses.index)\n",
    "    win_percentage = num_wins / (num_wins+num_losses)\n",
    "    return win_percentage"
   ]
  },
  {
   "cell_type": "code",
   "execution_count": 101,
   "id": "36f0e174-a90c-4402-8b3d-fc38cf63942e",
   "metadata": {},
   "outputs": [
    {
     "data": {
      "text/html": [
       "<div>\n",
       "<style scoped>\n",
       "    .dataframe tbody tr th:only-of-type {\n",
       "        vertical-align: middle;\n",
       "    }\n",
       "\n",
       "    .dataframe tbody tr th {\n",
       "        vertical-align: top;\n",
       "    }\n",
       "\n",
       "    .dataframe thead th {\n",
       "        text-align: right;\n",
       "    }\n",
       "</style>\n",
       "<table border=\"1\" class=\"dataframe\">\n",
       "  <thead>\n",
       "    <tr style=\"text-align: right;\">\n",
       "      <th></th>\n",
       "      <th>date</th>\n",
       "      <th>team_1</th>\n",
       "      <th>team_1_score</th>\n",
       "      <th>team_2</th>\n",
       "      <th>team_2_score</th>\n",
       "      <th>field</th>\n",
       "    </tr>\n",
       "  </thead>\n",
       "  <tbody>\n",
       "    <tr>\n",
       "      <th>0</th>\n",
       "      <td>2/21/2015</td>\n",
       "      <td>Gardner-Webb</td>\n",
       "      <td>2</td>\n",
       "      <td>Cornell</td>\n",
       "      <td>1</td>\n",
       "      <td>@Gardner-Webb</td>\n",
       "    </tr>\n",
       "    <tr>\n",
       "      <th>1</th>\n",
       "      <td>2/21/2015</td>\n",
       "      <td>Gardner-Webb</td>\n",
       "      <td>3</td>\n",
       "      <td>Cornell</td>\n",
       "      <td>2</td>\n",
       "      <td>@Gardner-Webb</td>\n",
       "    </tr>\n",
       "    <tr>\n",
       "      <th>2</th>\n",
       "      <td>2/22/2015</td>\n",
       "      <td>Gardner-Webb</td>\n",
       "      <td>2</td>\n",
       "      <td>Cornell</td>\n",
       "      <td>1</td>\n",
       "      <td>@Gardner-Webb</td>\n",
       "    </tr>\n",
       "    <tr>\n",
       "      <th>3</th>\n",
       "      <td>2/27/2015</td>\n",
       "      <td>Seton Hall</td>\n",
       "      <td>3</td>\n",
       "      <td>Cornell</td>\n",
       "      <td>0</td>\n",
       "      <td>@neutral</td>\n",
       "    </tr>\n",
       "    <tr>\n",
       "      <th>4</th>\n",
       "      <td>2/28/2015</td>\n",
       "      <td>Cornell</td>\n",
       "      <td>4</td>\n",
       "      <td>Hartford</td>\n",
       "      <td>3</td>\n",
       "      <td>@neutral</td>\n",
       "    </tr>\n",
       "    <tr>\n",
       "      <th>...</th>\n",
       "      <td>...</td>\n",
       "      <td>...</td>\n",
       "      <td>...</td>\n",
       "      <td>...</td>\n",
       "      <td>...</td>\n",
       "      <td>...</td>\n",
       "    </tr>\n",
       "    <tr>\n",
       "      <th>194</th>\n",
       "      <td>2/29/2020</td>\n",
       "      <td>Niagara</td>\n",
       "      <td>8</td>\n",
       "      <td>Cornell</td>\n",
       "      <td>6</td>\n",
       "      <td>@neutral</td>\n",
       "    </tr>\n",
       "    <tr>\n",
       "      <th>195</th>\n",
       "      <td>3/01/2020</td>\n",
       "      <td>Cornell</td>\n",
       "      <td>6</td>\n",
       "      <td>Niagara</td>\n",
       "      <td>5</td>\n",
       "      <td>@neutral</td>\n",
       "    </tr>\n",
       "    <tr>\n",
       "      <th>196</th>\n",
       "      <td>3/06/2020</td>\n",
       "      <td>South Carolina</td>\n",
       "      <td>10</td>\n",
       "      <td>Cornell</td>\n",
       "      <td>2</td>\n",
       "      <td>@South Carolina</td>\n",
       "    </tr>\n",
       "    <tr>\n",
       "      <th>197</th>\n",
       "      <td>3/07/2020</td>\n",
       "      <td>South Carolina</td>\n",
       "      <td>10</td>\n",
       "      <td>Cornell</td>\n",
       "      <td>3</td>\n",
       "      <td>@South Carolina</td>\n",
       "    </tr>\n",
       "    <tr>\n",
       "      <th>198</th>\n",
       "      <td>3/08/2020</td>\n",
       "      <td>South Carolina</td>\n",
       "      <td>6</td>\n",
       "      <td>Cornell</td>\n",
       "      <td>1</td>\n",
       "      <td>@South Carolina</td>\n",
       "    </tr>\n",
       "  </tbody>\n",
       "</table>\n",
       "<p>199 rows × 6 columns</p>\n",
       "</div>"
      ],
      "text/plain": [
       "          date          team_1  team_1_score    team_2  team_2_score  \\\n",
       "0    2/21/2015    Gardner-Webb             2   Cornell             1   \n",
       "1    2/21/2015    Gardner-Webb             3   Cornell             2   \n",
       "2    2/22/2015    Gardner-Webb             2   Cornell             1   \n",
       "3    2/27/2015      Seton Hall             3   Cornell             0   \n",
       "4    2/28/2015         Cornell             4  Hartford             3   \n",
       "..         ...             ...           ...       ...           ...   \n",
       "194  2/29/2020         Niagara             8   Cornell             6   \n",
       "195  3/01/2020         Cornell             6   Niagara             5   \n",
       "196  3/06/2020  South Carolina            10   Cornell             2   \n",
       "197  3/07/2020  South Carolina            10   Cornell             3   \n",
       "198  3/08/2020  South Carolina             6   Cornell             1   \n",
       "\n",
       "               field  \n",
       "0      @Gardner-Webb  \n",
       "1      @Gardner-Webb  \n",
       "2      @Gardner-Webb  \n",
       "3           @neutral  \n",
       "4           @neutral  \n",
       "..               ...  \n",
       "194         @neutral  \n",
       "195         @neutral  \n",
       "196  @South Carolina  \n",
       "197  @South Carolina  \n",
       "198  @South Carolina  \n",
       "\n",
       "[199 rows x 6 columns]"
      ]
     },
     "execution_count": 101,
     "metadata": {},
     "output_type": "execute_result"
    }
   ],
   "source": [
    "games = get_games(\"Cornell\", 2015, 2020)\n",
    "games"
   ]
  },
  {
   "cell_type": "code",
   "execution_count": 102,
   "id": "5fdd65eb-d5b3-4ce3-8862-51949940ec79",
   "metadata": {},
   "outputs": [
    {
     "data": {
      "text/html": [
       "<div>\n",
       "<style scoped>\n",
       "    .dataframe tbody tr th:only-of-type {\n",
       "        vertical-align: middle;\n",
       "    }\n",
       "\n",
       "    .dataframe tbody tr th {\n",
       "        vertical-align: top;\n",
       "    }\n",
       "\n",
       "    .dataframe thead th {\n",
       "        text-align: right;\n",
       "    }\n",
       "</style>\n",
       "<table border=\"1\" class=\"dataframe\">\n",
       "  <thead>\n",
       "    <tr style=\"text-align: right;\">\n",
       "      <th></th>\n",
       "      <th>date</th>\n",
       "      <th>run_difference</th>\n",
       "      <th>opponent</th>\n",
       "      <th>cumulative_rd</th>\n",
       "    </tr>\n",
       "  </thead>\n",
       "  <tbody>\n",
       "    <tr>\n",
       "      <th>0</th>\n",
       "      <td>2010-03-16</td>\n",
       "      <td>-2</td>\n",
       "      <td>Binghamton</td>\n",
       "      <td>-2</td>\n",
       "    </tr>\n",
       "    <tr>\n",
       "      <th>1</th>\n",
       "      <td>2010-03-16</td>\n",
       "      <td>5</td>\n",
       "      <td>Binghamton</td>\n",
       "      <td>3</td>\n",
       "    </tr>\n",
       "    <tr>\n",
       "      <th>2</th>\n",
       "      <td>2010-03-21</td>\n",
       "      <td>1</td>\n",
       "      <td>Northwestern</td>\n",
       "      <td>4</td>\n",
       "    </tr>\n",
       "    <tr>\n",
       "      <th>3</th>\n",
       "      <td>2010-03-22</td>\n",
       "      <td>1</td>\n",
       "      <td>Northwestern</td>\n",
       "      <td>5</td>\n",
       "    </tr>\n",
       "    <tr>\n",
       "      <th>4</th>\n",
       "      <td>2010-03-23</td>\n",
       "      <td>-5</td>\n",
       "      <td>Florida Atlantic</td>\n",
       "      <td>0</td>\n",
       "    </tr>\n",
       "    <tr>\n",
       "      <th>...</th>\n",
       "      <td>...</td>\n",
       "      <td>...</td>\n",
       "      <td>...</td>\n",
       "      <td>...</td>\n",
       "    </tr>\n",
       "    <tr>\n",
       "      <th>399</th>\n",
       "      <td>2020-02-29</td>\n",
       "      <td>-2</td>\n",
       "      <td>Niagara</td>\n",
       "      <td>-274</td>\n",
       "    </tr>\n",
       "    <tr>\n",
       "      <th>400</th>\n",
       "      <td>2020-03-01</td>\n",
       "      <td>1</td>\n",
       "      <td>Niagara</td>\n",
       "      <td>-273</td>\n",
       "    </tr>\n",
       "    <tr>\n",
       "      <th>401</th>\n",
       "      <td>2020-03-06</td>\n",
       "      <td>-8</td>\n",
       "      <td>South Carolina</td>\n",
       "      <td>-281</td>\n",
       "    </tr>\n",
       "    <tr>\n",
       "      <th>402</th>\n",
       "      <td>2020-03-07</td>\n",
       "      <td>-7</td>\n",
       "      <td>South Carolina</td>\n",
       "      <td>-288</td>\n",
       "    </tr>\n",
       "    <tr>\n",
       "      <th>403</th>\n",
       "      <td>2020-03-08</td>\n",
       "      <td>-5</td>\n",
       "      <td>South Carolina</td>\n",
       "      <td>-293</td>\n",
       "    </tr>\n",
       "  </tbody>\n",
       "</table>\n",
       "<p>404 rows × 4 columns</p>\n",
       "</div>"
      ],
      "text/plain": [
       "           date  run_difference          opponent  cumulative_rd\n",
       "0    2010-03-16              -2        Binghamton             -2\n",
       "1    2010-03-16               5        Binghamton              3\n",
       "2    2010-03-21               1      Northwestern              4\n",
       "3    2010-03-22               1      Northwestern              5\n",
       "4    2010-03-23              -5  Florida Atlantic              0\n",
       "..          ...             ...               ...            ...\n",
       "399  2020-02-29              -2           Niagara           -274\n",
       "400  2020-03-01               1           Niagara           -273\n",
       "401  2020-03-06              -8    South Carolina           -281\n",
       "402  2020-03-07              -7    South Carolina           -288\n",
       "403  2020-03-08              -5    South Carolina           -293\n",
       "\n",
       "[404 rows x 4 columns]"
      ]
     },
     "execution_count": 102,
     "metadata": {},
     "output_type": "execute_result"
    }
   ],
   "source": [
    "def get_rd_data(team_name, start, end):\n",
    "        \"\"\"\n",
    "        Returns: Dataframe with run_difference, opponent, and cumulative_rd for every game of given team\n",
    "        in given seasons. \n",
    "        \n",
    "        Parameter team_name: team to return games for\n",
    "        Precondtion: team_name is a string\n",
    "        Parameter start: start year, inclusive\n",
    "        Precondition: start is a int \n",
    "        Parameter end: end year, inclusive\n",
    "        Preconditon: end is an int\n",
    "        \"\"\"\n",
    "        games = get_games(team_name, start=start, end=end)\n",
    "        games[\"date\"] =  pd.to_datetime(games[\"date\"])\n",
    "        games = games.sort_values(by=\"date\")\n",
    "        games = games.reset_index(drop=\"True\")\n",
    "        games = add_run_difference_column(team_name, games)\n",
    "        games = games.drop(columns=[\"team_1\",\"team_1_score\",\"team_2\",\"team_2_score\",\"field\"])\n",
    "        games[\"date\"] = games[\"date\"].dt.strftime('%Y-%m-%d')\n",
    "        return games\n",
    "    \n",
    "get_rd_data(\"Cornell\",2010,2020)"
   ]
  },
  {
   "cell_type": "code",
   "execution_count": 103,
   "id": "c0f3116f-5755-4eb1-89ad-1777e843b60a",
   "metadata": {},
   "outputs": [
    {
     "data": {
      "text/html": [
       "<div>\n",
       "<style scoped>\n",
       "    .dataframe tbody tr th:only-of-type {\n",
       "        vertical-align: middle;\n",
       "    }\n",
       "\n",
       "    .dataframe tbody tr th {\n",
       "        vertical-align: top;\n",
       "    }\n",
       "\n",
       "    .dataframe thead th {\n",
       "        text-align: right;\n",
       "    }\n",
       "</style>\n",
       "<table border=\"1\" class=\"dataframe\">\n",
       "  <thead>\n",
       "    <tr style=\"text-align: right;\">\n",
       "      <th></th>\n",
       "      <th>team_name</th>\n",
       "      <th>pythagenpat_pct</th>\n",
       "      <th>actual_pct</th>\n",
       "      <th>deviation</th>\n",
       "    </tr>\n",
       "  </thead>\n",
       "  <tbody>\n",
       "    <tr>\n",
       "      <th>0</th>\n",
       "      <td>Brown</td>\n",
       "      <td>0.40</td>\n",
       "      <td>0.35</td>\n",
       "      <td>0.04</td>\n",
       "    </tr>\n",
       "    <tr>\n",
       "      <th>1</th>\n",
       "      <td>Columbia</td>\n",
       "      <td>0.60</td>\n",
       "      <td>0.62</td>\n",
       "      <td>0.02</td>\n",
       "    </tr>\n",
       "    <tr>\n",
       "      <th>2</th>\n",
       "      <td>Cornell</td>\n",
       "      <td>0.44</td>\n",
       "      <td>0.41</td>\n",
       "      <td>0.02</td>\n",
       "    </tr>\n",
       "    <tr>\n",
       "      <th>3</th>\n",
       "      <td>Dartmouth</td>\n",
       "      <td>0.54</td>\n",
       "      <td>0.56</td>\n",
       "      <td>0.02</td>\n",
       "    </tr>\n",
       "    <tr>\n",
       "      <th>4</th>\n",
       "      <td>Harvard</td>\n",
       "      <td>0.53</td>\n",
       "      <td>0.49</td>\n",
       "      <td>0.04</td>\n",
       "    </tr>\n",
       "    <tr>\n",
       "      <th>5</th>\n",
       "      <td>Pennsylvania</td>\n",
       "      <td>0.62</td>\n",
       "      <td>0.56</td>\n",
       "      <td>0.05</td>\n",
       "    </tr>\n",
       "    <tr>\n",
       "      <th>6</th>\n",
       "      <td>Princeton</td>\n",
       "      <td>0.37</td>\n",
       "      <td>0.39</td>\n",
       "      <td>0.02</td>\n",
       "    </tr>\n",
       "    <tr>\n",
       "      <th>7</th>\n",
       "      <td>Yale</td>\n",
       "      <td>0.52</td>\n",
       "      <td>0.59</td>\n",
       "      <td>0.06</td>\n",
       "    </tr>\n",
       "  </tbody>\n",
       "</table>\n",
       "</div>"
      ],
      "text/plain": [
       "      team_name  pythagenpat_pct  actual_pct  deviation\n",
       "0         Brown             0.40        0.35       0.04\n",
       "1      Columbia             0.60        0.62       0.02\n",
       "2       Cornell             0.44        0.41       0.02\n",
       "3     Dartmouth             0.54        0.56       0.02\n",
       "4       Harvard             0.53        0.49       0.04\n",
       "5  Pennsylvania             0.62        0.56       0.05\n",
       "6     Princeton             0.37        0.39       0.02\n",
       "7          Yale             0.52        0.59       0.06"
      ]
     },
     "execution_count": 103,
     "metadata": {},
     "output_type": "execute_result"
    }
   ],
   "source": [
    "# Pythagenpat intra-conference win %'s by team for the Ivy League\n",
    "def generate_ivy_pythags(start, end):\n",
    "    \"\"\"\n",
    "    Returns: Dataframe of actual and expected winning percentages of Ivy League for a given set of seasons. \n",
    "    Parameter start: start year, inclusive\n",
    "    Precondition: start is an int YYYY\n",
    "    Parameter end: end year, inclusive\n",
    "    Precondtion: end is an int YYYY\n",
    "    \"\"\"\n",
    "    assert type(start) == int, \"start must be an int\"\n",
    "    assert type(end) == int, \"end must be an int\"\n",
    "    ivy_pythagenpat = {\"team_name\":[], \"pythagenpat_pct\":[], \"actual_pct\":[], \"deviation\":[]};\n",
    "    for i in [\"Brown\", \"Columbia\", \"Cornell\", \"Dartmouth\", \"Harvard\", \"Pennsylvania\", \"Princeton\", \"Yale\"]:\n",
    "        games = get_intra_ivy(i,start,end)\n",
    "        pythagenpat_pct = pythag_win_percentage_from_df(i,games)  \n",
    "        actual_pct = actual_win_percentage_from_df(i,games)  \n",
    "        deviation = abs(round(pythagenpat_pct - actual_pct,2))\n",
    "        ivy_pythagenpat[\"team_name\"].append(i)\n",
    "        ivy_pythagenpat[\"pythagenpat_pct\"].append(round(pythagenpat_pct,2))\n",
    "        ivy_pythagenpat[\"actual_pct\"].append(round(actual_pct,2))\n",
    "        ivy_pythagenpat[\"deviation\"].append(deviation)\n",
    "        results = pd.DataFrame(ivy_pythagenpat)\n",
    "    return results\n",
    "\n",
    "generate_ivy_pythags(2015,2020)"
   ]
  },
  {
   "cell_type": "code",
   "execution_count": 104,
   "id": "a6f82215-cc1d-49bc-b451-ae479943f489",
   "metadata": {},
   "outputs": [
    {
     "data": {
      "text/plain": [
       "0.44225271739130434"
      ]
     },
     "execution_count": 104,
     "metadata": {},
     "output_type": "execute_result"
    }
   ],
   "source": [
    "def get_woba(player_id, year):\n",
    "    \"\"\"\n",
    "    Returns: The Weighted On-Base Average  for a given player in a given season\n",
    "    \n",
    "    wOBA = (wBB×uBB + wHBP×HBP + w1B×1B + w2B×2B + w3B×3B +\n",
    "    wHR×HR) / (AB + BB – IBB + SF + HBP)\n",
    "    PA = AB + BB - IBB + SF + HBP \n",
    "    \n",
    "    Parameter player_id: The ID of player to return for\n",
    "    Precondition: player_id is \n",
    "    Parameter year: The season to return for \n",
    "    Precondition: year is an INT \n",
    "    \"\"\"\n",
    "    season_batting = pd.read_csv(\"data/cornellbatting\"+str(year)+\".csv\")\n",
    "    player_batting =  season_batting[season_batting.player_id==player_id]\n",
    "    player_batting = player_batting.fillna(0)\n",
    "    linear_weights = pd.read_csv(\"data/ncaa_d1_woba_linear_weights.csv\")\n",
    "    season_weights = linear_weights[linear_weights.Season==year]\n",
    "    wbb = season_weights[\"wBB\"].values[0]\n",
    "    whbp = season_weights[\"wHBP\"].values[0]\n",
    "    w1b = season_weights[\"w1B\"].values[0]\n",
    "    w2b = season_weights[\"w2B\"].values[0]\n",
    "    w3b = season_weights[\"w3B\"].values[0]\n",
    "    whr = season_weights[\"wHR\"].values[0]\n",
    "    walks = player_batting[\"BB\"].values[0]\n",
    "    hits_by_pitch = player_batting[\"HBP\"].values[0]\n",
    "    doubles = player_batting[\"2B\"].values[0]\n",
    "    triples = player_batting[\"3B\"].values[0]\n",
    "    home_runs = player_batting[\"HR\"].values[0]\n",
    "    hits =  player_batting[\"H\"].values[0]\n",
    "    singles = hits-(doubles+triples+home_runs)\n",
    "    at_bats = player_batting[\"AB\"].values[0]\n",
    "    sac_flies = player_batting[\"SF\"].values[0]\n",
    "    sac_bunts = player_batting[\"SH\"].values[0]\n",
    "    plate_appearances = at_bats+walks+sac_flies+sac_bunts+hits_by_pitch\n",
    "    woba = (wbb*walks+whbp*hits_by_pitch+w1b*singles+w2b*doubles+w3b*triples+whr*home_runs)/plate_appearances\n",
    "    return woba\n",
    "\n",
    "get_woba(1779085, 2017)"
   ]
  },
  {
   "cell_type": "code",
   "execution_count": 105,
   "id": "3361fc7d-9ff9-4ad8-9a8d-b7d0d8aab031",
   "metadata": {},
   "outputs": [
    {
     "data": {
      "text/plain": [
       "7.687957875457876"
      ]
     },
     "execution_count": 105,
     "metadata": {},
     "output_type": "execute_result"
    }
   ],
   "source": [
    "def get_wraa(player_id, year):\n",
    "    \"\"\"\n",
    "    Returns: The Weighted Runs Above Average (wRAA) for a given player in a given season\n",
    "    \n",
    "    [(wOBA−leagueWOBA) / wOBAscale] ∗ PA\n",
    "    PA = AB + BB - IBB + SF + HBP \n",
    "\n",
    "    Parameter player_id: The ID of player to return for\n",
    "    Precondition: player_id is \n",
    "    Parameter year: The season to return wRC for \n",
    "    Precondition: year is an INT \n",
    "    \"\"\"\n",
    "    season_batting = pd.read_csv(\"data/cornellbatting\"+str(year)+\".csv\")\n",
    "    player_batting =  season_batting[season_batting.player_id==player_id]\n",
    "    player_batting = player_batting.fillna(0)\n",
    "    linear_weights = pd.read_csv(\"data/ncaa_d1_woba_linear_weights.csv\")\n",
    "    season_weights = linear_weights[linear_weights.Season== year]\n",
    "    league_woba = season_weights[\"wOBA\"].values[0]\n",
    "    woba_scale = season_weights[\"wOBAScale\"].values[0]\n",
    "    league_runs_per_pa = season_weights[\"R/PA\"].values[0]\n",
    "    player_woba = get_woba(player_id, year)\n",
    "    at_bats = player_batting[\"AB\"].values[0]\n",
    "    walks = player_batting[\"BB\"].values[0]\n",
    "    sac_flies = player_batting[\"SF\"].values[0]\n",
    "    sac_bunts = player_batting[\"SH\"].values[0]\n",
    "    hits_by_pitch = player_batting[\"HBP\"].values[0]\n",
    "    plate_appearances = at_bats+walks+sac_flies+sac_bunts+hits_by_pitch\n",
    "    wraa = ((((player_woba-league_woba)/woba_scale)))*(plate_appearances)\n",
    "    return wraa\n",
    "\n",
    "get_wraa(1779085,2017)"
   ]
  },
  {
   "cell_type": "code",
   "execution_count": 106,
   "id": "36e1e9e1-de2c-48e1-8787-7bf2a7f722a4",
   "metadata": {},
   "outputs": [
    {
     "data": {
      "text/plain": [
       "20.843957875457875"
      ]
     },
     "execution_count": 106,
     "metadata": {},
     "output_type": "execute_result"
    }
   ],
   "source": [
    "def get_wrc(player_id, year):\n",
    "    \"\"\"\n",
    "    Returns: The Weighted Runs Created  for a given player in a given season\n",
    "    \n",
    "    wRC = [((wOBA - lgwOBA)/wOBAScale) + (lgR/PA)] * PA\n",
    "    PA = AB + BB - IBB + SF + HBP \n",
    "\n",
    "    Parameter player_id: The ID of player to return for\n",
    "    Precondition: player_id is \n",
    "    Parameter year: The season to return for \n",
    "    Precondition: year is an INT \n",
    "    \"\"\"\n",
    "    season_batting = pd.read_csv(\"data/cornellbatting\"+str(year)+\".csv\")\n",
    "    player_batting =  season_batting[season_batting.player_id==player_id]\n",
    "    player_batting = player_batting.fillna(0)\n",
    "    linear_weights = pd.read_csv(\"data/ncaa_d1_woba_linear_weights.csv\")\n",
    "    season_weights = linear_weights[linear_weights.Season==year]\n",
    "    league_woba = season_weights[\"wOBA\"].values[0]\n",
    "    woba_scale = season_weights[\"wOBAScale\"].values[0]\n",
    "    league_runs_per_pa = season_weights[\"R/PA\"].values[0]\n",
    "    player_woba = get_woba(player_id, year)   \n",
    "    at_bats = player_batting[\"AB\"].values[0]\n",
    "    walks = player_batting[\"BB\"].values[0]\n",
    "    sac_flies = player_batting[\"SF\"].values[0]\n",
    "    sac_bunts = player_batting[\"SH\"].values[0]\n",
    "    hits_by_pitch = player_batting[\"HBP\"].values[0]\n",
    "    plate_appearances = at_bats+walks+sac_flies+sac_bunts+hits_by_pitch\n",
    "    wrc = ((((player_woba-league_woba)/woba_scale)+league_runs_per_pa))*plate_appearances\n",
    "    return wrc\n",
    "\n",
    "get_wrc(1779085,2017)"
   ]
  },
  {
   "cell_type": "code",
   "execution_count": 107,
   "id": "0439973a-50b2-480b-9030-ae6a558e4722",
   "metadata": {},
   "outputs": [
    {
     "data": {
      "text/plain": [
       "0.2962856623931624"
      ]
     },
     "execution_count": 107,
     "metadata": {},
     "output_type": "execute_result"
    }
   ],
   "source": [
    "def get_cornell_woba(year):\n",
    "    \"\"\"\n",
    "    Returns: The Weighted On-Base Average  for a given player in a given season\n",
    "    \n",
    "    wOBA = (wBB×uBB + wHBP×HBP + w1B×1B + w2B×2B + w3B×3B +\n",
    "    wHR×HR) / (AB + BB – IBB + SF + HBP)\n",
    "    PA = AB + BB - IBB + SF + HBP \n",
    "\n",
    "    Parameter year: The season to return for \n",
    "    Precondition: year is an INT 2012-2020\n",
    "    \"\"\"\n",
    "    linear_weights = pd.read_csv(\"data/ncaa_d1_woba_linear_weights.csv\")\n",
    "    season_weights = linear_weights[linear_weights.Season==year]\n",
    "    wbb = season_weights[\"wBB\"].values[0]\n",
    "    whbp = season_weights[\"wHBP\"].values[0]\n",
    "    w1b = season_weights[\"w1B\"].values[0]\n",
    "    w2b = season_weights[\"w2B\"].values[0]\n",
    "    w3b = season_weights[\"w3B\"].values[0]\n",
    "    whr = season_weights[\"wHR\"].values[0]\n",
    "    totals = pd.read_excel(\"data/cornell_totals_2012_to_2020.xlsx\")\n",
    "    season_totals = totals[totals.Season==year]\n",
    "    walks = season_totals[\"BB\"].values[0]\n",
    "    hits_by_pitch = season_totals[\"HBP\"].values[0]\n",
    "    doubles = season_totals[\"2B\"].values[0]\n",
    "    triples = season_totals[\"3B\"].values[0]\n",
    "    home_runs = season_totals[\"HR\"].values[0]\n",
    "    hits = season_totals[\"H\"].values[0]\n",
    "    singles =  hits-(doubles+triples+home_runs)\n",
    "    at_bats = season_totals[\"AB\"].values[0]\n",
    "    sac_flies = season_totals[\"SF\"].values[0]\n",
    "    sac_bunts = season_totals[\"SH\"].values[0]\n",
    "    plate_appearances = at_bats+walks+sac_flies+sac_bunts+hits_by_pitch\n",
    "    woba = (wbb*walks+whbp*hits_by_pitch+w1b*singles+w2b*doubles+w3b*triples+whr*home_runs)/plate_appearances\n",
    "    return woba\n",
    "\n",
    "get_cornell_woba(2019)"
   ]
  },
  {
   "cell_type": "code",
   "execution_count": 108,
   "id": "16f11c7b-fe51-4286-8689-09c6f3e1ebd7",
   "metadata": {},
   "outputs": [
    {
     "data": {
      "text/plain": [
       "0.33472055601974937"
      ]
     },
     "execution_count": 108,
     "metadata": {},
     "output_type": "execute_result"
    }
   ],
   "source": [
    "def get_ivy_woba(year):\n",
    "        \"\"\"\n",
    "        Returns: Ivy League Weighted On-Base Average in a given season\n",
    "\n",
    "        wOBA = (wBB×uBB + wHBP×HBP + w1B×1B + w2B×2B + w3B×3B +\n",
    "        wHR×HR) / (AB + BB – IBB + SF + HBP)\n",
    "        PA = AB + BB - IBB + SF + HBP \n",
    "\n",
    "        Parameter year: The season to return for \n",
    "        Precondition: year is an INT 2012-2020\n",
    "        \"\"\"  \n",
    "        linear_weights = pd.read_csv(\"data/ncaa_d1_woba_linear_weights.csv\")\n",
    "        season_weights = linear_weights[linear_weights.Season==year]\n",
    "        wbb = season_weights[\"wBB\"].values[0]\n",
    "        whbp = season_weights[\"wHBP\"].values[0]\n",
    "        w1b = season_weights[\"w1B\"].values[0]\n",
    "        w2b = season_weights[\"w2B\"].values[0]\n",
    "        w3b = season_weights[\"w3B\"].values[0]\n",
    "        whr = season_weights[\"wHR\"].values[0]\n",
    "        ivy_totals = pd.read_excel(\"data/ivy_league_totals_2012_to_2020.xlsx\", sheet_name=\"batting\")\n",
    "        season_totals = ivy_totals[ivy_totals.Season==year]\n",
    "        walks = season_totals[\"BB\"].values[0]\n",
    "        hits_by_pitch = season_totals[\"HBP\"].values[0]\n",
    "        doubles = season_totals[\"2B\"].values[0]\n",
    "        triples = season_totals[\"3B\"].values[0]\n",
    "        home_runs = season_totals[\"HR\"].values[0]\n",
    "        hits = season_totals[\"H\"].values[0]\n",
    "        singles =  hits-(doubles+triples+home_runs)\n",
    "        at_bats = season_totals[\"AB\"].values[0]\n",
    "        sac_flies = season_totals[\"SF\"].values[0]\n",
    "        sac_bunts = season_totals[\"SH\"].values[0]\n",
    "        plate_appearances = at_bats+walks+sac_flies+sac_bunts+hits_by_pitch\n",
    "        woba = (wbb*walks+whbp*hits_by_pitch+w1b*singles+w2b*doubles+w3b*triples+whr*home_runs)/plate_appearances\n",
    "        return woba\n",
    "\n",
    "get_ivy_woba(2018)"
   ]
  },
  {
   "cell_type": "code",
   "execution_count": 109,
   "id": "24bc2ef2-37e0-426e-bd72-b51188047716",
   "metadata": {},
   "outputs": [
    {
     "data": {
      "text/plain": [
       "3.416944055944056"
      ]
     },
     "execution_count": 109,
     "metadata": {},
     "output_type": "execute_result"
    }
   ],
   "source": [
    "def get_fip(player_id, year):\n",
    "    \"\"\"\n",
    "    Returns: Fielding Independent Pitching for a given player in a given season\n",
    "    \n",
    "    FIP = ((13*HR)+(3*(BB+HBP))-(2*K))/IP + constant\n",
    "    FIP Constant = lgERA – (((13*lgHR)+(3*(lgBB+lgHBP))-(2*lgK))/lgIP)\n",
    "\n",
    "    Parameter player_id: The ID of player to return for\n",
    "    Precondition: player_id is \n",
    "    Parameter year: The season to return wRC for \n",
    "    Precondition: year is an INT \n",
    "    \"\"\"\n",
    "    season_pitching = pd.read_csv(\"data/cornellpitching\"+str(year)+\".csv\")\n",
    "    player_pitching =  season_pitching[season_pitching.player_id==player_id]\n",
    "    player_pitching = player_pitching.fillna(0)\n",
    "    strike_outs = player_pitching[\"SO\"].values[0]\n",
    "    hit_batters = player_pitching[\"HB\"].values[0]\n",
    "    walks_given = player_pitching[\"BB\"].values[0]\n",
    "    home_runs_allowed = player_pitching[\"HR-A\"].values[0]\n",
    "    strike_outs = player_pitching[\"IP\"].values[0]\n",
    "    linear_weights = pd.read_csv(\"data/ncaa_d1_woba_linear_weights.csv\")\n",
    "    season_weights = linear_weights[linear_weights.Season== year]\n",
    "    fip_constant =season_weights[\"cFIP\"].values[0]\n",
    "    fip = (((13*home_runs_allowed)+(3*(walks_given+hit_batters))-(2*strike_outs))/strike_outs) + fip_constant\n",
    "    return fip\n",
    "\n",
    "get_fip(1546998, 2017)"
   ]
  },
  {
   "cell_type": "code",
   "execution_count": 110,
   "id": "b9e359f3-ab4b-4d10-a7ce-91004b9c0c29",
   "metadata": {},
   "outputs": [
    {
     "data": {
      "text/plain": [
       "3.850534334078569"
      ]
     },
     "execution_count": 110,
     "metadata": {},
     "output_type": "execute_result"
    }
   ],
   "source": [
    "def get_cornell_fip(year):\n",
    "    \"\"\"\n",
    "    Returns: Cornell total  Fielding Independent Pitching (FIP) for a given player in a given season\n",
    "\n",
    "    FIP = ((13*HR)+(3*(BB+HBP))-(2*K))/IP + constant\n",
    "    FIP Constant = lgERA – (((13*lgHR)+(3*(lgBB+lgHBP))-(2*lgK))/lgIP)\n",
    "\n",
    "    Parameter player_id: The ID of player to return for\n",
    "    Precondition: player_id is \n",
    "    Parameter year: The season to return wRC for \n",
    "    Precondition: year is an INT \n",
    "    \"\"\"\n",
    "    cu_pitching = pd.read_csv(\"data/cornellpitching\"+str(year)+\".csv\")\n",
    "    season_totals = cu_pitching[cu_pitching.Player==\"Totals\"]\n",
    "    strike_outs = season_totals[\"SO\"].values[0]\n",
    "    hit_batters = season_totals[\"HB\"].values[0]\n",
    "    walks_given = season_totals[\"BB\"].values[0]\n",
    "    home_runs_allowed = season_totals[\"HR-A\"].values[0]\n",
    "    strike_outs = season_totals[\"IP\"].values[0]\n",
    "    linear_weights = pd.read_csv(\"data/ncaa_d1_woba_linear_weights.csv\")\n",
    "    season_weights = linear_weights[linear_weights.Season== year]\n",
    "    fip_constant =season_weights[\"cFIP\"].values[0]\n",
    "    fip = (((13*home_runs_allowed)+(3*(walks_given+hit_batters))-(2*strike_outs))/strike_outs) + fip_constant\n",
    "    return fip\n",
    "\n",
    "get_cornell_fip(2015)"
   ]
  },
  {
   "cell_type": "code",
   "execution_count": 111,
   "id": "e48e1393-aa15-48e2-8e69-31f8dd9a8d9b",
   "metadata": {},
   "outputs": [
    {
     "data": {
      "text/plain": [
       "4.506829547519535"
      ]
     },
     "execution_count": 111,
     "metadata": {},
     "output_type": "execute_result"
    }
   ],
   "source": [
    "def get_ivy_fip(year):\n",
    "    \"\"\"\n",
    "    Returns: Ivy League total Fielding Independent Pitching (FIP) for a given season\n",
    "    \n",
    "    FIP = ((13*HR)+(3*(BB+HBP))-(2*K))/IP + constant\n",
    "    FIP Constant = lgERA – (((13*lgHR)+(3*(lgBB+lgHBP))-(2*lgK))/lgIP)\n",
    "\n",
    "    Parameter year: The season to return fip for \n",
    "    Precondition: year is an INT \n",
    "    \"\"\"\n",
    "    ivy_pitching = pd.read_excel(\"data/ivy_league_totals_2012_to_2020.xlsx\", sheet_name=\"pitching\")\n",
    "    season_totals = ivy_pitching[ivy_pitching.Season==year]\n",
    "    walks = season_totals[\"BB\"].values[0]   \n",
    "    strike_outs = season_totals[\"SO\"].values[0]\n",
    "    hit_batters = season_totals[\"HB\"].values[0]\n",
    "    walks_given = season_totals[\"BB\"].values[0]\n",
    "    home_runs_allowed = season_totals[\"HR-A\"].values[0]\n",
    "    strike_outs = season_totals[\"IP\"].values[0]\n",
    "    linear_weights = pd.read_csv(\"data/ncaa_d1_woba_linear_weights.csv\")\n",
    "    season_weights = linear_weights[linear_weights.Season== year]\n",
    "    fip_constant =season_weights[\"cFIP\"].values[0]\n",
    "    fip = (((13*home_runs_allowed)+(3*(walks_given+hit_batters))-(2*strike_outs))/strike_outs) + fip_constant\n",
    "    return fip\n",
    "\n",
    "get_ivy_fip(2017)"
   ]
  },
  {
   "cell_type": "code",
   "execution_count": 112,
   "id": "43460114-d4bb-496d-b253-931db6a49c70",
   "metadata": {},
   "outputs": [
    {
     "data": {
      "text/plain": [
       "2.18"
      ]
     },
     "execution_count": 112,
     "metadata": {},
     "output_type": "execute_result"
    }
   ],
   "source": [
    "def get_era(player_id, year): \n",
    "    \"\"\"\n",
    "    Returns: ERA for a given player in a given season \n",
    "    \n",
    "    Parameter player_id: The ID of player to return for\n",
    "    Precondition: player_id is \n",
    "    Parameter year: The season to return wRC for \n",
    "    Precondition: year is an INT \n",
    "    \"\"\"\n",
    "    season_pitching = pd.read_csv(\"data/cornellpitching\"+str(year)+\".csv\")\n",
    "    player_pitching =  season_pitching[season_pitching.player_id==player_id]\n",
    "    player_pitching = player_pitching.fillna(0)\n",
    "    era = player_pitching[\"ERA\"].values[0]\n",
    "    return era\n",
    "\n",
    "get_era(1546998, 2017)"
   ]
  },
  {
   "cell_type": "code",
   "execution_count": 113,
   "id": "cdb6cd78-8b62-4b75-9bf0-0ee750074df1",
   "metadata": {},
   "outputs": [
    {
     "data": {
      "text/plain": [
       "0.4020979020979021"
      ]
     },
     "execution_count": 113,
     "metadata": {},
     "output_type": "execute_result"
    }
   ],
   "source": [
    "def get_runs_per_ip(player_id, year):\n",
    "    \"\"\"\n",
    "    Returns: runs per innings pitched\n",
    "    \n",
    "    runs allowed / innings pitched\n",
    "    \n",
    "    \"\"\"\n",
    "    season_pitching = pd.read_csv(\"data/cornellpitching\"+str(year)+\".csv\")\n",
    "    player_pitching =  season_pitching[season_pitching.player_id==player_id]\n",
    "    player_pitching = player_pitching.fillna(0)\n",
    "    runs_allowed = player_pitching[\"R\"].values[0]\n",
    "    innings_pitched = player_pitching[\"IP\"].values[0]\n",
    "    res = runs_allowed/innings_pitched\n",
    "    return res\n",
    "\n",
    "get_runs_per_ip(1546998, 2017)"
   ]
  },
  {
   "cell_type": "code",
   "execution_count": 114,
   "id": "2ec82cec-85f3-4140-8b9c-f326f2d124a6",
   "metadata": {},
   "outputs": [
    {
     "data": {
      "text/html": [
       "<div>\n",
       "<style scoped>\n",
       "    .dataframe tbody tr th:only-of-type {\n",
       "        vertical-align: middle;\n",
       "    }\n",
       "\n",
       "    .dataframe tbody tr th {\n",
       "        vertical-align: top;\n",
       "    }\n",
       "\n",
       "    .dataframe thead th {\n",
       "        text-align: right;\n",
       "    }\n",
       "</style>\n",
       "<table border=\"1\" class=\"dataframe\">\n",
       "  <thead>\n",
       "    <tr style=\"text-align: right;\">\n",
       "      <th></th>\n",
       "      <th>player_id</th>\n",
       "      <th>name</th>\n",
       "      <th>year</th>\n",
       "      <th>AB</th>\n",
       "      <th>woba</th>\n",
       "      <th>wrc</th>\n",
       "      <th>wraa</th>\n",
       "      <th>class_year</th>\n",
       "    </tr>\n",
       "  </thead>\n",
       "  <tbody>\n",
       "    <tr>\n",
       "      <th>0</th>\n",
       "      <td>2347188.0</td>\n",
       "      <td>Hollerbach, Joe</td>\n",
       "      <td>2020</td>\n",
       "      <td>29.0</td>\n",
       "      <td>0.261942</td>\n",
       "      <td>2.053749</td>\n",
       "      <td>-2.533251</td>\n",
       "      <td>Fr</td>\n",
       "    </tr>\n",
       "    <tr>\n",
       "      <th>1</th>\n",
       "      <td>1884385.0</td>\n",
       "      <td>Carnegie, Alex</td>\n",
       "      <td>2020</td>\n",
       "      <td>24.0</td>\n",
       "      <td>0.305891</td>\n",
       "      <td>3.173484</td>\n",
       "      <td>-1.135516</td>\n",
       "      <td>Sr</td>\n",
       "    </tr>\n",
       "    <tr>\n",
       "      <th>2</th>\n",
       "      <td>1997347.0</td>\n",
       "      <td>Matton, Kalani</td>\n",
       "      <td>2020</td>\n",
       "      <td>29.0</td>\n",
       "      <td>0.301949</td>\n",
       "      <td>3.061895</td>\n",
       "      <td>-1.247105</td>\n",
       "      <td>Jr</td>\n",
       "    </tr>\n",
       "    <tr>\n",
       "      <th>3</th>\n",
       "      <td>1997328.0</td>\n",
       "      <td>Garza, Ramon</td>\n",
       "      <td>2020</td>\n",
       "      <td>30.0</td>\n",
       "      <td>0.306521</td>\n",
       "      <td>3.706064</td>\n",
       "      <td>-1.297936</td>\n",
       "      <td>Jr</td>\n",
       "    </tr>\n",
       "    <tr>\n",
       "      <th>4</th>\n",
       "      <td>2347184.0</td>\n",
       "      <td>Russell, Shane</td>\n",
       "      <td>2020</td>\n",
       "      <td>35.0</td>\n",
       "      <td>0.183941</td>\n",
       "      <td>-0.323973</td>\n",
       "      <td>-5.327973</td>\n",
       "      <td>Fr</td>\n",
       "    </tr>\n",
       "    <tr>\n",
       "      <th>...</th>\n",
       "      <td>...</td>\n",
       "      <td>...</td>\n",
       "      <td>...</td>\n",
       "      <td>...</td>\n",
       "      <td>...</td>\n",
       "      <td>...</td>\n",
       "      <td>...</td>\n",
       "      <td>...</td>\n",
       "    </tr>\n",
       "    <tr>\n",
       "      <th>81</th>\n",
       "      <td>1439148.0</td>\n",
       "      <td>Lowell, Eliot</td>\n",
       "      <td>2015</td>\n",
       "      <td>34.0</td>\n",
       "      <td>0.241800</td>\n",
       "      <td>1.639443</td>\n",
       "      <td>-3.977557</td>\n",
       "      <td>Jr</td>\n",
       "    </tr>\n",
       "    <tr>\n",
       "      <th>82</th>\n",
       "      <td>1546996.0</td>\n",
       "      <td>Smith, Jamie</td>\n",
       "      <td>2015</td>\n",
       "      <td>46.0</td>\n",
       "      <td>0.205158</td>\n",
       "      <td>0.341294</td>\n",
       "      <td>-6.508706</td>\n",
       "      <td>So</td>\n",
       "    </tr>\n",
       "    <tr>\n",
       "      <th>83</th>\n",
       "      <td>1652421.0</td>\n",
       "      <td>Le Dorze, Pierre</td>\n",
       "      <td>2015</td>\n",
       "      <td>19.0</td>\n",
       "      <td>0.531137</td>\n",
       "      <td>7.243910</td>\n",
       "      <td>3.955910</td>\n",
       "      <td>Fr</td>\n",
       "    </tr>\n",
       "    <tr>\n",
       "      <th>84</th>\n",
       "      <td>1652419.0</td>\n",
       "      <td>Baur, Trey</td>\n",
       "      <td>2015</td>\n",
       "      <td>24.0</td>\n",
       "      <td>0.259539</td>\n",
       "      <td>1.457032</td>\n",
       "      <td>-2.104968</td>\n",
       "      <td>Fr</td>\n",
       "    </tr>\n",
       "    <tr>\n",
       "      <th>85</th>\n",
       "      <td>1546999.0</td>\n",
       "      <td>Weston, Jacob</td>\n",
       "      <td>2015</td>\n",
       "      <td>19.0</td>\n",
       "      <td>0.239463</td>\n",
       "      <td>0.719561</td>\n",
       "      <td>-1.883439</td>\n",
       "      <td>So</td>\n",
       "    </tr>\n",
       "  </tbody>\n",
       "</table>\n",
       "<p>86 rows × 8 columns</p>\n",
       "</div>"
      ],
      "text/plain": [
       "    player_id              name  year    AB      woba       wrc      wraa  \\\n",
       "0   2347188.0   Hollerbach, Joe  2020  29.0  0.261942  2.053749 -2.533251   \n",
       "1   1884385.0    Carnegie, Alex  2020  24.0  0.305891  3.173484 -1.135516   \n",
       "2   1997347.0    Matton, Kalani  2020  29.0  0.301949  3.061895 -1.247105   \n",
       "3   1997328.0      Garza, Ramon  2020  30.0  0.306521  3.706064 -1.297936   \n",
       "4   2347184.0    Russell, Shane  2020  35.0  0.183941 -0.323973 -5.327973   \n",
       "..        ...               ...   ...   ...       ...       ...       ...   \n",
       "81  1439148.0     Lowell, Eliot  2015  34.0  0.241800  1.639443 -3.977557   \n",
       "82  1546996.0      Smith, Jamie  2015  46.0  0.205158  0.341294 -6.508706   \n",
       "83  1652421.0  Le Dorze, Pierre  2015  19.0  0.531137  7.243910  3.955910   \n",
       "84  1652419.0        Baur, Trey  2015  24.0  0.259539  1.457032 -2.104968   \n",
       "85  1546999.0     Weston, Jacob  2015  19.0  0.239463  0.719561 -1.883439   \n",
       "\n",
       "   class_year  \n",
       "0          Fr  \n",
       "1          Sr  \n",
       "2          Jr  \n",
       "3          Jr  \n",
       "4          Fr  \n",
       "..        ...  \n",
       "81         Jr  \n",
       "82         So  \n",
       "83         Fr  \n",
       "84         Fr  \n",
       "85         So  \n",
       "\n",
       "[86 rows x 8 columns]"
      ]
     },
     "execution_count": 114,
     "metadata": {},
     "output_type": "execute_result"
    }
   ],
   "source": [
    "def get_cornell_batting_stats(start):\n",
    "    \"\"\"\n",
    "    Returns: \n",
    "    \"\"\"\n",
    "    batting = pd.read_csv(\"data/battingsince\"+str(start)+\".csv\")\n",
    "    batting = batting.loc[batting['BA']>0, :]\n",
    "    team_list = {\"player_id\":[], \"name\":[], \"year\":[], \"AB\":[], \"woba\":[], \"wrc\":[], \"wraa\":[], \"class_year\":[]}\n",
    "    for i in range(len(batting)):\n",
    "        player_id = batting.iloc[i, 0]\n",
    "        player = batting.iloc[i,6]\n",
    "        year = batting.iloc[i, 1]\n",
    "        at_bats = batting.iloc[i,15]\n",
    "        class_year = batting.iloc[i,7]\n",
    "        woba = get_woba(player_id, year)\n",
    "        wrc  = get_wrc(player_id, year)\n",
    "        wraa  = get_wraa(player_id, year)\n",
    "        team_list[\"player_id\"].append(player_id)\n",
    "        team_list[\"AB\"].append(at_bats)\n",
    "        team_list[\"class_year\"].append(class_year)\n",
    "        team_list[\"name\"].append(player)\n",
    "        team_list[\"year\"].append(year)\n",
    "        team_list[\"woba\"].append(woba)\n",
    "        team_list[\"wrc\"].append(wrc)\n",
    "        team_list[\"wraa\"].append(wraa)\n",
    "    res = pd.DataFrame(team_list)\n",
    "    return res\n",
    "\n",
    "get_cornell_batting_stats(2015)"
   ]
  },
  {
   "cell_type": "code",
   "execution_count": 115,
   "id": "a8f0de7c-923f-4d99-9ae7-3a384fb58091",
   "metadata": {},
   "outputs": [
    {
     "data": {
      "text/html": [
       "<div>\n",
       "<style scoped>\n",
       "    .dataframe tbody tr th:only-of-type {\n",
       "        vertical-align: middle;\n",
       "    }\n",
       "\n",
       "    .dataframe tbody tr th {\n",
       "        vertical-align: top;\n",
       "    }\n",
       "\n",
       "    .dataframe thead th {\n",
       "        text-align: right;\n",
       "    }\n",
       "</style>\n",
       "<table border=\"1\" class=\"dataframe\">\n",
       "  <thead>\n",
       "    <tr style=\"text-align: right;\">\n",
       "      <th></th>\n",
       "      <th>player_id</th>\n",
       "      <th>name</th>\n",
       "      <th>year</th>\n",
       "      <th>innings_pitched</th>\n",
       "      <th>runs</th>\n",
       "      <th>era</th>\n",
       "      <th>fip</th>\n",
       "      <th>runs_per_ip</th>\n",
       "      <th>class_year</th>\n",
       "    </tr>\n",
       "  </thead>\n",
       "  <tbody>\n",
       "    <tr>\n",
       "      <th>0</th>\n",
       "      <td>2111707.0</td>\n",
       "      <td>Lillios, Nikolas</td>\n",
       "      <td>2020</td>\n",
       "      <td>5.1</td>\n",
       "      <td>1.0</td>\n",
       "      <td>1.69</td>\n",
       "      <td>2.497235</td>\n",
       "      <td>0.196078</td>\n",
       "      <td>So</td>\n",
       "    </tr>\n",
       "    <tr>\n",
       "      <th>1</th>\n",
       "      <td>2111755.0</td>\n",
       "      <td>Zacharias, Jon</td>\n",
       "      <td>2020</td>\n",
       "      <td>6.2</td>\n",
       "      <td>9.0</td>\n",
       "      <td>6.75</td>\n",
       "      <td>6.909000</td>\n",
       "      <td>1.451613</td>\n",
       "      <td>So</td>\n",
       "    </tr>\n",
       "    <tr>\n",
       "      <th>2</th>\n",
       "      <td>1997345.0</td>\n",
       "      <td>Davis, Trevor Daniel</td>\n",
       "      <td>2020</td>\n",
       "      <td>4.2</td>\n",
       "      <td>2.0</td>\n",
       "      <td>1.93</td>\n",
       "      <td>6.909000</td>\n",
       "      <td>0.476190</td>\n",
       "      <td>Jr</td>\n",
       "    </tr>\n",
       "    <tr>\n",
       "      <th>3</th>\n",
       "      <td>1997324.0</td>\n",
       "      <td>Urbon, Seth</td>\n",
       "      <td>2020</td>\n",
       "      <td>7.0</td>\n",
       "      <td>6.0</td>\n",
       "      <td>6.43</td>\n",
       "      <td>7.766143</td>\n",
       "      <td>0.857143</td>\n",
       "      <td>Sr</td>\n",
       "    </tr>\n",
       "    <tr>\n",
       "      <th>4</th>\n",
       "      <td>1884389.0</td>\n",
       "      <td>Wyatt, Colby</td>\n",
       "      <td>2020</td>\n",
       "      <td>14.1</td>\n",
       "      <td>17.0</td>\n",
       "      <td>5.65</td>\n",
       "      <td>6.377085</td>\n",
       "      <td>1.205674</td>\n",
       "      <td>Sr</td>\n",
       "    </tr>\n",
       "    <tr>\n",
       "      <th>...</th>\n",
       "      <td>...</td>\n",
       "      <td>...</td>\n",
       "      <td>...</td>\n",
       "      <td>...</td>\n",
       "      <td>...</td>\n",
       "      <td>...</td>\n",
       "      <td>...</td>\n",
       "      <td>...</td>\n",
       "      <td>...</td>\n",
       "    </tr>\n",
       "    <tr>\n",
       "      <th>79</th>\n",
       "      <td>1547001.0</td>\n",
       "      <td>Brewer, Ray</td>\n",
       "      <td>2015</td>\n",
       "      <td>12.1</td>\n",
       "      <td>8.0</td>\n",
       "      <td>2.19</td>\n",
       "      <td>4.542917</td>\n",
       "      <td>0.661157</td>\n",
       "      <td>So</td>\n",
       "    </tr>\n",
       "    <tr>\n",
       "      <th>80</th>\n",
       "      <td>1652392.0</td>\n",
       "      <td>McCulley, Zach</td>\n",
       "      <td>2015</td>\n",
       "      <td>12.1</td>\n",
       "      <td>10.0</td>\n",
       "      <td>7.30</td>\n",
       "      <td>5.121430</td>\n",
       "      <td>0.826446</td>\n",
       "      <td>Sr</td>\n",
       "    </tr>\n",
       "    <tr>\n",
       "      <th>81</th>\n",
       "      <td>1546997.0</td>\n",
       "      <td>Veenema, Ryne</td>\n",
       "      <td>2015</td>\n",
       "      <td>5.0</td>\n",
       "      <td>10.0</td>\n",
       "      <td>18.00</td>\n",
       "      <td>9.733000</td>\n",
       "      <td>2.000000</td>\n",
       "      <td>So</td>\n",
       "    </tr>\n",
       "    <tr>\n",
       "      <th>82</th>\n",
       "      <td>1439149.0</td>\n",
       "      <td>Horton, Matt</td>\n",
       "      <td>2015</td>\n",
       "      <td>1.0</td>\n",
       "      <td>5.0</td>\n",
       "      <td>27.00</td>\n",
       "      <td>10.733000</td>\n",
       "      <td>5.000000</td>\n",
       "      <td>Jr</td>\n",
       "    </tr>\n",
       "    <tr>\n",
       "      <th>83</th>\n",
       "      <td>1546994.0</td>\n",
       "      <td>Soltis, Scott</td>\n",
       "      <td>2015</td>\n",
       "      <td>0.2</td>\n",
       "      <td>4.0</td>\n",
       "      <td>54.00</td>\n",
       "      <td>46.733000</td>\n",
       "      <td>20.000000</td>\n",
       "      <td>So</td>\n",
       "    </tr>\n",
       "  </tbody>\n",
       "</table>\n",
       "<p>84 rows × 9 columns</p>\n",
       "</div>"
      ],
      "text/plain": [
       "    player_id                  name  year  innings_pitched  runs    era  \\\n",
       "0   2111707.0      Lillios, Nikolas  2020              5.1   1.0   1.69   \n",
       "1   2111755.0        Zacharias, Jon  2020              6.2   9.0   6.75   \n",
       "2   1997345.0  Davis, Trevor Daniel  2020              4.2   2.0   1.93   \n",
       "3   1997324.0           Urbon, Seth  2020              7.0   6.0   6.43   \n",
       "4   1884389.0          Wyatt, Colby  2020             14.1  17.0   5.65   \n",
       "..        ...                   ...   ...              ...   ...    ...   \n",
       "79  1547001.0           Brewer, Ray  2015             12.1   8.0   2.19   \n",
       "80  1652392.0        McCulley, Zach  2015             12.1  10.0   7.30   \n",
       "81  1546997.0         Veenema, Ryne  2015              5.0  10.0  18.00   \n",
       "82  1439149.0          Horton, Matt  2015              1.0   5.0  27.00   \n",
       "83  1546994.0         Soltis, Scott  2015              0.2   4.0  54.00   \n",
       "\n",
       "          fip  runs_per_ip class_year  \n",
       "0    2.497235     0.196078         So  \n",
       "1    6.909000     1.451613         So  \n",
       "2    6.909000     0.476190         Jr  \n",
       "3    7.766143     0.857143         Sr  \n",
       "4    6.377085     1.205674         Sr  \n",
       "..        ...          ...        ...  \n",
       "79   4.542917     0.661157         So  \n",
       "80   5.121430     0.826446         Sr  \n",
       "81   9.733000     2.000000         So  \n",
       "82  10.733000     5.000000         Jr  \n",
       "83  46.733000    20.000000         So  \n",
       "\n",
       "[84 rows x 9 columns]"
      ]
     },
     "execution_count": 115,
     "metadata": {},
     "output_type": "execute_result"
    }
   ],
   "source": [
    "def get_cornell_pitching_stats(start):\n",
    "    \"\"\"\n",
    "    Returns: Dataframe of advanced pitching statistics\n",
    "    \"\"\"\n",
    "    pitching = pd.read_csv(\"data/pitchingsince\"+str(start)+\".csv\")\n",
    "    pitching = pitching.loc[pitching['App']>0, :]\n",
    "    team_list = {\"player_id\":[], \"name\":[], \"year\":[], \"innings_pitched\":[], \"runs\":[], \"era\":[], \"fip\":[], \"runs_per_ip\":[],\"class_year\":[]}\n",
    "    for i in range(len(pitching)):\n",
    "        player_id = pitching.iloc[i, 0]\n",
    "        player = pitching.iloc[i,6]\n",
    "        year = pitching.iloc[i, 1]\n",
    "        class_year = pitching.iloc[i,7]\n",
    "        innings_pitched = pitching.iloc[i, 13]\n",
    "        runs_allowed = pitching.iloc[i, 15]\n",
    "        era = get_era(player_id, year)\n",
    "        fip = get_fip(player_id, year)\n",
    "        runs_per_ip = get_runs_per_ip(player_id, year)\n",
    "        team_list[\"player_id\"].append(player_id)\n",
    "        team_list[\"innings_pitched\"].append(innings_pitched)\n",
    "        team_list[\"runs\"].append(runs_allowed)\n",
    "        team_list[\"class_year\"].append(class_year)\n",
    "        team_list[\"name\"].append(player)\n",
    "        team_list[\"year\"].append(year)\n",
    "        team_list[\"era\"].append(era)\n",
    "        team_list[\"fip\"].append(fip)\n",
    "        team_list[\"runs_per_ip\"].append(runs_per_ip)\n",
    "    res = pd.DataFrame(team_list)\n",
    "    return res\n",
    "\n",
    "get_cornell_pitching_stats(2015)"
   ]
  },
  {
   "cell_type": "code",
   "execution_count": 116,
   "id": "99fb417a-360b-42ce-bc61-a9f45907a9ed",
   "metadata": {},
   "outputs": [],
   "source": [
    "def generate_rd_chart(team_name, start, end):\n",
    "    \"\"\"\n",
    "    generates a cumulative run differential bar chart\n",
    "    \"\"\"\n",
    "    games = sc.get_games(team_name, start=start, end=end)\n",
    "    games[\"date\"] =  pd.to_datetime(games[\"date\"])\n",
    "    games = games.sort_values(by=\"date\")\n",
    "    games = games.reset_index(drop=\"True\")\n",
    "    games = sc.add_run_difference_column(team_name, games)\n",
    "    fig = px.bar(games,x=games.index, y=\"cumulative_rd\",\n",
    "        hover_data=[\"opponent\", \"date\"], color=\"cumulative_rd\", color_continuous_scale=px.colors.diverging.balance,\n",
    "        color_continuous_midpoint=0,labels={\"cumulative_rd\":\"Run Differential\"})\n",
    "    fig.update_layout( \n",
    "    title = \"Cumulative Run Differential<br>\"+str(start)+\" to \"+str(end),\n",
    "    title_font_size = 20,\n",
    "    title_xanchor = \"center\",\n",
    "    title_yanchor = \"top\",\n",
    "    title_x =  0.5,\n",
    "    yaxis_title=\"Cumulative Run Differential\",\n",
    "    xaxis_title=\"Games Played\",\n",
    "    margin=dict(l=40, r=20, t=125, b=20)\n",
    "    )\n",
    "    fig.update_yaxes(\n",
    "    ticklabelposition=\"inside top\",\n",
    "    )\n",
    "    fig.update_coloraxes(showscale=False)\n",
    "    fig.show() "
   ]
  },
  {
   "cell_type": "code",
   "execution_count": 119,
   "id": "18505a1e-63bd-4b6f-9fc6-96605ad71ee5",
   "metadata": {},
   "outputs": [],
   "source": [
    "def generate_ivy_rd_chart(team_name, start, end):\n",
    "    \"\"\"\n",
    "    generates a cumulative run differential bar chart\n",
    "    \"\"\"\n",
    "    games = get_intra_ivy(team_name, start=start, end=end)\n",
    "    games[\"date\"] =  pd.to_datetime(games[\"date\"])\n",
    "    games = games.sort_values(by=\"date\")\n",
    "    games = games.reset_index(drop=\"True\")\n",
    "    games = add_run_difference_column(team_name, games)\n",
    "    fig = px.bar(games,x=games.index, y=\"cumulative_rd\",\n",
    "        hover_data=[\"opponent\", \"date\"], color=\"cumulative_rd\", color_continuous_scale=px.colors.diverging.balance,\n",
    "        color_continuous_midpoint=0,labels={\"cumulative_rd\":\"Run Differential\"})\n",
    "    img = Image.open(\"resources/logos/\"+team_name+\".png\")\n",
    "    fig.update_layout( \n",
    "    title = \"Cumulative Run Differential<br>\"+str(start)+\" to \"+str(end),\n",
    "    title_font_size = 20,\n",
    "    title_xanchor = \"center\",\n",
    "    title_yanchor = \"top\",\n",
    "    title_x =  0.5,\n",
    "    yaxis_title=\"Cumulative Run Differential\",\n",
    "    xaxis_title=\"Games Played\",\n",
    "    margin=dict(l=40, r=20, t=125, b=20)\n",
    "    )\n",
    "    \n",
    "    fig.update_yaxes(\n",
    "    ticklabelposition=\"inside top\",\n",
    "    )\n",
    "    fig.add_layout_image(\n",
    "    dict(\n",
    "        source=img,\n",
    "        xref=\"paper\", yref=\"paper\",\n",
    "        xanchor=\"left\", yanchor=\"top\",\n",
    "        x=-0.02, y=1.325,\n",
    "        sizex=0.3, sizey=0.3\n",
    "        )\n",
    "    )\n",
    "    fig.update_coloraxes(showscale=False)\n",
    "    fig.show() "
   ]
  },
  {
   "cell_type": "code",
   "execution_count": 123,
   "id": "6eeea8ed-2039-4cd5-b08f-d204ad373c69",
   "metadata": {},
   "outputs": [
    {
     "data": {
      "application/vnd.plotly.v1+json": {
       "config": {
        "plotlyServerURL": "https://plot.ly"
       },
       "data": [
        {
         "alignmentgroup": "True",
         "hovertemplate": "variable=pythagenpat_pct<br>team_name=%{x}<br>value=%{y}<extra></extra>",
         "legendgroup": "pythagenpat_pct",
         "marker": {
          "color": "#636efa"
         },
         "name": "pythagenpat_pct",
         "offsetgroup": "pythagenpat_pct",
         "orientation": "v",
         "showlegend": true,
         "textposition": "auto",
         "type": "bar",
         "x": [
          "Brown",
          "Columbia",
          "Cornell",
          "Dartmouth",
          "Harvard",
          "Pennsylvania",
          "Princeton",
          "Yale"
         ],
         "xaxis": "x",
         "y": [
          0.4,
          0.6,
          0.44,
          0.54,
          0.53,
          0.62,
          0.37,
          0.52
         ],
         "yaxis": "y"
        },
        {
         "alignmentgroup": "True",
         "hovertemplate": "variable=actual_pct<br>team_name=%{x}<br>value=%{y}<extra></extra>",
         "legendgroup": "actual_pct",
         "marker": {
          "color": "#EF553B"
         },
         "name": "actual_pct",
         "offsetgroup": "actual_pct",
         "orientation": "v",
         "showlegend": true,
         "textposition": "auto",
         "type": "bar",
         "x": [
          "Brown",
          "Columbia",
          "Cornell",
          "Dartmouth",
          "Harvard",
          "Pennsylvania",
          "Princeton",
          "Yale"
         ],
         "xaxis": "x",
         "y": [
          0.35,
          0.62,
          0.41,
          0.56,
          0.49,
          0.56,
          0.39,
          0.59
         ],
         "yaxis": "y"
        }
       ],
       "layout": {
        "barmode": "group",
        "legend": {
         "title": {
          "text": "variable"
         },
         "tracegroupgap": 0
        },
        "margin": {
         "t": 60
        },
        "template": {
         "data": {
          "bar": [
           {
            "error_x": {
             "color": "#2a3f5f"
            },
            "error_y": {
             "color": "#2a3f5f"
            },
            "marker": {
             "line": {
              "color": "#E5ECF6",
              "width": 0.5
             }
            },
            "type": "bar"
           }
          ],
          "barpolar": [
           {
            "marker": {
             "line": {
              "color": "#E5ECF6",
              "width": 0.5
             }
            },
            "type": "barpolar"
           }
          ],
          "carpet": [
           {
            "aaxis": {
             "endlinecolor": "#2a3f5f",
             "gridcolor": "white",
             "linecolor": "white",
             "minorgridcolor": "white",
             "startlinecolor": "#2a3f5f"
            },
            "baxis": {
             "endlinecolor": "#2a3f5f",
             "gridcolor": "white",
             "linecolor": "white",
             "minorgridcolor": "white",
             "startlinecolor": "#2a3f5f"
            },
            "type": "carpet"
           }
          ],
          "choropleth": [
           {
            "colorbar": {
             "outlinewidth": 0,
             "ticks": ""
            },
            "type": "choropleth"
           }
          ],
          "contour": [
           {
            "colorbar": {
             "outlinewidth": 0,
             "ticks": ""
            },
            "colorscale": [
             [
              0,
              "#0d0887"
             ],
             [
              0.1111111111111111,
              "#46039f"
             ],
             [
              0.2222222222222222,
              "#7201a8"
             ],
             [
              0.3333333333333333,
              "#9c179e"
             ],
             [
              0.4444444444444444,
              "#bd3786"
             ],
             [
              0.5555555555555556,
              "#d8576b"
             ],
             [
              0.6666666666666666,
              "#ed7953"
             ],
             [
              0.7777777777777778,
              "#fb9f3a"
             ],
             [
              0.8888888888888888,
              "#fdca26"
             ],
             [
              1,
              "#f0f921"
             ]
            ],
            "type": "contour"
           }
          ],
          "contourcarpet": [
           {
            "colorbar": {
             "outlinewidth": 0,
             "ticks": ""
            },
            "type": "contourcarpet"
           }
          ],
          "heatmap": [
           {
            "colorbar": {
             "outlinewidth": 0,
             "ticks": ""
            },
            "colorscale": [
             [
              0,
              "#0d0887"
             ],
             [
              0.1111111111111111,
              "#46039f"
             ],
             [
              0.2222222222222222,
              "#7201a8"
             ],
             [
              0.3333333333333333,
              "#9c179e"
             ],
             [
              0.4444444444444444,
              "#bd3786"
             ],
             [
              0.5555555555555556,
              "#d8576b"
             ],
             [
              0.6666666666666666,
              "#ed7953"
             ],
             [
              0.7777777777777778,
              "#fb9f3a"
             ],
             [
              0.8888888888888888,
              "#fdca26"
             ],
             [
              1,
              "#f0f921"
             ]
            ],
            "type": "heatmap"
           }
          ],
          "heatmapgl": [
           {
            "colorbar": {
             "outlinewidth": 0,
             "ticks": ""
            },
            "colorscale": [
             [
              0,
              "#0d0887"
             ],
             [
              0.1111111111111111,
              "#46039f"
             ],
             [
              0.2222222222222222,
              "#7201a8"
             ],
             [
              0.3333333333333333,
              "#9c179e"
             ],
             [
              0.4444444444444444,
              "#bd3786"
             ],
             [
              0.5555555555555556,
              "#d8576b"
             ],
             [
              0.6666666666666666,
              "#ed7953"
             ],
             [
              0.7777777777777778,
              "#fb9f3a"
             ],
             [
              0.8888888888888888,
              "#fdca26"
             ],
             [
              1,
              "#f0f921"
             ]
            ],
            "type": "heatmapgl"
           }
          ],
          "histogram": [
           {
            "marker": {
             "colorbar": {
              "outlinewidth": 0,
              "ticks": ""
             }
            },
            "type": "histogram"
           }
          ],
          "histogram2d": [
           {
            "colorbar": {
             "outlinewidth": 0,
             "ticks": ""
            },
            "colorscale": [
             [
              0,
              "#0d0887"
             ],
             [
              0.1111111111111111,
              "#46039f"
             ],
             [
              0.2222222222222222,
              "#7201a8"
             ],
             [
              0.3333333333333333,
              "#9c179e"
             ],
             [
              0.4444444444444444,
              "#bd3786"
             ],
             [
              0.5555555555555556,
              "#d8576b"
             ],
             [
              0.6666666666666666,
              "#ed7953"
             ],
             [
              0.7777777777777778,
              "#fb9f3a"
             ],
             [
              0.8888888888888888,
              "#fdca26"
             ],
             [
              1,
              "#f0f921"
             ]
            ],
            "type": "histogram2d"
           }
          ],
          "histogram2dcontour": [
           {
            "colorbar": {
             "outlinewidth": 0,
             "ticks": ""
            },
            "colorscale": [
             [
              0,
              "#0d0887"
             ],
             [
              0.1111111111111111,
              "#46039f"
             ],
             [
              0.2222222222222222,
              "#7201a8"
             ],
             [
              0.3333333333333333,
              "#9c179e"
             ],
             [
              0.4444444444444444,
              "#bd3786"
             ],
             [
              0.5555555555555556,
              "#d8576b"
             ],
             [
              0.6666666666666666,
              "#ed7953"
             ],
             [
              0.7777777777777778,
              "#fb9f3a"
             ],
             [
              0.8888888888888888,
              "#fdca26"
             ],
             [
              1,
              "#f0f921"
             ]
            ],
            "type": "histogram2dcontour"
           }
          ],
          "mesh3d": [
           {
            "colorbar": {
             "outlinewidth": 0,
             "ticks": ""
            },
            "type": "mesh3d"
           }
          ],
          "parcoords": [
           {
            "line": {
             "colorbar": {
              "outlinewidth": 0,
              "ticks": ""
             }
            },
            "type": "parcoords"
           }
          ],
          "pie": [
           {
            "automargin": true,
            "type": "pie"
           }
          ],
          "scatter": [
           {
            "marker": {
             "colorbar": {
              "outlinewidth": 0,
              "ticks": ""
             }
            },
            "type": "scatter"
           }
          ],
          "scatter3d": [
           {
            "line": {
             "colorbar": {
              "outlinewidth": 0,
              "ticks": ""
             }
            },
            "marker": {
             "colorbar": {
              "outlinewidth": 0,
              "ticks": ""
             }
            },
            "type": "scatter3d"
           }
          ],
          "scattercarpet": [
           {
            "marker": {
             "colorbar": {
              "outlinewidth": 0,
              "ticks": ""
             }
            },
            "type": "scattercarpet"
           }
          ],
          "scattergeo": [
           {
            "marker": {
             "colorbar": {
              "outlinewidth": 0,
              "ticks": ""
             }
            },
            "type": "scattergeo"
           }
          ],
          "scattergl": [
           {
            "marker": {
             "colorbar": {
              "outlinewidth": 0,
              "ticks": ""
             }
            },
            "type": "scattergl"
           }
          ],
          "scattermapbox": [
           {
            "marker": {
             "colorbar": {
              "outlinewidth": 0,
              "ticks": ""
             }
            },
            "type": "scattermapbox"
           }
          ],
          "scatterpolar": [
           {
            "marker": {
             "colorbar": {
              "outlinewidth": 0,
              "ticks": ""
             }
            },
            "type": "scatterpolar"
           }
          ],
          "scatterpolargl": [
           {
            "marker": {
             "colorbar": {
              "outlinewidth": 0,
              "ticks": ""
             }
            },
            "type": "scatterpolargl"
           }
          ],
          "scatterternary": [
           {
            "marker": {
             "colorbar": {
              "outlinewidth": 0,
              "ticks": ""
             }
            },
            "type": "scatterternary"
           }
          ],
          "surface": [
           {
            "colorbar": {
             "outlinewidth": 0,
             "ticks": ""
            },
            "colorscale": [
             [
              0,
              "#0d0887"
             ],
             [
              0.1111111111111111,
              "#46039f"
             ],
             [
              0.2222222222222222,
              "#7201a8"
             ],
             [
              0.3333333333333333,
              "#9c179e"
             ],
             [
              0.4444444444444444,
              "#bd3786"
             ],
             [
              0.5555555555555556,
              "#d8576b"
             ],
             [
              0.6666666666666666,
              "#ed7953"
             ],
             [
              0.7777777777777778,
              "#fb9f3a"
             ],
             [
              0.8888888888888888,
              "#fdca26"
             ],
             [
              1,
              "#f0f921"
             ]
            ],
            "type": "surface"
           }
          ],
          "table": [
           {
            "cells": {
             "fill": {
              "color": "#EBF0F8"
             },
             "line": {
              "color": "white"
             }
            },
            "header": {
             "fill": {
              "color": "#C8D4E3"
             },
             "line": {
              "color": "white"
             }
            },
            "type": "table"
           }
          ]
         },
         "layout": {
          "annotationdefaults": {
           "arrowcolor": "#2a3f5f",
           "arrowhead": 0,
           "arrowwidth": 1
          },
          "autotypenumbers": "strict",
          "coloraxis": {
           "colorbar": {
            "outlinewidth": 0,
            "ticks": ""
           }
          },
          "colorscale": {
           "diverging": [
            [
             0,
             "#8e0152"
            ],
            [
             0.1,
             "#c51b7d"
            ],
            [
             0.2,
             "#de77ae"
            ],
            [
             0.3,
             "#f1b6da"
            ],
            [
             0.4,
             "#fde0ef"
            ],
            [
             0.5,
             "#f7f7f7"
            ],
            [
             0.6,
             "#e6f5d0"
            ],
            [
             0.7,
             "#b8e186"
            ],
            [
             0.8,
             "#7fbc41"
            ],
            [
             0.9,
             "#4d9221"
            ],
            [
             1,
             "#276419"
            ]
           ],
           "sequential": [
            [
             0,
             "#0d0887"
            ],
            [
             0.1111111111111111,
             "#46039f"
            ],
            [
             0.2222222222222222,
             "#7201a8"
            ],
            [
             0.3333333333333333,
             "#9c179e"
            ],
            [
             0.4444444444444444,
             "#bd3786"
            ],
            [
             0.5555555555555556,
             "#d8576b"
            ],
            [
             0.6666666666666666,
             "#ed7953"
            ],
            [
             0.7777777777777778,
             "#fb9f3a"
            ],
            [
             0.8888888888888888,
             "#fdca26"
            ],
            [
             1,
             "#f0f921"
            ]
           ],
           "sequentialminus": [
            [
             0,
             "#0d0887"
            ],
            [
             0.1111111111111111,
             "#46039f"
            ],
            [
             0.2222222222222222,
             "#7201a8"
            ],
            [
             0.3333333333333333,
             "#9c179e"
            ],
            [
             0.4444444444444444,
             "#bd3786"
            ],
            [
             0.5555555555555556,
             "#d8576b"
            ],
            [
             0.6666666666666666,
             "#ed7953"
            ],
            [
             0.7777777777777778,
             "#fb9f3a"
            ],
            [
             0.8888888888888888,
             "#fdca26"
            ],
            [
             1,
             "#f0f921"
            ]
           ]
          },
          "colorway": [
           "#636efa",
           "#EF553B",
           "#00cc96",
           "#ab63fa",
           "#FFA15A",
           "#19d3f3",
           "#FF6692",
           "#B6E880",
           "#FF97FF",
           "#FECB52"
          ],
          "font": {
           "color": "#2a3f5f"
          },
          "geo": {
           "bgcolor": "white",
           "lakecolor": "white",
           "landcolor": "#E5ECF6",
           "showlakes": true,
           "showland": true,
           "subunitcolor": "white"
          },
          "hoverlabel": {
           "align": "left"
          },
          "hovermode": "closest",
          "mapbox": {
           "style": "light"
          },
          "paper_bgcolor": "white",
          "plot_bgcolor": "#E5ECF6",
          "polar": {
           "angularaxis": {
            "gridcolor": "white",
            "linecolor": "white",
            "ticks": ""
           },
           "bgcolor": "#E5ECF6",
           "radialaxis": {
            "gridcolor": "white",
            "linecolor": "white",
            "ticks": ""
           }
          },
          "scene": {
           "xaxis": {
            "backgroundcolor": "#E5ECF6",
            "gridcolor": "white",
            "gridwidth": 2,
            "linecolor": "white",
            "showbackground": true,
            "ticks": "",
            "zerolinecolor": "white"
           },
           "yaxis": {
            "backgroundcolor": "#E5ECF6",
            "gridcolor": "white",
            "gridwidth": 2,
            "linecolor": "white",
            "showbackground": true,
            "ticks": "",
            "zerolinecolor": "white"
           },
           "zaxis": {
            "backgroundcolor": "#E5ECF6",
            "gridcolor": "white",
            "gridwidth": 2,
            "linecolor": "white",
            "showbackground": true,
            "ticks": "",
            "zerolinecolor": "white"
           }
          },
          "shapedefaults": {
           "line": {
            "color": "#2a3f5f"
           }
          },
          "ternary": {
           "aaxis": {
            "gridcolor": "white",
            "linecolor": "white",
            "ticks": ""
           },
           "baxis": {
            "gridcolor": "white",
            "linecolor": "white",
            "ticks": ""
           },
           "bgcolor": "#E5ECF6",
           "caxis": {
            "gridcolor": "white",
            "linecolor": "white",
            "ticks": ""
           }
          },
          "title": {
           "x": 0.05
          },
          "xaxis": {
           "automargin": true,
           "gridcolor": "white",
           "linecolor": "white",
           "ticks": "",
           "title": {
            "standoff": 15
           },
           "zerolinecolor": "white",
           "zerolinewidth": 2
          },
          "yaxis": {
           "automargin": true,
           "gridcolor": "white",
           "linecolor": "white",
           "ticks": "",
           "title": {
            "standoff": 15
           },
           "zerolinecolor": "white",
           "zerolinewidth": 2
          }
         }
        },
        "title": {
         "text": "Actual vs. Pythagenpat Expected Win Pct.<br>2015 to 2020",
         "x": 0.5,
         "xanchor": "center",
         "yanchor": "top"
        },
        "xaxis": {
         "anchor": "y",
         "domain": [
          0,
          1
         ],
         "title": {
          "text": "School"
         }
        },
        "yaxis": {
         "anchor": "x",
         "domain": [
          0,
          1
         ],
         "ticklabelposition": "inside top",
         "title": {
          "text": "Percentage"
         }
        }
       }
      },
      "text/html": [
       "<div>                            <div id=\"752acb33-fcf4-43d7-a57b-6b66613d249d\" class=\"plotly-graph-div\" style=\"height:525px; width:100%;\"></div>            <script type=\"text/javascript\">                require([\"plotly\"], function(Plotly) {                    window.PLOTLYENV=window.PLOTLYENV || {};                                    if (document.getElementById(\"752acb33-fcf4-43d7-a57b-6b66613d249d\")) {                    Plotly.newPlot(                        \"752acb33-fcf4-43d7-a57b-6b66613d249d\",                        [{\"alignmentgroup\": \"True\", \"hovertemplate\": \"variable=pythagenpat_pct<br>team_name=%{x}<br>value=%{y}<extra></extra>\", \"legendgroup\": \"pythagenpat_pct\", \"marker\": {\"color\": \"#636efa\"}, \"name\": \"pythagenpat_pct\", \"offsetgroup\": \"pythagenpat_pct\", \"orientation\": \"v\", \"showlegend\": true, \"textposition\": \"auto\", \"type\": \"bar\", \"x\": [\"Brown\", \"Columbia\", \"Cornell\", \"Dartmouth\", \"Harvard\", \"Pennsylvania\", \"Princeton\", \"Yale\"], \"xaxis\": \"x\", \"y\": [0.4, 0.6, 0.44, 0.54, 0.53, 0.62, 0.37, 0.52], \"yaxis\": \"y\"}, {\"alignmentgroup\": \"True\", \"hovertemplate\": \"variable=actual_pct<br>team_name=%{x}<br>value=%{y}<extra></extra>\", \"legendgroup\": \"actual_pct\", \"marker\": {\"color\": \"#EF553B\"}, \"name\": \"actual_pct\", \"offsetgroup\": \"actual_pct\", \"orientation\": \"v\", \"showlegend\": true, \"textposition\": \"auto\", \"type\": \"bar\", \"x\": [\"Brown\", \"Columbia\", \"Cornell\", \"Dartmouth\", \"Harvard\", \"Pennsylvania\", \"Princeton\", \"Yale\"], \"xaxis\": \"x\", \"y\": [0.35, 0.62, 0.41, 0.56, 0.49, 0.56, 0.39, 0.59], \"yaxis\": \"y\"}],                        {\"barmode\": \"group\", \"legend\": {\"title\": {\"text\": \"variable\"}, \"tracegroupgap\": 0}, \"margin\": {\"t\": 60}, \"template\": {\"data\": {\"bar\": [{\"error_x\": {\"color\": \"#2a3f5f\"}, \"error_y\": {\"color\": \"#2a3f5f\"}, \"marker\": {\"line\": {\"color\": \"#E5ECF6\", \"width\": 0.5}}, \"type\": \"bar\"}], \"barpolar\": [{\"marker\": {\"line\": {\"color\": \"#E5ECF6\", \"width\": 0.5}}, \"type\": \"barpolar\"}], \"carpet\": [{\"aaxis\": {\"endlinecolor\": \"#2a3f5f\", \"gridcolor\": \"white\", \"linecolor\": \"white\", \"minorgridcolor\": \"white\", \"startlinecolor\": \"#2a3f5f\"}, \"baxis\": {\"endlinecolor\": \"#2a3f5f\", \"gridcolor\": \"white\", \"linecolor\": \"white\", \"minorgridcolor\": \"white\", \"startlinecolor\": \"#2a3f5f\"}, \"type\": \"carpet\"}], \"choropleth\": [{\"colorbar\": {\"outlinewidth\": 0, \"ticks\": \"\"}, \"type\": \"choropleth\"}], \"contour\": [{\"colorbar\": {\"outlinewidth\": 0, \"ticks\": \"\"}, \"colorscale\": [[0.0, \"#0d0887\"], [0.1111111111111111, \"#46039f\"], [0.2222222222222222, \"#7201a8\"], [0.3333333333333333, \"#9c179e\"], [0.4444444444444444, \"#bd3786\"], [0.5555555555555556, \"#d8576b\"], [0.6666666666666666, \"#ed7953\"], [0.7777777777777778, \"#fb9f3a\"], [0.8888888888888888, \"#fdca26\"], [1.0, \"#f0f921\"]], \"type\": \"contour\"}], \"contourcarpet\": [{\"colorbar\": {\"outlinewidth\": 0, \"ticks\": \"\"}, \"type\": \"contourcarpet\"}], \"heatmap\": [{\"colorbar\": {\"outlinewidth\": 0, \"ticks\": \"\"}, \"colorscale\": [[0.0, \"#0d0887\"], [0.1111111111111111, \"#46039f\"], [0.2222222222222222, \"#7201a8\"], [0.3333333333333333, \"#9c179e\"], [0.4444444444444444, \"#bd3786\"], [0.5555555555555556, \"#d8576b\"], [0.6666666666666666, \"#ed7953\"], [0.7777777777777778, \"#fb9f3a\"], [0.8888888888888888, \"#fdca26\"], [1.0, \"#f0f921\"]], \"type\": \"heatmap\"}], \"heatmapgl\": [{\"colorbar\": {\"outlinewidth\": 0, \"ticks\": \"\"}, \"colorscale\": [[0.0, \"#0d0887\"], [0.1111111111111111, \"#46039f\"], [0.2222222222222222, \"#7201a8\"], [0.3333333333333333, \"#9c179e\"], [0.4444444444444444, \"#bd3786\"], [0.5555555555555556, \"#d8576b\"], [0.6666666666666666, \"#ed7953\"], [0.7777777777777778, \"#fb9f3a\"], [0.8888888888888888, \"#fdca26\"], [1.0, \"#f0f921\"]], \"type\": \"heatmapgl\"}], \"histogram\": [{\"marker\": {\"colorbar\": {\"outlinewidth\": 0, \"ticks\": \"\"}}, \"type\": \"histogram\"}], \"histogram2d\": [{\"colorbar\": {\"outlinewidth\": 0, \"ticks\": \"\"}, \"colorscale\": [[0.0, \"#0d0887\"], [0.1111111111111111, \"#46039f\"], [0.2222222222222222, \"#7201a8\"], [0.3333333333333333, \"#9c179e\"], [0.4444444444444444, \"#bd3786\"], [0.5555555555555556, \"#d8576b\"], [0.6666666666666666, \"#ed7953\"], [0.7777777777777778, \"#fb9f3a\"], [0.8888888888888888, \"#fdca26\"], [1.0, \"#f0f921\"]], \"type\": \"histogram2d\"}], \"histogram2dcontour\": [{\"colorbar\": {\"outlinewidth\": 0, \"ticks\": \"\"}, \"colorscale\": [[0.0, \"#0d0887\"], [0.1111111111111111, \"#46039f\"], [0.2222222222222222, \"#7201a8\"], [0.3333333333333333, \"#9c179e\"], [0.4444444444444444, \"#bd3786\"], [0.5555555555555556, \"#d8576b\"], [0.6666666666666666, \"#ed7953\"], [0.7777777777777778, \"#fb9f3a\"], [0.8888888888888888, \"#fdca26\"], [1.0, \"#f0f921\"]], \"type\": \"histogram2dcontour\"}], \"mesh3d\": [{\"colorbar\": {\"outlinewidth\": 0, \"ticks\": \"\"}, \"type\": \"mesh3d\"}], \"parcoords\": [{\"line\": {\"colorbar\": {\"outlinewidth\": 0, \"ticks\": \"\"}}, \"type\": \"parcoords\"}], \"pie\": [{\"automargin\": true, \"type\": \"pie\"}], \"scatter\": [{\"marker\": {\"colorbar\": {\"outlinewidth\": 0, \"ticks\": \"\"}}, \"type\": \"scatter\"}], \"scatter3d\": [{\"line\": {\"colorbar\": {\"outlinewidth\": 0, \"ticks\": \"\"}}, \"marker\": {\"colorbar\": {\"outlinewidth\": 0, \"ticks\": \"\"}}, \"type\": \"scatter3d\"}], \"scattercarpet\": [{\"marker\": {\"colorbar\": {\"outlinewidth\": 0, \"ticks\": \"\"}}, \"type\": \"scattercarpet\"}], \"scattergeo\": [{\"marker\": {\"colorbar\": {\"outlinewidth\": 0, \"ticks\": \"\"}}, \"type\": \"scattergeo\"}], \"scattergl\": [{\"marker\": {\"colorbar\": {\"outlinewidth\": 0, \"ticks\": \"\"}}, \"type\": \"scattergl\"}], \"scattermapbox\": [{\"marker\": {\"colorbar\": {\"outlinewidth\": 0, \"ticks\": \"\"}}, \"type\": \"scattermapbox\"}], \"scatterpolar\": [{\"marker\": {\"colorbar\": {\"outlinewidth\": 0, \"ticks\": \"\"}}, \"type\": \"scatterpolar\"}], \"scatterpolargl\": [{\"marker\": {\"colorbar\": {\"outlinewidth\": 0, \"ticks\": \"\"}}, \"type\": \"scatterpolargl\"}], \"scatterternary\": [{\"marker\": {\"colorbar\": {\"outlinewidth\": 0, \"ticks\": \"\"}}, \"type\": \"scatterternary\"}], \"surface\": [{\"colorbar\": {\"outlinewidth\": 0, \"ticks\": \"\"}, \"colorscale\": [[0.0, \"#0d0887\"], [0.1111111111111111, \"#46039f\"], [0.2222222222222222, \"#7201a8\"], [0.3333333333333333, \"#9c179e\"], [0.4444444444444444, \"#bd3786\"], [0.5555555555555556, \"#d8576b\"], [0.6666666666666666, \"#ed7953\"], [0.7777777777777778, \"#fb9f3a\"], [0.8888888888888888, \"#fdca26\"], [1.0, \"#f0f921\"]], \"type\": \"surface\"}], \"table\": [{\"cells\": {\"fill\": {\"color\": \"#EBF0F8\"}, \"line\": {\"color\": \"white\"}}, \"header\": {\"fill\": {\"color\": \"#C8D4E3\"}, \"line\": {\"color\": \"white\"}}, \"type\": \"table\"}]}, \"layout\": {\"annotationdefaults\": {\"arrowcolor\": \"#2a3f5f\", \"arrowhead\": 0, \"arrowwidth\": 1}, \"autotypenumbers\": \"strict\", \"coloraxis\": {\"colorbar\": {\"outlinewidth\": 0, \"ticks\": \"\"}}, \"colorscale\": {\"diverging\": [[0, \"#8e0152\"], [0.1, \"#c51b7d\"], [0.2, \"#de77ae\"], [0.3, \"#f1b6da\"], [0.4, \"#fde0ef\"], [0.5, \"#f7f7f7\"], [0.6, \"#e6f5d0\"], [0.7, \"#b8e186\"], [0.8, \"#7fbc41\"], [0.9, \"#4d9221\"], [1, \"#276419\"]], \"sequential\": [[0.0, \"#0d0887\"], [0.1111111111111111, \"#46039f\"], [0.2222222222222222, \"#7201a8\"], [0.3333333333333333, \"#9c179e\"], [0.4444444444444444, \"#bd3786\"], [0.5555555555555556, \"#d8576b\"], [0.6666666666666666, \"#ed7953\"], [0.7777777777777778, \"#fb9f3a\"], [0.8888888888888888, \"#fdca26\"], [1.0, \"#f0f921\"]], \"sequentialminus\": [[0.0, \"#0d0887\"], [0.1111111111111111, \"#46039f\"], [0.2222222222222222, \"#7201a8\"], [0.3333333333333333, \"#9c179e\"], [0.4444444444444444, \"#bd3786\"], [0.5555555555555556, \"#d8576b\"], [0.6666666666666666, \"#ed7953\"], [0.7777777777777778, \"#fb9f3a\"], [0.8888888888888888, \"#fdca26\"], [1.0, \"#f0f921\"]]}, \"colorway\": [\"#636efa\", \"#EF553B\", \"#00cc96\", \"#ab63fa\", \"#FFA15A\", \"#19d3f3\", \"#FF6692\", \"#B6E880\", \"#FF97FF\", \"#FECB52\"], \"font\": {\"color\": \"#2a3f5f\"}, \"geo\": {\"bgcolor\": \"white\", \"lakecolor\": \"white\", \"landcolor\": \"#E5ECF6\", \"showlakes\": true, \"showland\": true, \"subunitcolor\": \"white\"}, \"hoverlabel\": {\"align\": \"left\"}, \"hovermode\": \"closest\", \"mapbox\": {\"style\": \"light\"}, \"paper_bgcolor\": \"white\", \"plot_bgcolor\": \"#E5ECF6\", \"polar\": {\"angularaxis\": {\"gridcolor\": \"white\", \"linecolor\": \"white\", \"ticks\": \"\"}, \"bgcolor\": \"#E5ECF6\", \"radialaxis\": {\"gridcolor\": \"white\", \"linecolor\": \"white\", \"ticks\": \"\"}}, \"scene\": {\"xaxis\": {\"backgroundcolor\": \"#E5ECF6\", \"gridcolor\": \"white\", \"gridwidth\": 2, \"linecolor\": \"white\", \"showbackground\": true, \"ticks\": \"\", \"zerolinecolor\": \"white\"}, \"yaxis\": {\"backgroundcolor\": \"#E5ECF6\", \"gridcolor\": \"white\", \"gridwidth\": 2, \"linecolor\": \"white\", \"showbackground\": true, \"ticks\": \"\", \"zerolinecolor\": \"white\"}, \"zaxis\": {\"backgroundcolor\": \"#E5ECF6\", \"gridcolor\": \"white\", \"gridwidth\": 2, \"linecolor\": \"white\", \"showbackground\": true, \"ticks\": \"\", \"zerolinecolor\": \"white\"}}, \"shapedefaults\": {\"line\": {\"color\": \"#2a3f5f\"}}, \"ternary\": {\"aaxis\": {\"gridcolor\": \"white\", \"linecolor\": \"white\", \"ticks\": \"\"}, \"baxis\": {\"gridcolor\": \"white\", \"linecolor\": \"white\", \"ticks\": \"\"}, \"bgcolor\": \"#E5ECF6\", \"caxis\": {\"gridcolor\": \"white\", \"linecolor\": \"white\", \"ticks\": \"\"}}, \"title\": {\"x\": 0.05}, \"xaxis\": {\"automargin\": true, \"gridcolor\": \"white\", \"linecolor\": \"white\", \"ticks\": \"\", \"title\": {\"standoff\": 15}, \"zerolinecolor\": \"white\", \"zerolinewidth\": 2}, \"yaxis\": {\"automargin\": true, \"gridcolor\": \"white\", \"linecolor\": \"white\", \"ticks\": \"\", \"title\": {\"standoff\": 15}, \"zerolinecolor\": \"white\", \"zerolinewidth\": 2}}}, \"title\": {\"text\": \"Actual vs. Pythagenpat Expected Win Pct.<br>2015 to 2020\", \"x\": 0.5, \"xanchor\": \"center\", \"yanchor\": \"top\"}, \"xaxis\": {\"anchor\": \"y\", \"domain\": [0.0, 1.0], \"title\": {\"text\": \"School\"}}, \"yaxis\": {\"anchor\": \"x\", \"domain\": [0.0, 1.0], \"ticklabelposition\": \"inside top\", \"title\": {\"text\": \"Percentage\"}}},                        {\"responsive\": true}                    ).then(function(){\n",
       "                            \n",
       "var gd = document.getElementById('752acb33-fcf4-43d7-a57b-6b66613d249d');\n",
       "var x = new MutationObserver(function (mutations, observer) {{\n",
       "        var display = window.getComputedStyle(gd).display;\n",
       "        if (!display || display === 'none') {{\n",
       "            console.log([gd, 'removed!']);\n",
       "            Plotly.purge(gd);\n",
       "            observer.disconnect();\n",
       "        }}\n",
       "}});\n",
       "\n",
       "// Listen for the removal of the full notebook cells\n",
       "var notebookContainer = gd.closest('#notebook-container');\n",
       "if (notebookContainer) {{\n",
       "    x.observe(notebookContainer, {childList: true});\n",
       "}}\n",
       "\n",
       "// Listen for the clearing of the current output cell\n",
       "var outputEl = gd.closest('.output');\n",
       "if (outputEl) {{\n",
       "    x.observe(outputEl, {childList: true});\n",
       "}}\n",
       "\n",
       "                        })                };                });            </script>        </div>"
      ]
     },
     "metadata": {},
     "output_type": "display_data"
    }
   ],
   "source": [
    "df = generate_ivy_pythags(2015,2020)\n",
    "start = 2015\n",
    "end = 2020\n",
    "fig = px.bar(df, x=\"team_name\", y=[\"pythagenpat_pct\", \"actual_pct\"], barmode=\"group\")\n",
    "fig.update_layout( \n",
    "title = \"Actual vs. Pythagenpat Expected Win Pct.<br>\"+str(start)+\" to \"+str(end),\n",
    "title_xanchor = \"center\",\n",
    "title_yanchor = \"top\",\n",
    "title_x =  0.5,\n",
    "yaxis_title=\"Percentage\",\n",
    "xaxis_title=\"School\"\n",
    ")\n",
    "fig.update_yaxes(\n",
    "ticklabelposition=\"inside top\",\n",
    ")\n",
    "fig.show()"
   ]
  },
  {
   "cell_type": "code",
   "execution_count": 124,
   "id": "8788a092-fa21-415f-8963-9c4972189e50",
   "metadata": {},
   "outputs": [
    {
     "data": {
      "application/vnd.plotly.v1+json": {
       "config": {
        "plotlyServerURL": "https://plot.ly"
       },
       "data": [
        {
         "hovertemplate": "year=%{x}<br>wrc=%{marker.color}<extra></extra>",
         "legendgroup": "",
         "marker": {
          "color": [
           2.0537488584474906,
           3.17348401826484,
           3.0618949771689508,
           3.7060639269406392,
           -0.32397260273972484,
           5.619059360730596,
           -0.3109223744292233,
           -0.3109223744292233,
           -0.5060365296803643,
           -0.15546118721461166,
           1.8650821917808218,
           1.6358767123287672,
           12.528052631578944,
           27.252416267942582,
           13.940641148325357,
           9.660985645933017,
           10.30026315789474,
           0.3529282296650722,
           9.801272727272732,
           8.77488995215311,
           8.684090909090914,
           24.02048803827752,
           1.8723540669856455,
           -1.6254449760765546,
           -0.3362679425837318,
           -0.47120095693779923,
           0.1413492822966509,
           31.300204651162783,
           26.89064186046512,
           26.347720930232555,
           27.631283720930234,
           34.24336744186047,
           10.7066,
           11.568688372093026,
           -2.7007720930232555,
           13.765181395348838,
           7.139493023255818,
           -1.3562046511627923,
           5.834720930232555,
           6.019669767441861,
           24.990871794871794,
           21.017494505494508,
           36.92047802197802,
           21.40241391941392,
           23.90321428571428,
           25.292827838827836,
           22.73731501831502,
           4.606646520146519,
           28.091794871794868,
           20.843957875457875,
           4.932739926739927,
           3.317820512820513,
           0.7160201465201472,
           -0.6447857142857141,
           0.886967032967033,
           26.415003629764076,
           19.766651542649733,
           26.088809437386583,
           20.54659528130672,
           10.508479128856631,
           7.098885662431944,
           6.538159709618879,
           6.639744101633398,
           10.939039927404721,
           20.153774954627952,
           -0.9838312159709603,
           0.7772359346642491,
           2.5502776769509996,
           0.5731052631578962,
           0.4997495462794923,
           21.112533936651587,
           23.823031674208146,
           17.93725339366517,
           20.506289592760183,
           13.085493212669691,
           4.478099547511319,
           14.056923076923077,
           6.031524886877831,
           9.785914027149323,
           6.249221719457015,
           6.685081447963803,
           1.6394434389140287,
           0.34129411764706047,
           7.2439095022624445,
           1.4570316742081455,
           0.7195610859728515
          ],
          "coloraxis": "coloraxis",
          "symbol": "circle"
         },
         "mode": "markers",
         "name": "",
         "orientation": "v",
         "showlegend": false,
         "type": "scatter",
         "x": [
          2020,
          2020,
          2020,
          2020,
          2020,
          2020,
          2020,
          2020,
          2020,
          2020,
          2020,
          2020,
          2019,
          2019,
          2019,
          2019,
          2019,
          2019,
          2019,
          2019,
          2019,
          2019,
          2019,
          2019,
          2019,
          2019,
          2019,
          2018,
          2018,
          2018,
          2018,
          2018,
          2018,
          2018,
          2018,
          2018,
          2018,
          2018,
          2018,
          2018,
          2017,
          2017,
          2017,
          2017,
          2017,
          2017,
          2017,
          2017,
          2017,
          2017,
          2017,
          2017,
          2017,
          2017,
          2017,
          2016,
          2016,
          2016,
          2016,
          2016,
          2016,
          2016,
          2016,
          2016,
          2016,
          2016,
          2016,
          2016,
          2016,
          2016,
          2015,
          2015,
          2015,
          2015,
          2015,
          2015,
          2015,
          2015,
          2015,
          2015,
          2015,
          2015,
          2015,
          2015,
          2015,
          2015
         ],
         "xaxis": "x",
         "y": [
          2.0537488584474906,
          3.17348401826484,
          3.0618949771689508,
          3.7060639269406392,
          -0.32397260273972484,
          5.619059360730596,
          -0.3109223744292233,
          -0.3109223744292233,
          -0.5060365296803643,
          -0.15546118721461166,
          1.8650821917808218,
          1.6358767123287672,
          12.528052631578944,
          27.252416267942582,
          13.940641148325357,
          9.660985645933017,
          10.30026315789474,
          0.3529282296650722,
          9.801272727272732,
          8.77488995215311,
          8.684090909090914,
          24.02048803827752,
          1.8723540669856455,
          -1.6254449760765546,
          -0.3362679425837318,
          -0.47120095693779923,
          0.1413492822966509,
          31.300204651162783,
          26.89064186046512,
          26.347720930232555,
          27.631283720930234,
          34.24336744186047,
          10.7066,
          11.568688372093026,
          -2.7007720930232555,
          13.765181395348838,
          7.139493023255818,
          -1.3562046511627923,
          5.834720930232555,
          6.019669767441861,
          24.990871794871794,
          21.017494505494508,
          36.92047802197802,
          21.40241391941392,
          23.90321428571428,
          25.292827838827836,
          22.73731501831502,
          4.606646520146519,
          28.091794871794868,
          20.843957875457875,
          4.932739926739927,
          3.317820512820513,
          0.7160201465201472,
          -0.6447857142857141,
          0.886967032967033,
          26.415003629764076,
          19.766651542649733,
          26.088809437386583,
          20.54659528130672,
          10.508479128856631,
          7.098885662431944,
          6.538159709618879,
          6.639744101633398,
          10.939039927404721,
          20.153774954627952,
          -0.9838312159709603,
          0.7772359346642491,
          2.5502776769509996,
          0.5731052631578962,
          0.4997495462794923,
          21.112533936651587,
          23.823031674208146,
          17.93725339366517,
          20.506289592760183,
          13.085493212669691,
          4.478099547511319,
          14.056923076923077,
          6.031524886877831,
          9.785914027149323,
          6.249221719457015,
          6.685081447963803,
          1.6394434389140287,
          0.34129411764706047,
          7.2439095022624445,
          1.4570316742081455,
          0.7195610859728515
         ],
         "yaxis": "y"
        }
       ],
       "layout": {
        "coloraxis": {
         "colorbar": {
          "title": {
           "text": "wrc"
          }
         },
         "colorscale": [
          [
           0,
           "rgb(20,44,66)"
          ],
          [
           1,
           "rgb(90,179,244)"
          ]
         ]
        },
        "legend": {
         "tracegroupgap": 0
        },
        "margin": {
         "t": 60
        },
        "template": {
         "data": {
          "bar": [
           {
            "error_x": {
             "color": "rgb(51,51,51)"
            },
            "error_y": {
             "color": "rgb(51,51,51)"
            },
            "marker": {
             "line": {
              "color": "rgb(237,237,237)",
              "width": 0.5
             }
            },
            "type": "bar"
           }
          ],
          "barpolar": [
           {
            "marker": {
             "line": {
              "color": "rgb(237,237,237)",
              "width": 0.5
             }
            },
            "type": "barpolar"
           }
          ],
          "carpet": [
           {
            "aaxis": {
             "endlinecolor": "rgb(51,51,51)",
             "gridcolor": "white",
             "linecolor": "white",
             "minorgridcolor": "white",
             "startlinecolor": "rgb(51,51,51)"
            },
            "baxis": {
             "endlinecolor": "rgb(51,51,51)",
             "gridcolor": "white",
             "linecolor": "white",
             "minorgridcolor": "white",
             "startlinecolor": "rgb(51,51,51)"
            },
            "type": "carpet"
           }
          ],
          "choropleth": [
           {
            "colorbar": {
             "outlinewidth": 0,
             "tickcolor": "rgb(237,237,237)",
             "ticklen": 6,
             "ticks": "inside"
            },
            "type": "choropleth"
           }
          ],
          "contour": [
           {
            "colorbar": {
             "outlinewidth": 0,
             "tickcolor": "rgb(237,237,237)",
             "ticklen": 6,
             "ticks": "inside"
            },
            "colorscale": [
             [
              0,
              "rgb(20,44,66)"
             ],
             [
              1,
              "rgb(90,179,244)"
             ]
            ],
            "type": "contour"
           }
          ],
          "contourcarpet": [
           {
            "colorbar": {
             "outlinewidth": 0,
             "tickcolor": "rgb(237,237,237)",
             "ticklen": 6,
             "ticks": "inside"
            },
            "type": "contourcarpet"
           }
          ],
          "heatmap": [
           {
            "colorbar": {
             "outlinewidth": 0,
             "tickcolor": "rgb(237,237,237)",
             "ticklen": 6,
             "ticks": "inside"
            },
            "colorscale": [
             [
              0,
              "rgb(20,44,66)"
             ],
             [
              1,
              "rgb(90,179,244)"
             ]
            ],
            "type": "heatmap"
           }
          ],
          "heatmapgl": [
           {
            "colorbar": {
             "outlinewidth": 0,
             "tickcolor": "rgb(237,237,237)",
             "ticklen": 6,
             "ticks": "inside"
            },
            "colorscale": [
             [
              0,
              "rgb(20,44,66)"
             ],
             [
              1,
              "rgb(90,179,244)"
             ]
            ],
            "type": "heatmapgl"
           }
          ],
          "histogram": [
           {
            "marker": {
             "colorbar": {
              "outlinewidth": 0,
              "tickcolor": "rgb(237,237,237)",
              "ticklen": 6,
              "ticks": "inside"
             }
            },
            "type": "histogram"
           }
          ],
          "histogram2d": [
           {
            "colorbar": {
             "outlinewidth": 0,
             "tickcolor": "rgb(237,237,237)",
             "ticklen": 6,
             "ticks": "inside"
            },
            "colorscale": [
             [
              0,
              "rgb(20,44,66)"
             ],
             [
              1,
              "rgb(90,179,244)"
             ]
            ],
            "type": "histogram2d"
           }
          ],
          "histogram2dcontour": [
           {
            "colorbar": {
             "outlinewidth": 0,
             "tickcolor": "rgb(237,237,237)",
             "ticklen": 6,
             "ticks": "inside"
            },
            "colorscale": [
             [
              0,
              "rgb(20,44,66)"
             ],
             [
              1,
              "rgb(90,179,244)"
             ]
            ],
            "type": "histogram2dcontour"
           }
          ],
          "mesh3d": [
           {
            "colorbar": {
             "outlinewidth": 0,
             "tickcolor": "rgb(237,237,237)",
             "ticklen": 6,
             "ticks": "inside"
            },
            "type": "mesh3d"
           }
          ],
          "parcoords": [
           {
            "line": {
             "colorbar": {
              "outlinewidth": 0,
              "tickcolor": "rgb(237,237,237)",
              "ticklen": 6,
              "ticks": "inside"
             }
            },
            "type": "parcoords"
           }
          ],
          "pie": [
           {
            "automargin": true,
            "type": "pie"
           }
          ],
          "scatter": [
           {
            "marker": {
             "colorbar": {
              "outlinewidth": 0,
              "tickcolor": "rgb(237,237,237)",
              "ticklen": 6,
              "ticks": "inside"
             }
            },
            "type": "scatter"
           }
          ],
          "scatter3d": [
           {
            "line": {
             "colorbar": {
              "outlinewidth": 0,
              "tickcolor": "rgb(237,237,237)",
              "ticklen": 6,
              "ticks": "inside"
             }
            },
            "marker": {
             "colorbar": {
              "outlinewidth": 0,
              "tickcolor": "rgb(237,237,237)",
              "ticklen": 6,
              "ticks": "inside"
             }
            },
            "type": "scatter3d"
           }
          ],
          "scattercarpet": [
           {
            "marker": {
             "colorbar": {
              "outlinewidth": 0,
              "tickcolor": "rgb(237,237,237)",
              "ticklen": 6,
              "ticks": "inside"
             }
            },
            "type": "scattercarpet"
           }
          ],
          "scattergeo": [
           {
            "marker": {
             "colorbar": {
              "outlinewidth": 0,
              "tickcolor": "rgb(237,237,237)",
              "ticklen": 6,
              "ticks": "inside"
             }
            },
            "type": "scattergeo"
           }
          ],
          "scattergl": [
           {
            "marker": {
             "colorbar": {
              "outlinewidth": 0,
              "tickcolor": "rgb(237,237,237)",
              "ticklen": 6,
              "ticks": "inside"
             }
            },
            "type": "scattergl"
           }
          ],
          "scattermapbox": [
           {
            "marker": {
             "colorbar": {
              "outlinewidth": 0,
              "tickcolor": "rgb(237,237,237)",
              "ticklen": 6,
              "ticks": "inside"
             }
            },
            "type": "scattermapbox"
           }
          ],
          "scatterpolar": [
           {
            "marker": {
             "colorbar": {
              "outlinewidth": 0,
              "tickcolor": "rgb(237,237,237)",
              "ticklen": 6,
              "ticks": "inside"
             }
            },
            "type": "scatterpolar"
           }
          ],
          "scatterpolargl": [
           {
            "marker": {
             "colorbar": {
              "outlinewidth": 0,
              "tickcolor": "rgb(237,237,237)",
              "ticklen": 6,
              "ticks": "inside"
             }
            },
            "type": "scatterpolargl"
           }
          ],
          "scatterternary": [
           {
            "marker": {
             "colorbar": {
              "outlinewidth": 0,
              "tickcolor": "rgb(237,237,237)",
              "ticklen": 6,
              "ticks": "inside"
             }
            },
            "type": "scatterternary"
           }
          ],
          "surface": [
           {
            "colorbar": {
             "outlinewidth": 0,
             "tickcolor": "rgb(237,237,237)",
             "ticklen": 6,
             "ticks": "inside"
            },
            "colorscale": [
             [
              0,
              "rgb(20,44,66)"
             ],
             [
              1,
              "rgb(90,179,244)"
             ]
            ],
            "type": "surface"
           }
          ],
          "table": [
           {
            "cells": {
             "fill": {
              "color": "rgb(237,237,237)"
             },
             "line": {
              "color": "white"
             }
            },
            "header": {
             "fill": {
              "color": "rgb(217,217,217)"
             },
             "line": {
              "color": "white"
             }
            },
            "type": "table"
           }
          ]
         },
         "layout": {
          "annotationdefaults": {
           "arrowhead": 0,
           "arrowwidth": 1
          },
          "autotypenumbers": "strict",
          "coloraxis": {
           "colorbar": {
            "outlinewidth": 0,
            "tickcolor": "rgb(237,237,237)",
            "ticklen": 6,
            "ticks": "inside"
           }
          },
          "colorscale": {
           "sequential": [
            [
             0,
             "rgb(20,44,66)"
            ],
            [
             1,
             "rgb(90,179,244)"
            ]
           ],
           "sequentialminus": [
            [
             0,
             "rgb(20,44,66)"
            ],
            [
             1,
             "rgb(90,179,244)"
            ]
           ]
          },
          "colorway": [
           "#F8766D",
           "#A3A500",
           "#00BF7D",
           "#00B0F6",
           "#E76BF3"
          ],
          "font": {
           "color": "rgb(51,51,51)"
          },
          "geo": {
           "bgcolor": "white",
           "lakecolor": "white",
           "landcolor": "rgb(237,237,237)",
           "showlakes": true,
           "showland": true,
           "subunitcolor": "white"
          },
          "hoverlabel": {
           "align": "left"
          },
          "hovermode": "closest",
          "paper_bgcolor": "white",
          "plot_bgcolor": "rgb(237,237,237)",
          "polar": {
           "angularaxis": {
            "gridcolor": "white",
            "linecolor": "white",
            "showgrid": true,
            "tickcolor": "rgb(51,51,51)",
            "ticks": "outside"
           },
           "bgcolor": "rgb(237,237,237)",
           "radialaxis": {
            "gridcolor": "white",
            "linecolor": "white",
            "showgrid": true,
            "tickcolor": "rgb(51,51,51)",
            "ticks": "outside"
           }
          },
          "scene": {
           "xaxis": {
            "backgroundcolor": "rgb(237,237,237)",
            "gridcolor": "white",
            "gridwidth": 2,
            "linecolor": "white",
            "showbackground": true,
            "showgrid": true,
            "tickcolor": "rgb(51,51,51)",
            "ticks": "outside",
            "zerolinecolor": "white"
           },
           "yaxis": {
            "backgroundcolor": "rgb(237,237,237)",
            "gridcolor": "white",
            "gridwidth": 2,
            "linecolor": "white",
            "showbackground": true,
            "showgrid": true,
            "tickcolor": "rgb(51,51,51)",
            "ticks": "outside",
            "zerolinecolor": "white"
           },
           "zaxis": {
            "backgroundcolor": "rgb(237,237,237)",
            "gridcolor": "white",
            "gridwidth": 2,
            "linecolor": "white",
            "showbackground": true,
            "showgrid": true,
            "tickcolor": "rgb(51,51,51)",
            "ticks": "outside",
            "zerolinecolor": "white"
           }
          },
          "shapedefaults": {
           "fillcolor": "black",
           "line": {
            "width": 0
           },
           "opacity": 0.3
          },
          "ternary": {
           "aaxis": {
            "gridcolor": "white",
            "linecolor": "white",
            "showgrid": true,
            "tickcolor": "rgb(51,51,51)",
            "ticks": "outside"
           },
           "baxis": {
            "gridcolor": "white",
            "linecolor": "white",
            "showgrid": true,
            "tickcolor": "rgb(51,51,51)",
            "ticks": "outside"
           },
           "bgcolor": "rgb(237,237,237)",
           "caxis": {
            "gridcolor": "white",
            "linecolor": "white",
            "showgrid": true,
            "tickcolor": "rgb(51,51,51)",
            "ticks": "outside"
           }
          },
          "xaxis": {
           "automargin": true,
           "gridcolor": "white",
           "linecolor": "white",
           "showgrid": true,
           "tickcolor": "rgb(51,51,51)",
           "ticks": "outside",
           "title": {
            "standoff": 15
           },
           "zerolinecolor": "white"
          },
          "yaxis": {
           "automargin": true,
           "gridcolor": "white",
           "linecolor": "white",
           "showgrid": true,
           "tickcolor": "rgb(51,51,51)",
           "ticks": "outside",
           "title": {
            "standoff": 15
           },
           "zerolinecolor": "white"
          }
         }
        },
        "title": {
         "text": "Cornell Season Batting Performances",
         "x": 0.5,
         "yanchor": "top"
        },
        "xaxis": {
         "anchor": "y",
         "domain": [
          0,
          1
         ],
         "title": {}
        },
        "yaxis": {
         "anchor": "x",
         "domain": [
          0,
          1
         ],
         "title": {
          "text": "Weighted Runs Created (wRC)"
         }
        }
       }
      },
      "text/html": [
       "<div>                            <div id=\"37fc63dc-5d41-4a4c-89fd-183ad3a7fdd3\" class=\"plotly-graph-div\" style=\"height:525px; width:100%;\"></div>            <script type=\"text/javascript\">                require([\"plotly\"], function(Plotly) {                    window.PLOTLYENV=window.PLOTLYENV || {};                                    if (document.getElementById(\"37fc63dc-5d41-4a4c-89fd-183ad3a7fdd3\")) {                    Plotly.newPlot(                        \"37fc63dc-5d41-4a4c-89fd-183ad3a7fdd3\",                        [{\"hovertemplate\": \"year=%{x}<br>wrc=%{marker.color}<extra></extra>\", \"legendgroup\": \"\", \"marker\": {\"color\": [2.0537488584474906, 3.17348401826484, 3.0618949771689508, 3.7060639269406392, -0.32397260273972484, 5.619059360730596, -0.3109223744292233, -0.3109223744292233, -0.5060365296803643, -0.15546118721461166, 1.8650821917808218, 1.6358767123287672, 12.528052631578944, 27.252416267942582, 13.940641148325357, 9.660985645933017, 10.30026315789474, 0.3529282296650722, 9.801272727272732, 8.77488995215311, 8.684090909090914, 24.02048803827752, 1.8723540669856455, -1.6254449760765546, -0.3362679425837318, -0.47120095693779923, 0.1413492822966509, 31.300204651162783, 26.89064186046512, 26.347720930232555, 27.631283720930234, 34.24336744186047, 10.7066, 11.568688372093026, -2.7007720930232555, 13.765181395348838, 7.139493023255818, -1.3562046511627923, 5.834720930232555, 6.019669767441861, 24.990871794871794, 21.017494505494508, 36.92047802197802, 21.40241391941392, 23.90321428571428, 25.292827838827836, 22.73731501831502, 4.606646520146519, 28.091794871794868, 20.843957875457875, 4.932739926739927, 3.317820512820513, 0.7160201465201472, -0.6447857142857141, 0.886967032967033, 26.415003629764076, 19.766651542649733, 26.088809437386583, 20.54659528130672, 10.508479128856631, 7.098885662431944, 6.538159709618879, 6.639744101633398, 10.939039927404721, 20.153774954627952, -0.9838312159709603, 0.7772359346642491, 2.5502776769509996, 0.5731052631578962, 0.4997495462794923, 21.112533936651587, 23.823031674208146, 17.93725339366517, 20.506289592760183, 13.085493212669691, 4.478099547511319, 14.056923076923077, 6.031524886877831, 9.785914027149323, 6.249221719457015, 6.685081447963803, 1.6394434389140287, 0.34129411764706047, 7.2439095022624445, 1.4570316742081455, 0.7195610859728515], \"coloraxis\": \"coloraxis\", \"symbol\": \"circle\"}, \"mode\": \"markers\", \"name\": \"\", \"orientation\": \"v\", \"showlegend\": false, \"type\": \"scatter\", \"x\": [2020, 2020, 2020, 2020, 2020, 2020, 2020, 2020, 2020, 2020, 2020, 2020, 2019, 2019, 2019, 2019, 2019, 2019, 2019, 2019, 2019, 2019, 2019, 2019, 2019, 2019, 2019, 2018, 2018, 2018, 2018, 2018, 2018, 2018, 2018, 2018, 2018, 2018, 2018, 2018, 2017, 2017, 2017, 2017, 2017, 2017, 2017, 2017, 2017, 2017, 2017, 2017, 2017, 2017, 2017, 2016, 2016, 2016, 2016, 2016, 2016, 2016, 2016, 2016, 2016, 2016, 2016, 2016, 2016, 2016, 2015, 2015, 2015, 2015, 2015, 2015, 2015, 2015, 2015, 2015, 2015, 2015, 2015, 2015, 2015, 2015], \"xaxis\": \"x\", \"y\": [2.0537488584474906, 3.17348401826484, 3.0618949771689508, 3.7060639269406392, -0.32397260273972484, 5.619059360730596, -0.3109223744292233, -0.3109223744292233, -0.5060365296803643, -0.15546118721461166, 1.8650821917808218, 1.6358767123287672, 12.528052631578944, 27.252416267942582, 13.940641148325357, 9.660985645933017, 10.30026315789474, 0.3529282296650722, 9.801272727272732, 8.77488995215311, 8.684090909090914, 24.02048803827752, 1.8723540669856455, -1.6254449760765546, -0.3362679425837318, -0.47120095693779923, 0.1413492822966509, 31.300204651162783, 26.89064186046512, 26.347720930232555, 27.631283720930234, 34.24336744186047, 10.7066, 11.568688372093026, -2.7007720930232555, 13.765181395348838, 7.139493023255818, -1.3562046511627923, 5.834720930232555, 6.019669767441861, 24.990871794871794, 21.017494505494508, 36.92047802197802, 21.40241391941392, 23.90321428571428, 25.292827838827836, 22.73731501831502, 4.606646520146519, 28.091794871794868, 20.843957875457875, 4.932739926739927, 3.317820512820513, 0.7160201465201472, -0.6447857142857141, 0.886967032967033, 26.415003629764076, 19.766651542649733, 26.088809437386583, 20.54659528130672, 10.508479128856631, 7.098885662431944, 6.538159709618879, 6.639744101633398, 10.939039927404721, 20.153774954627952, -0.9838312159709603, 0.7772359346642491, 2.5502776769509996, 0.5731052631578962, 0.4997495462794923, 21.112533936651587, 23.823031674208146, 17.93725339366517, 20.506289592760183, 13.085493212669691, 4.478099547511319, 14.056923076923077, 6.031524886877831, 9.785914027149323, 6.249221719457015, 6.685081447963803, 1.6394434389140287, 0.34129411764706047, 7.2439095022624445, 1.4570316742081455, 0.7195610859728515], \"yaxis\": \"y\"}],                        {\"coloraxis\": {\"colorbar\": {\"title\": {\"text\": \"wrc\"}}, \"colorscale\": [[0.0, \"rgb(20,44,66)\"], [1.0, \"rgb(90,179,244)\"]]}, \"legend\": {\"tracegroupgap\": 0}, \"margin\": {\"t\": 60}, \"template\": {\"data\": {\"bar\": [{\"error_x\": {\"color\": \"rgb(51,51,51)\"}, \"error_y\": {\"color\": \"rgb(51,51,51)\"}, \"marker\": {\"line\": {\"color\": \"rgb(237,237,237)\", \"width\": 0.5}}, \"type\": \"bar\"}], \"barpolar\": [{\"marker\": {\"line\": {\"color\": \"rgb(237,237,237)\", \"width\": 0.5}}, \"type\": \"barpolar\"}], \"carpet\": [{\"aaxis\": {\"endlinecolor\": \"rgb(51,51,51)\", \"gridcolor\": \"white\", \"linecolor\": \"white\", \"minorgridcolor\": \"white\", \"startlinecolor\": \"rgb(51,51,51)\"}, \"baxis\": {\"endlinecolor\": \"rgb(51,51,51)\", \"gridcolor\": \"white\", \"linecolor\": \"white\", \"minorgridcolor\": \"white\", \"startlinecolor\": \"rgb(51,51,51)\"}, \"type\": \"carpet\"}], \"choropleth\": [{\"colorbar\": {\"outlinewidth\": 0, \"tickcolor\": \"rgb(237,237,237)\", \"ticklen\": 6, \"ticks\": \"inside\"}, \"type\": \"choropleth\"}], \"contour\": [{\"colorbar\": {\"outlinewidth\": 0, \"tickcolor\": \"rgb(237,237,237)\", \"ticklen\": 6, \"ticks\": \"inside\"}, \"colorscale\": [[0, \"rgb(20,44,66)\"], [1, \"rgb(90,179,244)\"]], \"type\": \"contour\"}], \"contourcarpet\": [{\"colorbar\": {\"outlinewidth\": 0, \"tickcolor\": \"rgb(237,237,237)\", \"ticklen\": 6, \"ticks\": \"inside\"}, \"type\": \"contourcarpet\"}], \"heatmap\": [{\"colorbar\": {\"outlinewidth\": 0, \"tickcolor\": \"rgb(237,237,237)\", \"ticklen\": 6, \"ticks\": \"inside\"}, \"colorscale\": [[0, \"rgb(20,44,66)\"], [1, \"rgb(90,179,244)\"]], \"type\": \"heatmap\"}], \"heatmapgl\": [{\"colorbar\": {\"outlinewidth\": 0, \"tickcolor\": \"rgb(237,237,237)\", \"ticklen\": 6, \"ticks\": \"inside\"}, \"colorscale\": [[0, \"rgb(20,44,66)\"], [1, \"rgb(90,179,244)\"]], \"type\": \"heatmapgl\"}], \"histogram\": [{\"marker\": {\"colorbar\": {\"outlinewidth\": 0, \"tickcolor\": \"rgb(237,237,237)\", \"ticklen\": 6, \"ticks\": \"inside\"}}, \"type\": \"histogram\"}], \"histogram2d\": [{\"colorbar\": {\"outlinewidth\": 0, \"tickcolor\": \"rgb(237,237,237)\", \"ticklen\": 6, \"ticks\": \"inside\"}, \"colorscale\": [[0, \"rgb(20,44,66)\"], [1, \"rgb(90,179,244)\"]], \"type\": \"histogram2d\"}], \"histogram2dcontour\": [{\"colorbar\": {\"outlinewidth\": 0, \"tickcolor\": \"rgb(237,237,237)\", \"ticklen\": 6, \"ticks\": \"inside\"}, \"colorscale\": [[0, \"rgb(20,44,66)\"], [1, \"rgb(90,179,244)\"]], \"type\": \"histogram2dcontour\"}], \"mesh3d\": [{\"colorbar\": {\"outlinewidth\": 0, \"tickcolor\": \"rgb(237,237,237)\", \"ticklen\": 6, \"ticks\": \"inside\"}, \"type\": \"mesh3d\"}], \"parcoords\": [{\"line\": {\"colorbar\": {\"outlinewidth\": 0, \"tickcolor\": \"rgb(237,237,237)\", \"ticklen\": 6, \"ticks\": \"inside\"}}, \"type\": \"parcoords\"}], \"pie\": [{\"automargin\": true, \"type\": \"pie\"}], \"scatter\": [{\"marker\": {\"colorbar\": {\"outlinewidth\": 0, \"tickcolor\": \"rgb(237,237,237)\", \"ticklen\": 6, \"ticks\": \"inside\"}}, \"type\": \"scatter\"}], \"scatter3d\": [{\"line\": {\"colorbar\": {\"outlinewidth\": 0, \"tickcolor\": \"rgb(237,237,237)\", \"ticklen\": 6, \"ticks\": \"inside\"}}, \"marker\": {\"colorbar\": {\"outlinewidth\": 0, \"tickcolor\": \"rgb(237,237,237)\", \"ticklen\": 6, \"ticks\": \"inside\"}}, \"type\": \"scatter3d\"}], \"scattercarpet\": [{\"marker\": {\"colorbar\": {\"outlinewidth\": 0, \"tickcolor\": \"rgb(237,237,237)\", \"ticklen\": 6, \"ticks\": \"inside\"}}, \"type\": \"scattercarpet\"}], \"scattergeo\": [{\"marker\": {\"colorbar\": {\"outlinewidth\": 0, \"tickcolor\": \"rgb(237,237,237)\", \"ticklen\": 6, \"ticks\": \"inside\"}}, \"type\": \"scattergeo\"}], \"scattergl\": [{\"marker\": {\"colorbar\": {\"outlinewidth\": 0, \"tickcolor\": \"rgb(237,237,237)\", \"ticklen\": 6, \"ticks\": \"inside\"}}, \"type\": \"scattergl\"}], \"scattermapbox\": [{\"marker\": {\"colorbar\": {\"outlinewidth\": 0, \"tickcolor\": \"rgb(237,237,237)\", \"ticklen\": 6, \"ticks\": \"inside\"}}, \"type\": \"scattermapbox\"}], \"scatterpolar\": [{\"marker\": {\"colorbar\": {\"outlinewidth\": 0, \"tickcolor\": \"rgb(237,237,237)\", \"ticklen\": 6, \"ticks\": \"inside\"}}, \"type\": \"scatterpolar\"}], \"scatterpolargl\": [{\"marker\": {\"colorbar\": {\"outlinewidth\": 0, \"tickcolor\": \"rgb(237,237,237)\", \"ticklen\": 6, \"ticks\": \"inside\"}}, \"type\": \"scatterpolargl\"}], \"scatterternary\": [{\"marker\": {\"colorbar\": {\"outlinewidth\": 0, \"tickcolor\": \"rgb(237,237,237)\", \"ticklen\": 6, \"ticks\": \"inside\"}}, \"type\": \"scatterternary\"}], \"surface\": [{\"colorbar\": {\"outlinewidth\": 0, \"tickcolor\": \"rgb(237,237,237)\", \"ticklen\": 6, \"ticks\": \"inside\"}, \"colorscale\": [[0, \"rgb(20,44,66)\"], [1, \"rgb(90,179,244)\"]], \"type\": \"surface\"}], \"table\": [{\"cells\": {\"fill\": {\"color\": \"rgb(237,237,237)\"}, \"line\": {\"color\": \"white\"}}, \"header\": {\"fill\": {\"color\": \"rgb(217,217,217)\"}, \"line\": {\"color\": \"white\"}}, \"type\": \"table\"}]}, \"layout\": {\"annotationdefaults\": {\"arrowhead\": 0, \"arrowwidth\": 1}, \"autotypenumbers\": \"strict\", \"coloraxis\": {\"colorbar\": {\"outlinewidth\": 0, \"tickcolor\": \"rgb(237,237,237)\", \"ticklen\": 6, \"ticks\": \"inside\"}}, \"colorscale\": {\"sequential\": [[0, \"rgb(20,44,66)\"], [1, \"rgb(90,179,244)\"]], \"sequentialminus\": [[0, \"rgb(20,44,66)\"], [1, \"rgb(90,179,244)\"]]}, \"colorway\": [\"#F8766D\", \"#A3A500\", \"#00BF7D\", \"#00B0F6\", \"#E76BF3\"], \"font\": {\"color\": \"rgb(51,51,51)\"}, \"geo\": {\"bgcolor\": \"white\", \"lakecolor\": \"white\", \"landcolor\": \"rgb(237,237,237)\", \"showlakes\": true, \"showland\": true, \"subunitcolor\": \"white\"}, \"hoverlabel\": {\"align\": \"left\"}, \"hovermode\": \"closest\", \"paper_bgcolor\": \"white\", \"plot_bgcolor\": \"rgb(237,237,237)\", \"polar\": {\"angularaxis\": {\"gridcolor\": \"white\", \"linecolor\": \"white\", \"showgrid\": true, \"tickcolor\": \"rgb(51,51,51)\", \"ticks\": \"outside\"}, \"bgcolor\": \"rgb(237,237,237)\", \"radialaxis\": {\"gridcolor\": \"white\", \"linecolor\": \"white\", \"showgrid\": true, \"tickcolor\": \"rgb(51,51,51)\", \"ticks\": \"outside\"}}, \"scene\": {\"xaxis\": {\"backgroundcolor\": \"rgb(237,237,237)\", \"gridcolor\": \"white\", \"gridwidth\": 2, \"linecolor\": \"white\", \"showbackground\": true, \"showgrid\": true, \"tickcolor\": \"rgb(51,51,51)\", \"ticks\": \"outside\", \"zerolinecolor\": \"white\"}, \"yaxis\": {\"backgroundcolor\": \"rgb(237,237,237)\", \"gridcolor\": \"white\", \"gridwidth\": 2, \"linecolor\": \"white\", \"showbackground\": true, \"showgrid\": true, \"tickcolor\": \"rgb(51,51,51)\", \"ticks\": \"outside\", \"zerolinecolor\": \"white\"}, \"zaxis\": {\"backgroundcolor\": \"rgb(237,237,237)\", \"gridcolor\": \"white\", \"gridwidth\": 2, \"linecolor\": \"white\", \"showbackground\": true, \"showgrid\": true, \"tickcolor\": \"rgb(51,51,51)\", \"ticks\": \"outside\", \"zerolinecolor\": \"white\"}}, \"shapedefaults\": {\"fillcolor\": \"black\", \"line\": {\"width\": 0}, \"opacity\": 0.3}, \"ternary\": {\"aaxis\": {\"gridcolor\": \"white\", \"linecolor\": \"white\", \"showgrid\": true, \"tickcolor\": \"rgb(51,51,51)\", \"ticks\": \"outside\"}, \"baxis\": {\"gridcolor\": \"white\", \"linecolor\": \"white\", \"showgrid\": true, \"tickcolor\": \"rgb(51,51,51)\", \"ticks\": \"outside\"}, \"bgcolor\": \"rgb(237,237,237)\", \"caxis\": {\"gridcolor\": \"white\", \"linecolor\": \"white\", \"showgrid\": true, \"tickcolor\": \"rgb(51,51,51)\", \"ticks\": \"outside\"}}, \"xaxis\": {\"automargin\": true, \"gridcolor\": \"white\", \"linecolor\": \"white\", \"showgrid\": true, \"tickcolor\": \"rgb(51,51,51)\", \"ticks\": \"outside\", \"title\": {\"standoff\": 15}, \"zerolinecolor\": \"white\"}, \"yaxis\": {\"automargin\": true, \"gridcolor\": \"white\", \"linecolor\": \"white\", \"showgrid\": true, \"tickcolor\": \"rgb(51,51,51)\", \"ticks\": \"outside\", \"title\": {\"standoff\": 15}, \"zerolinecolor\": \"white\"}}}, \"title\": {\"text\": \"Cornell Season Batting Performances\", \"x\": 0.5, \"yanchor\": \"top\"}, \"xaxis\": {\"anchor\": \"y\", \"domain\": [0.0, 1.0], \"title\": {}}, \"yaxis\": {\"anchor\": \"x\", \"domain\": [0.0, 1.0], \"title\": {\"text\": \"Weighted Runs Created (wRC)\"}}},                        {\"responsive\": true}                    ).then(function(){\n",
       "                            \n",
       "var gd = document.getElementById('37fc63dc-5d41-4a4c-89fd-183ad3a7fdd3');\n",
       "var x = new MutationObserver(function (mutations, observer) {{\n",
       "        var display = window.getComputedStyle(gd).display;\n",
       "        if (!display || display === 'none') {{\n",
       "            console.log([gd, 'removed!']);\n",
       "            Plotly.purge(gd);\n",
       "            observer.disconnect();\n",
       "        }}\n",
       "}});\n",
       "\n",
       "// Listen for the removal of the full notebook cells\n",
       "var notebookContainer = gd.closest('#notebook-container');\n",
       "if (notebookContainer) {{\n",
       "    x.observe(notebookContainer, {childList: true});\n",
       "}}\n",
       "\n",
       "// Listen for the clearing of the current output cell\n",
       "var outputEl = gd.closest('.output');\n",
       "if (outputEl) {{\n",
       "    x.observe(outputEl, {childList: true});\n",
       "}}\n",
       "\n",
       "                        })                };                });            </script>        </div>"
      ]
     },
     "metadata": {},
     "output_type": "display_data"
    }
   ],
   "source": [
    "data = get_cornell_batting_stats(2015)\n",
    "fig = px.scatter(data, x=\"year\", y=\"wrc\", color=\"wrc\", template=\"ggplot2\")\n",
    "fig.update_layout( \n",
    "title = \"Cornell Season Batting Performances\",\n",
    "title_yanchor = \"top\",\n",
    "title_x =  0.5,\n",
    "yaxis_title=\"Weighted Runs Created (wRC)\",\n",
    "xaxis_title=None\n",
    ")\n",
    "fig.show()"
   ]
  },
  {
   "cell_type": "code",
   "execution_count": null,
   "id": "6e5a0694-617b-4ba4-8554-42ed30303f63",
   "metadata": {},
   "outputs": [],
   "source": [
    "data = get_cornell_batting_stats(2015)\n",
    "data = data[data[\"AB\"] > 5]\n",
    "fig = px.scatter(data, x=\"year\", y=\"woba\", color=\"woba\", template=\"ggplot2\")\n",
    "fig.update_layout( \n",
    "title = \"Cornell Individual Batting Performances <br><i>min. 5 AB</i>\",\n",
    "title_yanchor = \"top\",\n",
    "title_x =  0.5,\n",
    "yaxis_title=\"Weighted On-Base Average (wOBA)\",\n",
    "xaxis_title=None,\n",
    ")\n",
    "fig.show()"
   ]
  },
  {
   "cell_type": "code",
   "execution_count": null,
   "id": "082ba96d-f3bd-4d3b-8cba-439046aeb773",
   "metadata": {},
   "outputs": [],
   "source": [
    "data = get_cornell_pitching_stats(2015)\n",
    "fig = px.scatter(data, x=\"year\", y=\"innings_pitched\", hover_name=\"name\", color=\"innings_pitched\",template=\"ggplot2\")\n",
    "fig.update_layout( \n",
    "title = \"Innings Pitched by Cornell Pitchers\",\n",
    "title_yanchor = \"top\",\n",
    "title_x =  0.5,\n",
    "yaxis_title=\"Innings Pitched\",\n",
    "xaxis_title=None\n",
    ")\n",
    "fig.show()"
   ]
  },
  {
   "cell_type": "code",
   "execution_count": null,
   "id": "83c9c349-c61e-4fec-bb12-e79608506b0e",
   "metadata": {},
   "outputs": [],
   "source": [
    "data = get_cornell_pitching_stats(2015)\n",
    "data = data[data[\"innings_pitched\"] > 5]\n",
    "fig = px.scatter(data, x=\"year\", y=\"runs_per_ip\", color=\"runs_per_ip\", hover_name=\"name\",template=\"ggplot2\")\n",
    "fig.update_layout( \n",
    "title = \"Runs/IP Cornell Pitchers by Year since 2015\",\n",
    "title_yanchor = \"top\",\n",
    "title_x =  0.5,\n",
    "yaxis_title=\"Runs/IP (min 5 IP)\",\n",
    "xaxis_title=None\n",
    ")\n",
    "fig.update_yaxes(autorange=\"reversed\")\n",
    "fig.show()\n"
   ]
  },
  {
   "cell_type": "code",
   "execution_count": null,
   "id": "df70a691-6f36-46dc-b1e2-ef707f259d79",
   "metadata": {},
   "outputs": [],
   "source": []
  }
 ],
 "metadata": {
  "kernelspec": {
   "display_name": "Python 3",
   "language": "python",
   "name": "python3"
  },
  "language_info": {
   "codemirror_mode": {
    "name": "ipython",
    "version": 3
   },
   "file_extension": ".py",
   "mimetype": "text/x-python",
   "name": "python",
   "nbconvert_exporter": "python",
   "pygments_lexer": "ipython3",
   "version": "3.8.8"
  }
 },
 "nbformat": 4,
 "nbformat_minor": 5
}
