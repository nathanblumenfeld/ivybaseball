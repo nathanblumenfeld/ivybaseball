{
 "cells": [
  {
   "cell_type": "code",
   "execution_count": null,
   "id": "accredited-secondary",
   "metadata": {},
   "outputs": [],
   "source": [
    "import pandas as pd\n",
    "import numpy as np\n",
    "import requests\n",
    "from io import StringIO\n",
    "import warnings\n",
    "# warnings.filterwarnings(\"ignore\")\n",
    "from datetime import date\n",
    "import lxml "
   ]
  },
  {
   "cell_type": "code",
   "execution_count": null,
   "id": "d553a1bc-3257-4cc2-883e-62f3dd3d4f45",
   "metadata": {},
   "outputs": [],
   "source": [
    "def load_data(team_1,\n",
    "              start,\n",
    "              end=None,\n",
    "              team_2=\"all\", \n",
    "              url=\"http://www.boydsworld.com/cgi/scores.pl?\", \n",
    "              col_names=[\"date\", \"team_1\", \"team_1_score\", \"team_2\", \"team_2_score\", \"field\"], \n",
    "              parse_dates=True\n",
    "             ):\n",
    "    \"\"\"\n",
    "    rtype: DataFrame\n",
    "    \"\"\"\n",
    "    if end is None: \n",
    "        end = start\n",
    "    # build payload\n",
    "    payload = {\"team1\":team_1,\"firstyear\":str(start),\"team2\":team_2,\"lastyear\":str(end),\"format\":\"HTML\",\"submit\":\"Fetch\"}\n",
    "    # start Requests session\n",
    "    s = requests.Session()\n",
    "    # send GET request\n",
    "    r = requests.get(url, params=payload)\n",
    "    response = r.text\n",
    "    io = StringIO(response).read()\n",
    "    # parse HTML into DataFrame\n",
    "#     hf= StringIO(response)\n",
    "    dfs = pd.read_html(io=io, parse_dates=parse_dates)\n",
    "    df = dfs[1].dropna(how=\"all\", axis=1)\n",
    "    # reset column names\n",
    "    df.columns = col_names\n",
    "    if parse_dates:\n",
    "        # make sure dates are parsed as type datetime64[ns]\n",
    "        df[\"date\"] = df[\"date\"].astype(\"datetime64[ns]\")\n",
    "    return df"
   ]
  },
  {
   "cell_type": "code",
   "execution_count": null,
   "id": "89e206dd-d7e6-4060-a643-b17009afa9ad",
   "metadata": {},
   "outputs": [],
   "source": [
    "def enrich_data(df, team_1):\n",
    "    \"\"\"\n",
    "    \"\"\"\n",
    "    wins = df[(df[\"team_1\"] == team_1) & (df[\"team_1_score\"] > df[\"team_2_score\"])]\n",
    "    losses = df[(df[\"team_2\"] == team_1) & (df[\"team_1_score\"] > df[\"team_2_score\"])]\n",
    "    wins[\"opponent\"] = wins[\"team_2\"]\n",
    "    losses[\"opponent\"] = losses[\"team_1\"]\n",
    "    wins[\"runs_scored\"] = wins[\"team_1_score\"]\n",
    "    wins[\"runs_allowed\"] = wins[\"team_2_score\"]\n",
    "    losses[\"runs_scored\"] = losses[\"team_2_score\"]\n",
    "    losses[\"runs_allowed\"] = losses[\"team_1_score\"]       \n",
    "    df = pd.concat([wins,losses])\n",
    "    df[\"run_difference\"] = df[\"runs_scored\"] - df[\"runs_allowed\"]\n",
    "    return df "
   ]
  },
  {
   "cell_type": "code",
   "execution_count": null,
   "id": "6bde304c-4bc2-4eda-a6c4-665cdf8a17a7",
   "metadata": {},
   "outputs": [],
   "source": [
    "def set_dtypes(df):\n",
    "    \"\"\"\n",
    "    \"\"\"\n",
    "    df[\"run_difference\"] = df[\"run_difference\"].astype(int)\n",
    "    df[\"runs_allowed\"] = df[\"runs_allowed\"].astype(int)\n",
    "    df[\"runs_scored\"] = df[\"runs_scored\"].astype(int)\n",
    "    return df"
   ]
  },
  {
   "cell_type": "code",
   "execution_count": null,
   "id": "f1c47ba0-7672-4265-8bc5-01737ff8f176",
   "metadata": {},
   "outputs": [],
   "source": [
    "def get_games(team_1, start, end=None, team_2=\"all\"):\n",
    "    \"\"\"\n",
    "    Returns: a dataframe of all games played for a given team inclusive of given start & end year\n",
    "    Data from boydsworld.com\n",
    "    \n",
    "    Parameter team_name: team whose games to select \n",
    "    Precondition: team_name is a lowercase string\n",
    "    Parameter start: the start year of games. To select only games from one year, leave  \n",
    "    Precondition: start is an int >= 1992\n",
    "    Parameter end: the end year of games\n",
    "    Precondition: end is an int <= 2020\n",
    "    \"\"\"\n",
    "    df = (load_data(team_1, start, end, team_2)\n",
    "            .pipe(enrich_data, team_1)\n",
    "            .pipe(set_dtypes)\n",
    "            .drop(columns=[\"team_1\",\"team_1_score\",\"team_2\",\"team_2_score\"])\n",
    "            .sort_values(by=\"date\",axis=0, ascending=True)\n",
    "         )\n",
    "    # boydsworld sometimes struggles with single year inquiries \n",
    "    return df"
   ]
  },
  {
   "cell_type": "code",
   "execution_count": null,
   "id": "29a12dad-cd78-46a2-9f46-b3725d600110",
   "metadata": {},
   "outputs": [],
   "source": [
    "get_games(\"Brown\", 2016)"
   ]
  },
  {
   "cell_type": "code",
   "execution_count": null,
   "id": "9a23ad4a-2b58-438c-b4ac-5d28e92b7802",
   "metadata": {},
   "outputs": [],
   "source": [
    "dfs[]"
   ]
  },
  {
   "cell_type": "code",
   "execution_count": null,
   "id": "7048a113-bab8-4b72-baaf-c1f9ad4f1055",
   "metadata": {},
   "outputs": [],
   "source": []
  }
 ],
 "metadata": {
  "kernelspec": {
   "display_name": "Python 3",
   "language": "python",
   "name": "python3"
  },
  "language_info": {
   "codemirror_mode": {
    "name": "ipython",
    "version": 3
   },
   "file_extension": ".py",
   "mimetype": "text/x-python",
   "name": "python",
   "nbconvert_exporter": "python",
   "pygments_lexer": "ipython3",
   "version": "3.8.8"
  }
 },
 "nbformat": 4,
 "nbformat_minor": 5
}
